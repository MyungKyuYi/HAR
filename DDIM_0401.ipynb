{
  "nbformat": 4,
  "nbformat_minor": 0,
  "metadata": {
    "colab": {
      "provenance": []
    },
    "kernelspec": {
      "name": "python3",
      "display_name": "Python 3"
    },
    "language_info": {
      "name": "python"
    }
  },
  "cells": [
    {
      "cell_type": "code",
      "execution_count": 115,
      "metadata": {
        "colab": {
          "base_uri": "https://localhost:8080/"
        },
        "id": "YFdcb8Jp40zP",
        "outputId": "46fb9e1a-4d76-4be9-a043-2292c834e929"
      },
      "outputs": [
        {
          "output_type": "stream",
          "name": "stdout",
          "text": [
            "Device: cpu\n"
          ]
        }
      ],
      "source": [
        "\n",
        "import numpy as np\n",
        "import pandas as pd\n",
        "import torch\n",
        "from torch.utils.data import Dataset, DataLoader\n",
        "import matplotlib.pyplot as plt\n",
        "import requests\n",
        "from io import StringIO\n",
        "\n",
        "import numpy as np\n",
        "import pandas as pd\n",
        "import torch\n",
        "from torch.utils.data import Dataset, DataLoader\n",
        "import matplotlib.pyplot as plt\n",
        "import requests\n",
        "from io import StringIO\n",
        "\n",
        "# 디바이스 설정\n",
        "device = torch.device(\"cuda\" if torch.cuda.is_available() else \"cpu\")\n",
        "print(\"Device:\", device)\n",
        "\n",
        "# ============================================\n",
        "# 1. CSV 파일 GitHub에서 직접 불러오기\n",
        "# ============================================\n",
        "url = \"https://raw.githubusercontent.com/MyungKyuYi/HAR/main/Filtered_PPG_Data.csv\"\n",
        "response = requests.get(url)\n",
        "csv_data = StringIO(response.text)\n",
        "df = pd.read_csv(csv_data)\n",
        "\n",
        "# ============================================\n",
        "# 2. 사용자별 시계열 병합 및 정규화\n",
        "# ============================================\n",
        "user_sequences = []\n",
        "user_ids = []\n",
        "\n",
        "# 사용자 그룹별 시계열 분리 및 정규화\n",
        "for subject_id, group in df.groupby(\"subject\"):\n",
        "    sequence = group[\"PPG\"].values\n",
        "    sequence = (sequence - np.mean(sequence)) / (np.std(sequence) + 1e-6)\n",
        "    user_sequences.append(sequence)\n",
        "    user_ids.append(subject_id)\n",
        "\n",
        "# 시계열 길이 맞추기 (최소 길이 기준)\n",
        "min_len = min(len(seq) for seq in user_sequences)\n",
        "user_sequences = [seq[:min_len] for seq in user_sequences]\n",
        "\n",
        "# [num_users, 1, T] 형태로 변환\n",
        "ppg_array = np.expand_dims(np.array(user_sequences), axis=1)  # (N, 1, T)\n",
        "\n",
        "# ============================================\n",
        "# 3. DataFrame으로 변환\n",
        "# ============================================\n",
        "# 사용자별 시계열 데이터를 DataFrame으로 변환 (사용자별로 시계열을 하나의 열로 합침)\n",
        "df_ppg = pd.DataFrame(ppg_array.reshape(len(user_sequences), -1))  # 각 사용자의 시계열을 한 행으로\n",
        "\n",
        "# 사용자 ID(subject)를 맨 앞에 추가\n",
        "df_ppg.insert(0, 'subject', np.array(user_ids))  # subject 컬럼을 첫번째로 추가\n",
        "\n",
        "\n"
      ]
    },
    {
      "cell_type": "code",
      "source": [
        "df_ppg.shape"
      ],
      "metadata": {
        "colab": {
          "base_uri": "https://localhost:8080/"
        },
        "id": "r7jyVJ9P7Pgg",
        "outputId": "771227b5-5a9a-45e9-c561-0ffab9a14009"
      },
      "execution_count": 116,
      "outputs": [
        {
          "output_type": "execute_result",
          "data": {
            "text/plain": [
              "(56, 11001)"
            ]
          },
          "metadata": {},
          "execution_count": 116
        }
      ]
    },
    {
      "cell_type": "code",
      "source": [
        "new_df = df_ppg.copy()"
      ],
      "metadata": {
        "id": "mHJ3-AVp8YVq"
      },
      "execution_count": 117,
      "outputs": []
    },
    {
      "cell_type": "code",
      "source": [
        "hypertension_0 = {2, 5, 6, 10, 11, 12, 15, 19, 22, 24, 25, 28, 30, 40, 47, 48, 49, 50, 51}\n",
        "hypertension_2 = {7, 8, 13, 14, 16, 18, 20, 26, 27, 35, 41, 42, 43, 44, 45, 46}\n",
        "hypertension_1 = {1, 3, 4, 9, 17, 21, 23, 29, 31, 32, 33, 34, 36, 37, 38, 39, 52, 53, 54, 55, 56}\n",
        "\n",
        "new_df.loc[new_df['subject'].isin(hypertension_0), 'Hypertension'] = 0\n",
        "new_df.loc[new_df['subject'].isin(hypertension_2), 'Hypertension'] = 2\n",
        "new_df.loc[new_df['subject'].isin(hypertension_1), 'Hypertension'] = 1\n",
        "\n",
        "# 결과 출력\n",
        "new_df['Hypertension'].value_counts()"
      ],
      "metadata": {
        "colab": {
          "base_uri": "https://localhost:8080/",
          "height": 209
        },
        "id": "2b_ReTie73e3",
        "outputId": "328d3a9f-ec02-4d73-b0e1-1581e23d4351"
      },
      "execution_count": 118,
      "outputs": [
        {
          "output_type": "execute_result",
          "data": {
            "text/plain": [
              "Hypertension\n",
              "1.0    21\n",
              "0.0    19\n",
              "2.0    16\n",
              "Name: count, dtype: int64"
            ],
            "text/html": [
              "<div>\n",
              "<style scoped>\n",
              "    .dataframe tbody tr th:only-of-type {\n",
              "        vertical-align: middle;\n",
              "    }\n",
              "\n",
              "    .dataframe tbody tr th {\n",
              "        vertical-align: top;\n",
              "    }\n",
              "\n",
              "    .dataframe thead th {\n",
              "        text-align: right;\n",
              "    }\n",
              "</style>\n",
              "<table border=\"1\" class=\"dataframe\">\n",
              "  <thead>\n",
              "    <tr style=\"text-align: right;\">\n",
              "      <th></th>\n",
              "      <th>count</th>\n",
              "    </tr>\n",
              "    <tr>\n",
              "      <th>Hypertension</th>\n",
              "      <th></th>\n",
              "    </tr>\n",
              "  </thead>\n",
              "  <tbody>\n",
              "    <tr>\n",
              "      <th>1.0</th>\n",
              "      <td>21</td>\n",
              "    </tr>\n",
              "    <tr>\n",
              "      <th>0.0</th>\n",
              "      <td>19</td>\n",
              "    </tr>\n",
              "    <tr>\n",
              "      <th>2.0</th>\n",
              "      <td>16</td>\n",
              "    </tr>\n",
              "  </tbody>\n",
              "</table>\n",
              "</div><br><label><b>dtype:</b> int64</label>"
            ]
          },
          "metadata": {},
          "execution_count": 118
        }
      ]
    },
    {
      "cell_type": "code",
      "source": [
        "# 훈련 데이터 subject 목록\n",
        "#train_subjects = [2, 5, 6, 10, 11, 12, 15, 19, 22, 24, 25, 28, 30, 40, 47, 48, 49, 50, 51]\n",
        "train_subjects = [2, 10, 11, 12, 15, 19, 22, 24, 25, 28, 30, 40, 47]\n",
        "\n",
        "# 훈련 데이터 (subject가 train_subjects에 포함된 데이터)\n",
        "train_df = new_df[new_df['subject'].isin(train_subjects)]\n",
        "\n",
        "# 테스트 데이터 (subject가 train_subjects에 포함되지 않고, 37, 42가 아닌 데이터)\n",
        "#excluded_subjects = [37, 42]\n",
        "#test_df = new_df[~new_df['subject'].isin(train_subjects + excluded_subjects)]\n",
        "test_df = new_df[~new_df['subject'].isin(train_subjects)]"
      ],
      "metadata": {
        "id": "G9zrxbyi7SpL"
      },
      "execution_count": 119,
      "outputs": []
    },
    {
      "cell_type": "code",
      "source": [
        "train_df['Hypertension'].value_counts()"
      ],
      "metadata": {
        "colab": {
          "base_uri": "https://localhost:8080/",
          "height": 147
        },
        "id": "jB2VvvzY9eiP",
        "outputId": "9ed814d1-7871-4c16-af58-7c33ec9cb792"
      },
      "execution_count": 120,
      "outputs": [
        {
          "output_type": "execute_result",
          "data": {
            "text/plain": [
              "Hypertension\n",
              "0.0    13\n",
              "Name: count, dtype: int64"
            ],
            "text/html": [
              "<div>\n",
              "<style scoped>\n",
              "    .dataframe tbody tr th:only-of-type {\n",
              "        vertical-align: middle;\n",
              "    }\n",
              "\n",
              "    .dataframe tbody tr th {\n",
              "        vertical-align: top;\n",
              "    }\n",
              "\n",
              "    .dataframe thead th {\n",
              "        text-align: right;\n",
              "    }\n",
              "</style>\n",
              "<table border=\"1\" class=\"dataframe\">\n",
              "  <thead>\n",
              "    <tr style=\"text-align: right;\">\n",
              "      <th></th>\n",
              "      <th>count</th>\n",
              "    </tr>\n",
              "    <tr>\n",
              "      <th>Hypertension</th>\n",
              "      <th></th>\n",
              "    </tr>\n",
              "  </thead>\n",
              "  <tbody>\n",
              "    <tr>\n",
              "      <th>0.0</th>\n",
              "      <td>13</td>\n",
              "    </tr>\n",
              "  </tbody>\n",
              "</table>\n",
              "</div><br><label><b>dtype:</b> int64</label>"
            ]
          },
          "metadata": {},
          "execution_count": 120
        }
      ]
    },
    {
      "cell_type": "code",
      "source": [
        "test_df['Hypertension'].value_counts()"
      ],
      "metadata": {
        "colab": {
          "base_uri": "https://localhost:8080/",
          "height": 209
        },
        "id": "8xLKeE0A9h_t",
        "outputId": "3cf0e1c6-be6f-402c-8c6b-3dfae14422c4"
      },
      "execution_count": 121,
      "outputs": [
        {
          "output_type": "execute_result",
          "data": {
            "text/plain": [
              "Hypertension\n",
              "1.0    21\n",
              "2.0    16\n",
              "0.0     6\n",
              "Name: count, dtype: int64"
            ],
            "text/html": [
              "<div>\n",
              "<style scoped>\n",
              "    .dataframe tbody tr th:only-of-type {\n",
              "        vertical-align: middle;\n",
              "    }\n",
              "\n",
              "    .dataframe tbody tr th {\n",
              "        vertical-align: top;\n",
              "    }\n",
              "\n",
              "    .dataframe thead th {\n",
              "        text-align: right;\n",
              "    }\n",
              "</style>\n",
              "<table border=\"1\" class=\"dataframe\">\n",
              "  <thead>\n",
              "    <tr style=\"text-align: right;\">\n",
              "      <th></th>\n",
              "      <th>count</th>\n",
              "    </tr>\n",
              "    <tr>\n",
              "      <th>Hypertension</th>\n",
              "      <th></th>\n",
              "    </tr>\n",
              "  </thead>\n",
              "  <tbody>\n",
              "    <tr>\n",
              "      <th>1.0</th>\n",
              "      <td>21</td>\n",
              "    </tr>\n",
              "    <tr>\n",
              "      <th>2.0</th>\n",
              "      <td>16</td>\n",
              "    </tr>\n",
              "    <tr>\n",
              "      <th>0.0</th>\n",
              "      <td>6</td>\n",
              "    </tr>\n",
              "  </tbody>\n",
              "</table>\n",
              "</div><br><label><b>dtype:</b> int64</label>"
            ]
          },
          "metadata": {},
          "execution_count": 121
        }
      ]
    },
    {
      "cell_type": "code",
      "source": [
        "import torch\n",
        "import torch.nn as nn\n",
        "import torch.optim as optim\n",
        "from tqdm import tqdm\n",
        "import math\n",
        "\n",
        "device = torch.device(\"cuda\" if torch.cuda.is_available() else \"cpu\")\n",
        "\n",
        "def timestep_embedding(timesteps, dim, max_period=1000, repeat_only=False):\n",
        "    \"\"\"\n",
        "    Create sinusoidal timestep embeddings.\n",
        "    :param timesteps: a 1-D Tensor of N indices, one per batch element.\n",
        "                        These may be fractional.\n",
        "    :param dim: the dimension of the output.\n",
        "    :param max_period: controls the minimum frequency of the embeddings.\n",
        "    :return: an [N x dim] Tensor of positional embeddings.\n",
        "    \"\"\"\n",
        "    if not repeat_only:\n",
        "        half = dim // 2\n",
        "        freqs = torch.exp(\n",
        "            -math.log(max_period)\n",
        "            * torch.arange(start=0, end=half, dtype=torch.float32)\n",
        "            / half\n",
        "        ).to(device=timesteps.device)\n",
        "        args = timesteps[:, None].float() * freqs[None]\n",
        "        embedding = torch.cat([torch.cos(args), torch.sin(args)], dim=-1)\n",
        "        if dim % 2:\n",
        "            embedding = torch.cat(\n",
        "                [embedding, torch.zeros_like(embedding[:, :1])], dim=-1\n",
        "            )\n",
        "    else:\n",
        "        embedding = repeat(timesteps, \"b -> b d\", d=dim)\n",
        "    return embedding\n",
        "\n",
        "\n",
        "def zero_module(module):\n",
        "    \"\"\"\n",
        "    Zero out the parameters of a module and return it.\n",
        "    \"\"\"\n",
        "    for p in module.parameters():\n",
        "        p.detach().zero_()\n",
        "    return module\n",
        "\n",
        "\n",
        "class TimestepBlock(nn.Module):\n",
        "    def forward(self, x, emb):\n",
        "        \"\"\"\n",
        "        Apply the module to `x` given `emb` timestep embeddings.\n",
        "        \"\"\"\n",
        "        raise NotImplementedError\n",
        "\n",
        "class TimestepEmbedSequential(nn.Sequential, TimestepBlock):\n",
        "    \"\"\"\n",
        "    A sequential module that passes timestep embeddings to the children that\n",
        "    support it as an extra input.\n",
        "    \"\"\"\n",
        "\n",
        "    def forward(self, x, emb, context=None):\n",
        "        for layer in self:\n",
        "            if isinstance(layer, TimestepBlock):\n",
        "                x = layer(x, emb)  # Pass emb to TimestepBlock layers\n",
        "            else:\n",
        "                x = layer(x)  # Regular layers do not receive emb\n",
        "        return x\n",
        "\n",
        "def Normalize(in_channels):\n",
        "    return nn.GroupNorm(\n",
        "        num_groups=32, num_channels=in_channels, eps=1e-6, affine=True\n",
        "    )\n",
        "\n",
        "\n",
        "def count_flops_attn(model, _x, y):\n",
        "    \"\"\"\n",
        "    A counter for the `thop` package to count the operations in an\n",
        "    attention operation.\n",
        "    Meant to be used like:\n",
        "        macs, params = thop.profile(\n",
        "            model,\n",
        "            inputs=(inputs, timestamps),\n",
        "            custom_ops={QKVAttention: QKVAttention.count_flops},\n",
        "        )\n",
        "    \"\"\"\n",
        "    b, c, *spatial = y[0].shape\n",
        "    num_spatial = int(np.prod(spatial))\n",
        "    # We perform two matmuls with the same number of ops.\n",
        "    # The first computes the weight matrix, the second computes\n",
        "    # the combination of the value vectors.\n",
        "    matmul_ops = 2 * b * (num_spatial**2) * c\n",
        "    model.total_ops += th.DoubleTensor([matmul_ops])\n",
        "\n",
        "\n",
        "class QKVAttentionLegacy(nn.Module):\n",
        "    \"\"\"\n",
        "    A module which performs QKV attention.\n",
        "    Matches legacy QKVAttention + input/ouput heads shaping\n",
        "    \"\"\"\n",
        "\n",
        "    def __init__(self, n_heads):\n",
        "        super().__init__()\n",
        "        self.n_heads = n_heads\n",
        "\n",
        "    def forward(self, qkv):\n",
        "        \"\"\"\n",
        "        Apply QKV attention.\n",
        "        :param qkv: an [N x (H * 3 * C) x T] tensor of Qs, Ks, and Vs.\n",
        "        :return: an [N x (H * C) x T] tensor after attention.\n",
        "        \"\"\"\n",
        "        bs, width, length = qkv.shape\n",
        "        assert width % (3 * self.n_heads) == 0\n",
        "        ch = width // (3 * self.n_heads)\n",
        "        q, k, v = qkv.reshape(bs * self.n_heads, ch * 3, length).split(\n",
        "            ch, dim=1\n",
        "        )\n",
        "        scale = 1 / math.sqrt(math.sqrt(ch))\n",
        "        weight = torch.einsum(\n",
        "            \"bct,bcs->bts\", q * scale, k * scale\n",
        "        )  # More stable with f16 than dividing afterwards\n",
        "        weight = torch.softmax(weight.float(), dim=-1).type(weight.dtype)\n",
        "        a = torch.einsum(\"bts,bcs->bct\", weight, v)\n",
        "        return a.reshape(bs, -1, length)\n",
        "\n",
        "    @staticmethod\n",
        "    def count_flops(model, _x, y):\n",
        "        return count_flops_attn(model, _x, y)\n",
        "\n",
        "\n",
        "class AttentionBlock(nn.Module):\n",
        "    \"\"\"\n",
        "    An attention block that allows spatial positions to attend to each other.\n",
        "    Originally ported from here, but adapted to the N-d case.\n",
        "    https://github.com/hojonathanho/diffusion/blob/1e0dceb3b3495bbe19116a5e1b3596cd0706c543/diffusion_tf/models/unet.py#L66.\n",
        "    \"\"\"\n",
        "\n",
        "    def __init__(\n",
        "        self,\n",
        "        channels,\n",
        "        num_heads=1,\n",
        "        num_head_channels=-1,\n",
        "        use_checkpoint=False,\n",
        "    ):\n",
        "        super().__init__()\n",
        "        self.channels = channels\n",
        "        if num_head_channels == -1:\n",
        "            self.num_heads = num_heads\n",
        "        else:\n",
        "            assert channels % num_head_channels == 0, (\n",
        "                f\"q,k,v channels {channels} is \"\n",
        "                f\"not divisible by num_head_channels {num_head_channels}\"\n",
        "            )\n",
        "            self.num_heads = channels // num_head_channels\n",
        "        self.use_checkpoint = use_checkpoint\n",
        "        self.norm = Normalize(channels)\n",
        "        self.qkv = nn.Conv1d(channels, channels * 3, 1)\n",
        "        self.attention = QKVAttentionLegacy(self.num_heads)\n",
        "\n",
        "        self.proj_out = zero_module(nn.Conv1d(channels, channels, 1))\n",
        "\n",
        "    def forward(self, x):\n",
        "        return self._forward(\n",
        "            x,\n",
        "        )\n",
        "\n",
        "    def _forward(self, x):\n",
        "        b, c, *spatial = x.shape\n",
        "        x = x.reshape(b, c, -1)\n",
        "        qkv = self.qkv(self.norm(x))\n",
        "        h = self.attention(qkv)\n",
        "        h = self.proj_out(h)\n",
        "        return (x + h).reshape(b, c, *spatial)\n",
        "\n",
        "\n",
        "class Downsample(nn.Module):\n",
        "    \"\"\"\n",
        "    A downsampling layer with an optional convolution.\n",
        "    :param channels: channels in the inputs and outputs.\n",
        "    :param use_conv: a bool determining if a convolution is applied.\n",
        "    \"\"\"\n",
        "\n",
        "    def __init__(self, channels, use_conv, out_channels=None, padding=1):\n",
        "        super().__init__()\n",
        "        self.channels = channels\n",
        "        self.out_channels = out_channels or channels\n",
        "        self.use_conv = use_conv\n",
        "        if use_conv:\n",
        "            self.op = nn.Conv1d(\n",
        "                self.channels, self.out_channels, 3, stride=2, padding=padding\n",
        "            )#TODO:Mudar\n",
        "        else:\n",
        "            assert self.channels == self.out_channels\n",
        "            self.op = nn.AvgPool1d(kernel_size=2, stride=2)#TODO: Mudar\n",
        "\n",
        "    def forward(self, x):\n",
        "        assert x.shape[1] == self.channels\n",
        "        return self.op(x)\n",
        "\n",
        "\n",
        "class Upsample(nn.Module):\n",
        "    \"\"\"\n",
        "    An upsampling layer with an optional convolution.\n",
        "    :param channels: channels in the inputs and outputs.\n",
        "    :param use_conv: a bool determining if a convolution is applied.\n",
        "    \"\"\"\n",
        "\n",
        "    def __init__(self, channels, use_conv, out_channels=None, padding=1):\n",
        "        super().__init__()\n",
        "        self.channels = channels\n",
        "        self.out_channels = out_channels or channels\n",
        "        self.use_conv = use_conv\n",
        "        if use_conv:\n",
        "            self.conv = nn.Conv1d(\n",
        "                self.channels, self.out_channels, 3, padding=padding\n",
        "            )#TODO:Mudar\n",
        "\n",
        "    def forward(self, x):\n",
        "        assert x.shape[1] == self.channels\n",
        "        x = F.interpolate(x, scale_factor=2, mode=\"nearest\")\n",
        "        if self.use_conv:\n",
        "            x = self.conv(x)\n",
        "        return x\n",
        "\n",
        "\n",
        "class ResBlock(TimestepBlock):  # Ensure ResBlock inherits from TimestepBlock\n",
        "    def __init__(\n",
        "        self,\n",
        "        channels,\n",
        "        emb_channels,\n",
        "        dropout,\n",
        "        out_channels=None,\n",
        "        use_conv=False,\n",
        "        use_scale_shift_norm=False,\n",
        "        up=False,\n",
        "        down=False,\n",
        "    ):\n",
        "        super().__init__()\n",
        "        self.channels = channels\n",
        "        self.emb_channels = emb_channels\n",
        "        self.dropout = dropout\n",
        "        self.out_channels = out_channels or channels\n",
        "        self.use_conv = use_conv\n",
        "        self.use_scale_shift_norm = use_scale_shift_norm\n",
        "\n",
        "        self.in_layers = nn.Sequential(\n",
        "            Normalize(channels),\n",
        "            nn.SiLU(),\n",
        "            nn.Conv1d(channels, self.out_channels, 3, padding=1),\n",
        "        )\n",
        "\n",
        "        self.updown = up or down\n",
        "\n",
        "        if up:\n",
        "            self.h_upd = Upsample(channels, False)\n",
        "            self.x_upd = Upsample(channels, False)\n",
        "        elif down:\n",
        "            self.h_upd = Downsample(channels, False)\n",
        "            self.x_upd = Downsample(channels, False)\n",
        "        else:\n",
        "            self.h_upd = self.x_upd = nn.Identity()\n",
        "\n",
        "        self.emb_layers = nn.Sequential(\n",
        "            nn.SiLU(),\n",
        "            nn.Linear(\n",
        "                emb_channels,\n",
        "                2 * self.out_channels\n",
        "                if use_scale_shift_norm\n",
        "                else self.out_channels,\n",
        "            ),\n",
        "        )\n",
        "        self.out_layers = nn.Sequential(\n",
        "            Normalize(self.out_channels),\n",
        "            nn.SiLU(),\n",
        "            nn.Dropout(p=dropout),\n",
        "            zero_module(\n",
        "                nn.Conv1d(self.out_channels, self.out_channels, 3, padding=1)\n",
        "            ),\n",
        "        )\n",
        "\n",
        "        if self.out_channels == channels:\n",
        "            self.skip_connection = nn.Identity()\n",
        "        elif use_conv:\n",
        "            self.skip_connection = nn.Conv1d(\n",
        "                channels, self.out_channels, kernel_size=1\n",
        "            )\n",
        "        else:\n",
        "            self.skip_connection = nn.Conv1d(channels, self.out_channels, kernel_size=1)\n",
        "\n",
        "    def forward(self, x, emb):\n",
        "        \"\"\"\n",
        "        Apply the ResBlock to `x` with timestep embeddings `emb`.\n",
        "        \"\"\"\n",
        "        if self.updown:\n",
        "            in_rest, in_conv = self.in_layers[:-1], self.in_layers[-1]\n",
        "            h = in_rest(x)\n",
        "            h = self.h_upd(h)\n",
        "            x = self.x_upd(x)\n",
        "            h = in_conv(h)\n",
        "        else:\n",
        "            h = self.in_layers(x)\n",
        "\n",
        "        emb_out = self.emb_layers(emb).type(h.dtype)\n",
        "        while len(emb_out.shape) < len(h.shape):\n",
        "            emb_out = emb_out[..., None]\n",
        "\n",
        "        if self.use_scale_shift_norm:\n",
        "            out_norm, out_rest = self.out_layers[0], self.out_layers[1:]\n",
        "            scale, shift = torch.chunk(emb_out, 2, dim=1)\n",
        "            h = out_norm(h) * (1 + scale) + shift\n",
        "            h = out_rest(h)\n",
        "        else:\n",
        "            h = h + emb_out\n",
        "            h = self.out_layers(h)\n",
        "\n",
        "        return self.skip_connection(x) + h\n",
        "\n",
        "class UNetModel(nn.Module):\n",
        "    def __init__(\n",
        "        self,\n",
        "        image_size=32,\n",
        "        in_channels=1,\n",
        "        model_channels=32,\n",
        "        out_channels=1,\n",
        "        num_res_blocks=2,\n",
        "        attention_resolutions=[16, 8],\n",
        "        dropout=0.1,\n",
        "        channel_mult=(2, 4, 8),\n",
        "        num_heads=4,\n",
        "        use_scale_shift_norm=False,\n",
        "        resblock_updown=True,\n",
        "    ):\n",
        "        super().__init__()\n",
        "\n",
        "        self.image_size = image_size\n",
        "        self.in_channels = in_channels\n",
        "        self.model_channels = model_channels\n",
        "        self.out_channels = out_channels\n",
        "        self.num_res_blocks = num_res_blocks\n",
        "        self.attention_resolutions = attention_resolutions\n",
        "        self.dropout = dropout\n",
        "        self.channel_mult = channel_mult\n",
        "        self.num_heads = num_heads\n",
        "        self.use_scale_shift_norm = use_scale_shift_norm\n",
        "        self.resblock_updown = resblock_updown\n",
        "\n",
        "        time_embed_dim = model_channels * 4\n",
        "        self.time_embed = nn.Sequential(\n",
        "            nn.Linear(model_channels, time_embed_dim),\n",
        "            nn.SiLU(),\n",
        "            nn.Linear(time_embed_dim, time_embed_dim),\n",
        "        )\n",
        "\n",
        "        self.input_blocks = nn.ModuleList([\n",
        "            TimestepEmbedSequential(nn.Conv1d(in_channels, model_channels, 3, padding=1))\n",
        "        ])\n",
        "        input_block_chans = [model_channels]\n",
        "        ch = model_channels\n",
        "        ds = 1\n",
        "\n",
        "        for level, mult in enumerate(channel_mult):\n",
        "            for _ in range(num_res_blocks):\n",
        "                layers = [ResBlock(ch, time_embed_dim, dropout, out_channels=mult * model_channels, use_scale_shift_norm=use_scale_shift_norm)]\n",
        "                ch = mult * model_channels\n",
        "                if ds in attention_resolutions:\n",
        "                    layers.append(AttentionBlock(ch, num_heads=num_heads))\n",
        "                self.input_blocks.append(TimestepEmbedSequential(*layers))\n",
        "                input_block_chans.append(ch)\n",
        "            if level != len(channel_mult) - 1:\n",
        "                out_ch = ch\n",
        "                self.input_blocks.append(TimestepEmbedSequential(Downsample(ch, True, out_channels=out_ch)))\n",
        "                ch = out_ch\n",
        "                input_block_chans.append(ch)\n",
        "                ds *= 2\n",
        "\n",
        "        self.middle_block = TimestepEmbedSequential(\n",
        "            ResBlock(ch, time_embed_dim, dropout, use_scale_shift_norm=use_scale_shift_norm),\n",
        "            AttentionBlock(ch, num_heads=num_heads),\n",
        "            ResBlock(ch, time_embed_dim, dropout, use_scale_shift_norm=use_scale_shift_norm),\n",
        "        )\n",
        "\n",
        "        self.output_blocks = nn.ModuleList([])\n",
        "        for level, mult in list(enumerate(channel_mult))[::-1]:\n",
        "            for i in range(num_res_blocks + 1):\n",
        "                ich = input_block_chans.pop()\n",
        "                layers = [ResBlock(ch + ich, time_embed_dim, dropout, out_channels=model_channels * mult, use_scale_shift_norm=use_scale_shift_norm)]\n",
        "                ch = model_channels * mult\n",
        "                if ds in attention_resolutions:\n",
        "                    layers.append(AttentionBlock(ch, num_heads=num_heads))\n",
        "                if level and i == num_res_blocks:\n",
        "                    out_ch = ch\n",
        "                    layers.append(Upsample(ch, True, out_channels=out_ch))\n",
        "                    ds //= 2\n",
        "                self.output_blocks.append(TimestepEmbedSequential(*layers))\n",
        "\n",
        "        self.out = nn.Sequential(\n",
        "            Normalize(ch),\n",
        "            nn.SiLU(),\n",
        "            zero_module(nn.Conv1d(ch, out_channels, 3, padding=1)),\n",
        "        )\n",
        "\n",
        "    def forward(self, x, timesteps=None, context=None, y=None):\n",
        "        assert timesteps is not None, \"timesteps must be provided\"\n",
        "        hs = []\n",
        "        t_emb = timestep_embedding(timesteps, self.model_channels, repeat_only=False)\n",
        "        emb = self.time_embed(t_emb)\n",
        "\n",
        "        h = x\n",
        "        for module in self.input_blocks:\n",
        "            h = module(h, emb, context)\n",
        "            hs.append(h)\n",
        "        h = self.middle_block(h, emb, context)\n",
        "\n",
        "        for module in self.output_blocks:\n",
        "            h_pop = hs.pop()\n",
        "            if h.shape[2] != h_pop.shape[2]:\n",
        "                h_pop = F.interpolate(h_pop, size=h.shape[2], mode='nearest')\n",
        "            h = torch.cat([h, h_pop], dim=1)\n",
        "            h = module(h, emb, context)\n",
        "\n",
        "        return self.out(h)\n",
        "\n",
        "\n",
        "from functools import partial\n",
        "from inspect import isfunction\n",
        "\n",
        "import numpy as np\n",
        "import torch as th\n",
        "\n",
        "def exists(x):\n",
        "    return x is not None\n",
        "\n",
        "\n",
        "def default(val, d):\n",
        "    if exists(val):\n",
        "        return val\n",
        "    return d() if isfunction(d) else d\n",
        "\n",
        "\n",
        "def noise_like(shape, device, repeat=False):\n",
        "    repeat_noise = lambda: torch.randn((1, *shape[1:]), device=device).repeat(\n",
        "        shape[0], *((1,) * (len(shape) - 1))\n",
        "    )\n",
        "    noise = lambda: torch.randn(shape, device=device)\n",
        "    return repeat_noise() if repeat else noise()\n",
        "\n",
        "\n",
        "def extract(a, t, x_shape):\n",
        "    b, *_ = t.shape\n",
        "    out = a.gather(-1, t)\n",
        "    return out.reshape(b, *((1,) * (len(x_shape) - 1)))\n",
        "\n",
        "\n",
        "def make_beta_schedule(\n",
        "    schedule, n_timestep, linear_start=1e-4, linear_end=2e-2, cosine_s=8e-3\n",
        "):\n",
        "    if schedule == \"linear\":\n",
        "        betas = (\n",
        "            torch.linspace(\n",
        "                linear_start**0.5,\n",
        "                linear_end**0.5,\n",
        "                n_timestep,\n",
        "                dtype=torch.float64,\n",
        "            )\n",
        "            ** 2\n",
        "        )\n",
        "\n",
        "    elif schedule == \"cosine\":\n",
        "        timesteps = (\n",
        "            torch.arange(n_timestep + 1, dtype=torch.float64) / n_timestep\n",
        "            + cosine_s\n",
        "        )\n",
        "        alphas = timesteps / (1 + cosine_s) * np.pi / 2\n",
        "        alphas = torch.cos(alphas).pow(2)\n",
        "        alphas = alphas / alphas[0]\n",
        "        betas = 1 - alphas[1:] / alphas[:-1]\n",
        "        betas = np.clip(betas, a_min=0, a_max=0.999)\n",
        "\n",
        "    elif schedule == \"sqrt_linear\":\n",
        "        betas = torch.linspace(\n",
        "            linear_start, linear_end, n_timestep, dtype=torch.float64\n",
        "        )\n",
        "    elif schedule == \"sqrt\":\n",
        "        betas = (\n",
        "            torch.linspace(\n",
        "                linear_start, linear_end, n_timestep, dtype=torch.float64\n",
        "            )\n",
        "            ** 0.5\n",
        "        )\n",
        "    else:\n",
        "        raise ValueError(f\"schedule '{schedule}' unknown.\")\n",
        "    return betas.numpy()\n",
        "\n",
        "import torch\n",
        "import torch.nn as nn\n",
        "import numpy as np\n",
        "from tqdm import tqdm\n",
        "from functools import partial\n",
        "\n",
        "def extract(a, t, x_shape):\n",
        "    b, *_ = t.shape\n",
        "    out = a.gather(-1, t)\n",
        "    return out.reshape(b, *((1,) * (len(x_shape) - 1)))\n",
        "\n",
        "class DDIM(nn.Module):\n",
        "    def __init__(\n",
        "        self,\n",
        "        unet_config,\n",
        "        timesteps=1000,\n",
        "        ddim_steps=50,\n",
        "        beta_schedule=\"linear\",\n",
        "        clip_denoised=False,\n",
        "        linear_start=1e-4,\n",
        "        linear_end=2e-2,\n",
        "        original_elbo_weight=0.0,\n",
        "        parameterization=\"eps\",\n",
        "    ):\n",
        "        super().__init__()\n",
        "        assert parameterization in [\"eps\", \"x0\"], 'Only \"eps\" and \"x0\" are supported.'\n",
        "        self.parameterization = parameterization\n",
        "        self.model = UNetModel(**unet_config.get(\"params\", {}))\n",
        "        self.clip_denoised = clip_denoised\n",
        "        self.original_elbo_weight = original_elbo_weight\n",
        "        self.ddim_steps = ddim_steps\n",
        "        self.register_schedule(beta_schedule, timesteps, linear_start, linear_end)\n",
        "\n",
        "    def register_schedule(self, beta_schedule, timesteps, linear_start, linear_end):\n",
        "        betas = np.linspace(linear_start, linear_end, timesteps, dtype=np.float64)\n",
        "        alphas = 1.0 - betas\n",
        "        alphas_cumprod = np.cumprod(alphas, axis=0)\n",
        "        alphas_cumprod_prev = np.append(1.0, alphas_cumprod[:-1])\n",
        "\n",
        "        self.num_timesteps = int(timesteps)\n",
        "        to_torch = partial(torch.tensor, dtype=torch.float32)\n",
        "\n",
        "        self.register_buffer(\"betas\", to_torch(betas))\n",
        "        self.register_buffer(\"alphas_cumprod\", to_torch(alphas_cumprod))\n",
        "        self.register_buffer(\"alphas_cumprod_prev\", to_torch(alphas_cumprod_prev))\n",
        "        self.register_buffer(\"sqrt_recip_alphas_cumprod\", to_torch(np.sqrt(1.0 / alphas_cumprod)))\n",
        "        self.register_buffer(\"sqrt_one_minus_alphas_cumprod\", to_torch(np.sqrt(1.0 - alphas_cumprod)))\n",
        "\n",
        "    def ddim_sample(self, x, t, eta=0.0):\n",
        "        model_output = self.model(x, t)\n",
        "\n",
        "        if self.parameterization == \"eps\":\n",
        "            pred_x0 = extract(self.sqrt_recip_alphas_cumprod, t, x.shape) * x - \\\n",
        "                        extract(self.sqrt_one_minus_alphas_cumprod, t, x.shape) * model_output\n",
        "        else:\n",
        "            pred_x0 = model_output\n",
        "\n",
        "        if self.clip_denoised:\n",
        "            pred_x0 = torch.clamp(pred_x0, -1.0, 1.0)\n",
        "\n",
        "        sigma = eta * (1 - extract(self.alphas_cumprod, t, x.shape)).sqrt()\n",
        "        noise = torch.randn_like(x)\n",
        "\n",
        "        return pred_x0 + sigma * noise\n",
        "\n",
        "    @torch.no_grad()\n",
        "    def p_sample_loop_ddim(self, shape, eta=0.0):\n",
        "        device = self.betas.device\n",
        "        img = torch.randn(shape, device=device)\n",
        "\n",
        "        for i in tqdm(reversed(range(0, self.ddim_steps)), desc=\"DDIM sampling\"):\n",
        "            t = torch.full((shape[0],), i, device=device, dtype=torch.long)\n",
        "            img = self.ddim_sample(img, t, eta)\n",
        "\n",
        "        return img\n",
        "\n",
        "    @torch.no_grad()\n",
        "    def sample(self, batch_size=16, eta=0.0):\n",
        "        image_size = self.model.image_size\n",
        "        channels = self.model.in_channels\n",
        "        return self.p_sample_loop_ddim((batch_size, channels, image_size), eta=eta)\n",
        "\n",
        "    def forward(self, x, t):\n",
        "        return self.model(x, t)"
      ],
      "metadata": {
        "id": "oZDndaI15OKq"
      },
      "execution_count": 122,
      "outputs": []
    },
    {
      "cell_type": "code",
      "source": [
        "import torch\n",
        "from torch.utils.data import TensorDataset, DataLoader\n",
        "\n",
        "batch_size = 32\n",
        "\n",
        "# 'subject' 열 제거\n",
        "train_df_no_subject = train_df.drop(columns=['subject', 'Hypertension'])\n",
        "\n",
        "# 텐서로 변환\n",
        "train_data_tensor = torch.tensor(train_df_no_subject.values, dtype=torch.float32)\n",
        "\n",
        "# TensorDataset 및 DataLoader 생성\n",
        "train_dataset = TensorDataset(train_data_tensor)  # 레이블 없음\n",
        "train_loader = DataLoader(train_dataset, batch_size=batch_size, shuffle=True)"
      ],
      "metadata": {
        "id": "UZAXGpL09wYK"
      },
      "execution_count": 123,
      "outputs": []
    },
    {
      "cell_type": "code",
      "source": [
        "import os\n",
        "import torch\n",
        "from torch import optim # Import optim\n",
        "from torch.utils.data import TensorDataset, DataLoader\n",
        "from tqdm import tqdm\n",
        "import numpy as np\n",
        "import pandas as pd\n",
        "from sklearn.model_selection import train_test_split\n",
        "from sklearn.preprocessing import LabelEncoder\n",
        "import matplotlib.pyplot as plt\n",
        "from sklearn.metrics import precision_recall_fscore_support\n",
        "import torch.nn as nn\n",
        "import torch.nn.functional as F\n",
        "import math\n",
        "\n",
        "# 학습 함수\n",
        "def train_ddim_model(model, train_loader, num_epochs=20, learning_rate=1e-4, device='cuda'):\n",
        "    model.to(device)\n",
        "    optimizer = optim.Adam(model.parameters(), lr=learning_rate)\n",
        "    loss_fn = nn.MSELoss()\n",
        "\n",
        "    for epoch in range(num_epochs):\n",
        "        model.train()\n",
        "        total_loss = 0\n",
        "        for batch in tqdm(train_loader, desc=f\"Epoch {epoch+1}/{num_epochs}\"):\n",
        "            x = batch[0].to(device)  # 레이블이 없으므로 x만 가져옴\n",
        "            # x = x.unsqueeze(1)  # Remove this line - it's causing the error\n",
        "\n",
        "            # Reshape x to have the expected shape (batch_size, in_channels, image_size)\n",
        "            x = x.view(x.shape[0], unet_config[\"params\"][\"in_channels\"], -1)\n",
        "            t = torch.randint(0, model.num_timesteps, (x.shape[0],), device=device).long()\n",
        "\n",
        "            optimizer.zero_grad()\n",
        "            loss = loss_fn(model(x, t), x)  # 모델의 출력과 입력 비교 (재구성 손실)\n",
        "            loss.backward()\n",
        "            optimizer.step()\n",
        "            total_loss += loss.item()\n",
        "\n",
        "        avg_loss = total_loss / len(train_loader)\n",
        "        print(f\"Epoch {epoch+1}: Avg Train Loss = {avg_loss:.4f}\")\n",
        "\n",
        "# 모델 초기화\n",
        "device = 'cuda' if torch.cuda.is_available() else 'cpu'\n",
        "\n",
        "unet_config = {\n",
        "    \"params\": {\n",
        "        \"image_size\": 11000,          # 시퀀스 길이 그대로 사용\n",
        "        \"in_channels\": 1,          # 1채널 입력 (기본적인 경우)\n",
        "        \"model_channels\": 32,\n",
        "        \"out_channels\": 1,\n",
        "        \"num_res_blocks\": 2,\n",
        "        \"attention_resolutions\": [13],  # 52를 downsample했을 때 포함되는 해상도\n",
        "        \"dropout\": 0.1,\n",
        "        \"channel_mult\": (2, 4, 8),\n",
        "        \"num_heads\": 4,\n",
        "        \"use_scale_shift_norm\": False,\n",
        "        \"resblock_updown\": True,\n",
        "    }\n",
        "}\n",
        "\n",
        "ddim_model = DDIM(unet_config=unet_config, timesteps=2000, ddim_steps=1000, parameterization='eps').to(device)\n",
        "\n",
        "# 학습 시작\n",
        "train_ddim_model(ddim_model, ppg_loader, num_epochs=50, learning_rate=1e-4, device=device)"
      ],
      "metadata": {
        "colab": {
          "base_uri": "https://localhost:8080/"
        },
        "id": "ENpbLQ4s5OSH",
        "outputId": "ac7077a4-0cf9-4368-b7c6-03223c8f0089"
      },
      "execution_count": 124,
      "outputs": [
        {
          "output_type": "stream",
          "name": "stderr",
          "text": [
            "Epoch 1/50: 100%|██████████| 2/2 [00:08<00:00,  4.24s/it]\n"
          ]
        },
        {
          "output_type": "stream",
          "name": "stdout",
          "text": [
            "Epoch 1: Avg Train Loss = 0.9923\n"
          ]
        },
        {
          "output_type": "stream",
          "name": "stderr",
          "text": [
            "Epoch 2/50: 100%|██████████| 2/2 [00:07<00:00,  3.55s/it]\n"
          ]
        },
        {
          "output_type": "stream",
          "name": "stdout",
          "text": [
            "Epoch 2: Avg Train Loss = 0.9590\n"
          ]
        },
        {
          "output_type": "stream",
          "name": "stderr",
          "text": [
            "Epoch 3/50: 100%|██████████| 2/2 [00:07<00:00,  3.92s/it]\n"
          ]
        },
        {
          "output_type": "stream",
          "name": "stdout",
          "text": [
            "Epoch 3: Avg Train Loss = 0.9204\n"
          ]
        },
        {
          "output_type": "stream",
          "name": "stderr",
          "text": [
            "Epoch 4/50: 100%|██████████| 2/2 [00:06<00:00,  3.41s/it]\n"
          ]
        },
        {
          "output_type": "stream",
          "name": "stdout",
          "text": [
            "Epoch 4: Avg Train Loss = 0.8831\n"
          ]
        },
        {
          "output_type": "stream",
          "name": "stderr",
          "text": [
            "Epoch 5/50: 100%|██████████| 2/2 [00:07<00:00,  3.91s/it]\n"
          ]
        },
        {
          "output_type": "stream",
          "name": "stdout",
          "text": [
            "Epoch 5: Avg Train Loss = 0.8406\n"
          ]
        },
        {
          "output_type": "stream",
          "name": "stderr",
          "text": [
            "Epoch 6/50: 100%|██████████| 2/2 [00:06<00:00,  3.37s/it]\n"
          ]
        },
        {
          "output_type": "stream",
          "name": "stdout",
          "text": [
            "Epoch 6: Avg Train Loss = 0.7976\n"
          ]
        },
        {
          "output_type": "stream",
          "name": "stderr",
          "text": [
            "Epoch 7/50: 100%|██████████| 2/2 [00:07<00:00,  3.95s/it]\n"
          ]
        },
        {
          "output_type": "stream",
          "name": "stdout",
          "text": [
            "Epoch 7: Avg Train Loss = 0.7606\n"
          ]
        },
        {
          "output_type": "stream",
          "name": "stderr",
          "text": [
            "Epoch 8/50: 100%|██████████| 2/2 [00:07<00:00,  3.91s/it]\n"
          ]
        },
        {
          "output_type": "stream",
          "name": "stdout",
          "text": [
            "Epoch 8: Avg Train Loss = 0.7177\n"
          ]
        },
        {
          "output_type": "stream",
          "name": "stderr",
          "text": [
            "Epoch 9/50: 100%|██████████| 2/2 [00:08<00:00,  4.03s/it]\n"
          ]
        },
        {
          "output_type": "stream",
          "name": "stdout",
          "text": [
            "Epoch 9: Avg Train Loss = 0.6769\n"
          ]
        },
        {
          "output_type": "stream",
          "name": "stderr",
          "text": [
            "Epoch 10/50: 100%|██████████| 2/2 [00:07<00:00,  3.87s/it]\n"
          ]
        },
        {
          "output_type": "stream",
          "name": "stdout",
          "text": [
            "Epoch 10: Avg Train Loss = 0.6401\n"
          ]
        },
        {
          "output_type": "stream",
          "name": "stderr",
          "text": [
            "Epoch 11/50: 100%|██████████| 2/2 [00:06<00:00,  3.37s/it]\n"
          ]
        },
        {
          "output_type": "stream",
          "name": "stdout",
          "text": [
            "Epoch 11: Avg Train Loss = 0.6007\n"
          ]
        },
        {
          "output_type": "stream",
          "name": "stderr",
          "text": [
            "Epoch 12/50: 100%|██████████| 2/2 [00:07<00:00,  3.91s/it]\n"
          ]
        },
        {
          "output_type": "stream",
          "name": "stdout",
          "text": [
            "Epoch 12: Avg Train Loss = 0.5667\n"
          ]
        },
        {
          "output_type": "stream",
          "name": "stderr",
          "text": [
            "Epoch 13/50: 100%|██████████| 2/2 [00:07<00:00,  3.80s/it]\n"
          ]
        },
        {
          "output_type": "stream",
          "name": "stdout",
          "text": [
            "Epoch 13: Avg Train Loss = 0.5329\n"
          ]
        },
        {
          "output_type": "stream",
          "name": "stderr",
          "text": [
            "Epoch 14/50: 100%|██████████| 2/2 [00:06<00:00,  3.46s/it]\n"
          ]
        },
        {
          "output_type": "stream",
          "name": "stdout",
          "text": [
            "Epoch 14: Avg Train Loss = 0.4973\n"
          ]
        },
        {
          "output_type": "stream",
          "name": "stderr",
          "text": [
            "Epoch 15/50: 100%|██████████| 2/2 [00:07<00:00,  3.88s/it]\n"
          ]
        },
        {
          "output_type": "stream",
          "name": "stdout",
          "text": [
            "Epoch 15: Avg Train Loss = 0.4697\n"
          ]
        },
        {
          "output_type": "stream",
          "name": "stderr",
          "text": [
            "Epoch 16/50: 100%|██████████| 2/2 [00:06<00:00,  3.40s/it]\n"
          ]
        },
        {
          "output_type": "stream",
          "name": "stdout",
          "text": [
            "Epoch 16: Avg Train Loss = 0.4377\n"
          ]
        },
        {
          "output_type": "stream",
          "name": "stderr",
          "text": [
            "Epoch 17/50: 100%|██████████| 2/2 [00:07<00:00,  3.88s/it]\n"
          ]
        },
        {
          "output_type": "stream",
          "name": "stdout",
          "text": [
            "Epoch 17: Avg Train Loss = 0.4182\n"
          ]
        },
        {
          "output_type": "stream",
          "name": "stderr",
          "text": [
            "Epoch 18/50: 100%|██████████| 2/2 [00:06<00:00,  3.38s/it]\n"
          ]
        },
        {
          "output_type": "stream",
          "name": "stdout",
          "text": [
            "Epoch 18: Avg Train Loss = 0.3748\n"
          ]
        },
        {
          "output_type": "stream",
          "name": "stderr",
          "text": [
            "Epoch 19/50: 100%|██████████| 2/2 [00:07<00:00,  3.87s/it]\n"
          ]
        },
        {
          "output_type": "stream",
          "name": "stdout",
          "text": [
            "Epoch 19: Avg Train Loss = 0.3592\n"
          ]
        },
        {
          "output_type": "stream",
          "name": "stderr",
          "text": [
            "Epoch 20/50: 100%|██████████| 2/2 [00:07<00:00,  3.76s/it]\n"
          ]
        },
        {
          "output_type": "stream",
          "name": "stdout",
          "text": [
            "Epoch 20: Avg Train Loss = 0.3465\n"
          ]
        },
        {
          "output_type": "stream",
          "name": "stderr",
          "text": [
            "Epoch 21/50: 100%|██████████| 2/2 [00:06<00:00,  3.49s/it]\n"
          ]
        },
        {
          "output_type": "stream",
          "name": "stdout",
          "text": [
            "Epoch 21: Avg Train Loss = 0.3165\n"
          ]
        },
        {
          "output_type": "stream",
          "name": "stderr",
          "text": [
            "Epoch 22/50: 100%|██████████| 2/2 [00:07<00:00,  3.89s/it]\n"
          ]
        },
        {
          "output_type": "stream",
          "name": "stdout",
          "text": [
            "Epoch 22: Avg Train Loss = 0.3003\n"
          ]
        },
        {
          "output_type": "stream",
          "name": "stderr",
          "text": [
            "Epoch 23/50: 100%|██████████| 2/2 [00:06<00:00,  3.40s/it]\n"
          ]
        },
        {
          "output_type": "stream",
          "name": "stdout",
          "text": [
            "Epoch 23: Avg Train Loss = 0.2621\n"
          ]
        },
        {
          "output_type": "stream",
          "name": "stderr",
          "text": [
            "Epoch 24/50: 100%|██████████| 2/2 [00:07<00:00,  3.95s/it]\n"
          ]
        },
        {
          "output_type": "stream",
          "name": "stdout",
          "text": [
            "Epoch 24: Avg Train Loss = 0.2579\n"
          ]
        },
        {
          "output_type": "stream",
          "name": "stderr",
          "text": [
            "Epoch 25/50: 100%|██████████| 2/2 [00:06<00:00,  3.37s/it]\n"
          ]
        },
        {
          "output_type": "stream",
          "name": "stdout",
          "text": [
            "Epoch 25: Avg Train Loss = 0.2439\n"
          ]
        },
        {
          "output_type": "stream",
          "name": "stderr",
          "text": [
            "Epoch 26/50: 100%|██████████| 2/2 [00:07<00:00,  3.93s/it]\n"
          ]
        },
        {
          "output_type": "stream",
          "name": "stdout",
          "text": [
            "Epoch 26: Avg Train Loss = 0.2220\n"
          ]
        },
        {
          "output_type": "stream",
          "name": "stderr",
          "text": [
            "Epoch 27/50: 100%|██████████| 2/2 [00:07<00:00,  3.92s/it]\n"
          ]
        },
        {
          "output_type": "stream",
          "name": "stdout",
          "text": [
            "Epoch 27: Avg Train Loss = 0.2074\n"
          ]
        },
        {
          "output_type": "stream",
          "name": "stderr",
          "text": [
            "Epoch 28/50: 100%|██████████| 2/2 [00:07<00:00,  3.51s/it]\n"
          ]
        },
        {
          "output_type": "stream",
          "name": "stdout",
          "text": [
            "Epoch 28: Avg Train Loss = 0.1835\n"
          ]
        },
        {
          "output_type": "stream",
          "name": "stderr",
          "text": [
            "Epoch 29/50: 100%|██████████| 2/2 [00:08<00:00,  4.00s/it]\n"
          ]
        },
        {
          "output_type": "stream",
          "name": "stdout",
          "text": [
            "Epoch 29: Avg Train Loss = 0.1749\n"
          ]
        },
        {
          "output_type": "stream",
          "name": "stderr",
          "text": [
            "Epoch 30/50: 100%|██████████| 2/2 [00:06<00:00,  3.44s/it]\n"
          ]
        },
        {
          "output_type": "stream",
          "name": "stdout",
          "text": [
            "Epoch 30: Avg Train Loss = 0.1491\n"
          ]
        },
        {
          "output_type": "stream",
          "name": "stderr",
          "text": [
            "Epoch 31/50: 100%|██████████| 2/2 [00:07<00:00,  3.94s/it]\n"
          ]
        },
        {
          "output_type": "stream",
          "name": "stdout",
          "text": [
            "Epoch 31: Avg Train Loss = 0.1499\n"
          ]
        },
        {
          "output_type": "stream",
          "name": "stderr",
          "text": [
            "Epoch 32/50: 100%|██████████| 2/2 [00:07<00:00,  3.60s/it]\n"
          ]
        },
        {
          "output_type": "stream",
          "name": "stdout",
          "text": [
            "Epoch 32: Avg Train Loss = 0.1321\n"
          ]
        },
        {
          "output_type": "stream",
          "name": "stderr",
          "text": [
            "Epoch 33/50: 100%|██████████| 2/2 [00:07<00:00,  3.77s/it]\n"
          ]
        },
        {
          "output_type": "stream",
          "name": "stdout",
          "text": [
            "Epoch 33: Avg Train Loss = 0.1306\n"
          ]
        },
        {
          "output_type": "stream",
          "name": "stderr",
          "text": [
            "Epoch 34/50: 100%|██████████| 2/2 [00:07<00:00,  3.96s/it]\n"
          ]
        },
        {
          "output_type": "stream",
          "name": "stdout",
          "text": [
            "Epoch 34: Avg Train Loss = 0.1191\n"
          ]
        },
        {
          "output_type": "stream",
          "name": "stderr",
          "text": [
            "Epoch 35/50: 100%|██████████| 2/2 [00:06<00:00,  3.47s/it]\n"
          ]
        },
        {
          "output_type": "stream",
          "name": "stdout",
          "text": [
            "Epoch 35: Avg Train Loss = 0.1022\n"
          ]
        },
        {
          "output_type": "stream",
          "name": "stderr",
          "text": [
            "Epoch 36/50: 100%|██████████| 2/2 [00:07<00:00,  3.97s/it]\n"
          ]
        },
        {
          "output_type": "stream",
          "name": "stdout",
          "text": [
            "Epoch 36: Avg Train Loss = 0.0956\n"
          ]
        },
        {
          "output_type": "stream",
          "name": "stderr",
          "text": [
            "Epoch 37/50: 100%|██████████| 2/2 [00:06<00:00,  3.43s/it]\n"
          ]
        },
        {
          "output_type": "stream",
          "name": "stdout",
          "text": [
            "Epoch 37: Avg Train Loss = 0.0919\n"
          ]
        },
        {
          "output_type": "stream",
          "name": "stderr",
          "text": [
            "Epoch 38/50: 100%|██████████| 2/2 [00:07<00:00,  3.96s/it]\n"
          ]
        },
        {
          "output_type": "stream",
          "name": "stdout",
          "text": [
            "Epoch 38: Avg Train Loss = 0.0796\n"
          ]
        },
        {
          "output_type": "stream",
          "name": "stderr",
          "text": [
            "Epoch 39/50: 100%|██████████| 2/2 [00:07<00:00,  3.76s/it]\n"
          ]
        },
        {
          "output_type": "stream",
          "name": "stdout",
          "text": [
            "Epoch 39: Avg Train Loss = 0.0743\n"
          ]
        },
        {
          "output_type": "stream",
          "name": "stderr",
          "text": [
            "Epoch 40/50: 100%|██████████| 2/2 [00:07<00:00,  3.64s/it]\n"
          ]
        },
        {
          "output_type": "stream",
          "name": "stdout",
          "text": [
            "Epoch 40: Avg Train Loss = 0.0653\n"
          ]
        },
        {
          "output_type": "stream",
          "name": "stderr",
          "text": [
            "Epoch 41/50: 100%|██████████| 2/2 [00:07<00:00,  3.94s/it]\n"
          ]
        },
        {
          "output_type": "stream",
          "name": "stdout",
          "text": [
            "Epoch 41: Avg Train Loss = 0.0626\n"
          ]
        },
        {
          "output_type": "stream",
          "name": "stderr",
          "text": [
            "Epoch 42/50: 100%|██████████| 2/2 [00:06<00:00,  3.41s/it]\n"
          ]
        },
        {
          "output_type": "stream",
          "name": "stdout",
          "text": [
            "Epoch 42: Avg Train Loss = 0.0579\n"
          ]
        },
        {
          "output_type": "stream",
          "name": "stderr",
          "text": [
            "Epoch 43/50: 100%|██████████| 2/2 [00:07<00:00,  3.95s/it]\n"
          ]
        },
        {
          "output_type": "stream",
          "name": "stdout",
          "text": [
            "Epoch 43: Avg Train Loss = 0.0538\n"
          ]
        },
        {
          "output_type": "stream",
          "name": "stderr",
          "text": [
            "Epoch 44/50: 100%|██████████| 2/2 [00:06<00:00,  3.45s/it]\n"
          ]
        },
        {
          "output_type": "stream",
          "name": "stdout",
          "text": [
            "Epoch 44: Avg Train Loss = 0.0479\n"
          ]
        },
        {
          "output_type": "stream",
          "name": "stderr",
          "text": [
            "Epoch 45/50: 100%|██████████| 2/2 [00:07<00:00,  3.95s/it]\n"
          ]
        },
        {
          "output_type": "stream",
          "name": "stdout",
          "text": [
            "Epoch 45: Avg Train Loss = 0.0437\n"
          ]
        },
        {
          "output_type": "stream",
          "name": "stderr",
          "text": [
            "Epoch 46/50: 100%|██████████| 2/2 [00:07<00:00,  3.97s/it]\n"
          ]
        },
        {
          "output_type": "stream",
          "name": "stdout",
          "text": [
            "Epoch 46: Avg Train Loss = 0.0395\n"
          ]
        },
        {
          "output_type": "stream",
          "name": "stderr",
          "text": [
            "Epoch 47/50: 100%|██████████| 2/2 [00:06<00:00,  3.44s/it]\n"
          ]
        },
        {
          "output_type": "stream",
          "name": "stdout",
          "text": [
            "Epoch 47: Avg Train Loss = 0.0299\n"
          ]
        },
        {
          "output_type": "stream",
          "name": "stderr",
          "text": [
            "Epoch 48/50: 100%|██████████| 2/2 [00:07<00:00,  3.99s/it]\n"
          ]
        },
        {
          "output_type": "stream",
          "name": "stdout",
          "text": [
            "Epoch 48: Avg Train Loss = 0.0286\n"
          ]
        },
        {
          "output_type": "stream",
          "name": "stderr",
          "text": [
            "Epoch 49/50: 100%|██████████| 2/2 [00:06<00:00,  3.43s/it]\n"
          ]
        },
        {
          "output_type": "stream",
          "name": "stdout",
          "text": [
            "Epoch 49: Avg Train Loss = 0.0284\n"
          ]
        },
        {
          "output_type": "stream",
          "name": "stderr",
          "text": [
            "Epoch 50/50: 100%|██████████| 2/2 [00:07<00:00,  3.98s/it]"
          ]
        },
        {
          "output_type": "stream",
          "name": "stdout",
          "text": [
            "Epoch 50: Avg Train Loss = 0.0234\n"
          ]
        },
        {
          "output_type": "stream",
          "name": "stderr",
          "text": [
            "\n"
          ]
        }
      ]
    },
    {
      "cell_type": "code",
      "source": [
        "test_df.shape"
      ],
      "metadata": {
        "colab": {
          "base_uri": "https://localhost:8080/"
        },
        "id": "adSD3Omr-Aac",
        "outputId": "f6adea4b-c6fa-41a1-9bbc-6b33744bc443"
      },
      "execution_count": 125,
      "outputs": [
        {
          "output_type": "execute_result",
          "data": {
            "text/plain": [
              "(43, 11002)"
            ]
          },
          "metadata": {},
          "execution_count": 125
        }
      ]
    },
    {
      "cell_type": "code",
      "source": [
        "# test_df에 subject 컬럼이 있다고 가정\n",
        "test_data_tensor = torch.tensor(test_df.drop(columns=[\"Hypertension\", \"subject\"]).values, dtype=torch.float32).unsqueeze(1)\n",
        "test_labels_tensor = torch.tensor(test_df[\"Hypertension\"].values, dtype=torch.float32).unsqueeze(-1)\n",
        "subject_tensor = torch.tensor(test_df[\"subject\"].values, dtype=torch.int32).unsqueeze(-1)\n",
        "\n",
        "# subject 추가 포함\n",
        "test_dataset = TensorDataset(test_data_tensor, test_labels_tensor, subject_tensor)\n",
        "test_loader = DataLoader(test_dataset, batch_size=batch_size, shuffle=False)"
      ],
      "metadata": {
        "id": "gpBkvicp-Adv"
      },
      "execution_count": 126,
      "outputs": []
    },
    {
      "cell_type": "code",
      "source": [
        "import torch\n",
        "import torch.nn.functional as F\n",
        "import pandas as pd\n",
        "\n",
        "import torch.nn.functional as F\n",
        "import pandas as pd\n",
        "\n",
        "def test_ddpm(ddpm, test_loader, device):\n",
        "    ddpm.eval()\n",
        "    total_loss = 0\n",
        "    num_samples = 0\n",
        "    all_reconstruction_errors = []\n",
        "    true_labels = []\n",
        "    subject_ids = []\n",
        "\n",
        "    with torch.no_grad():\n",
        "        for batch in test_loader:\n",
        "            x, labels, subjects = batch\n",
        "            x = x.to(device)\n",
        "            labels = labels.to(device)\n",
        "\n",
        "            t = torch.zeros(x.size(0), dtype=torch.long).to(device)  # time step 고정\n",
        "            reconstructed_x = ddpm(x, t)\n",
        "\n",
        "            # shape mismatch 방지\n",
        "            min_len = min(x.shape[2], reconstructed_x.shape[2])\n",
        "            x = x[:, :, :min_len]\n",
        "            reconstructed_x = reconstructed_x[:, :, :min_len]\n",
        "\n",
        "            # 🔁 MSE(Mean Squared Error) 기반 reconstruction error 계산\n",
        "            reconstruction_error = F.mse_loss(reconstructed_x, x, reduction='none').mean(dim=[1, 2])\n",
        "            loss = reconstruction_error.mean()\n",
        "\n",
        "            total_loss += loss.item() * x.size(0)\n",
        "            num_samples += x.size(0)\n",
        "\n",
        "            all_reconstruction_errors.extend(reconstruction_error.cpu().numpy().tolist())\n",
        "            true_labels.extend(labels.cpu().numpy().flatten().tolist())\n",
        "            subject_ids.extend(subjects.cpu().numpy().flatten().tolist())\n",
        "\n",
        "    avg_loss = total_loss / num_samples\n",
        "    anomaly_df = pd.DataFrame({\n",
        "        \"Subject\": subject_ids,\n",
        "        \"True_Label\": true_labels,\n",
        "        \"Reconstruction_Error\": all_reconstruction_errors\n",
        "    })\n",
        "\n",
        "    print(f\"✅ 최종 테스트 손실 (MSE 기반): {avg_loss:.4f}\")\n",
        "    return anomaly_df, avg_loss, None\n",
        "\n",
        "\n",
        "\n",
        "# 실행 코드 블록\n",
        "if __name__ == \"__main__\":\n",
        "\n",
        "    device = torch.device(\"cuda\" if torch.cuda.is_available() else \"cpu\")\n",
        "    print(f\"Using device: {device}\")\n",
        "\n",
        "    # 테스트 실행\n",
        "    anomaly_df, test_loss, _ = test_ddpm(ddim_model, test_loader, device)\n",
        "\n",
        "    # 결과 출력\n",
        "    print(\"\\n📋 테스트 결과 상위 5개:\")\n",
        "    print(anomaly_df.head())\n",
        "\n",
        "    print(f\"\\n✅ Test Loss (MAE): {test_loss:.4f}\")"
      ],
      "metadata": {
        "colab": {
          "base_uri": "https://localhost:8080/"
        },
        "id": "G7tHt4Zu-Ah8",
        "outputId": "b0fd9856-20df-4047-b717-117efe4022c6"
      },
      "execution_count": 160,
      "outputs": [
        {
          "output_type": "stream",
          "name": "stdout",
          "text": [
            "Using device: cpu\n",
            "✅ 최종 테스트 손실 (MSE 기반): 0.0228\n",
            "\n",
            "📋 테스트 결과 상위 5개:\n",
            "   Subject  True_Label  Reconstruction_Error\n",
            "0        1         1.0              0.024904\n",
            "1        3         1.0              0.024932\n",
            "2        4         1.0              0.026193\n",
            "3        5         0.0              0.022724\n",
            "4        6         0.0              0.023711\n",
            "\n",
            "✅ Test Loss (MAE): 0.0228\n"
          ]
        }
      ]
    },
    {
      "cell_type": "code",
      "source": [
        "anomaly_df"
      ],
      "metadata": {
        "colab": {
          "base_uri": "https://localhost:8080/",
          "height": 1000
        },
        "id": "VbR2yOZ9-AqS",
        "outputId": "d18d7030-1c33-4f1f-b334-0180ccf01fa8"
      },
      "execution_count": 161,
      "outputs": [
        {
          "output_type": "execute_result",
          "data": {
            "text/plain": [
              "    Subject  True_Label  Reconstruction_Error\n",
              "0         1         1.0              0.024904\n",
              "1         3         1.0              0.024932\n",
              "2         4         1.0              0.026193\n",
              "3         5         0.0              0.022724\n",
              "4         6         0.0              0.023711\n",
              "5         7         2.0              0.023569\n",
              "6         8         2.0              0.025737\n",
              "7         9         1.0              0.021655\n",
              "8        13         2.0              0.022986\n",
              "9        14         2.0              0.021533\n",
              "10       16         2.0              0.022315\n",
              "11       17         1.0              0.025377\n",
              "12       18         2.0              0.022172\n",
              "13       20         2.0              0.024285\n",
              "14       21         1.0              0.025256\n",
              "15       23         1.0              0.021488\n",
              "16       26         2.0              0.022929\n",
              "17       27         2.0              0.025928\n",
              "18       29         1.0              0.023882\n",
              "19       31         1.0              0.025443\n",
              "20       32         1.0              0.026833\n",
              "21       33         1.0              0.022789\n",
              "22       34         1.0              0.023579\n",
              "23       35         2.0              0.024261\n",
              "24       36         1.0              0.024803\n",
              "25       37         1.0              0.015761\n",
              "26       38         1.0              0.026129\n",
              "27       39         1.0              0.021377\n",
              "28       41         2.0              0.025356\n",
              "29       42         2.0              0.017702\n",
              "30       43         2.0              0.020746\n",
              "31       44         2.0              0.021710\n",
              "32       45         2.0              0.020628\n",
              "33       46         2.0              0.022268\n",
              "34       48         0.0              0.020645\n",
              "35       49         0.0              0.019771\n",
              "36       50         0.0              0.022016\n",
              "37       51         0.0              0.019025\n",
              "38       52         1.0              0.024048\n",
              "39       53         1.0              0.022379\n",
              "40       54         1.0              0.020793\n",
              "41       55         1.0              0.023077\n",
              "42       56         1.0              0.019401"
            ],
            "text/html": [
              "\n",
              "  <div id=\"df-211bc528-9bd4-424f-9b93-b87a4e37fdcc\" class=\"colab-df-container\">\n",
              "    <div>\n",
              "<style scoped>\n",
              "    .dataframe tbody tr th:only-of-type {\n",
              "        vertical-align: middle;\n",
              "    }\n",
              "\n",
              "    .dataframe tbody tr th {\n",
              "        vertical-align: top;\n",
              "    }\n",
              "\n",
              "    .dataframe thead th {\n",
              "        text-align: right;\n",
              "    }\n",
              "</style>\n",
              "<table border=\"1\" class=\"dataframe\">\n",
              "  <thead>\n",
              "    <tr style=\"text-align: right;\">\n",
              "      <th></th>\n",
              "      <th>Subject</th>\n",
              "      <th>True_Label</th>\n",
              "      <th>Reconstruction_Error</th>\n",
              "    </tr>\n",
              "  </thead>\n",
              "  <tbody>\n",
              "    <tr>\n",
              "      <th>0</th>\n",
              "      <td>1</td>\n",
              "      <td>1.0</td>\n",
              "      <td>0.024904</td>\n",
              "    </tr>\n",
              "    <tr>\n",
              "      <th>1</th>\n",
              "      <td>3</td>\n",
              "      <td>1.0</td>\n",
              "      <td>0.024932</td>\n",
              "    </tr>\n",
              "    <tr>\n",
              "      <th>2</th>\n",
              "      <td>4</td>\n",
              "      <td>1.0</td>\n",
              "      <td>0.026193</td>\n",
              "    </tr>\n",
              "    <tr>\n",
              "      <th>3</th>\n",
              "      <td>5</td>\n",
              "      <td>0.0</td>\n",
              "      <td>0.022724</td>\n",
              "    </tr>\n",
              "    <tr>\n",
              "      <th>4</th>\n",
              "      <td>6</td>\n",
              "      <td>0.0</td>\n",
              "      <td>0.023711</td>\n",
              "    </tr>\n",
              "    <tr>\n",
              "      <th>5</th>\n",
              "      <td>7</td>\n",
              "      <td>2.0</td>\n",
              "      <td>0.023569</td>\n",
              "    </tr>\n",
              "    <tr>\n",
              "      <th>6</th>\n",
              "      <td>8</td>\n",
              "      <td>2.0</td>\n",
              "      <td>0.025737</td>\n",
              "    </tr>\n",
              "    <tr>\n",
              "      <th>7</th>\n",
              "      <td>9</td>\n",
              "      <td>1.0</td>\n",
              "      <td>0.021655</td>\n",
              "    </tr>\n",
              "    <tr>\n",
              "      <th>8</th>\n",
              "      <td>13</td>\n",
              "      <td>2.0</td>\n",
              "      <td>0.022986</td>\n",
              "    </tr>\n",
              "    <tr>\n",
              "      <th>9</th>\n",
              "      <td>14</td>\n",
              "      <td>2.0</td>\n",
              "      <td>0.021533</td>\n",
              "    </tr>\n",
              "    <tr>\n",
              "      <th>10</th>\n",
              "      <td>16</td>\n",
              "      <td>2.0</td>\n",
              "      <td>0.022315</td>\n",
              "    </tr>\n",
              "    <tr>\n",
              "      <th>11</th>\n",
              "      <td>17</td>\n",
              "      <td>1.0</td>\n",
              "      <td>0.025377</td>\n",
              "    </tr>\n",
              "    <tr>\n",
              "      <th>12</th>\n",
              "      <td>18</td>\n",
              "      <td>2.0</td>\n",
              "      <td>0.022172</td>\n",
              "    </tr>\n",
              "    <tr>\n",
              "      <th>13</th>\n",
              "      <td>20</td>\n",
              "      <td>2.0</td>\n",
              "      <td>0.024285</td>\n",
              "    </tr>\n",
              "    <tr>\n",
              "      <th>14</th>\n",
              "      <td>21</td>\n",
              "      <td>1.0</td>\n",
              "      <td>0.025256</td>\n",
              "    </tr>\n",
              "    <tr>\n",
              "      <th>15</th>\n",
              "      <td>23</td>\n",
              "      <td>1.0</td>\n",
              "      <td>0.021488</td>\n",
              "    </tr>\n",
              "    <tr>\n",
              "      <th>16</th>\n",
              "      <td>26</td>\n",
              "      <td>2.0</td>\n",
              "      <td>0.022929</td>\n",
              "    </tr>\n",
              "    <tr>\n",
              "      <th>17</th>\n",
              "      <td>27</td>\n",
              "      <td>2.0</td>\n",
              "      <td>0.025928</td>\n",
              "    </tr>\n",
              "    <tr>\n",
              "      <th>18</th>\n",
              "      <td>29</td>\n",
              "      <td>1.0</td>\n",
              "      <td>0.023882</td>\n",
              "    </tr>\n",
              "    <tr>\n",
              "      <th>19</th>\n",
              "      <td>31</td>\n",
              "      <td>1.0</td>\n",
              "      <td>0.025443</td>\n",
              "    </tr>\n",
              "    <tr>\n",
              "      <th>20</th>\n",
              "      <td>32</td>\n",
              "      <td>1.0</td>\n",
              "      <td>0.026833</td>\n",
              "    </tr>\n",
              "    <tr>\n",
              "      <th>21</th>\n",
              "      <td>33</td>\n",
              "      <td>1.0</td>\n",
              "      <td>0.022789</td>\n",
              "    </tr>\n",
              "    <tr>\n",
              "      <th>22</th>\n",
              "      <td>34</td>\n",
              "      <td>1.0</td>\n",
              "      <td>0.023579</td>\n",
              "    </tr>\n",
              "    <tr>\n",
              "      <th>23</th>\n",
              "      <td>35</td>\n",
              "      <td>2.0</td>\n",
              "      <td>0.024261</td>\n",
              "    </tr>\n",
              "    <tr>\n",
              "      <th>24</th>\n",
              "      <td>36</td>\n",
              "      <td>1.0</td>\n",
              "      <td>0.024803</td>\n",
              "    </tr>\n",
              "    <tr>\n",
              "      <th>25</th>\n",
              "      <td>37</td>\n",
              "      <td>1.0</td>\n",
              "      <td>0.015761</td>\n",
              "    </tr>\n",
              "    <tr>\n",
              "      <th>26</th>\n",
              "      <td>38</td>\n",
              "      <td>1.0</td>\n",
              "      <td>0.026129</td>\n",
              "    </tr>\n",
              "    <tr>\n",
              "      <th>27</th>\n",
              "      <td>39</td>\n",
              "      <td>1.0</td>\n",
              "      <td>0.021377</td>\n",
              "    </tr>\n",
              "    <tr>\n",
              "      <th>28</th>\n",
              "      <td>41</td>\n",
              "      <td>2.0</td>\n",
              "      <td>0.025356</td>\n",
              "    </tr>\n",
              "    <tr>\n",
              "      <th>29</th>\n",
              "      <td>42</td>\n",
              "      <td>2.0</td>\n",
              "      <td>0.017702</td>\n",
              "    </tr>\n",
              "    <tr>\n",
              "      <th>30</th>\n",
              "      <td>43</td>\n",
              "      <td>2.0</td>\n",
              "      <td>0.020746</td>\n",
              "    </tr>\n",
              "    <tr>\n",
              "      <th>31</th>\n",
              "      <td>44</td>\n",
              "      <td>2.0</td>\n",
              "      <td>0.021710</td>\n",
              "    </tr>\n",
              "    <tr>\n",
              "      <th>32</th>\n",
              "      <td>45</td>\n",
              "      <td>2.0</td>\n",
              "      <td>0.020628</td>\n",
              "    </tr>\n",
              "    <tr>\n",
              "      <th>33</th>\n",
              "      <td>46</td>\n",
              "      <td>2.0</td>\n",
              "      <td>0.022268</td>\n",
              "    </tr>\n",
              "    <tr>\n",
              "      <th>34</th>\n",
              "      <td>48</td>\n",
              "      <td>0.0</td>\n",
              "      <td>0.020645</td>\n",
              "    </tr>\n",
              "    <tr>\n",
              "      <th>35</th>\n",
              "      <td>49</td>\n",
              "      <td>0.0</td>\n",
              "      <td>0.019771</td>\n",
              "    </tr>\n",
              "    <tr>\n",
              "      <th>36</th>\n",
              "      <td>50</td>\n",
              "      <td>0.0</td>\n",
              "      <td>0.022016</td>\n",
              "    </tr>\n",
              "    <tr>\n",
              "      <th>37</th>\n",
              "      <td>51</td>\n",
              "      <td>0.0</td>\n",
              "      <td>0.019025</td>\n",
              "    </tr>\n",
              "    <tr>\n",
              "      <th>38</th>\n",
              "      <td>52</td>\n",
              "      <td>1.0</td>\n",
              "      <td>0.024048</td>\n",
              "    </tr>\n",
              "    <tr>\n",
              "      <th>39</th>\n",
              "      <td>53</td>\n",
              "      <td>1.0</td>\n",
              "      <td>0.022379</td>\n",
              "    </tr>\n",
              "    <tr>\n",
              "      <th>40</th>\n",
              "      <td>54</td>\n",
              "      <td>1.0</td>\n",
              "      <td>0.020793</td>\n",
              "    </tr>\n",
              "    <tr>\n",
              "      <th>41</th>\n",
              "      <td>55</td>\n",
              "      <td>1.0</td>\n",
              "      <td>0.023077</td>\n",
              "    </tr>\n",
              "    <tr>\n",
              "      <th>42</th>\n",
              "      <td>56</td>\n",
              "      <td>1.0</td>\n",
              "      <td>0.019401</td>\n",
              "    </tr>\n",
              "  </tbody>\n",
              "</table>\n",
              "</div>\n",
              "    <div class=\"colab-df-buttons\">\n",
              "\n",
              "  <div class=\"colab-df-container\">\n",
              "    <button class=\"colab-df-convert\" onclick=\"convertToInteractive('df-211bc528-9bd4-424f-9b93-b87a4e37fdcc')\"\n",
              "            title=\"Convert this dataframe to an interactive table.\"\n",
              "            style=\"display:none;\">\n",
              "\n",
              "  <svg xmlns=\"http://www.w3.org/2000/svg\" height=\"24px\" viewBox=\"0 -960 960 960\">\n",
              "    <path d=\"M120-120v-720h720v720H120Zm60-500h600v-160H180v160Zm220 220h160v-160H400v160Zm0 220h160v-160H400v160ZM180-400h160v-160H180v160Zm440 0h160v-160H620v160ZM180-180h160v-160H180v160Zm440 0h160v-160H620v160Z\"/>\n",
              "  </svg>\n",
              "    </button>\n",
              "\n",
              "  <style>\n",
              "    .colab-df-container {\n",
              "      display:flex;\n",
              "      gap: 12px;\n",
              "    }\n",
              "\n",
              "    .colab-df-convert {\n",
              "      background-color: #E8F0FE;\n",
              "      border: none;\n",
              "      border-radius: 50%;\n",
              "      cursor: pointer;\n",
              "      display: none;\n",
              "      fill: #1967D2;\n",
              "      height: 32px;\n",
              "      padding: 0 0 0 0;\n",
              "      width: 32px;\n",
              "    }\n",
              "\n",
              "    .colab-df-convert:hover {\n",
              "      background-color: #E2EBFA;\n",
              "      box-shadow: 0px 1px 2px rgba(60, 64, 67, 0.3), 0px 1px 3px 1px rgba(60, 64, 67, 0.15);\n",
              "      fill: #174EA6;\n",
              "    }\n",
              "\n",
              "    .colab-df-buttons div {\n",
              "      margin-bottom: 4px;\n",
              "    }\n",
              "\n",
              "    [theme=dark] .colab-df-convert {\n",
              "      background-color: #3B4455;\n",
              "      fill: #D2E3FC;\n",
              "    }\n",
              "\n",
              "    [theme=dark] .colab-df-convert:hover {\n",
              "      background-color: #434B5C;\n",
              "      box-shadow: 0px 1px 3px 1px rgba(0, 0, 0, 0.15);\n",
              "      filter: drop-shadow(0px 1px 2px rgba(0, 0, 0, 0.3));\n",
              "      fill: #FFFFFF;\n",
              "    }\n",
              "  </style>\n",
              "\n",
              "    <script>\n",
              "      const buttonEl =\n",
              "        document.querySelector('#df-211bc528-9bd4-424f-9b93-b87a4e37fdcc button.colab-df-convert');\n",
              "      buttonEl.style.display =\n",
              "        google.colab.kernel.accessAllowed ? 'block' : 'none';\n",
              "\n",
              "      async function convertToInteractive(key) {\n",
              "        const element = document.querySelector('#df-211bc528-9bd4-424f-9b93-b87a4e37fdcc');\n",
              "        const dataTable =\n",
              "          await google.colab.kernel.invokeFunction('convertToInteractive',\n",
              "                                                    [key], {});\n",
              "        if (!dataTable) return;\n",
              "\n",
              "        const docLinkHtml = 'Like what you see? Visit the ' +\n",
              "          '<a target=\"_blank\" href=https://colab.research.google.com/notebooks/data_table.ipynb>data table notebook</a>'\n",
              "          + ' to learn more about interactive tables.';\n",
              "        element.innerHTML = '';\n",
              "        dataTable['output_type'] = 'display_data';\n",
              "        await google.colab.output.renderOutput(dataTable, element);\n",
              "        const docLink = document.createElement('div');\n",
              "        docLink.innerHTML = docLinkHtml;\n",
              "        element.appendChild(docLink);\n",
              "      }\n",
              "    </script>\n",
              "  </div>\n",
              "\n",
              "\n",
              "<div id=\"df-b50ade3f-239b-4497-ae86-5ac7824bd941\">\n",
              "  <button class=\"colab-df-quickchart\" onclick=\"quickchart('df-b50ade3f-239b-4497-ae86-5ac7824bd941')\"\n",
              "            title=\"Suggest charts\"\n",
              "            style=\"display:none;\">\n",
              "\n",
              "<svg xmlns=\"http://www.w3.org/2000/svg\" height=\"24px\"viewBox=\"0 0 24 24\"\n",
              "     width=\"24px\">\n",
              "    <g>\n",
              "        <path d=\"M19 3H5c-1.1 0-2 .9-2 2v14c0 1.1.9 2 2 2h14c1.1 0 2-.9 2-2V5c0-1.1-.9-2-2-2zM9 17H7v-7h2v7zm4 0h-2V7h2v10zm4 0h-2v-4h2v4z\"/>\n",
              "    </g>\n",
              "</svg>\n",
              "  </button>\n",
              "\n",
              "<style>\n",
              "  .colab-df-quickchart {\n",
              "      --bg-color: #E8F0FE;\n",
              "      --fill-color: #1967D2;\n",
              "      --hover-bg-color: #E2EBFA;\n",
              "      --hover-fill-color: #174EA6;\n",
              "      --disabled-fill-color: #AAA;\n",
              "      --disabled-bg-color: #DDD;\n",
              "  }\n",
              "\n",
              "  [theme=dark] .colab-df-quickchart {\n",
              "      --bg-color: #3B4455;\n",
              "      --fill-color: #D2E3FC;\n",
              "      --hover-bg-color: #434B5C;\n",
              "      --hover-fill-color: #FFFFFF;\n",
              "      --disabled-bg-color: #3B4455;\n",
              "      --disabled-fill-color: #666;\n",
              "  }\n",
              "\n",
              "  .colab-df-quickchart {\n",
              "    background-color: var(--bg-color);\n",
              "    border: none;\n",
              "    border-radius: 50%;\n",
              "    cursor: pointer;\n",
              "    display: none;\n",
              "    fill: var(--fill-color);\n",
              "    height: 32px;\n",
              "    padding: 0;\n",
              "    width: 32px;\n",
              "  }\n",
              "\n",
              "  .colab-df-quickchart:hover {\n",
              "    background-color: var(--hover-bg-color);\n",
              "    box-shadow: 0 1px 2px rgba(60, 64, 67, 0.3), 0 1px 3px 1px rgba(60, 64, 67, 0.15);\n",
              "    fill: var(--button-hover-fill-color);\n",
              "  }\n",
              "\n",
              "  .colab-df-quickchart-complete:disabled,\n",
              "  .colab-df-quickchart-complete:disabled:hover {\n",
              "    background-color: var(--disabled-bg-color);\n",
              "    fill: var(--disabled-fill-color);\n",
              "    box-shadow: none;\n",
              "  }\n",
              "\n",
              "  .colab-df-spinner {\n",
              "    border: 2px solid var(--fill-color);\n",
              "    border-color: transparent;\n",
              "    border-bottom-color: var(--fill-color);\n",
              "    animation:\n",
              "      spin 1s steps(1) infinite;\n",
              "  }\n",
              "\n",
              "  @keyframes spin {\n",
              "    0% {\n",
              "      border-color: transparent;\n",
              "      border-bottom-color: var(--fill-color);\n",
              "      border-left-color: var(--fill-color);\n",
              "    }\n",
              "    20% {\n",
              "      border-color: transparent;\n",
              "      border-left-color: var(--fill-color);\n",
              "      border-top-color: var(--fill-color);\n",
              "    }\n",
              "    30% {\n",
              "      border-color: transparent;\n",
              "      border-left-color: var(--fill-color);\n",
              "      border-top-color: var(--fill-color);\n",
              "      border-right-color: var(--fill-color);\n",
              "    }\n",
              "    40% {\n",
              "      border-color: transparent;\n",
              "      border-right-color: var(--fill-color);\n",
              "      border-top-color: var(--fill-color);\n",
              "    }\n",
              "    60% {\n",
              "      border-color: transparent;\n",
              "      border-right-color: var(--fill-color);\n",
              "    }\n",
              "    80% {\n",
              "      border-color: transparent;\n",
              "      border-right-color: var(--fill-color);\n",
              "      border-bottom-color: var(--fill-color);\n",
              "    }\n",
              "    90% {\n",
              "      border-color: transparent;\n",
              "      border-bottom-color: var(--fill-color);\n",
              "    }\n",
              "  }\n",
              "</style>\n",
              "\n",
              "  <script>\n",
              "    async function quickchart(key) {\n",
              "      const quickchartButtonEl =\n",
              "        document.querySelector('#' + key + ' button');\n",
              "      quickchartButtonEl.disabled = true;  // To prevent multiple clicks.\n",
              "      quickchartButtonEl.classList.add('colab-df-spinner');\n",
              "      try {\n",
              "        const charts = await google.colab.kernel.invokeFunction(\n",
              "            'suggestCharts', [key], {});\n",
              "      } catch (error) {\n",
              "        console.error('Error during call to suggestCharts:', error);\n",
              "      }\n",
              "      quickchartButtonEl.classList.remove('colab-df-spinner');\n",
              "      quickchartButtonEl.classList.add('colab-df-quickchart-complete');\n",
              "    }\n",
              "    (() => {\n",
              "      let quickchartButtonEl =\n",
              "        document.querySelector('#df-b50ade3f-239b-4497-ae86-5ac7824bd941 button');\n",
              "      quickchartButtonEl.style.display =\n",
              "        google.colab.kernel.accessAllowed ? 'block' : 'none';\n",
              "    })();\n",
              "  </script>\n",
              "</div>\n",
              "\n",
              "  <div id=\"id_90aa2b14-7c6c-4bd5-91b1-d4b72f130d1c\">\n",
              "    <style>\n",
              "      .colab-df-generate {\n",
              "        background-color: #E8F0FE;\n",
              "        border: none;\n",
              "        border-radius: 50%;\n",
              "        cursor: pointer;\n",
              "        display: none;\n",
              "        fill: #1967D2;\n",
              "        height: 32px;\n",
              "        padding: 0 0 0 0;\n",
              "        width: 32px;\n",
              "      }\n",
              "\n",
              "      .colab-df-generate:hover {\n",
              "        background-color: #E2EBFA;\n",
              "        box-shadow: 0px 1px 2px rgba(60, 64, 67, 0.3), 0px 1px 3px 1px rgba(60, 64, 67, 0.15);\n",
              "        fill: #174EA6;\n",
              "      }\n",
              "\n",
              "      [theme=dark] .colab-df-generate {\n",
              "        background-color: #3B4455;\n",
              "        fill: #D2E3FC;\n",
              "      }\n",
              "\n",
              "      [theme=dark] .colab-df-generate:hover {\n",
              "        background-color: #434B5C;\n",
              "        box-shadow: 0px 1px 3px 1px rgba(0, 0, 0, 0.15);\n",
              "        filter: drop-shadow(0px 1px 2px rgba(0, 0, 0, 0.3));\n",
              "        fill: #FFFFFF;\n",
              "      }\n",
              "    </style>\n",
              "    <button class=\"colab-df-generate\" onclick=\"generateWithVariable('anomaly_df')\"\n",
              "            title=\"Generate code using this dataframe.\"\n",
              "            style=\"display:none;\">\n",
              "\n",
              "  <svg xmlns=\"http://www.w3.org/2000/svg\" height=\"24px\"viewBox=\"0 0 24 24\"\n",
              "       width=\"24px\">\n",
              "    <path d=\"M7,19H8.4L18.45,9,17,7.55,7,17.6ZM5,21V16.75L18.45,3.32a2,2,0,0,1,2.83,0l1.4,1.43a1.91,1.91,0,0,1,.58,1.4,1.91,1.91,0,0,1-.58,1.4L9.25,21ZM18.45,9,17,7.55Zm-12,3A5.31,5.31,0,0,0,4.9,8.1,5.31,5.31,0,0,0,1,6.5,5.31,5.31,0,0,0,4.9,4.9,5.31,5.31,0,0,0,6.5,1,5.31,5.31,0,0,0,8.1,4.9,5.31,5.31,0,0,0,12,6.5,5.46,5.46,0,0,0,6.5,12Z\"/>\n",
              "  </svg>\n",
              "    </button>\n",
              "    <script>\n",
              "      (() => {\n",
              "      const buttonEl =\n",
              "        document.querySelector('#id_90aa2b14-7c6c-4bd5-91b1-d4b72f130d1c button.colab-df-generate');\n",
              "      buttonEl.style.display =\n",
              "        google.colab.kernel.accessAllowed ? 'block' : 'none';\n",
              "\n",
              "      buttonEl.onclick = () => {\n",
              "        google.colab.notebook.generateWithVariable('anomaly_df');\n",
              "      }\n",
              "      })();\n",
              "    </script>\n",
              "  </div>\n",
              "\n",
              "    </div>\n",
              "  </div>\n"
            ],
            "application/vnd.google.colaboratory.intrinsic+json": {
              "type": "dataframe",
              "variable_name": "anomaly_df",
              "summary": "{\n  \"name\": \"anomaly_df\",\n  \"rows\": 43,\n  \"fields\": [\n    {\n      \"column\": \"Subject\",\n      \"properties\": {\n        \"dtype\": \"number\",\n        \"std\": 16,\n        \"min\": 1,\n        \"max\": 56,\n        \"num_unique_values\": 43,\n        \"samples\": [\n          51,\n          36,\n          37\n        ],\n        \"semantic_type\": \"\",\n        \"description\": \"\"\n      }\n    },\n    {\n      \"column\": \"True_Label\",\n      \"properties\": {\n        \"dtype\": \"number\",\n        \"std\": 0.684425699551076,\n        \"min\": 0.0,\n        \"max\": 2.0,\n        \"num_unique_values\": 3,\n        \"samples\": [\n          1.0,\n          0.0,\n          2.0\n        ],\n        \"semantic_type\": \"\",\n        \"description\": \"\"\n      }\n    },\n    {\n      \"column\": \"Reconstruction_Error\",\n      \"properties\": {\n        \"dtype\": \"number\",\n        \"std\": 0.002406742127392306,\n        \"min\": 0.015761202201247215,\n        \"max\": 0.026833130046725273,\n        \"num_unique_values\": 43,\n        \"samples\": [\n          0.019024528563022614,\n          0.02480260096490383,\n          0.015761202201247215\n        ],\n        \"semantic_type\": \"\",\n        \"description\": \"\"\n      }\n    }\n  ]\n}"
            }
          },
          "metadata": {},
          "execution_count": 161
        }
      ]
    },
    {
      "cell_type": "code",
      "source": [
        "anomaly_df['True_Label'].value_counts()"
      ],
      "metadata": {
        "colab": {
          "base_uri": "https://localhost:8080/",
          "height": 209
        },
        "id": "xO2d-Xfn5OOS",
        "outputId": "61c98aca-ce96-42a4-e2b7-bbb0f3ae4bdb"
      },
      "execution_count": 162,
      "outputs": [
        {
          "output_type": "execute_result",
          "data": {
            "text/plain": [
              "True_Label\n",
              "1.0    21\n",
              "2.0    16\n",
              "0.0     6\n",
              "Name: count, dtype: int64"
            ],
            "text/html": [
              "<div>\n",
              "<style scoped>\n",
              "    .dataframe tbody tr th:only-of-type {\n",
              "        vertical-align: middle;\n",
              "    }\n",
              "\n",
              "    .dataframe tbody tr th {\n",
              "        vertical-align: top;\n",
              "    }\n",
              "\n",
              "    .dataframe thead th {\n",
              "        text-align: right;\n",
              "    }\n",
              "</style>\n",
              "<table border=\"1\" class=\"dataframe\">\n",
              "  <thead>\n",
              "    <tr style=\"text-align: right;\">\n",
              "      <th></th>\n",
              "      <th>count</th>\n",
              "    </tr>\n",
              "    <tr>\n",
              "      <th>True_Label</th>\n",
              "      <th></th>\n",
              "    </tr>\n",
              "  </thead>\n",
              "  <tbody>\n",
              "    <tr>\n",
              "      <th>1.0</th>\n",
              "      <td>21</td>\n",
              "    </tr>\n",
              "    <tr>\n",
              "      <th>2.0</th>\n",
              "      <td>16</td>\n",
              "    </tr>\n",
              "    <tr>\n",
              "      <th>0.0</th>\n",
              "      <td>6</td>\n",
              "    </tr>\n",
              "  </tbody>\n",
              "</table>\n",
              "</div><br><label><b>dtype:</b> int64</label>"
            ]
          },
          "metadata": {},
          "execution_count": 162
        }
      ]
    },
    {
      "cell_type": "code",
      "source": [
        "# 레이블별 최소값과 최대값 계산\n",
        "group_stats = anomaly_df.groupby(\"True_Label\")[\"Reconstruction_Error\"].agg([\"min\", \"max\"]).reset_index()\n",
        "\n",
        "# 출력\n",
        "print(\"Reconstruction_Error - Min/Max by True Label\")\n",
        "for _, row in group_stats.iterrows():\n",
        "    label = row[\"True_Label\"]\n",
        "    min_val = row[\"min\"]\n",
        "    max_val = row[\"max\"]\n",
        "    print(f\"Label {label}: min = {min_val:.4f}, max = {max_val:.4f}\")"
      ],
      "metadata": {
        "colab": {
          "base_uri": "https://localhost:8080/"
        },
        "id": "8Lwo5jcP5OWE",
        "outputId": "9ed12631-314e-441a-c18b-9533330b6112"
      },
      "execution_count": 163,
      "outputs": [
        {
          "output_type": "stream",
          "name": "stdout",
          "text": [
            "Reconstruction_Error - Min/Max by True Label\n",
            "Label 0.0: min = 0.0190, max = 0.0237\n",
            "Label 1.0: min = 0.0158, max = 0.0268\n",
            "Label 2.0: min = 0.0177, max = 0.0259\n"
          ]
        }
      ]
    },
    {
      "cell_type": "code",
      "source": [
        "import seaborn as sns\n",
        "import matplotlib.pyplot as plt\n",
        "import matplotlib.pyplot as plt\n",
        "from matplotlib import rcParams\n",
        "\n",
        "# 기본 폰트를 'DejaVu Sans'로 변경\n",
        "rcParams['font.family'] = 'DejaVu Sans'\n",
        "\n",
        "plt.figure(figsize=(10, 6))\n",
        "\n",
        "# True_Label 별로 Reconstruction_Error의 범위를 박스플롯으로 시각화\n",
        "sns.boxplot(x='True_Label', y='Reconstruction_Error', data=anomaly_df)\n",
        "\n",
        "plt.title('Reconstruction Error Distribution by True Label')\n",
        "plt.xlabel('True Label')\n",
        "plt.ylabel('Reconstruction Error')\n",
        "plt.tight_layout()\n",
        "\n",
        "plt.show()\n"
      ],
      "metadata": {
        "colab": {
          "base_uri": "https://localhost:8080/",
          "height": 607
        },
        "id": "JZnlHPGr_uLY",
        "outputId": "ab6a9bbe-3997-49a6-a382-f61f503342ef"
      },
      "execution_count": 164,
      "outputs": [
        {
          "output_type": "display_data",
          "data": {
            "text/plain": [
              "<Figure size 1000x600 with 1 Axes>"
            ],
            "image/png": "[encoded data removed]"
          },
          "metadata": {}
        }
      ]
    },
    {
      "cell_type": "code",
      "source": [
        "threshold = 0.022"
      ],
      "metadata": {
        "id": "AHDuV9bj_zag"
      },
      "execution_count": 186,
      "outputs": []
    },
    {
      "cell_type": "code",
      "source": [
        "anomaly_df.columns"
      ],
      "metadata": {
        "colab": {
          "base_uri": "https://localhost:8080/"
        },
        "id": "rb2Ufw-DLiS9",
        "outputId": "254153c5-b5e5-4c80-aac4-e40056113cee"
      },
      "execution_count": 187,
      "outputs": [
        {
          "output_type": "execute_result",
          "data": {
            "text/plain": [
              "Index(['Subject', 'True_Label', 'Reconstruction_Error', 'Binary_Label'], dtype='object')"
            ]
          },
          "metadata": {},
          "execution_count": 187
        }
      ]
    },
    {
      "cell_type": "code",
      "source": [
        "import matplotlib.pyplot as plt\n",
        "import pandas as pd\n",
        "import numpy as np\n",
        "\n",
        "# True_Label이 0.0이면 Normal, 나머지 Hypertension으로 라벨링\n",
        "anomaly_df['Binary_Label'] = anomaly_df['True_Label'].apply(lambda x: 0 if x == 0.0 else 1)\n",
        "\n",
        "# 이분화된 레이블 기준으로 그룹화\n",
        "groups = anomaly_df.groupby('Binary_Label')\n",
        "\n",
        "# 시각화\n",
        "fig, ax = plt.subplots(figsize=(12, 8))  # 박스를 더 크게 설정\n",
        "\n",
        "for name, group in groups:\n",
        "    label = \"Normal\" if name == 0 else \"Hypertension\"  # name == 0이면 Normal, 나머지는 Hypertension\n",
        "    # Normal은 파란색 큰 원, Hypertension은 빨간색 큰 원\n",
        "    color = 'blue' if name == 0 else 'red'\n",
        "    ax.plot(group.index, group.Reconstruction_Error, marker='o', ms=8, linestyle='', color=color, label=label)\n",
        "\n",
        "# threshold 값 위와 아래의 subject 번호 표시\n",
        "above_threshold = anomaly_df[anomaly_df['Reconstruction_Error'] > threshold]\n",
        "below_threshold = anomaly_df[anomaly_df['Reconstruction_Error'] <= threshold]\n",
        "\n",
        "# threshold 위의 subject 번호 표시 (번호 제외)\n",
        "for i, row in above_threshold.iterrows():\n",
        "    ax.text(i, row.Reconstruction_Error + 0.002, '', fontsize=10, fontweight='bold', rotation=45, ha='center', color='black')\n",
        "\n",
        "# threshold 아래의 subject 번호 표시 (번호 제외)\n",
        "for i, row in below_threshold.iterrows():\n",
        "    ax.text(i, row.Reconstruction_Error - 0.002, '', fontsize=10, fontweight='bold', rotation=45, ha='center', color='black')\n",
        "\n",
        "# threshold 선 추가\n",
        "ax.hlines(threshold, ax.get_xlim()[0], ax.get_xlim()[1], colors=\"r\", zorder=100, label='Threshold')\n",
        "\n",
        "# 범례 및 라벨\n",
        "ax.legend()\n",
        "plt.title(\"Reconstruction error: Normal vs Hypertension\")\n",
        "plt.ylabel(\"Reconstruction error\")\n",
        "plt.xlabel(\"Data point index\")\n",
        "plt.tight_layout()\n",
        "plt.show()\n",
        "\n",
        "\n"
      ],
      "metadata": {
        "colab": {
          "base_uri": "https://localhost:8080/",
          "height": 807
        },
        "id": "DPHae6vgA0Qu",
        "outputId": "98d90c3d-b8f0-4011-fe6e-06ff2f77b8a9"
      },
      "execution_count": 194,
      "outputs": [
        {
          "output_type": "display_data",
          "data": {
            "text/plain": [
              "<Figure size 1200x800 with 1 Axes>"
            ],
            "image/png": "[encoded data removed]"
          },
          "metadata": {}
        }
      ]
    },
    {
      "cell_type": "code",
      "source": [
        "# threshold 값 위와 아래의 subject 번호 출력\n",
        "above_threshold_normal = anomaly_df[(anomaly_df['Reconstruction_Error'] > threshold) & (anomaly_df['Binary_Label'] == 0)]\n",
        "below_threshold_normal = anomaly_df[(anomaly_df['Reconstruction_Error'] <= threshold) & (anomaly_df['Binary_Label'] == 0)]\n",
        "\n",
        "above_threshold_hypertension = anomaly_df[(anomaly_df['Reconstruction_Error'] > threshold) & (anomaly_df['Binary_Label'] == 1)]\n",
        "below_threshold_hypertension = anomaly_df[(anomaly_df['Reconstruction_Error'] <= threshold) & (anomaly_df['Binary_Label'] == 1)]\n",
        "\n",
        "# 출력\n",
        "print(\"Normal subjects above threshold:\")\n",
        "print(above_threshold_normal['Subject'].values)\n",
        "\n",
        "print(\"Normal subjects below threshold:\")\n",
        "print(below_threshold_normal['Subject'].values)\n",
        "\n",
        "print(\"Hypertension subjects above threshold:\")\n",
        "print(above_threshold_hypertension['Subject'].values)\n",
        "\n",
        "print(\"Hypertension subjects below threshold:\")\n",
        "print(below_threshold_hypertension['Subject'].values)\n",
        "\n"
      ],
      "metadata": {
        "colab": {
          "base_uri": "https://localhost:8080/"
        },
        "id": "FKFFkPrFNxvJ",
        "outputId": "ae93b988-726e-4fda-891c-538c020457c0"
      },
      "execution_count": 197,
      "outputs": [
        {
          "output_type": "stream",
          "name": "stdout",
          "text": [
            "Normal subjects above threshold:\n",
            "[ 5  6 50]\n",
            "Normal subjects below threshold:\n",
            "[48 49 51]\n",
            "Hypertension subjects above threshold:\n",
            "[ 1  3  4  7  8 13 16 17 18 20 21 26 27 29 31 32 33 34 35 36 38 41 46 52\n",
            " 53 55]\n",
            "Hypertension subjects below threshold:\n",
            "[ 9 14 23 37 39 42 43 44 45 54 56]\n"
          ]
        }
      ]
    },
    {
      "cell_type": "code",
      "source": [
        "# Normal과 Hypertension에 해당하는 subject 번호 나열\n",
        "normal_subjects = anomaly_df[anomaly_df['Binary_Label'] == 0]['Subject'].values\n",
        "hypertension_subjects = anomaly_df[anomaly_df['Binary_Label'] == 1]['Subject'].values\n",
        "\n",
        "# 출력\n",
        "print(\"Normal subjects:\")\n",
        "print(normal_subjects)\n",
        "\n",
        "print(\"Hypertension subjects:\")\n",
        "print(hypertension_subjects)\n"
      ],
      "metadata": {
        "colab": {
          "base_uri": "https://localhost:8080/"
        },
        "id": "g2cfygxKPATe",
        "outputId": "30e7b4d4-da5e-4d07-b1a6-a6ec5263b2ef"
      },
      "execution_count": 198,
      "outputs": [
        {
          "output_type": "stream",
          "name": "stdout",
          "text": [
            "Normal subjects:\n",
            "[ 5  6 48 49 50 51]\n",
            "Hypertension subjects:\n",
            "[ 1  3  4  7  8  9 13 14 16 17 18 20 21 23 26 27 29 31 32 33 34 35 36 37\n",
            " 38 39 41 42 43 44 45 46 52 53 54 55 56]\n"
          ]
        }
      ]
    },
    {
      "cell_type": "code",
      "source": [
        "import numpy as np\n",
        "import matplotlib.pyplot as plt\n",
        "import seaborn as sns\n",
        "from sklearn.metrics import confusion_matrix, accuracy_score, precision_score, recall_score, f1_score\n",
        "\n",
        "# 1. True_Label을 이진화: 0.0 → 0 (\"Normal\"), 그 외 → 1 (\"Hypertension\")\n",
        "anomaly_df['Binary_Label'] = anomaly_df['True_Label'].apply(lambda x: 0 if x == 0.0 else 1)\n",
        "\n",
        "# 2. 예측값: 임계값 초과 시 비정상(1), 이하이면 정상(0)\n",
        "y_true = anomaly_df['Binary_Label'].values\n",
        "y_pred = [1 if e > threshold else 0 for e in anomaly_df['Reconstruction_Error'].values]\n",
        "\n",
        "# 3. 혼동 행렬\n",
        "LABELS = [\"Normal\", \"Hypertension\"]\n",
        "conf_matrix = confusion_matrix(y_true, y_pred)\n",
        "\n",
        "# 4. 시각화\n",
        "plt.figure(figsize=(6, 6))\n",
        "sns.heatmap(conf_matrix, annot=True, fmt=\"d\", xticklabels=LABELS, yticklabels=LABELS, cmap=\"Blues\")\n",
        "plt.title(\"Confusion Matrix (Binary Classification)\")\n",
        "plt.ylabel(\"True Class\")\n",
        "plt.xlabel(\"Predicted Class\")\n",
        "plt.tight_layout()\n",
        "plt.show()\n",
        "\n",
        "# 5. 평가 지표 계산\n",
        "accuracy = accuracy_score(y_true, y_pred)\n",
        "precision = precision_score(y_true, y_pred)\n",
        "recall = recall_score(y_true, y_pred)\n",
        "f1 = f1_score(y_true, y_pred)\n",
        "\n",
        "# 6. 평가 지표 출력\n",
        "print(f\"Accuracy: {accuracy:.4f}\")\n",
        "print(f\"Precision: {precision:.4f}\")\n",
        "print(f\"Recall: {recall:.4f}\")\n",
        "print(f\"F1 Score: {f1:.4f}\")\n",
        "\n"
      ],
      "metadata": {
        "colab": {
          "base_uri": "https://localhost:8080/",
          "height": 680
        },
        "id": "ZQxmpNwJA0b9",
        "outputId": "35ad63bc-a1db-4a19-d39e-3def113b0921"
      },
      "execution_count": 199,
      "outputs": [
        {
          "output_type": "display_data",
          "data": {
            "text/plain": [
              "<Figure size 600x600 with 2 Axes>"
            ],
            "image/png": "[encoded data removed]"
          },
          "metadata": {}
        },
        {
          "output_type": "stream",
          "name": "stdout",
          "text": [
            "Accuracy: 0.6744\n",
            "Precision: 0.8966\n",
            "Recall: 0.7027\n",
            "F1 Score: 0.7879\n"
          ]
        }
      ]
    },
    {
      "cell_type": "code",
      "source": [],
      "metadata": {
        "id": "VREyCMxJA0fq"
      },
      "execution_count": null,
      "outputs": []
    }
  ]
}