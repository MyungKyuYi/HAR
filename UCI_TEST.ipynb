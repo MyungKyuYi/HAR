{
 "cells": [
  {
   "cell_type": "code",
   "execution_count": 1,
   "id": "c4644f6d",
   "metadata": {},
   "outputs": [],
   "source": [
    "import tensorflow as tf\n",
    "from tensorflow import keras\n",
    "from tensorflow.keras import layers\n",
    "\n",
    "# cnn model vary kernel size\n",
    "from numpy import mean\n",
    "from numpy import std\n",
    "from numpy import dstack\n",
    "from pandas import read_csv\n",
    "from matplotlib import pyplot\n",
    "\n",
    "from tensorflow.keras.utils import to_categorical\n",
    "import tensorflow.keras\n",
    "\n",
    "from tensorflow.keras.models import Sequential\n",
    "from tensorflow.keras.layers import Conv1D, Dense, Dropout, Flatten, Reshape, LSTM, Conv1D, MaxPooling1D, Bidirectional, ConvLSTM1D\n",
    "from tensorflow.keras.layers import Input, TimeDistributed, Conv1D, MaxPooling1D, BatchNormalization, GlobalAveragePooling1D, Activation\n",
    "from keras.utils import np_utils"
   ]
  },
  {
   "cell_type": "code",
   "execution_count": 2,
   "id": "85c72753",
   "metadata": {},
   "outputs": [],
   "source": [
    "from typing import Any, Dict, List, Tuple\n",
    "import matplotlib.pyplot as plt\n",
    "import seaborn as sns"
   ]
  },
  {
   "cell_type": "code",
   "execution_count": 3,
   "id": "0b31acc0",
   "metadata": {},
   "outputs": [],
   "source": [
    "import numpy as np\n",
    "import pandas as pd\n",
    "from tensorflow.keras.utils import to_categorical\n",
    "import matplotlib.pyplot as plt\n",
    "import seaborn as sns\n",
    "\n",
    "\n",
    "def load_file(filepath):\n",
    "    dataframe = pd.read_csv(filepath, header=None, delim_whitespace=True)\n",
    "    return dataframe.values\n",
    "\n",
    "\n",
    "\n",
    "# load a list of files and return as a 3d numpy array\n",
    "def load_group(filenames, prefix=''):\n",
    "    loaded = list()\n",
    "    for name in filenames:\n",
    "        data = load_file(prefix + name)\n",
    "        loaded.append(data)\n",
    "    # stack group so that features are the 3rd dimension\n",
    "    loaded = np.dstack(loaded)\n",
    "    return loaded\n",
    "\n",
    "# load a dataset group, such as train or test\n",
    "def load_dataset_group(group, prefix=''):\n",
    "    filepath = prefix + group + '/Inertial Signals/'\n",
    "    # load all 9 files as a single array\n",
    "    filenames = list()\n",
    "    # total acceleration\n",
    "    filenames += ['total_acc_x_'+group+'.txt', 'total_acc_y_'+group+'.txt', 'total_acc_z_'+group+'.txt']\n",
    "    # body acceleration\n",
    "    filenames += ['body_acc_x_'+group+'.txt', 'body_acc_y_'+group+'.txt', 'body_acc_z_'+group+'.txt']\n",
    "    # body gyroscope\n",
    "    filenames += ['body_gyro_x_'+group+'.txt', 'body_gyro_y_'+group+'.txt', 'body_gyro_z_'+group+'.txt']\n",
    "    # load input data\n",
    "    X = load_group(filenames, filepath)\n",
    "    # load class output\n",
    "    y = load_file(prefix + group + '/y_'+group+'.txt')\n",
    "    return X, y\n",
    "\n",
    "\n",
    "# load the dataset, returns train and test X and y elements\n",
    "def load_dataset(prefix=''):\n",
    "    # load all train\n",
    "    trainX, trainy = load_dataset_group('train', prefix + 'D:/HAR/UCI-HAR/')\n",
    "    # load all test\n",
    "    testX, testy = load_dataset_group('test', prefix + 'D:/HAR/UCI-HAR/')\n",
    "    \n",
    "    #zero-offset class values\n",
    "    trainy = trainy - 1\n",
    "    testy = testy - 1\n",
    "    #one hot encode y\n",
    "    trainy_one_hot = to_categorical(trainy)\n",
    "    testy_one_hot = to_categorical(testy)\n",
    "    print(trainX.shape, trainy.shape, trainy_one_hot.shape, testX.shape, testy.shape, testy_one_hot.shape)\n",
    "    return trainX, trainy, trainy_one_hot, testX, testy, testy_one_hot"
   ]
  },
  {
   "cell_type": "code",
   "execution_count": 4,
   "id": "a1b9d398",
   "metadata": {},
   "outputs": [
    {
     "name": "stdout",
     "output_type": "stream",
     "text": [
      "(7352, 128, 9) (7352, 1) (7352, 6) (2947, 128, 9) (2947, 1) (2947, 6)\n"
     ]
    }
   ],
   "source": [
    "trainX, trainy, trainy_one_hot, testX, testy, testy_one_hot = load_dataset()"
   ]
  },
  {
   "cell_type": "code",
   "execution_count": 5,
   "id": "86bd7d6e",
   "metadata": {},
   "outputs": [
    {
     "name": "stdout",
     "output_type": "stream",
     "text": [
      "X train shape:  (7352, 128, 9)\n",
      "Y train shape:  (7352, 1)\n",
      "Y train One hot shape:  (7352, 6)\n",
      "X test shape:  (2947, 128, 9)\n",
      "Y test shape:  (2947, 1)\n",
      "Y test One hot shape:  (2947, 6)\n"
     ]
    }
   ],
   "source": [
    "print(\"X train shape: \", trainX.shape)\n",
    "print(\"Y train shape: \", trainy.shape)\n",
    "print(\"Y train One hot shape: \", trainy_one_hot.shape)\n",
    "print(\"X test shape: \", testX.shape)\n",
    "print(\"Y test shape: \", testy.shape)\n",
    "print(\"Y test One hot shape: \", testy_one_hot.shape)"
   ]
  },
  {
   "cell_type": "code",
   "execution_count": 7,
   "id": "b4c66643",
   "metadata": {},
   "outputs": [
    {
     "data": {
      "text/plain": [
       "array([[[ 1.012817e+00, -1.232167e-01,  1.029341e-01, ...,\n",
       "          3.019122e-02,  6.601362e-02,  2.285864e-02],\n",
       "        [ 1.022833e+00, -1.268756e-01,  1.056872e-01, ...,\n",
       "          4.371071e-02,  4.269897e-02,  1.031572e-02],\n",
       "        [ 1.022028e+00, -1.240037e-01,  1.021025e-01, ...,\n",
       "          3.568780e-02,  7.485018e-02,  1.324969e-02],\n",
       "        ...,\n",
       "        [ 1.018445e+00, -1.240696e-01,  1.003852e-01, ...,\n",
       "          3.985177e-02,  1.909445e-03, -2.170124e-03],\n",
       "        [ 1.019372e+00, -1.227451e-01,  9.987355e-02, ...,\n",
       "          3.744932e-02, -7.982483e-05, -5.642633e-03],\n",
       "        [ 1.021171e+00, -1.213260e-01,  9.498741e-02, ...,\n",
       "          2.881781e-02, -3.771800e-05, -1.446006e-03]],\n",
       "\n",
       "       [[ 1.018851e+00, -1.239760e-01,  9.792958e-02, ...,\n",
       "          1.711106e-02,  6.122797e-03,  1.226815e-02],\n",
       "        [ 1.022380e+00, -1.268078e-01,  9.935086e-02, ...,\n",
       "          2.417851e-02,  9.710357e-03,  1.614958e-02],\n",
       "        [ 1.020781e+00, -1.277862e-01,  9.811381e-02, ...,\n",
       "          3.022889e-02,  1.032192e-02,  1.589471e-02],\n",
       "        ...,\n",
       "        [ 1.014788e+00, -1.290268e-01,  9.353520e-02, ...,\n",
       "         -3.474078e-02, -8.694754e-03,  5.044730e-03],\n",
       "        [ 1.016499e+00, -1.264244e-01,  8.903516e-02, ...,\n",
       "         -3.797305e-02, -1.165249e-02, -4.424329e-03],\n",
       "        [ 1.017849e+00, -1.305193e-01,  9.061235e-02, ...,\n",
       "         -3.864973e-02, -9.440197e-03, -2.797817e-03]],\n",
       "\n",
       "       [[ 1.023127e+00, -1.200157e-01,  9.111667e-02, ...,\n",
       "          2.618877e-02, -2.383410e-04,  2.158897e-03],\n",
       "        [ 1.021882e+00, -1.214994e-01,  9.267560e-02, ...,\n",
       "          2.165149e-02, -4.275982e-04, -2.724752e-04],\n",
       "        [ 1.019178e+00, -1.228407e-01,  9.606378e-02, ...,\n",
       "          1.455062e-02,  7.611350e-04,  2.630986e-03],\n",
       "        ...,\n",
       "        [ 1.021041e+00, -1.308757e-01,  8.301135e-02, ...,\n",
       "         -2.090983e-02, -1.005391e-02, -5.566286e-03],\n",
       "        [ 1.022935e+00, -1.312099e-01,  8.233391e-02, ...,\n",
       "         -2.211369e-02, -9.717281e-03, -3.701625e-03],\n",
       "        [ 1.022019e+00, -1.301826e-01,  8.148748e-02, ...,\n",
       "         -2.023537e-02, -8.831462e-03, -2.644745e-03]],\n",
       "\n",
       "       ...,\n",
       "\n",
       "       [[ 7.548917e-01, -1.711829e-01,  1.745865e-01, ...,\n",
       "          1.183561e-01,  4.267019e-01,  3.008475e-01],\n",
       "        [ 8.043137e-01, -1.999375e-01,  2.324243e-01, ...,\n",
       "          1.378901e-01,  3.223201e-01,  3.511780e-01],\n",
       "        [ 8.317140e-01, -2.319457e-01,  2.576066e-01, ...,\n",
       "          1.774201e-01,  2.331586e-01,  2.723513e-01],\n",
       "        ...,\n",
       "        [ 6.956257e-01, -2.217656e-01,  1.112952e-01, ...,\n",
       "         -7.609545e-01,  6.840804e-01,  2.543444e-01],\n",
       "        [ 7.479103e-01, -2.811496e-01,  1.263023e-01, ...,\n",
       "         -6.779630e-01,  6.291636e-01,  2.814308e-01],\n",
       "        [ 7.767680e-01, -3.275988e-01,  1.886212e-01, ...,\n",
       "         -6.275012e-01,  4.812542e-01,  2.542062e-01]],\n",
       "\n",
       "       [[ 9.279268e-01, -2.238010e-01,  2.628140e-01, ...,\n",
       "         -3.788723e-01,  1.642781e-01,  2.175042e-01],\n",
       "        [ 9.129872e-01, -2.210407e-01,  2.954154e-01, ...,\n",
       "         -3.738884e-01,  6.393670e-02,  1.584971e-01],\n",
       "        [ 9.246597e-01, -1.839923e-01,  3.376098e-01, ...,\n",
       "         -3.301252e-01, -9.430612e-02,  1.868787e-01],\n",
       "        ...,\n",
       "        [ 6.753473e-01, -1.620087e-01,  1.289247e-01, ...,\n",
       "         -4.254607e-01,  6.504409e-01,  1.762117e-01],\n",
       "        [ 6.603377e-01, -2.020367e-01,  1.722512e-01, ...,\n",
       "         -4.755471e-01,  4.097342e-01,  1.635609e-01],\n",
       "        [ 7.193530e-01, -2.291273e-01,  2.100712e-01, ...,\n",
       "         -4.129589e-01,  1.998230e-01,  1.887340e-01]],\n",
       "\n",
       "       [[ 7.980909e-01, -3.060512e-01,  2.093865e-01, ...,\n",
       "         -4.767788e-01,  2.889329e-01,  2.277976e-01],\n",
       "        [ 8.192417e-01, -2.666046e-01,  2.310711e-01, ...,\n",
       "         -2.679120e-01,  1.712000e-01,  1.034757e-01],\n",
       "        [ 8.658821e-01, -2.053607e-01,  3.341906e-01, ...,\n",
       "         -1.905664e-01,  1.424723e-01, -7.565458e-02],\n",
       "        ...,\n",
       "        [ 8.980947e-01, -3.977751e-01, -1.561050e-01, ...,\n",
       "          1.004855e+00,  1.156645e+00, -3.625121e-01],\n",
       "        [ 8.283723e-01, -3.492473e-01, -1.227979e-01, ...,\n",
       "          1.015589e+00,  1.100750e+00, -3.839895e-01],\n",
       "        [ 8.002428e-01, -3.323721e-01, -8.357159e-02, ...,\n",
       "          1.047599e+00,  1.011324e+00, -3.358840e-01]]])"
      ]
     },
     "execution_count": 7,
     "metadata": {},
     "output_type": "execute_result"
    }
   ],
   "source": [
    "trainX"
   ]
  },
  {
   "cell_type": "code",
   "execution_count": 8,
   "id": "a38089b1",
   "metadata": {},
   "outputs": [],
   "source": [
    "def flatten(X):\n",
    "    flattened_X = np.empty((X.shape[0], X.shape[2]))  # sample x features array.\n",
    "    for i in range(X.shape[0]):\n",
    "        flattened_X[i] = X[i, (X.shape[1]-1), :]\n",
    "    return(flattened_X)"
   ]
  },
  {
   "cell_type": "code",
   "execution_count": 9,
   "id": "9c3b6457",
   "metadata": {},
   "outputs": [],
   "source": [
    "X_train = flatten(trainX)"
   ]
  },
  {
   "cell_type": "code",
   "execution_count": 11,
   "id": "d432478e",
   "metadata": {},
   "outputs": [
    {
     "data": {
      "text/plain": [
       "(7352, 9)"
      ]
     },
     "execution_count": 11,
     "metadata": {},
     "output_type": "execute_result"
    }
   ],
   "source": [
    "X_train.shape"
   ]
  }
 ],
 "metadata": {
  "kernelspec": {
   "display_name": "Python 3",
   "language": "python",
   "name": "python3"
  },
  "language_info": {
   "codemirror_mode": {
    "name": "ipython",
    "version": 3
   },
   "file_extension": ".py",
   "mimetype": "text/x-python",
   "name": "python",
   "nbconvert_exporter": "python",
   "pygments_lexer": "ipython3",
   "version": "3.8.8"
  }
 },
 "nbformat": 4,
 "nbformat_minor": 5
}
