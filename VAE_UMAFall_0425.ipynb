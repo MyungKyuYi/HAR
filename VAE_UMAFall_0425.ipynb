{
 "cells": [
  {
   "cell_type": "code",
   "execution_count": 1,
   "id": "07ec1a5c",
   "metadata": {},
   "outputs": [],
   "source": [
    "import pandas as pd\n",
    "import numpy as np\n",
    "import os\n",
    "import matplotlib.pyplot as plt\n",
    "import warnings"
   ]
  },
  {
   "cell_type": "code",
   "execution_count": 14,
   "id": "151942a0",
   "metadata": {},
   "outputs": [],
   "source": [
    "import numpy as np\n",
    "import pandas as pd\n",
    "import time\n",
    "import matplotlib.pyplot as plt\n",
    "import seaborn as sns\n",
    "\n",
    "import tensorflow as tf\n",
    "from tensorflow.keras.models import Sequential, Model\n",
    "from tensorflow.keras.layers import Dense, Input\n",
    "from tensorflow.keras.utils import plot_model\n",
    "from tensorflow.keras.callbacks import EarlyStopping, ModelCheckpoint\n",
    "\n",
    "from sklearn.model_selection import train_test_split \n",
    "from sklearn.linear_model import LogisticRegression\n",
    "from sklearn.metrics import confusion_matrix, roc_auc_score, roc_curve, \\\n",
    "                            precision_score, recall_score\n",
    "from sklearn.preprocessing import StandardScaler\n",
    "\n",
    "import tensorflow_probability as tfp\n",
    "tfd = tfp.distributions\n",
    "\n",
    "np.random.seed(0)\n",
    "tf.random.set_seed(0)"
   ]
  },
  {
   "cell_type": "code",
   "execution_count": 2,
   "id": "4f955e87",
   "metadata": {},
   "outputs": [],
   "source": [
    "df = pd.read_csv(\"F:/HAR/UMAFall/features_final.csv\", index_col = 0)"
   ]
  },
  {
   "cell_type": "code",
   "execution_count": 3,
   "id": "e94edf21",
   "metadata": {},
   "outputs": [
    {
     "data": {
      "text/html": [
       "<div>\n",
       "<style scoped>\n",
       "    .dataframe tbody tr th:only-of-type {\n",
       "        vertical-align: middle;\n",
       "    }\n",
       "\n",
       "    .dataframe tbody tr th {\n",
       "        vertical-align: top;\n",
       "    }\n",
       "\n",
       "    .dataframe thead th {\n",
       "        text-align: right;\n",
       "    }\n",
       "</style>\n",
       "<table border=\"1\" class=\"dataframe\">\n",
       "  <thead>\n",
       "    <tr style=\"text-align: right;\">\n",
       "      <th></th>\n",
       "      <th>TimeStamp</th>\n",
       "      <th>SampleNo</th>\n",
       "      <th>X-Axis</th>\n",
       "      <th>Y-Axis</th>\n",
       "      <th>Z-Axis</th>\n",
       "      <th>SensorID</th>\n",
       "      <th>subject</th>\n",
       "      <th>activity_type</th>\n",
       "      <th>trial</th>\n",
       "      <th>ActivityEncoded</th>\n",
       "      <th>SensorTypeEncoded</th>\n",
       "    </tr>\n",
       "  </thead>\n",
       "  <tbody>\n",
       "    <tr>\n",
       "      <th>32</th>\n",
       "      <td>102</td>\n",
       "      <td>1</td>\n",
       "      <td>-0.138750</td>\n",
       "      <td>0.886872</td>\n",
       "      <td>0.331029</td>\n",
       "      <td>0.0</td>\n",
       "      <td>1</td>\n",
       "      <td>0</td>\n",
       "      <td>1</td>\n",
       "      <td>0</td>\n",
       "      <td>0</td>\n",
       "    </tr>\n",
       "    <tr>\n",
       "      <th>33</th>\n",
       "      <td>102</td>\n",
       "      <td>2</td>\n",
       "      <td>-0.138140</td>\n",
       "      <td>0.886507</td>\n",
       "      <td>0.332372</td>\n",
       "      <td>0.0</td>\n",
       "      <td>1</td>\n",
       "      <td>0</td>\n",
       "      <td>1</td>\n",
       "      <td>0</td>\n",
       "      <td>0</td>\n",
       "    </tr>\n",
       "    <tr>\n",
       "      <th>34</th>\n",
       "      <td>102</td>\n",
       "      <td>3</td>\n",
       "      <td>-0.134844</td>\n",
       "      <td>0.889558</td>\n",
       "      <td>0.331150</td>\n",
       "      <td>0.0</td>\n",
       "      <td>1</td>\n",
       "      <td>0</td>\n",
       "      <td>1</td>\n",
       "      <td>0</td>\n",
       "      <td>0</td>\n",
       "    </tr>\n",
       "    <tr>\n",
       "      <th>35</th>\n",
       "      <td>102</td>\n",
       "      <td>4</td>\n",
       "      <td>-0.140215</td>\n",
       "      <td>0.886628</td>\n",
       "      <td>0.333714</td>\n",
       "      <td>0.0</td>\n",
       "      <td>1</td>\n",
       "      <td>0</td>\n",
       "      <td>1</td>\n",
       "      <td>0</td>\n",
       "      <td>0</td>\n",
       "    </tr>\n",
       "    <tr>\n",
       "      <th>36</th>\n",
       "      <td>102</td>\n",
       "      <td>5</td>\n",
       "      <td>-0.139117</td>\n",
       "      <td>0.886262</td>\n",
       "      <td>0.334568</td>\n",
       "      <td>0.0</td>\n",
       "      <td>1</td>\n",
       "      <td>0</td>\n",
       "      <td>1</td>\n",
       "      <td>0</td>\n",
       "      <td>0</td>\n",
       "    </tr>\n",
       "    <tr>\n",
       "      <th>...</th>\n",
       "      <td>...</td>\n",
       "      <td>...</td>\n",
       "      <td>...</td>\n",
       "      <td>...</td>\n",
       "      <td>...</td>\n",
       "      <td>...</td>\n",
       "      <td>...</td>\n",
       "      <td>...</td>\n",
       "      <td>...</td>\n",
       "      <td>...</td>\n",
       "      <td>...</td>\n",
       "    </tr>\n",
       "    <tr>\n",
       "      <th>5587</th>\n",
       "      <td>14604</td>\n",
       "      <td>277</td>\n",
       "      <td>-60.833332</td>\n",
       "      <td>-8.333333</td>\n",
       "      <td>114.500000</td>\n",
       "      <td>4.0</td>\n",
       "      <td>19</td>\n",
       "      <td>1</td>\n",
       "      <td>6</td>\n",
       "      <td>15</td>\n",
       "      <td>2</td>\n",
       "    </tr>\n",
       "    <tr>\n",
       "      <th>5588</th>\n",
       "      <td>14687</td>\n",
       "      <td>278</td>\n",
       "      <td>-61.833332</td>\n",
       "      <td>-8.833333</td>\n",
       "      <td>115.000000</td>\n",
       "      <td>4.0</td>\n",
       "      <td>19</td>\n",
       "      <td>1</td>\n",
       "      <td>6</td>\n",
       "      <td>15</td>\n",
       "      <td>2</td>\n",
       "    </tr>\n",
       "    <tr>\n",
       "      <th>5589</th>\n",
       "      <td>14766</td>\n",
       "      <td>279</td>\n",
       "      <td>-60.500000</td>\n",
       "      <td>-7.500000</td>\n",
       "      <td>115.166664</td>\n",
       "      <td>4.0</td>\n",
       "      <td>19</td>\n",
       "      <td>1</td>\n",
       "      <td>6</td>\n",
       "      <td>15</td>\n",
       "      <td>2</td>\n",
       "    </tr>\n",
       "    <tr>\n",
       "      <th>5590</th>\n",
       "      <td>14867</td>\n",
       "      <td>280</td>\n",
       "      <td>-59.666668</td>\n",
       "      <td>-8.333333</td>\n",
       "      <td>115.500000</td>\n",
       "      <td>4.0</td>\n",
       "      <td>19</td>\n",
       "      <td>1</td>\n",
       "      <td>6</td>\n",
       "      <td>15</td>\n",
       "      <td>2</td>\n",
       "    </tr>\n",
       "    <tr>\n",
       "      <th>5591</th>\n",
       "      <td>14977</td>\n",
       "      <td>281</td>\n",
       "      <td>-60.833332</td>\n",
       "      <td>-8.666667</td>\n",
       "      <td>115.166664</td>\n",
       "      <td>4.0</td>\n",
       "      <td>19</td>\n",
       "      <td>1</td>\n",
       "      <td>6</td>\n",
       "      <td>15</td>\n",
       "      <td>2</td>\n",
       "    </tr>\n",
       "  </tbody>\n",
       "</table>\n",
       "<p>4574447 rows × 11 columns</p>\n",
       "</div>"
      ],
      "text/plain": [
       "      TimeStamp  SampleNo     X-Axis    Y-Axis      Z-Axis  SensorID  subject  \\\n",
       "32          102         1  -0.138750  0.886872    0.331029       0.0        1   \n",
       "33          102         2  -0.138140  0.886507    0.332372       0.0        1   \n",
       "34          102         3  -0.134844  0.889558    0.331150       0.0        1   \n",
       "35          102         4  -0.140215  0.886628    0.333714       0.0        1   \n",
       "36          102         5  -0.139117  0.886262    0.334568       0.0        1   \n",
       "...         ...       ...        ...       ...         ...       ...      ...   \n",
       "5587      14604       277 -60.833332 -8.333333  114.500000       4.0       19   \n",
       "5588      14687       278 -61.833332 -8.833333  115.000000       4.0       19   \n",
       "5589      14766       279 -60.500000 -7.500000  115.166664       4.0       19   \n",
       "5590      14867       280 -59.666668 -8.333333  115.500000       4.0       19   \n",
       "5591      14977       281 -60.833332 -8.666667  115.166664       4.0       19   \n",
       "\n",
       "      activity_type  trial  ActivityEncoded  SensorTypeEncoded  \n",
       "32                0      1                0                  0  \n",
       "33                0      1                0                  0  \n",
       "34                0      1                0                  0  \n",
       "35                0      1                0                  0  \n",
       "36                0      1                0                  0  \n",
       "...             ...    ...              ...                ...  \n",
       "5587              1      6               15                  2  \n",
       "5588              1      6               15                  2  \n",
       "5589              1      6               15                  2  \n",
       "5590              1      6               15                  2  \n",
       "5591              1      6               15                  2  \n",
       "\n",
       "[4574447 rows x 11 columns]"
      ]
     },
     "execution_count": 3,
     "metadata": {},
     "output_type": "execute_result"
    }
   ],
   "source": [
    "df"
   ]
  },
  {
   "cell_type": "code",
   "execution_count": 5,
   "id": "86379d2e",
   "metadata": {},
   "outputs": [
    {
     "data": {
      "text/plain": [
       "13    460553\n",
       "14    442755\n",
       "15    399581\n",
       "11    380650\n",
       "12    375548\n",
       "1     345003\n",
       "8     327701\n",
       "5     310488\n",
       "9     301650\n",
       "10    282320\n",
       "4     282294\n",
       "0     275204\n",
       "6     173767\n",
       "2     106039\n",
       "3     104324\n",
       "7       6570\n",
       "Name: ActivityEncoded, dtype: int64"
      ]
     },
     "execution_count": 5,
     "metadata": {},
     "output_type": "execute_result"
    }
   ],
   "source": [
    "df.ActivityEncoded.value_counts()"
   ]
  },
  {
   "cell_type": "code",
   "execution_count": 4,
   "id": "4406f450",
   "metadata": {},
   "outputs": [
    {
     "data": {
      "text/plain": [
       "'\\nF2 backwardFall 460553\\nF1 forwardFall 442755\\nF3 lateralFall 399581\\nA5 SittingGettingUpOnAChair 380650\\nA6 Walking 375548\\nA7 Bending 345003\\nA9 LyingDownOnABed 327701\\nA8 Hopping 310488\\nA3 MakingACall 301650\\nA4 OpeningDoor 282320\\nA2 HandsUp 282294\\nA1 Aplausing 275204\\nA11 Jogging 173767\\nA10 GoDownstairs 106039\\nA10 GoUpstairs 104324\\nA9 LyingDownGettingUpOnAChair 6570\\n'"
      ]
     },
     "execution_count": 4,
     "metadata": {},
     "output_type": "execute_result"
    }
   ],
   "source": [
    "'''\n",
    "F2 backwardFall 460553\n",
    "F1 forwardFall 442755\n",
    "F3 lateralFall 399581\n",
    "A5 SittingGettingUpOnAChair 380650\n",
    "A6 Walking 375548\n",
    "A7 Bending 345003\n",
    "A9 LyingDownOnABed 327701\n",
    "A8 Hopping 310488\n",
    "A3 MakingACall 301650\n",
    "A4 OpeningDoor 282320\n",
    "A2 HandsUp 282294\n",
    "A1 Aplausing 275204\n",
    "A11 Jogging 173767\n",
    "A10 GoDownstairs 106039\n",
    "A10 GoUpstairs 104324\n",
    "A9 LyingDownGettingUpOnAChair 6570\n",
    "'''"
   ]
  },
  {
   "cell_type": "code",
   "execution_count": 7,
   "id": "b98052ef",
   "metadata": {},
   "outputs": [
    {
     "data": {
      "text/plain": [
       "<AxesSubplot:xlabel='activity_type', ylabel='count'>"
      ]
     },
     "execution_count": 7,
     "metadata": {},
     "output_type": "execute_result"
    },
    {
     "data": {
      "image/png": "[encoded data removed]",
      "text/plain": [
       "<Figure size 432x288 with 1 Axes>"
      ]
     },
     "metadata": {
      "needs_background": "light"
     },
     "output_type": "display_data"
    }
   ],
   "source": [
    "import seaborn as sns\n",
    "\n",
    "sns.countplot(x = \"activity_type\", data = df, order = df.activity_type.value_counts().index)"
   ]
  },
  {
   "cell_type": "code",
   "execution_count": 11,
   "id": "748b75e6",
   "metadata": {},
   "outputs": [],
   "source": [
    "new_df = df[['X-Axis' ,'Y-Axis', 'Z-Axis' , 'activity_type', 'ActivityEncoded']]"
   ]
  },
  {
   "cell_type": "code",
   "execution_count": 12,
   "id": "6de50216",
   "metadata": {},
   "outputs": [
    {
     "data": {
      "text/html": [
       "<div>\n",
       "<style scoped>\n",
       "    .dataframe tbody tr th:only-of-type {\n",
       "        vertical-align: middle;\n",
       "    }\n",
       "\n",
       "    .dataframe tbody tr th {\n",
       "        vertical-align: top;\n",
       "    }\n",
       "\n",
       "    .dataframe thead th {\n",
       "        text-align: right;\n",
       "    }\n",
       "</style>\n",
       "<table border=\"1\" class=\"dataframe\">\n",
       "  <thead>\n",
       "    <tr style=\"text-align: right;\">\n",
       "      <th></th>\n",
       "      <th>X-Axis</th>\n",
       "      <th>Y-Axis</th>\n",
       "      <th>Z-Axis</th>\n",
       "      <th>activity_type</th>\n",
       "      <th>ActivityEncoded</th>\n",
       "    </tr>\n",
       "  </thead>\n",
       "  <tbody>\n",
       "    <tr>\n",
       "      <th>32</th>\n",
       "      <td>-0.138750</td>\n",
       "      <td>0.886872</td>\n",
       "      <td>0.331029</td>\n",
       "      <td>0</td>\n",
       "      <td>0</td>\n",
       "    </tr>\n",
       "    <tr>\n",
       "      <th>33</th>\n",
       "      <td>-0.138140</td>\n",
       "      <td>0.886507</td>\n",
       "      <td>0.332372</td>\n",
       "      <td>0</td>\n",
       "      <td>0</td>\n",
       "    </tr>\n",
       "    <tr>\n",
       "      <th>34</th>\n",
       "      <td>-0.134844</td>\n",
       "      <td>0.889558</td>\n",
       "      <td>0.331150</td>\n",
       "      <td>0</td>\n",
       "      <td>0</td>\n",
       "    </tr>\n",
       "    <tr>\n",
       "      <th>35</th>\n",
       "      <td>-0.140215</td>\n",
       "      <td>0.886628</td>\n",
       "      <td>0.333714</td>\n",
       "      <td>0</td>\n",
       "      <td>0</td>\n",
       "    </tr>\n",
       "    <tr>\n",
       "      <th>36</th>\n",
       "      <td>-0.139117</td>\n",
       "      <td>0.886262</td>\n",
       "      <td>0.334568</td>\n",
       "      <td>0</td>\n",
       "      <td>0</td>\n",
       "    </tr>\n",
       "    <tr>\n",
       "      <th>...</th>\n",
       "      <td>...</td>\n",
       "      <td>...</td>\n",
       "      <td>...</td>\n",
       "      <td>...</td>\n",
       "      <td>...</td>\n",
       "    </tr>\n",
       "    <tr>\n",
       "      <th>5587</th>\n",
       "      <td>-60.833332</td>\n",
       "      <td>-8.333333</td>\n",
       "      <td>114.500000</td>\n",
       "      <td>1</td>\n",
       "      <td>15</td>\n",
       "    </tr>\n",
       "    <tr>\n",
       "      <th>5588</th>\n",
       "      <td>-61.833332</td>\n",
       "      <td>-8.833333</td>\n",
       "      <td>115.000000</td>\n",
       "      <td>1</td>\n",
       "      <td>15</td>\n",
       "    </tr>\n",
       "    <tr>\n",
       "      <th>5589</th>\n",
       "      <td>-60.500000</td>\n",
       "      <td>-7.500000</td>\n",
       "      <td>115.166664</td>\n",
       "      <td>1</td>\n",
       "      <td>15</td>\n",
       "    </tr>\n",
       "    <tr>\n",
       "      <th>5590</th>\n",
       "      <td>-59.666668</td>\n",
       "      <td>-8.333333</td>\n",
       "      <td>115.500000</td>\n",
       "      <td>1</td>\n",
       "      <td>15</td>\n",
       "    </tr>\n",
       "    <tr>\n",
       "      <th>5591</th>\n",
       "      <td>-60.833332</td>\n",
       "      <td>-8.666667</td>\n",
       "      <td>115.166664</td>\n",
       "      <td>1</td>\n",
       "      <td>15</td>\n",
       "    </tr>\n",
       "  </tbody>\n",
       "</table>\n",
       "<p>4574447 rows × 5 columns</p>\n",
       "</div>"
      ],
      "text/plain": [
       "         X-Axis    Y-Axis      Z-Axis  activity_type  ActivityEncoded\n",
       "32    -0.138750  0.886872    0.331029              0                0\n",
       "33    -0.138140  0.886507    0.332372              0                0\n",
       "34    -0.134844  0.889558    0.331150              0                0\n",
       "35    -0.140215  0.886628    0.333714              0                0\n",
       "36    -0.139117  0.886262    0.334568              0                0\n",
       "...         ...       ...         ...            ...              ...\n",
       "5587 -60.833332 -8.333333  114.500000              1               15\n",
       "5588 -61.833332 -8.833333  115.000000              1               15\n",
       "5589 -60.500000 -7.500000  115.166664              1               15\n",
       "5590 -59.666668 -8.333333  115.500000              1               15\n",
       "5591 -60.833332 -8.666667  115.166664              1               15\n",
       "\n",
       "[4574447 rows x 5 columns]"
      ]
     },
     "execution_count": 12,
     "metadata": {},
     "output_type": "execute_result"
    }
   ],
   "source": [
    "new_df"
   ]
  },
  {
   "cell_type": "code",
   "execution_count": 15,
   "id": "6f917bf8",
   "metadata": {},
   "outputs": [
    {
     "data": {
      "text/plain": [
       "((2287223, 10), (2287224, 10), (2287223,), (2287224,))"
      ]
     },
     "execution_count": 15,
     "metadata": {},
     "output_type": "execute_result"
    }
   ],
   "source": [
    "X_train, X_test, y_train, y_test = train_test_split(df.drop('activity_type', axis=1).values , df['activity_type'].values, \n",
    "                                                    test_size=0.5, random_state=0)\n",
    "X_train.shape, X_test.shape, y_train.shape, y_test.shape"
   ]
  },
  {
   "cell_type": "code",
   "execution_count": 18,
   "id": "9ebd5881",
   "metadata": {},
   "outputs": [
    {
     "data": {
      "text/plain": [
       "0    3271558\n",
       "1    1302889\n",
       "Name: activity_type, dtype: int64"
      ]
     },
     "execution_count": 18,
     "metadata": {},
     "output_type": "execute_result"
    }
   ],
   "source": [
    "df['activity_type'].value_counts()"
   ]
  },
  {
   "cell_type": "code",
   "execution_count": 20,
   "id": "83dd91c7",
   "metadata": {},
   "outputs": [
    {
     "name": "stdout",
     "output_type": "stream",
     "text": [
      "Total = 4,574,447\n",
      "Fraud = 28.48%\n",
      "Normal = 71.52%\n"
     ]
    }
   ],
   "source": [
    "fall = (df['activity_type'] == 1).sum()\n",
    "normal = (df['activity_type'] == 0).sum()\n",
    "\n",
    "total = fall + normal\n",
    "\n",
    "print(f\"Total = {total:,}\")\n",
    "print(f\"Fraud = {fall/total*100:,.2f}%\")\n",
    "print(f\"Normal = {normal/total*100:,.2f}%\")"
   ]
  },
  {
   "cell_type": "code",
   "execution_count": 21,
   "id": "cb5dcb68",
   "metadata": {},
   "outputs": [],
   "source": [
    "sc = StandardScaler()\n",
    "X_train = sc.fit_transform(X_train)\n",
    "X_test = sc.transform(X_test)"
   ]
  },
  {
   "cell_type": "code",
   "execution_count": 22,
   "id": "2b7fb698",
   "metadata": {},
   "outputs": [
    {
     "data": {
      "text/plain": [
       "((1635122, 10), (652101, 10))"
      ]
     },
     "execution_count": 22,
     "metadata": {},
     "output_type": "execute_result"
    }
   ],
   "source": [
    "X_train_normal = X_train[y_train == 0]\n",
    "X_train_fall = X_train[y_train == 1]\n",
    "\n",
    "X_train_normal.shape, X_train_fall.shape"
   ]
  },
  {
   "cell_type": "code",
   "execution_count": 23,
   "id": "310079e9",
   "metadata": {},
   "outputs": [
    {
     "data": {
      "text/plain": [
       "((1636436, 10), (650788, 10))"
      ]
     },
     "execution_count": 23,
     "metadata": {},
     "output_type": "execute_result"
    }
   ],
   "source": [
    "X_test_normal = X_test[y_test == 0]\n",
    "X_test_fall = X_test[y_test == 1]\n",
    "\n",
    "X_test_normal.shape, X_test_fall.shape"
   ]
  },
  {
   "cell_type": "code",
   "execution_count": 24,
   "id": "f56699dd",
   "metadata": {},
   "outputs": [],
   "source": [
    "def encoder_model(input_dim, latent_dim):\n",
    "    prior = tfd.MultivariateNormalDiag(\n",
    "            loc=tf.zeros([latent_dim]),\n",
    "            scale_diag=tf.ones([latent_dim]))\n",
    "    \n",
    "    encoder_input = Input(shape=(input_dim,))\n",
    "    x = Dense(20, activation=tf.nn.leaky_relu)(encoder_input)\n",
    "    x = Dense(15, activation=tf.nn.leaky_relu)(x)\n",
    "    x = Dense(tfp.layers.MultivariateNormalTriL.params_size(latent_dim), activation=None)(x)\n",
    "    encoded = tfp.layers.MultivariateNormalTriL(latent_dim, \n",
    "                        activity_regularizer=tfp.layers.KLDivergenceRegularizer(prior))(x)\n",
    "    encoder = Model(encoder_input, encoded)\n",
    "    return encoder\n",
    "\n",
    "def decoder_model(latent_dim, input_dim):\n",
    "    decoder_input = Input(shape=(latent_dim,))\n",
    "    x = Dense(15, activation=tf.nn.leaky_relu)(decoder_input)\n",
    "    x = Dense(20, activation=tf.nn.leaky_relu)(x)\n",
    "    x = Dense(tfp.layers.IndependentNormal.params_size(input_dim), activation=None)(x)\n",
    "    decoded = tfp.layers.IndependentNormal(input_dim)(x)\n",
    "\n",
    "    decoder = Model(decoder_input, decoded)\n",
    "    return decoder\n",
    "\n",
    "def vae_model(encoder, decoder):\n",
    "    vae = Model(inputs=encoder.inputs,\n",
    "                outputs=decoder(encoder.outputs[0]))\n",
    "\n",
    "    negloglik = lambda x, rv_x: -rv_x.log_prob(x)\n",
    "\n",
    "    vae.compile(optimizer=tf.keras.optimizers.Adam(learning_rate=0.001), \n",
    "                loss=negloglik)\n",
    "    return vae"
   ]
  },
  {
   "cell_type": "code",
   "execution_count": 25,
   "id": "b9a48de9",
   "metadata": {},
   "outputs": [
    {
     "name": "stdout",
     "output_type": "stream",
     "text": [
      "Model: \"model\"\n",
      "_________________________________________________________________\n",
      " Layer (type)                Output Shape              Param #   \n",
      "=================================================================\n",
      " input_1 (InputLayer)        [(None, 10)]              0         \n",
      "                                                                 \n",
      " dense (Dense)               (None, 20)                220       \n",
      "                                                                 \n",
      " dense_1 (Dense)             (None, 15)                315       \n",
      "                                                                 \n",
      " dense_2 (Dense)             (None, 5)                 80        \n",
      "                                                                 \n",
      " multivariate_normal_tri_l (  ((None, 2),              0         \n",
      " MultivariateNormalTriL)      (None, 2))                         \n",
      "                                                                 \n",
      "=================================================================\n",
      "Total params: 615\n",
      "Trainable params: 615\n",
      "Non-trainable params: 0\n",
      "_________________________________________________________________\n"
     ]
    }
   ],
   "source": [
    "input_dim = X_train_normal.shape[1]\n",
    "\n",
    "# latent_dim = 5\n",
    "latent_dim = 2\n",
    "\n",
    "encoder = encoder_model(input_dim, latent_dim)\n",
    "encoder.summary()"
   ]
  },
  {
   "cell_type": "code",
   "execution_count": 26,
   "id": "1d277bc3",
   "metadata": {},
   "outputs": [
    {
     "name": "stdout",
     "output_type": "stream",
     "text": [
      "Model: \"model_1\"\n",
      "_________________________________________________________________\n",
      " Layer (type)                Output Shape              Param #   \n",
      "=================================================================\n",
      " input_2 (InputLayer)        [(None, 2)]               0         \n",
      "                                                                 \n",
      " dense_3 (Dense)             (None, 15)                45        \n",
      "                                                                 \n",
      " dense_4 (Dense)             (None, 20)                320       \n",
      "                                                                 \n",
      " dense_5 (Dense)             (None, 20)                420       \n",
      "                                                                 \n",
      " independent_normal (Indepen  ((None, 10),             0         \n",
      " dentNormal)                  (None, 10))                        \n",
      "                                                                 \n",
      "=================================================================\n",
      "Total params: 785\n",
      "Trainable params: 785\n",
      "Non-trainable params: 0\n",
      "_________________________________________________________________\n"
     ]
    }
   ],
   "source": [
    "decoder = decoder_model(latent_dim, input_dim)\n",
    "decoder.summary()"
   ]
  },
  {
   "cell_type": "code",
   "execution_count": 27,
   "id": "29bf69cf",
   "metadata": {},
   "outputs": [
    {
     "name": "stdout",
     "output_type": "stream",
     "text": [
      "Model: \"model_2\"\n",
      "_________________________________________________________________\n",
      " Layer (type)                Output Shape              Param #   \n",
      "=================================================================\n",
      " input_1 (InputLayer)        [(None, 10)]              0         \n",
      "                                                                 \n",
      " dense (Dense)               (None, 20)                220       \n",
      "                                                                 \n",
      " dense_1 (Dense)             (None, 15)                315       \n",
      "                                                                 \n",
      " dense_2 (Dense)             (None, 5)                 80        \n",
      "                                                                 \n",
      " multivariate_normal_tri_l (  ((None, 2),              0         \n",
      " MultivariateNormalTriL)      (None, 2))                         \n",
      "                                                                 \n",
      " model_1 (Functional)        (None, 10)                785       \n",
      "                                                                 \n",
      "=================================================================\n",
      "Total params: 1,400\n",
      "Trainable params: 1,400\n",
      "Non-trainable params: 0\n",
      "_________________________________________________________________\n"
     ]
    }
   ],
   "source": [
    "vae = vae_model(encoder, decoder)\n",
    "vae.summary()"
   ]
  },
  {
   "cell_type": "code",
   "execution_count": 28,
   "id": "0082fa0e",
   "metadata": {
    "scrolled": false
   },
   "outputs": [
    {
     "name": "stdout",
     "output_type": "stream",
     "text": [
      "Epoch 1/100\n",
      "12775/12775 [==============================] - 38s 3ms/step - loss: 3.8457 - val_loss: 1.4809\n",
      "Epoch 2/100\n",
      "12775/12775 [==============================] - 33s 3ms/step - loss: 1.9415 - val_loss: 1.2223\n",
      "Epoch 3/100\n",
      "12775/12775 [==============================] - 32s 3ms/step - loss: 1.4072 - val_loss: 0.6880\n",
      "Epoch 4/100\n",
      "12775/12775 [==============================] - 34s 3ms/step - loss: 0.9828 - val_loss: 0.2181\n",
      "Epoch 5/100\n",
      "12775/12775 [==============================] - 33s 3ms/step - loss: 0.5927 - val_loss: -0.5099\n",
      "Epoch 6/100\n",
      "12775/12775 [==============================] - 35s 3ms/step - loss: -0.0354 - val_loss: 5.2673\n",
      "Epoch 7/100\n",
      "12775/12775 [==============================] - 33s 3ms/step - loss: -0.4043 - val_loss: -1.1646\n",
      "Epoch 8/100\n",
      "12775/12775 [==============================] - 32s 3ms/step - loss: -0.0126 - val_loss: -1.0795\n",
      "Epoch 9/100\n",
      "12775/12775 [==============================] - 32s 3ms/step - loss: -0.2206 - val_loss: -1.2533\n",
      "Epoch 10/100\n",
      "12775/12775 [==============================] - 34s 3ms/step - loss: -0.6005 - val_loss: -1.1240\n",
      "Epoch 11/100\n",
      "12775/12775 [==============================] - 33s 3ms/step - loss: -0.8164 - val_loss: -1.4768\n",
      "Epoch 12/100\n",
      "12775/12775 [==============================] - 32s 2ms/step - loss: -0.9130 - val_loss: 1.1262\n",
      "Epoch 13/100\n",
      "12775/12775 [==============================] - 31s 2ms/step - loss: -0.8622 - val_loss: -1.3946\n",
      "Epoch 14/100\n",
      "12775/12775 [==============================] - 32s 3ms/step - loss: -0.8942 - val_loss: -1.4938\n",
      "Epoch 15/100\n",
      "12775/12775 [==============================] - 32s 2ms/step - loss: -1.0386 - val_loss: -1.3105\n",
      "Epoch 16/100\n",
      "12775/12775 [==============================] - 32s 3ms/step - loss: 0.1150 - val_loss: -1.8510\n",
      "Epoch 17/100\n",
      "12775/12775 [==============================] - 31s 2ms/step - loss: -0.7559 - val_loss: -1.2144\n",
      "Epoch 18/100\n",
      "12775/12775 [==============================] - 33s 3ms/step - loss: -0.4963 - val_loss: 2.0103\n",
      "Epoch 19/100\n",
      "12775/12775 [==============================] - 35s 3ms/step - loss: -0.9387 - val_loss: -1.8151\n",
      "Epoch 20/100\n",
      "12775/12775 [==============================] - 35s 3ms/step - loss: -0.8531 - val_loss: 0.1537\n",
      "Epoch 21/100\n",
      "12775/12775 [==============================] - 34s 3ms/step - loss: 9.2963e-04 - val_loss: -1.6518\n",
      "Epoch 22/100\n",
      "12775/12775 [==============================] - 37s 3ms/step - loss: -0.3219 - val_loss: 0.2352\n",
      "Epoch 23/100\n",
      "12775/12775 [==============================] - 35s 3ms/step - loss: -0.0906 - val_loss: -1.3554\n",
      "Epoch 24/100\n",
      "12775/12775 [==============================] - 32s 2ms/step - loss: -1.5994 - val_loss: -1.8514\n",
      "Epoch 25/100\n",
      "12775/12775 [==============================] - 37s 3ms/step - loss: -1.6539 - val_loss: -2.1678\n",
      "Epoch 26/100\n",
      "12775/12775 [==============================] - 33s 3ms/step - loss: -1.5819 - val_loss: 0.0100\n",
      "Epoch 27/100\n",
      "12775/12775 [==============================] - 34s 3ms/step - loss: -1.6545 - val_loss: -2.4712\n",
      "Epoch 28/100\n",
      "12775/12775 [==============================] - 36s 3ms/step - loss: 1.8454 - val_loss: 3.1042\n",
      "Epoch 29/100\n",
      "12775/12775 [==============================] - 34s 3ms/step - loss: -0.1038 - val_loss: -2.1298\n",
      "Epoch 30/100\n",
      "12775/12775 [==============================] - 33s 3ms/step - loss: -0.2876 - val_loss: 0.1495\n",
      "Epoch 31/100\n",
      "12775/12775 [==============================] - 31s 2ms/step - loss: -0.4861 - val_loss: -0.1565\n",
      "Epoch 32/100\n",
      "12775/12775 [==============================] - 33s 3ms/step - loss: -1.3255 - val_loss: -1.8552\n",
      "Epoch 33/100\n",
      "12775/12775 [==============================] - 36s 3ms/step - loss: -1.3985 - val_loss: -2.2226\n",
      "Epoch 34/100\n",
      "12775/12775 [==============================] - 33s 3ms/step - loss: 57.0273 - val_loss: 1147.4363\n",
      "Epoch 35/100\n",
      "12775/12775 [==============================] - 37s 3ms/step - loss: 4.1299 - val_loss: -1.3556\n",
      "Epoch 36/100\n",
      "12775/12775 [==============================] - 34s 3ms/step - loss: -1.1984 - val_loss: -1.6845\n",
      "Epoch 37/100\n",
      "12775/12775 [==============================] - 37s 3ms/step - loss: -0.9618 - val_loss: -1.1047\n"
     ]
    }
   ],
   "source": [
    "batch_size = 128\n",
    "max_epochs = 100\n",
    "\n",
    "s = time.time()\n",
    "\n",
    "checkpointer = ModelCheckpoint(filepath='bestmodel.h5', verbose=0, save_best_only=True)\n",
    "\n",
    "earlystopper = EarlyStopping(monitor='val_loss', mode='min', \n",
    "                             patience=10, verbose=0, restore_best_weights=True)\n",
    "\n",
    "history = vae.fit(X_train_normal, X_train_normal, \n",
    "                  epochs=max_epochs, batch_size=128, shuffle=True,\n",
    "                  verbose=1, validation_data=(X_test_normal, X_test_normal),\n",
    "                  callbacks=[earlystopper, checkpointer])"
   ]
  },
  {
   "cell_type": "code",
   "execution_count": 29,
   "id": "5bff10f0",
   "metadata": {},
   "outputs": [
    {
     "name": "stdout",
     "output_type": "stream",
     "text": [
      "경과 시간: 22.83878333568573 분\n"
     ]
    }
   ],
   "source": [
    "print(f\"경과 시간: {(time.time() - s) / 60} 분\")"
   ]
  },
  {
   "cell_type": "code",
   "execution_count": 30,
   "id": "a8d66d52",
   "metadata": {},
   "outputs": [
    {
     "data": {
      "text/plain": [
       "[<matplotlib.lines.Line2D at 0x6a3b1730>]"
      ]
     },
     "execution_count": 30,
     "metadata": {},
     "output_type": "execute_result"
    },
    {
     "data": {
      "image/png": "[encoded data removed]",
      "text/plain": [
       "<Figure size 432x288 with 1 Axes>"
      ]
     },
     "metadata": {
      "needs_background": "light"
     },
     "output_type": "display_data"
    }
   ],
   "source": [
    "plt.plot([v for v in history.history['val_loss'] if v < 50])"
   ]
  },
  {
   "cell_type": "code",
   "execution_count": 31,
   "id": "a3b493db",
   "metadata": {},
   "outputs": [
    {
     "name": "stdout",
     "output_type": "stream",
     "text": [
      "Model: \"model_2\"\n",
      "_________________________________________________________________\n",
      " Layer (type)                Output Shape              Param #   \n",
      "=================================================================\n",
      " input_1 (InputLayer)        [(None, 10)]              0         \n",
      "                                                                 \n",
      " dense (Dense)               (None, 20)                220       \n",
      "                                                                 \n",
      " dense_1 (Dense)             (None, 15)                315       \n",
      "                                                                 \n",
      " dense_2 (Dense)             (None, 5)                 80        \n",
      "                                                                 \n",
      " multivariate_normal_tri_l (  ((None, 2),              0         \n",
      " MultivariateNormalTriL)      (None, 2))                         \n",
      "                                                                 \n",
      " model_1 (Functional)        (None, 10)                785       \n",
      "                                                                 \n",
      "=================================================================\n",
      "Total params: 1,400\n",
      "Trainable params: 1,400\n",
      "Non-trainable params: 0\n",
      "_________________________________________________________________\n"
     ]
    }
   ],
   "source": [
    "vae.summary()"
   ]
  },
  {
   "cell_type": "code",
   "execution_count": 32,
   "id": "335df7f8",
   "metadata": {},
   "outputs": [
    {
     "data": {
      "text/plain": [
       "(250, 10)"
      ]
     },
     "execution_count": 32,
     "metadata": {},
     "output_type": "execute_result"
    }
   ],
   "source": [
    "# 정상 sample 무작위 sampling \n",
    "idx = np.random.choice(len(X_train_normal), 250, replace=False)\n",
    "Nom_data = X_train_normal[idx]\n",
    "Nom_data.shape "
   ]
  },
  {
   "cell_type": "code",
   "execution_count": 33,
   "id": "4707d441",
   "metadata": {},
   "outputs": [
    {
     "name": "stdout",
     "output_type": "stream",
     "text": [
      "8/8 [==============================] - 1s 1ms/step\n",
      "Normal Metric\n",
      "       Normal_mse\n",
      "count  250.000000\n",
      "mean     1.287383\n",
      "std      1.979336\n",
      "min      0.021676\n",
      "25%      0.317817\n",
      "50%      0.651729\n",
      "75%      1.316536\n",
      "max     15.300871\n"
     ]
    }
   ],
   "source": [
    "# 정상 데이터의 재구성 결과 값\n",
    "Nom_pred = vae.predict(Nom_data)  \n",
    "# 재구성 오류 -  input/output 간의 MSE 구하기\n",
    "Nom_pred_mse = np.mean(np.power(Nom_data - Nom_pred, 2), axis=1) \n",
    "\n",
    "print('Normal Metric')\n",
    "Nom_pred_mse_df = pd.DataFrame({'Normal_mse': Nom_pred_mse})\n",
    "print(Nom_pred_mse_df.describe())"
   ]
  },
  {
   "cell_type": "code",
   "execution_count": 34,
   "id": "e98fb54e",
   "metadata": {},
   "outputs": [
    {
     "name": "stdout",
     "output_type": "stream",
     "text": [
      "20379/20379 [==============================] - 19s 944us/step\n",
      "Anomaly Metric\n",
      "         Anomaly_mse\n",
      "count  652101.000000\n",
      "mean        1.807445\n",
      "std         2.343798\n",
      "min         0.000889\n",
      "25%         0.556815\n",
      "50%         1.042227\n",
      "75%         2.128824\n",
      "max        82.816278\n"
     ]
    }
   ],
   "source": [
    "# 비정상 data의 재구성 결과값\n",
    "ANom_pred = vae.predict(X_train_fall)   \n",
    "# 재구성 오류 -  input/output 간의 MSE 구하기\n",
    "ANom_pred_mse = np.mean(np.power(X_train_fall- ANom_pred, 2), axis=1) \n",
    "\n",
    "print('Anomaly Metric')\n",
    "ANom_pred_mse_df = pd.DataFrame({'Anomaly_mse':ANom_pred_mse})\n",
    "print(ANom_pred_mse_df.describe())"
   ]
  },
  {
   "cell_type": "code",
   "execution_count": 48,
   "id": "0a1e6811",
   "metadata": {},
   "outputs": [
    {
     "data": {
      "image/png": "[encoded data removed]",
      "text/plain": [
       "<Figure size 432x288 with 1 Axes>"
      ]
     },
     "metadata": {
      "needs_background": "light"
     },
     "output_type": "display_data"
    }
   ],
   "source": [
    "plt.boxplot([Nom_pred_mse, ANom_pred_mse])\n",
    "plt.title('Normal vs Fall')\n",
    "plt.xticks(ticks=[1, 2], labels=['Normal', 'Fall'])\n",
    "plt.show()"
   ]
  },
  {
   "cell_type": "code",
   "execution_count": 47,
   "id": "290ecee7",
   "metadata": {
    "scrolled": true
   },
   "outputs": [
    {
     "data": {
      "image/png": "[encoded data removed]",
      "text/plain": [
       "<Figure size 432x288 with 1 Axes>"
      ]
     },
     "metadata": {
      "needs_background": "light"
     },
     "output_type": "display_data"
    }
   ],
   "source": [
    "plt.title('MSE compare') \n",
    "plt.hist(Nom_pred_mse, bins=100, color='blue', histtype='step', label='normal') \n",
    "#plt.hist(ANom_pred_mse, bins=100, color='red', histtype='step', label='abnormal') \n",
    "plt.xlabel('MSE')\n",
    "plt.legend()\n",
    "plt.show()"
   ]
  },
  {
   "cell_type": "code",
   "execution_count": 43,
   "id": "fcb63129",
   "metadata": {},
   "outputs": [
    {
     "name": "stdout",
     "output_type": "stream",
     "text": [
      "71476/71476 [==============================] - 71s 990us/step\n"
     ]
    }
   ],
   "source": [
    "# train set의 재구성 오류 계산 (0 - 정상, 1 - 사기)\n",
    "predictions = vae.predict(X_train)\n",
    "\n",
    "mse = np.mean(np.power(X_train - predictions, 2), axis=1)\n",
    "\n",
    "error_df = pd.DataFrame({'reconstruction_error': mse, 'true_class': y_train})"
   ]
  },
  {
   "cell_type": "code",
   "execution_count": 44,
   "id": "cd6a9b3e",
   "metadata": {},
   "outputs": [
    {
     "data": {
      "text/html": [
       "<div>\n",
       "<style scoped>\n",
       "    .dataframe tbody tr th:only-of-type {\n",
       "        vertical-align: middle;\n",
       "    }\n",
       "\n",
       "    .dataframe tbody tr th {\n",
       "        vertical-align: top;\n",
       "    }\n",
       "\n",
       "    .dataframe thead tr th {\n",
       "        text-align: left;\n",
       "    }\n",
       "\n",
       "    .dataframe thead tr:last-of-type th {\n",
       "        text-align: right;\n",
       "    }\n",
       "</style>\n",
       "<table border=\"1\" class=\"dataframe\">\n",
       "  <thead>\n",
       "    <tr>\n",
       "      <th></th>\n",
       "      <th colspan=\"8\" halign=\"left\">reconstruction_error</th>\n",
       "    </tr>\n",
       "    <tr>\n",
       "      <th></th>\n",
       "      <th>count</th>\n",
       "      <th>mean</th>\n",
       "      <th>std</th>\n",
       "      <th>min</th>\n",
       "      <th>25%</th>\n",
       "      <th>50%</th>\n",
       "      <th>75%</th>\n",
       "      <th>max</th>\n",
       "    </tr>\n",
       "    <tr>\n",
       "      <th>true_class</th>\n",
       "      <th></th>\n",
       "      <th></th>\n",
       "      <th></th>\n",
       "      <th></th>\n",
       "      <th></th>\n",
       "      <th></th>\n",
       "      <th></th>\n",
       "      <th></th>\n",
       "    </tr>\n",
       "  </thead>\n",
       "  <tbody>\n",
       "    <tr>\n",
       "      <th>0</th>\n",
       "      <td>1635122.0</td>\n",
       "      <td>1.431376</td>\n",
       "      <td>2.233013</td>\n",
       "      <td>0.00101</td>\n",
       "      <td>0.335555</td>\n",
       "      <td>0.706342</td>\n",
       "      <td>1.545982</td>\n",
       "      <td>102.913041</td>\n",
       "    </tr>\n",
       "    <tr>\n",
       "      <th>1</th>\n",
       "      <td>652101.0</td>\n",
       "      <td>1.805020</td>\n",
       "      <td>2.342540</td>\n",
       "      <td>0.00165</td>\n",
       "      <td>0.557510</td>\n",
       "      <td>1.041202</td>\n",
       "      <td>2.122798</td>\n",
       "      <td>90.408619</td>\n",
       "    </tr>\n",
       "  </tbody>\n",
       "</table>\n",
       "</div>"
      ],
      "text/plain": [
       "           reconstruction_error                                         \\\n",
       "                          count      mean       std      min       25%   \n",
       "true_class                                                               \n",
       "0                     1635122.0  1.431376  2.233013  0.00101  0.335555   \n",
       "1                      652101.0  1.805020  2.342540  0.00165  0.557510   \n",
       "\n",
       "                                            \n",
       "                 50%       75%         max  \n",
       "true_class                                  \n",
       "0           0.706342  1.545982  102.913041  \n",
       "1           1.041202  2.122798   90.408619  "
      ]
     },
     "execution_count": 44,
     "metadata": {},
     "output_type": "execute_result"
    }
   ],
   "source": [
    "desc = error_df.groupby('true_class').describe()\n",
    "desc"
   ]
  },
  {
   "cell_type": "code",
   "execution_count": 45,
   "id": "b9d2f9b2",
   "metadata": {},
   "outputs": [
    {
     "data": {
      "text/plain": [
       "(1.4313759845875411,\n",
       " 2.233012711799273,\n",
       " {'3sigma': 8.13041411998536,\n",
       "  '2.5sigma': 7.013907764085723,\n",
       "  '2sigma': 5.897401408186087})"
      ]
     },
     "execution_count": 45,
     "metadata": {},
     "output_type": "execute_result"
    }
   ],
   "source": [
    "mean = desc['reconstruction_error']['mean'][0]\n",
    "std = desc['reconstruction_error']['std'][0]\n",
    "\n",
    "thresholds = {'3sigma': mean + 3*std, \n",
    "                   '2.5sigma': mean + 2.5*std, \n",
    "                     \"2sigma\": mean + 2*std}\n",
    "mean, std, thresholds"
   ]
  },
  {
   "cell_type": "code",
   "execution_count": 46,
   "id": "59bb8902",
   "metadata": {},
   "outputs": [
    {
     "name": "stdout",
     "output_type": "stream",
     "text": [
      "71476/71476 [==============================] - 67s 938us/step\n",
      "Precision 0.33\n",
      "Recall 0.05\n"
     ]
    },
    {
     "data": {
      "image/png": "[encoded data removed]",
      "text/plain": [
       "<Figure size 432x288 with 2 Axes>"
      ]
     },
     "metadata": {
      "needs_background": "light"
     },
     "output_type": "display_data"
    },
    {
     "name": "stdout",
     "output_type": "stream",
     "text": [
      "71476/71476 [==============================] - 65s 912us/step\n",
      "Precision 0.32\n",
      "Recall 0.03\n"
     ]
    },
    {
     "data": {
      "image/png": "[encoded data removed]",
      "text/plain": [
       "<Figure size 432x288 with 2 Axes>"
      ]
     },
     "metadata": {
      "needs_background": "light"
     },
     "output_type": "display_data"
    },
    {
     "name": "stdout",
     "output_type": "stream",
     "text": [
      "71476/71476 [==============================] - 64s 898us/step\n",
      "Precision 0.32\n",
      "Recall 0.02\n"
     ]
    },
    {
     "data": {
      "image/png": "[encoded data removed]",
      "text/plain": [
       "<Figure size 432x288 with 2 Axes>"
      ]
     },
     "metadata": {
      "needs_background": "light"
     },
     "output_type": "display_data"
    }
   ],
   "source": [
    "thresholds = sorted(thresholds.items(), key=lambda kv: kv[1])\n",
    "\n",
    "def model_predict(threshold, mse):\n",
    "     predictions = [(lambda er: 1 if er > threshold else 0)(er) for er in mse]\n",
    "     return predictions\n",
    "\n",
    "for sigma, threshold in thresholds:\n",
    "    \n",
    "    test_predictions = vae.predict(X_test)\n",
    "    mse = np.mean(np.power(X_test - test_predictions, 2), axis=1)\n",
    "    y_pred = model_predict(threshold, mse)\n",
    "\n",
    "    print(\"Precision {:.2f}\".format(precision_score(y_test, y_pred)))\n",
    "    print(\"Recall {:.2f}\".format(recall_score(y_test, y_pred)))\n",
    "\n",
    "    cm = confusion_matrix(y_test, y_pred)\n",
    "\n",
    "    ax = sns.heatmap(cm, annot=True, fmt=',')\n",
    "    ax.set_xlabel('Predicted labels')\n",
    "    ax.set_ylabel('True labels')\n",
    "    ax.xaxis.set_ticklabels(['Normal', 'Fraud'])\n",
    "    ax.yaxis.set_ticklabels(['Normal', 'Fraud'])\n",
    "    ax.set(yticks=[0.5, 1.5], xticks=[0.5, 1.5])\n",
    "    ax.set_title(sigma)\n",
    "    plt.show()"
   ]
  }
 ],
 "metadata": {
  "kernelspec": {
   "display_name": "Python 3",
   "language": "python",
   "name": "python3"
  },
  "language_info": {
   "codemirror_mode": {
    "name": "ipython",
    "version": 3
   },
   "file_extension": ".py",
   "mimetype": "text/x-python",
   "name": "python",
   "nbconvert_exporter": "python",
   "pygments_lexer": "ipython3",
   "version": "3.8.8"
  }
 },
 "nbformat": 4,
 "nbformat_minor": 5
}
