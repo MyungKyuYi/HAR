{
 "cells": [
  {
   "cell_type": "code",
   "execution_count": 5,
   "id": "60cf10d2-c709-46ca-a7eb-adfa8a488db4",
   "metadata": {},
   "outputs": [],
   "source": [
    "import torch\n",
    "import torch.nn as nn\n",
    "import torch.optim as optim\n",
    "import numpy as np"
   ]
  },
  {
   "cell_type": "code",
   "execution_count": 16,
   "id": "4c75c926-747f-4ae4-b672-38063da86fc8",
   "metadata": {},
   "outputs": [],
   "source": [
    "class Expert(nn.Module):\n",
    "    def __init__(self, input_dim, hidden_dim, output_dim):\n",
    "        super(Expert, self).__init__()\n",
    "        self.layer1 = nn.Linear(input_dim, hidden_dim)\n",
    "        self.layer2 = nn.Linear(hidden_dim, output_dim)\n",
    "\n",
    "    def forward(self, x):\n",
    "        x = torch.relu(self.layer1(x))\n",
    "        return torch.softmax(self.layer2(x), dim=1)"
   ]
  },
  {
   "cell_type": "code",
   "execution_count": 7,
   "id": "4c4307ca-97d3-4f7d-9f8e-07d4bc2a8a28",
   "metadata": {},
   "outputs": [],
   "source": [
    "class Gating(nn.Module):\n",
    "    def __init__(self, input_dim, num_experts, dropout_rate=0.1):\n",
    "        super(Gating, self).__init__()\n",
    "        self.layer1 = nn.Linear(input_dim, 128)\n",
    "        self.dropout1 = nn.Dropout(dropout_rate)\n",
    "        self.layer2 = nn.Linear(128, 256)\n",
    "        self.leaky_relu1 = nn.LeakyReLU()\n",
    "        self.dropout2 = nn.Dropout(dropout_rate)\n",
    "        self.layer3 = nn.Linear(256, 128)\n",
    "        self.leaky_relu2 = nn.LeakyReLU()\n",
    "        self.dropout3 = nn.Dropout(dropout_rate)\n",
    "        self.layer4 = nn.Linear(128, num_experts)\n",
    "\n",
    "    def forward(self, x):\n",
    "        x = torch.relu(self.layer1(x))\n",
    "        x = self.dropout1(x)\n",
    "        x = self.leaky_relu1(self.layer2(x))\n",
    "        x = self.dropout2(x)\n",
    "        x = self.leaky_relu2(self.layer3(x))\n",
    "        x = self.dropout3(x)\n",
    "        return torch.softmax(self.layer4(x), dim=1)"
   ]
  },
  {
   "cell_type": "code",
   "execution_count": 9,
   "id": "bb2cae3b-c53e-485e-8ba2-8a349a5d07c3",
   "metadata": {},
   "outputs": [],
   "source": [
    "class MoE(nn.Module):\n",
    "    def __init__(self, experts):\n",
    "        super(MoE, self).__init__()\n",
    "        self.experts = nn.ModuleList(experts)\n",
    "        self.gating = Gating(input_dim=experts[0].layer1.in_features, num_experts=len(experts))\n",
    "\n",
    "    def forward(self, x):\n",
    "        # Get the weights from the gating network\n",
    "        weights = self.gating(x)\n",
    "        # Calculate the outputs of each expert\n",
    "        expert_outputs = torch.stack([expert(x) for expert in self.experts], dim=2)\n",
    "        # Adjust weights shape and apply them\n",
    "        weights = weights.unsqueeze(1).expand_as(expert_outputs)\n",
    "        return torch.sum(expert_outputs * weights, dim=2)"
   ]
  },
  {
   "cell_type": "markdown",
   "id": "0cdd3ee1-7eb9-49a3-9754-ebb765e2a64d",
   "metadata": {},
   "source": [
    "Generating Synthetic Data"
   ]
  },
  {
   "cell_type": "code",
   "execution_count": 12,
   "id": "f4572174-020d-43ae-ac1d-c54dfd1fe812",
   "metadata": {},
   "outputs": [],
   "source": [
    "num_samples = 5000\n",
    "input_dim = 4\n",
    "x_data = torch.randn(num_samples, input_dim)\n",
    "y_data = torch.cat([torch.zeros(num_samples // 3),\n",
    "                    torch.ones(num_samples // 3),\n",
    "                    torch.full((num_samples - 2 * (num_samples // 3),), 2)]).long()\n",
    "\n",
    "# Adding biases to data\n",
    "for i in range(num_samples):\n",
    "    if y_data[i] == 0:\n",
    "        x_data[i, 0] += 1\n",
    "    elif y_data[i] == 1:\n",
    "        x_data[i, 1] -= 1\n",
    "    elif y_data[i] == 2:\n",
    "        x_data[i, 0] -= 1\n",
    "\n",
    "# Shuffle and split data\n",
    "shuffled_indices = torch.randperm(num_samples)\n",
    "x_data, y_data = x_data[shuffled_indices], y_data[shuffled_indices]"
   ]
  },
  {
   "cell_type": "code",
   "execution_count": 18,
   "id": "2820378e-16dd-4168-bfbe-3b18ef0f2948",
   "metadata": {},
   "outputs": [],
   "source": [
    "hidden_dim = 32\n",
    "output_dim = 3\n",
    "epochs = 100\n",
    "learning_rate = 0.001\n",
    "\n",
    "experts = [Expert(input_dim, hidden_dim, output_dim) for _ in range(3)]\n",
    "optimizers = [optim.Adam(expert.parameters(), lr=learning_rate) for expert in experts]\n",
    "\n",
    "# Training each expert on tailored data\n",
    "for i, expert in enumerate(experts):\n",
    "    optimizer = optimizers[i]\n",
    "    mask = y_data == i\n",
    "    x_train, y_train = x_data[mask], y_data[mask]\n",
    "    for epoch in range(epochs):\n",
    "        optimizer.zero_grad()\n",
    "        outputs = expert(x_train)\n",
    "        loss = nn.CrossEntropyLoss()(outputs, y_train)\n",
    "        loss.backward()\n",
    "        optimizer.step()"
   ]
  },
  {
   "cell_type": "code",
   "execution_count": 20,
   "id": "1628d42e-c458-4f88-a6ad-96e8280f1959",
   "metadata": {},
   "outputs": [],
   "source": [
    "moe_model = MoE(experts)\n",
    "optimizer_moe = optim.Adam(moe_model.parameters(), lr=learning_rate)\n",
    "\n",
    "x_train_moe = x_data[int(num_samples * 0.8):]\n",
    "y_train_moe = y_data[int(num_samples * 0.8):]\n",
    "\n",
    "for epoch in range(epochs):\n",
    "    optimizer_moe.zero_grad()\n",
    "    outputs_moe = moe_model(x_train_moe)\n",
    "    loss_moe = nn.CrossEntropyLoss()(outputs_moe, y_train_moe)\n",
    "    loss_moe.backward()\n",
    "    optimizer_moe.step()"
   ]
  },
  {
   "cell_type": "code",
   "execution_count": 22,
   "id": "45bd90e6-2ca9-4b84-980e-caeedd23734a",
   "metadata": {},
   "outputs": [
    {
     "name": "stdout",
     "output_type": "stream",
     "text": [
      "Expert 1 Accuracy: 0.3332\n",
      "Expert 2 Accuracy: 0.3332\n",
      "Expert 3 Accuracy: 0.3336\n",
      "Mixture of Experts Accuracy: 0.6608\n"
     ]
    }
   ],
   "source": [
    "def evaluate(model, x, y):\n",
    "    with torch.no_grad():\n",
    "        outputs = model(x)\n",
    "        _, predicted = torch.max(outputs, 1)\n",
    "        correct = (predicted == y).sum().item()\n",
    "        return correct / len(y)\n",
    "\n",
    "# Testing each expert and the MoE\n",
    "accuracy_expert1 = evaluate(experts[0], x_data, y_data)\n",
    "accuracy_expert2 = evaluate(experts[1], x_data, y_data)\n",
    "accuracy_expert3 = evaluate(experts[2], x_data, y_data)\n",
    "accuracy_moe = evaluate(moe_model, x_data, y_data)\n",
    "\n",
    "print(f\"Expert 1 Accuracy: {accuracy_expert1}\")\n",
    "print(f\"Expert 2 Accuracy: {accuracy_expert2}\")\n",
    "print(f\"Expert 3 Accuracy: {accuracy_expert3}\")\n",
    "print(f\"Mixture of Experts Accuracy: {accuracy_moe}\")"
   ]
  },
  {
   "cell_type": "code",
   "execution_count": null,
   "id": "49be0d89-7f78-4a09-aaf8-d3b84ffc4382",
   "metadata": {},
   "outputs": [],
   "source": []
  }
 ],
 "metadata": {
  "kernelspec": {
   "display_name": "Python 3 (ipykernel)",
   "language": "python",
   "name": "python3"
  },
  "language_info": {
   "codemirror_mode": {
    "name": "ipython",
    "version": 3
   },
   "file_extension": ".py",
   "mimetype": "text/x-python",
   "name": "python",
   "nbconvert_exporter": "python",
   "pygments_lexer": "ipython3",
   "version": "3.12.4"
  }
 },
 "nbformat": 4,
 "nbformat_minor": 5
}
