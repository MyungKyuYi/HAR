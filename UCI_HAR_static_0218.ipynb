{
 "cells": [
  {
   "cell_type": "code",
   "execution_count": 37,
   "id": "04ae9e59-a121-401d-b848-e034e7e9f114",
   "metadata": {},
   "outputs": [],
   "source": [
    "import numpy as np\n",
    "import pandas as pd\n",
    "from scipy.signal import butter, filtfilt\n",
    "from tensorflow.keras.utils import to_categorical\n",
    "import pandas as pd\n",
    "from tensorflow.keras import layers"
   ]
  },
  {
   "cell_type": "code",
   "execution_count": 38,
   "id": "07a8c223-c0b9-4b54-be91-6766dbee17a4",
   "metadata": {},
   "outputs": [
    {
     "name": "stderr",
     "output_type": "stream",
     "text": [
      "<>:3: SyntaxWarning: invalid escape sequence '\\s'\n",
      "<>:3: SyntaxWarning: invalid escape sequence '\\s'\n",
      "C:\\Users\\Public\\Documents\\ESTsoft\\CreatorTemp\\ipykernel_10708\\946468000.py:3: SyntaxWarning: invalid escape sequence '\\s'\n",
      "  dataframe = pd.read_csv(filepath, header=None, sep='\\s+')\n"
     ]
    },
    {
     "name": "stdout",
     "output_type": "stream",
     "text": [
      "TrainX shape: (4067, 128, 9), Trainy shape: (4067,), Trainy One-Hot shape: (4067, 3)\n",
      "TestX shape: (1560, 128, 9), Testy shape: (1560,), Testy One-Hot shape: (1560, 3)\n"
     ]
    }
   ],
   "source": [
    "\n",
    "# 파일을 로드하는 함수\n",
    "def load_file(filepath):\n",
    "    dataframe = pd.read_csv(filepath, header=None, sep='\\s+')\n",
    "    return dataframe.values\n",
    "\n",
    "# 여러 개의 파일을 로드하고 3D numpy 배열로 변환하는 함수\n",
    "def load_group(filenames, prefix=''):\n",
    "    loaded = list()\n",
    "    for name in filenames:\n",
    "        data = load_file(prefix + name)\n",
    "        loaded.append(data)\n",
    "    return np.dstack(loaded)  # (samples, timesteps, features)\n",
    "\n",
    "# train 또는 test 데이터 그룹을 로드하는 함수\n",
    "def load_dataset_group(group, prefix=''):\n",
    "    filepath = prefix + group + '/Inertial Signals/'\n",
    "    filenames = [\n",
    "        'total_acc_x_'+group+'.txt', 'total_acc_y_'+group+'.txt', 'total_acc_z_'+group+'.txt',\n",
    "        'body_acc_x_'+group+'.txt', 'body_acc_y_'+group+'.txt', 'body_acc_z_'+group+'.txt',\n",
    "        'body_gyro_x_'+group+'.txt', 'body_gyro_y_'+group+'.txt', 'body_gyro_z_'+group+'.txt'\n",
    "    ]\n",
    "    X = load_group(filenames, filepath)\n",
    "    y = load_file(prefix + group + '/y_'+group+'.txt').flatten()  # 2D -> 1D 변환\n",
    "    return X, y\n",
    "\n",
    "def load_dataset(prefix=''):\n",
    "    # 전체 데이터 로드\n",
    "    trainX, trainy = load_dataset_group('train', prefix + 'E:/dataset/HAR/UCI-HAR/')\n",
    "    testX, testy = load_dataset_group('test', prefix + 'E:/dataset/HAR/UCI-HAR/')\n",
    "\n",
    "    # 정적 행동 클래스 (4: SITTING, 5: STANDING, 6: LAYING)\n",
    "    static_classes = [4, 5, 6]\n",
    "\n",
    "    # 정적 행동에 해당하는 데이터만 필터링\n",
    "    train_mask = np.isin(trainy, static_classes)\n",
    "    test_mask = np.isin(testy, static_classes)\n",
    "\n",
    "    trainX, trainy = trainX[train_mask], trainy[train_mask]\n",
    "    testX, testy = testX[test_mask], testy[test_mask]\n",
    "\n",
    "    # 클래스 값을 0부터 시작하도록 조정 (4 → 0, 5 → 1, 6 → 2)\n",
    "    trainy = np.array([static_classes.index(label) for label in trainy])\n",
    "    testy = np.array([static_classes.index(label) for label in testy])\n",
    "\n",
    "    # 원-핫 인코딩\n",
    "    trainy_one_hot = to_categorical(trainy, num_classes=3)\n",
    "    testy_one_hot = to_categorical(testy, num_classes=3)\n",
    "\n",
    "    print(f\"TrainX shape: {trainX.shape}, Trainy shape: {trainy.shape}, Trainy One-Hot shape: {trainy_one_hot.shape}\")\n",
    "    print(f\"TestX shape: {testX.shape}, Testy shape: {testy.shape}, Testy One-Hot shape: {testy_one_hot.shape}\")\n",
    "\n",
    "    return trainX, trainy, trainy_one_hot, testX, testy, testy_one_hot\n",
    "\n",
    "# 데이터 로드 실행\n",
    "trainX, trainy, trainy_one_hot, testX, testy, testy_one_hot = load_dataset()\n"
   ]
  },
  {
   "cell_type": "code",
   "execution_count": 39,
   "id": "f9670e3a-fdd4-47ed-8885-ad4a97145b13",
   "metadata": {},
   "outputs": [
    {
     "name": "stdout",
     "output_type": "stream",
     "text": [
      "7\n"
     ]
    }
   ],
   "source": [
    "from sklearn.preprocessing import StandardScaler\n",
    "from sklearn.decomposition import PCA\n",
    "\n",
    "# Standard Scaling\n",
    "scaler_std = StandardScaler()\n",
    "\n",
    "# 데이터 평탄화 후 스케일링\n",
    "trainX_flat_std = trainX.reshape(-1, 9)\n",
    "testX_flat_std = testX.reshape(-1, 9)\n",
    "\n",
    "trainX_std = scaler_std.fit_transform(trainX_flat_std)\n",
    "testX_std = scaler_std.transform(testX_flat_std)\n",
    "\n",
    "# PCA 적용\n",
    "n_components = 0.9  # 원하는 차원 수\n",
    "pca = PCA(n_components=n_components)\n",
    "trainX_pca = pca.fit_transform(trainX_std)\n",
    "testX_pca = pca.transform(testX_std)\n",
    "\n",
    "print(pca.n_components_)"
   ]
  },
  {
   "cell_type": "code",
   "execution_count": 40,
   "id": "be5bcc8d-93b0-4558-aa72-0064f57d7e05",
   "metadata": {},
   "outputs": [
    {
     "name": "stdout",
     "output_type": "stream",
     "text": [
      "Standard Scaled trainX shape: (4067, 128, 7)\n",
      "Standard Scaled testX shape: (1560, 128, 7)\n"
     ]
    }
   ],
   "source": [
    "# 시간 축과 feature 축 설정\n",
    "timesteps = 128  # 원래 시간 축 크기\n",
    "components = pca.n_components_\n",
    "# 원래 형태로 변환\n",
    "X_train = trainX_pca.reshape(-1, timesteps, components)\n",
    "testX = testX_pca.reshape(-1, timesteps, components)\n",
    "\n",
    "print(\"Standard Scaled trainX shape:\", X_train.shape)\n",
    "print(\"Standard Scaled testX shape:\", testX.shape)"
   ]
  },
  {
   "cell_type": "code",
   "execution_count": 41,
   "id": "dac9c334-3de4-46b2-bf39-c4d3ce99eff7",
   "metadata": {},
   "outputs": [],
   "source": [
    "def class_breakdown(data):\n",
    "    # convert the numpy array into a dataframe\n",
    "    df = pd.DataFrame(data)\n",
    "    # group data by the class value and calculate the number of rows\n",
    "    counts = df.groupby(0).size()\n",
    "    # retrieve raw rows\n",
    "    counts = counts.values\n",
    "    # summarize\n",
    "    for i in range(len(counts)):\n",
    "        percent = counts[i] / len(df) * 100\n",
    "        print('Class=%d, total=%d, percentage=%.3f' % (i+1, counts[i], percent))"
   ]
  },
  {
   "cell_type": "code",
   "execution_count": 42,
   "id": "2d9c2cdf-d2d6-493c-8989-6a120a0d48f5",
   "metadata": {},
   "outputs": [
    {
     "name": "stdout",
     "output_type": "stream",
     "text": [
      "Class=1, total=1286, percentage=31.620\n",
      "Class=2, total=1374, percentage=33.784\n",
      "Class=3, total=1407, percentage=34.596\n"
     ]
    }
   ],
   "source": [
    "class_breakdown(trainy)"
   ]
  },
  {
   "cell_type": "code",
   "execution_count": 43,
   "id": "19ca77e4-593a-4cf2-940c-1eb7c9876364",
   "metadata": {},
   "outputs": [],
   "source": [
    "import os\n",
    "\n",
    "from tensorflow.keras import backend as K\n",
    "from tensorflow.keras.layers import Dense, Lambda, Dot, Activation, Concatenate, Layer, RepeatVector, Add, Permute, Multiply\n",
    "\n",
    "# KERAS_ATTENTION_DEBUG: If set to 1. Will switch to debug mode.\n",
    "# In debug mode, the class Attention is no longer a Keras layer.\n",
    "# What it means in practice is that we can have access to the internal values\n",
    "# of each tensor. If we don't use debug, Keras treats the object\n",
    "# as a layer, and we can only get the final output.\n",
    "debug_flag = int(os.environ.get('KERAS_ATTENTION_DEBUG', 0))\n",
    "\n",
    "\n",
    "# References:\n",
    "# - https://arxiv.org/pdf/1508.04025.pdf (Luong).\n",
    "# - https://arxiv.org/pdf/1409.0473.pdf (Bahdanau).\n",
    "# - https://machinelearningmastery.com/the-bahdanau-attention-mechanism/ (Some more explanation).\n",
    "\n",
    "class Attention(object if debug_flag else Layer):\n",
    "    SCORE_LUONG = 'luong'\n",
    "    SCORE_BAHDANAU = 'bahdanau'\n",
    "\n",
    "    def __init__(self, units: int = 128, score: str = 'luong', **kwargs):\n",
    "        super(Attention, self).__init__(**kwargs)\n",
    "        if score not in {self.SCORE_LUONG, self.SCORE_BAHDANAU}:\n",
    "            raise ValueError(f'Possible values for score are: [{self.SCORE_LUONG}] and [{self.SCORE_BAHDANAU}].')\n",
    "        self.units = units\n",
    "        self.score = score\n",
    "\n",
    "    # noinspection PyAttributeOutsideInit\n",
    "    def build(self, input_shape):\n",
    "        input_dim = int(input_shape[-1])\n",
    "        with K.name_scope(self.name if not debug_flag else 'attention'):\n",
    "            # W in W*h_S.\n",
    "            if self.score == self.SCORE_LUONG:\n",
    "                self.luong_w = Dense(input_dim, use_bias=False, name='luong_w')\n",
    "                # dot : last hidden state H_t and every hidden state H_s.\n",
    "                self.luong_dot = Dot(axes=[1, 2], name='attention_score')\n",
    "            else:\n",
    "                # Dense implements the operation: output = activation(dot(input, kernel) + bias)\n",
    "                self.bahdanau_v = Dense(1, use_bias=False, name='bahdanau_v')\n",
    "                self.bahdanau_w1 = Dense(input_dim, use_bias=False, name='bahdanau_w1')\n",
    "                self.bahdanau_w2 = Dense(input_dim, use_bias=False, name='bahdanau_w2')\n",
    "                self.bahdanau_repeat = RepeatVector(input_shape[1])\n",
    "                self.bahdanau_tanh = Activation('tanh', name='bahdanau_tanh')\n",
    "                self.bahdanau_add = Add()\n",
    "\n",
    "            self.h_t = Lambda(lambda x: x[:, -1, :], output_shape=(input_dim,), name='last_hidden_state')\n",
    "\n",
    "            # exp / sum(exp) -> softmax.\n",
    "            self.softmax_normalizer = Activation('softmax', name='attention_weight')\n",
    "\n",
    "            # dot : score * every hidden state H_s.\n",
    "            # dot product. SUM(v1*v2). H_s = every source hidden state.\n",
    "            self.dot_context = Dot(axes=[1, 1], name='context_vector')\n",
    "\n",
    "            # [Ct; ht]\n",
    "            self.concat_c_h = Concatenate(name='attention_output')\n",
    "\n",
    "            # x -> tanh(w_c(x))\n",
    "            self.w_c = Dense(self.units, use_bias=False, activation='tanh', name='attention_vector')\n",
    "        if not debug_flag:\n",
    "            # debug: the call to build() is done in call().\n",
    "            super(Attention, self).build(input_shape)\n",
    "\n",
    "    def compute_output_shape(self, input_shape):\n",
    "        return input_shape[0], self.units\n",
    "\n",
    "    def __call__(self, inputs, training=None, **kwargs):\n",
    "        if debug_flag:\n",
    "            return self.call(inputs, training, **kwargs)\n",
    "        else:\n",
    "            return super(Attention, self).__call__(inputs, training, **kwargs)\n",
    "\n",
    "    # noinspection PyUnusedLocal\n",
    "    def call(self, inputs, training=None, **kwargs):\n",
    "        \"\"\"\n",
    "        Many-to-one attention mechanism for Keras. Supports:\n",
    "            - Luong's multiplicative style.\n",
    "            - Bahdanau's additive style.\n",
    "        @param inputs: 3D tensor with shape (batch_size, time_steps, input_dim).\n",
    "        @param training: not used in this layer.\n",
    "        @return: 2D tensor with shape (batch_size, units)\n",
    "        @author: philipperemy, felixhao28.\n",
    "        \"\"\"\n",
    "        h_s = inputs\n",
    "        if debug_flag:\n",
    "            self.build(h_s.shape)\n",
    "        h_t = self.h_t(h_s)\n",
    "        if self.score == self.SCORE_LUONG:\n",
    "            # Luong's multiplicative style.\n",
    "            score = self.luong_dot([h_t, self.luong_w(h_s)])\n",
    "        else:\n",
    "            # Bahdanau's additive style.\n",
    "            self.bahdanau_w1(h_s)\n",
    "            a1 = self.bahdanau_w1(h_t)\n",
    "            a2 = self.bahdanau_w2(h_s)\n",
    "            a1 = self.bahdanau_repeat(a1)\n",
    "            score = self.bahdanau_tanh(self.bahdanau_add([a1, a2]))\n",
    "            score = self.bahdanau_v(score)\n",
    "            score = K.squeeze(score, axis=-1)\n",
    "\n",
    "        alpha_s = self.softmax_normalizer(score)\n",
    "        context_vector = self.dot_context([h_s, alpha_s])\n",
    "        a_t = self.w_c(self.concat_c_h([context_vector, h_t]))\n",
    "        return a_t\n",
    "\n",
    "    def get_config(self):\n",
    "        config = super(Attention, self).get_config()\n",
    "        config.update({'units': self.units, 'score': self.score})\n",
    "        return config"
   ]
  },
  {
   "cell_type": "code",
   "execution_count": 44,
   "id": "bc68ec89-9d59-46dd-9c2e-419087c64a36",
   "metadata": {},
   "outputs": [],
   "source": [
    "SINGLE_ATTENTION_VECTOR = False\n",
    "INPUT_DIMS = 3\n",
    "\n",
    "def attention_3d_block(inputs):\n",
    "    # inputs.shape = (batch_size, time_steps, input_dim)\n",
    "    input_dim = int(inputs.shape[2])\n",
    "    a = inputs\n",
    "    a = tf.keras.layers.Permute((2, 1))(inputs)\n",
    "    #a = Reshape((input_dim, TIME_STEPS))(a) # this line is not useful. It's just to know which dimension is what.\n",
    "    a = Dense(input_dim, activation='softmax')(a)\n",
    "    if SINGLE_ATTENTION_VECTOR:\n",
    "        a = Lambda(lambda x: K.mean(x, axis=1), name='dim_reduction')(a)\n",
    "        a = RepeatVector(input_dim)(a)\n",
    "    a_probs = Permute((1, 2), name='attention_vec')(a)\n",
    "\n",
    "    #output_attention_mul = merge([inputs, a_probs], name='attention_mul', mode='mul')\n",
    "    output_attention_mul = Multiply()([inputs, a_probs])\n",
    "    return output_attention_mul\n",
    "\n",
    "# Another way of writing the attention mechanism is suitable for the use of the above error source:https://blog.csdn.net/uhauha2929/article/details/80733255\n",
    "def attention_3d_block2(inputs, single_attention_vector=False):\n",
    "    # If the upper layer is LSTM, you need return_sequences=True\n",
    "    # inputs.shape = (batch_size, time_steps, input_dim)\n",
    "    time_steps = K.int_shape(inputs)[1]\n",
    "    input_dim = K.int_shape(inputs)[2]\n",
    "    a = Permute((2, 1))(inputs)\n",
    "    a = Dense(time_steps, activation='softmax')(a)\n",
    "    if single_attention_vector:\n",
    "        a = Lambda(lambda x: K.mean(x, axis=1))(a)\n",
    "        a = RepeatVector(input_dim)(a)\n",
    "\n",
    "    a_probs = Permute((2, 1))(a)\n",
    "    # Multiplied by the attention weight, but there is no summation, it seems to have little effect\n",
    "    # If you classify tasks, you can do Flatten expansion\n",
    "    # element-wise\n",
    "    output_attention_mul = Multiply()([inputs, a_probs])\n",
    "    return output_attention_mul"
   ]
  },
  {
   "cell_type": "code",
   "execution_count": 45,
   "id": "282b54e9-73e5-47d4-a6f0-4279e471de09",
   "metadata": {},
   "outputs": [],
   "source": [
    "INPUT_DIMS = 3"
   ]
  },
  {
   "cell_type": "code",
   "execution_count": 46,
   "id": "5d9dabe6-170e-425c-a6f3-4c42851714b3",
   "metadata": {},
   "outputs": [],
   "source": [
    "trainy_one_hot = to_categorical(trainy)\n",
    "testy_one_hot = to_categorical(testy)"
   ]
  },
  {
   "cell_type": "code",
   "execution_count": 47,
   "id": "3051139e-650e-4804-844b-be60bf2d5aa1",
   "metadata": {},
   "outputs": [
    {
     "data": {
      "text/plain": [
       "((4067, 128, 7), (4067, 3), (1560, 128, 7), (1560, 3))"
      ]
     },
     "execution_count": 47,
     "metadata": {},
     "output_type": "execute_result"
    }
   ],
   "source": [
    "X_train.shape, trainy_one_hot.shape, testX.shape, testy_one_hot.shape"
   ]
  },
  {
   "cell_type": "code",
   "execution_count": 48,
   "id": "9fbd32c1-5083-41a1-8791-c623c819feab",
   "metadata": {},
   "outputs": [
    {
     "data": {
      "text/plain": [
       "(128, 7, 3)"
      ]
     },
     "execution_count": 48,
     "metadata": {},
     "output_type": "execute_result"
    }
   ],
   "source": [
    "#score='luong'\n",
    "score='bahdanau'\n",
    "\n",
    "n_timesteps, n_features, n_outputs = X_train.shape[1], X_train.shape[2], trainy_one_hot.shape[1]\n",
    "n_timesteps, n_features, n_outputs"
   ]
  },
  {
   "cell_type": "code",
   "execution_count": 49,
   "id": "f5c16554-eb1e-4529-9202-6068cb300d3c",
   "metadata": {},
   "outputs": [
    {
     "name": "stdout",
     "output_type": "stream",
     "text": [
      "X train shape:  (4067, 128, 7)\n",
      "Y train shape:  (4067,)\n",
      "Y train One hot shape:  (4067, 3)\n",
      "X test shape:  (1560, 128, 7)\n",
      "Y test shape:  (1560,)\n",
      "Y test One hot shape:  (1560, 3)\n"
     ]
    }
   ],
   "source": [
    "print(\"X train shape: \", X_train.shape)\n",
    "print(\"Y train shape: \", trainy.shape)\n",
    "print(\"Y train One hot shape: \", trainy_one_hot.shape)\n",
    "print(\"X test shape: \", testX.shape)\n",
    "print(\"Y test shape: \", testy.shape)\n",
    "print(\"Y test One hot shape: \", testy_one_hot.shape)"
   ]
  },
  {
   "cell_type": "code",
   "execution_count": 50,
   "id": "b5306af4-2285-4b8f-87f2-e355f9c23735",
   "metadata": {},
   "outputs": [
    {
     "name": "stdout",
     "output_type": "stream",
     "text": [
      "Train data label statistics::\n",
      "[[   0 1286]\n",
      " [   1 1374]\n",
      " [   2 1407]]\n",
      "Test data label statistics::\n",
      "[[  0 491]\n",
      " [  1 532]\n",
      " [  2 537]]\n"
     ]
    }
   ],
   "source": [
    "unique, counts = np.unique(trainy, return_counts=True)\n",
    "print (\"Train data label statistics::\")\n",
    "print (np.asarray((unique, counts)).T)\n",
    "\n",
    "unique, counts = np.unique(testy, return_counts=True)\n",
    "print (\"Test data label statistics::\")\n",
    "print (np.asarray((unique, counts)).T)"
   ]
  },
  {
   "cell_type": "code",
   "execution_count": 51,
   "id": "c240f5d5-c103-4bb2-a875-7e32b58dc88e",
   "metadata": {},
   "outputs": [],
   "source": [
    "def low_pass_filter(data, cutoff=0.1, fs=50, order=2):\n",
    "    nyquist = 0.5 * fs\n",
    "    normal_cutoff = cutoff / nyquist\n",
    "    b, a = butter(order, normal_cutoff, btype='low', analog=False)\n",
    "    \n",
    "    padlen = max(3 * order, 9)\n",
    "    if len(data) < padlen:\n",
    "        return data  # 데이터 길이가 충분하지 않으면 필터 적용 없이 반환\n",
    "    \n",
    "    return filtfilt(b, a, data)"
   ]
  },
  {
   "cell_type": "code",
   "execution_count": 52,
   "id": "580ad282-aaf2-425d-9e17-18a092dcaaf8",
   "metadata": {},
   "outputs": [],
   "source": [
    "import numpy as np\n",
    "from scipy.fftpack import fft\n",
    "\n",
    "def zero_crossing_rate(signal):\n",
    "    \"\"\" 신호의 Zero-Crossing Rate (ZCR) 계산 \"\"\"\n",
    "    return np.sum(np.diff(np.sign(signal)) != 0) / len(signal)\n",
    "\n",
    "def spectral_energy(signal):\n",
    "    \"\"\" 신호의 Spectral Energy 계산 (FFT 활용) \"\"\"\n",
    "    fft_vals = np.abs(fft(signal))\n",
    "    return np.sum(fft_vals**2) / len(signal)\n",
    "\n",
    "def extract_features(X, feature_indices):\n",
    "    features = {}\n",
    "    \n",
    "    # 필터링된 센서 데이터\n",
    "    z_accel = low_pass_filter(X[:, feature_indices['body_acc_z']])\n",
    "    y_accel = low_pass_filter(X[:, feature_indices['body_acc_y']])\n",
    "    x_accel = low_pass_filter(X[:, feature_indices['body_acc_x']])\n",
    "    gyro_x = low_pass_filter(X[:, feature_indices['body_gyro_x']])\n",
    "    gyro_y = low_pass_filter(X[:, feature_indices['body_gyro_y']])\n",
    "    \n",
    "    # **1. 정적 상태 분석 특징 (앉기 vs. 서기)**\n",
    "    features['z_accel_mean'] = np.mean(z_accel)  # Z축 가속도 평균값\n",
    "    features['z_accel_change'] = np.max(z_accel) - np.min(z_accel)  # Z축 변화량\n",
    "    features['x_accel_var'] = np.var(x_accel)  # X축 가속도 분산\n",
    "    features['y_accel_var'] = np.var(y_accel)  # Y축 가속도 분산\n",
    "    features['gyro_x_mean'] = np.mean(gyro_x)  # X축 자이로 평균값\n",
    "    features['gyro_y_var'] = np.var(gyro_y)  # Y축 자이로 분산\n",
    "    features['static_intensity'] = np.std(z_accel) + np.std(x_accel) + np.std(y_accel)  # 정적 강도\n",
    "\n",
    "    # **2. 추가 정적 행위 분석 특징**\n",
    "    features['sma'] = np.mean(np.abs(x_accel)) + np.mean(np.abs(y_accel)) + np.mean(np.abs(z_accel))  # Signal Magnitude Area\n",
    "    features['zcr_x'] = zero_crossing_rate(x_accel)  # X축 Zero-Crossing Rate\n",
    "    features['zcr_y'] = zero_crossing_rate(y_accel)  # Y축 Zero-Crossing Rate\n",
    "    features['zcr_z'] = zero_crossing_rate(z_accel)  # Z축 Zero-Crossing Rate\n",
    "    features['spectral_energy_x'] = spectral_energy(x_accel)  # X축 주파수 에너지\n",
    "    features['spectral_energy_y'] = spectral_energy(y_accel)  # Y축 주파수 에너지\n",
    "    features['spectral_energy_z'] = spectral_energy(z_accel)  # Z축 주파수 에너지\n",
    "\n",
    "    return features\n",
    "\n",
    "# 주요 센서 데이터 컬럼 인덱스\n",
    "feature_indices = {\n",
    "    'body_acc_x': 0,\n",
    "    'body_acc_y': 1,\n",
    "    'body_acc_z': 2,\n",
    "    'body_gyro_x': 6,\n",
    "    'body_gyro_y': 7\n",
    "}\n"
   ]
  },
  {
   "cell_type": "markdown",
   "id": "13f46830-6cd7-420d-9597-0db75b04e514",
   "metadata": {},
   "source": [
    "def extract_features(X, feature_indices):\n",
    "    features = {}\n",
    "    \n",
    "    # 필터링된 센서 데이터\n",
    "    z_accel = low_pass_filter(X[:, feature_indices['body_acc_z']])\n",
    "    y_accel = low_pass_filter(X[:, feature_indices['body_acc_y']])\n",
    "    x_accel = low_pass_filter(X[:, feature_indices['body_acc_x']])\n",
    "    gyro_x = low_pass_filter(X[:, feature_indices['body_gyro_x']])\n",
    "    gyro_y = low_pass_filter(X[:, feature_indices['body_gyro_y']])\n",
    "    \n",
    "    # **앉기 vs. 서기 구분을 위한 특징 추출 (정적 행위 분석)**\n",
    "    # Z축 가속도 평균값 (서 있을 때보다 앉을 때 평균값이 낮음)\n",
    "    features['z_accel_mean'] = np.mean(z_accel)\n",
    "    \n",
    "    # Z축 가속도 변화량 (정적 상태에서는 변화량이 작음)\n",
    "    features['z_accel_change'] = np.max(z_accel) - np.min(z_accel)\n",
    "    \n",
    "    # X축 가속도의 변화량 (정적 상태에서는 거의 변화 없음)\n",
    "    features['x_accel_var'] = np.var(x_accel)\n",
    "    \n",
    "    # Y축 가속도의 변화량 (균형 유지에 따른 미세 움직임 분석)\n",
    "    features['y_accel_var'] = np.var(y_accel)\n",
    "    \n",
    "    # X축 자이로스코프 평균값 (정적 상태에서 낮은 움직임)\n",
    "    features['gyro_x_mean'] = np.mean(gyro_x)\n",
    "    \n",
    "    # Y축 자이로스코프 변화량 (미세 균형 조절 분석)\n",
    "    features['gyro_y_var'] = np.var(gyro_y)\n",
    "    \n",
    "    # 추가적인 정적 상태 감지 - 움직임이 적은 경우를 강조\n",
    "    features['static_intensity'] = np.std(z_accel) + np.std(x_accel) + np.std(y_accel)\n",
    "    \n",
    "    return features\n",
    "\n",
    "# 주요 센서 데이터 컬럼 인덱스\n",
    "feature_indices = {\n",
    "    'body_acc_x': 0,\n",
    "    'body_acc_y': 1,\n",
    "    'body_acc_z': 2,\n",
    "    'body_gyro_x': 6,\n",
    "    'body_gyro_y': 7\n",
    "}\n"
   ]
  },
  {
   "cell_type": "code",
   "execution_count": 53,
   "id": "7ca51c9e-e532-4692-b38f-298cc4792a3b",
   "metadata": {},
   "outputs": [],
   "source": [
    "# 데이터셋에서 특징을 추출하는 함수\n",
    "def extract_features_from_dataset(X, feature_indices):\n",
    "    feature_list = []\n",
    "    for i in range(X.shape[0]):  # 각 샘플에 대해 특징을 추출\n",
    "        features = extract_features(X[i], feature_indices)\n",
    "        feature_list.append(features)\n",
    "\n",
    "    return pd.DataFrame(feature_list)  # DataFrame으로 변환하여 가시성 확보"
   ]
  },
  {
   "cell_type": "code",
   "execution_count": 54,
   "id": "83d00462-af05-494a-b4ca-dcc3ec5de4ac",
   "metadata": {},
   "outputs": [
    {
     "name": "stderr",
     "output_type": "stream",
     "text": [
      "<>:3: SyntaxWarning: invalid escape sequence '\\s'\n",
      "<>:3: SyntaxWarning: invalid escape sequence '\\s'\n",
      "C:\\Users\\Public\\Documents\\ESTsoft\\CreatorTemp\\ipykernel_10708\\1273971131.py:3: SyntaxWarning: invalid escape sequence '\\s'\n",
      "  dataframe = pd.read_csv(filepath, header=None, sep='\\s+')\n"
     ]
    },
    {
     "name": "stdout",
     "output_type": "stream",
     "text": [
      "TrainX shape: (4067, 128, 9), Trainy shape: (4067,), Trainy One-Hot shape: (4067, 3)\n",
      "TestX shape: (1560, 128, 9), Testy shape: (1560,), Testy One-Hot shape: (1560, 3)\n"
     ]
    }
   ],
   "source": [
    "# 파일을 로드하는 함수\n",
    "def load_file(filepath):\n",
    "    dataframe = pd.read_csv(filepath, header=None, sep='\\s+')\n",
    "    return dataframe.values\n",
    "\n",
    "# 여러 개의 파일을 로드하고 3D numpy 배열로 변환하는 함수\n",
    "def load_group(filenames, prefix=''):\n",
    "    loaded = list()\n",
    "    for name in filenames:\n",
    "        data = load_file(prefix + name)\n",
    "        loaded.append(data)\n",
    "    return np.dstack(loaded)  # (samples, timesteps, features)\n",
    "\n",
    "# train 또는 test 데이터 그룹을 로드하는 함수\n",
    "def load_dataset_group(group, prefix=''):\n",
    "    filepath = prefix + group + '/Inertial Signals/'\n",
    "    filenames = [\n",
    "        'total_acc_x_'+group+'.txt', 'total_acc_y_'+group+'.txt', 'total_acc_z_'+group+'.txt',\n",
    "        'body_acc_x_'+group+'.txt', 'body_acc_y_'+group+'.txt', 'body_acc_z_'+group+'.txt',\n",
    "        'body_gyro_x_'+group+'.txt', 'body_gyro_y_'+group+'.txt', 'body_gyro_z_'+group+'.txt'\n",
    "    ]\n",
    "    X = load_group(filenames, filepath)\n",
    "    y = load_file(prefix + group + '/y_'+group+'.txt').flatten()  # 2D -> 1D 변환\n",
    "    return X, y\n",
    "\n",
    "def load_dataset(prefix=''):\n",
    "    # 전체 데이터 로드\n",
    "    trainX, trainy = load_dataset_group('train', prefix + 'E:/dataset/HAR/UCI-HAR/')\n",
    "    testX, testy = load_dataset_group('test', prefix + 'E:/dataset/HAR/UCI-HAR/')\n",
    "\n",
    "    # 정적 행동 클래스 (4: SITTING, 5: STANDING, 6: LAYING)\n",
    "    static_classes = [4, 5, 6]\n",
    "\n",
    "    # 정적 행동에 해당하는 데이터만 필터링\n",
    "    train_mask = np.isin(trainy, static_classes)\n",
    "    test_mask = np.isin(testy, static_classes)\n",
    "\n",
    "    trainX, trainy = trainX[train_mask], trainy[train_mask]\n",
    "    testX, testy = testX[test_mask], testy[test_mask]\n",
    "\n",
    "    # 클래스 값을 0부터 시작하도록 조정 (4 → 0, 5 → 1, 6 → 2)\n",
    "    trainy = np.array([static_classes.index(label) for label in trainy])\n",
    "    testy = np.array([static_classes.index(label) for label in testy])\n",
    "\n",
    "    # 원-핫 인코딩\n",
    "    trainy_one_hot = to_categorical(trainy, num_classes=3)\n",
    "    testy_one_hot = to_categorical(testy, num_classes=3)\n",
    "\n",
    "    print(f\"TrainX shape: {trainX.shape}, Trainy shape: {trainy.shape}, Trainy One-Hot shape: {trainy_one_hot.shape}\")\n",
    "    print(f\"TestX shape: {testX.shape}, Testy shape: {testy.shape}, Testy One-Hot shape: {testy_one_hot.shape}\")\n",
    "\n",
    "    return trainX, trainy, trainy_one_hot, testX, testy, testy_one_hot\n",
    "\n",
    "# 데이터 로드 실행\n",
    "trainX2, trainy2, trainy_one_hot2, testX2, testy2, testy_one_hot2 = load_dataset()\n",
    "\n",
    "# 특징 데이터셋 추출\n",
    "train_features = extract_features_from_dataset(trainX2, feature_indices)\n",
    "test_features = extract_features_from_dataset(testX2, feature_indices)"
   ]
  },
  {
   "cell_type": "code",
   "execution_count": 55,
   "id": "6023d2a7-4d39-464a-b383-2cd85c2e34ee",
   "metadata": {},
   "outputs": [],
   "source": [
    "def compare_arrays(arr1, arr2):\n",
    "    \"\"\"\n",
    "    두 개의 NumPy 배열이 동일한지 비교하는 함수.\n",
    "    \"\"\"\n",
    "    if np.array_equal(arr1, arr2):\n",
    "        print(\"✅ 두 개의 NumPy 배열이 완전히 동일합니다.\")\n",
    "        return True\n",
    "    else:\n",
    "        print(\"❌ 두 개의 NumPy 배열이 다릅니다.\")\n",
    "        \n",
    "        # 차이점 찾기\n",
    "        diff = arr1 != arr2\n",
    "        print(\"🔍 차이점 위치:\", np.where(diff))\n",
    "        print(\"🔍 arr1 값:\", arr1[diff])\n",
    "        print(\"🔍 arr2 값:\", arr2[diff])\n",
    "        \n",
    "        return False"
   ]
  },
  {
   "cell_type": "code",
   "execution_count": 56,
   "id": "040f5d19-671d-4a81-9750-677072959c38",
   "metadata": {},
   "outputs": [
    {
     "name": "stdout",
     "output_type": "stream",
     "text": [
      "✅ 두 개의 NumPy 배열이 완전히 동일합니다.\n",
      "✅ 두 개의 NumPy 배열이 완전히 동일합니다.\n"
     ]
    },
    {
     "data": {
      "text/plain": [
       "True"
      ]
     },
     "execution_count": 56,
     "metadata": {},
     "output_type": "execute_result"
    }
   ],
   "source": [
    "compare_arrays(trainy, trainy2)  \n",
    "compare_arrays(testy, testy2)  "
   ]
  },
  {
   "cell_type": "code",
   "execution_count": 57,
   "id": "0b9bcaad-9c48-40b0-8ea6-254b4384dac5",
   "metadata": {},
   "outputs": [
    {
     "data": {
      "text/plain": [
       "(4067, 14)"
      ]
     },
     "execution_count": 57,
     "metadata": {},
     "output_type": "execute_result"
    }
   ],
   "source": [
    "train_features.shape"
   ]
  },
  {
   "cell_type": "code",
   "execution_count": 58,
   "id": "22b55b62-5582-44be-9a07-9a6b96c1e598",
   "metadata": {},
   "outputs": [],
   "source": [
    "import tensorflow as tf\n",
    "from tensorflow.keras.models import Model\n",
    "from tensorflow.keras.layers import Input, LSTM, Dense\n",
    "import os\n",
    "from tensorflow.keras import backend as K\n",
    "from tensorflow.keras.layers import Dense, Lambda, Dot, Activation, Concatenate, Layer, RepeatVector, Add, Permute, Multiply, Flatten\n",
    "from tensorflow.keras.layers import Dropout"
   ]
  },
  {
   "cell_type": "code",
   "execution_count": 66,
   "id": "1ec73143-dda0-46b4-8197-b653d8901250",
   "metadata": {},
   "outputs": [
    {
     "data": {
      "text/html": [
       "<pre style=\"white-space:pre;overflow-x:auto;line-height:normal;font-family:Menlo,'DejaVu Sans Mono',consolas,'Courier New',monospace\"><span style=\"font-weight: bold\">Model: \"functional_3\"</span>\n",
       "</pre>\n"
      ],
      "text/plain": [
       "\u001b[1mModel: \"functional_3\"\u001b[0m\n"
      ]
     },
     "metadata": {},
     "output_type": "display_data"
    },
    {
     "data": {
      "text/html": [
       "<pre style=\"white-space:pre;overflow-x:auto;line-height:normal;font-family:Menlo,'DejaVu Sans Mono',consolas,'Courier New',monospace\">┏━━━━━━━━━━━━━━━━━━━━━━━━━━━━━━━┳━━━━━━━━━━━━━━━━━━━━━━━━━━━┳━━━━━━━━━━━━━━━━━┳━━━━━━━━━━━━━━━━━━━━━━━━━━━━┓\n",
       "┃<span style=\"font-weight: bold\"> Layer (type)                  </span>┃<span style=\"font-weight: bold\"> Output Shape              </span>┃<span style=\"font-weight: bold\">         Param # </span>┃<span style=\"font-weight: bold\"> Connected to               </span>┃\n",
       "┡━━━━━━━━━━━━━━━━━━━━━━━━━━━━━━━╇━━━━━━━━━━━━━━━━━━━━━━━━━━━╇━━━━━━━━━━━━━━━━━╇━━━━━━━━━━━━━━━━━━━━━━━━━━━━┩\n",
       "│ input_layer_6 (<span style=\"color: #0087ff; text-decoration-color: #0087ff\">InputLayer</span>)    │ (<span style=\"color: #00d7ff; text-decoration-color: #00d7ff\">None</span>, <span style=\"color: #00af00; text-decoration-color: #00af00\">128</span>, <span style=\"color: #00af00; text-decoration-color: #00af00\">7</span>)            │               <span style=\"color: #00af00; text-decoration-color: #00af00\">0</span> │ -                          │\n",
       "├───────────────────────────────┼───────────────────────────┼─────────────────┼────────────────────────────┤\n",
       "│ lstm_9 (<span style=\"color: #0087ff; text-decoration-color: #0087ff\">LSTM</span>)                 │ (<span style=\"color: #00d7ff; text-decoration-color: #00d7ff\">None</span>, <span style=\"color: #00af00; text-decoration-color: #00af00\">128</span>, <span style=\"color: #00af00; text-decoration-color: #00af00\">128</span>)          │          <span style=\"color: #00af00; text-decoration-color: #00af00\">69,632</span> │ input_layer_6[<span style=\"color: #00af00; text-decoration-color: #00af00\">0</span>][<span style=\"color: #00af00; text-decoration-color: #00af00\">0</span>]        │\n",
       "├───────────────────────────────┼───────────────────────────┼─────────────────┼────────────────────────────┤\n",
       "│ lstm_10 (<span style=\"color: #0087ff; text-decoration-color: #0087ff\">LSTM</span>)                │ (<span style=\"color: #00d7ff; text-decoration-color: #00d7ff\">None</span>, <span style=\"color: #00af00; text-decoration-color: #00af00\">128</span>, <span style=\"color: #00af00; text-decoration-color: #00af00\">128</span>)          │         <span style=\"color: #00af00; text-decoration-color: #00af00\">131,584</span> │ lstm_9[<span style=\"color: #00af00; text-decoration-color: #00af00\">0</span>][<span style=\"color: #00af00; text-decoration-color: #00af00\">0</span>]               │\n",
       "├───────────────────────────────┼───────────────────────────┼─────────────────┼────────────────────────────┤\n",
       "│ lstm_11 (<span style=\"color: #0087ff; text-decoration-color: #0087ff\">LSTM</span>)                │ (<span style=\"color: #00d7ff; text-decoration-color: #00d7ff\">None</span>, <span style=\"color: #00af00; text-decoration-color: #00af00\">128</span>, <span style=\"color: #00af00; text-decoration-color: #00af00\">128</span>)          │         <span style=\"color: #00af00; text-decoration-color: #00af00\">131,584</span> │ lstm_10[<span style=\"color: #00af00; text-decoration-color: #00af00\">0</span>][<span style=\"color: #00af00; text-decoration-color: #00af00\">0</span>]              │\n",
       "├───────────────────────────────┼───────────────────────────┼─────────────────┼────────────────────────────┤\n",
       "│ dropout_3 (<span style=\"color: #0087ff; text-decoration-color: #0087ff\">Dropout</span>)           │ (<span style=\"color: #00d7ff; text-decoration-color: #00d7ff\">None</span>, <span style=\"color: #00af00; text-decoration-color: #00af00\">128</span>, <span style=\"color: #00af00; text-decoration-color: #00af00\">128</span>)          │               <span style=\"color: #00af00; text-decoration-color: #00af00\">0</span> │ lstm_11[<span style=\"color: #00af00; text-decoration-color: #00af00\">0</span>][<span style=\"color: #00af00; text-decoration-color: #00af00\">0</span>]              │\n",
       "├───────────────────────────────┼───────────────────────────┼─────────────────┼────────────────────────────┤\n",
       "│ permute_3 (<span style=\"color: #0087ff; text-decoration-color: #0087ff\">Permute</span>)           │ (<span style=\"color: #00d7ff; text-decoration-color: #00d7ff\">None</span>, <span style=\"color: #00af00; text-decoration-color: #00af00\">128</span>, <span style=\"color: #00af00; text-decoration-color: #00af00\">128</span>)          │               <span style=\"color: #00af00; text-decoration-color: #00af00\">0</span> │ dropout_3[<span style=\"color: #00af00; text-decoration-color: #00af00\">0</span>][<span style=\"color: #00af00; text-decoration-color: #00af00\">0</span>]            │\n",
       "├───────────────────────────────┼───────────────────────────┼─────────────────┼────────────────────────────┤\n",
       "│ dense_18 (<span style=\"color: #0087ff; text-decoration-color: #0087ff\">Dense</span>)              │ (<span style=\"color: #00d7ff; text-decoration-color: #00d7ff\">None</span>, <span style=\"color: #00af00; text-decoration-color: #00af00\">128</span>, <span style=\"color: #00af00; text-decoration-color: #00af00\">128</span>)          │          <span style=\"color: #00af00; text-decoration-color: #00af00\">16,512</span> │ permute_3[<span style=\"color: #00af00; text-decoration-color: #00af00\">0</span>][<span style=\"color: #00af00; text-decoration-color: #00af00\">0</span>]            │\n",
       "├───────────────────────────────┼───────────────────────────┼─────────────────┼────────────────────────────┤\n",
       "│ attention_vec (<span style=\"color: #0087ff; text-decoration-color: #0087ff\">Permute</span>)       │ (<span style=\"color: #00d7ff; text-decoration-color: #00d7ff\">None</span>, <span style=\"color: #00af00; text-decoration-color: #00af00\">128</span>, <span style=\"color: #00af00; text-decoration-color: #00af00\">128</span>)          │               <span style=\"color: #00af00; text-decoration-color: #00af00\">0</span> │ dense_18[<span style=\"color: #00af00; text-decoration-color: #00af00\">0</span>][<span style=\"color: #00af00; text-decoration-color: #00af00\">0</span>]             │\n",
       "├───────────────────────────────┼───────────────────────────┼─────────────────┼────────────────────────────┤\n",
       "│ multiply_3 (<span style=\"color: #0087ff; text-decoration-color: #0087ff\">Multiply</span>)         │ (<span style=\"color: #00d7ff; text-decoration-color: #00d7ff\">None</span>, <span style=\"color: #00af00; text-decoration-color: #00af00\">128</span>, <span style=\"color: #00af00; text-decoration-color: #00af00\">128</span>)          │               <span style=\"color: #00af00; text-decoration-color: #00af00\">0</span> │ dropout_3[<span style=\"color: #00af00; text-decoration-color: #00af00\">0</span>][<span style=\"color: #00af00; text-decoration-color: #00af00\">0</span>],           │\n",
       "│                               │                           │                 │ attention_vec[<span style=\"color: #00af00; text-decoration-color: #00af00\">0</span>][<span style=\"color: #00af00; text-decoration-color: #00af00\">0</span>]        │\n",
       "├───────────────────────────────┼───────────────────────────┼─────────────────┼────────────────────────────┤\n",
       "│ flatten_3 (<span style=\"color: #0087ff; text-decoration-color: #0087ff\">Flatten</span>)           │ (<span style=\"color: #00d7ff; text-decoration-color: #00d7ff\">None</span>, <span style=\"color: #00af00; text-decoration-color: #00af00\">16384</span>)             │               <span style=\"color: #00af00; text-decoration-color: #00af00\">0</span> │ multiply_3[<span style=\"color: #00af00; text-decoration-color: #00af00\">0</span>][<span style=\"color: #00af00; text-decoration-color: #00af00\">0</span>]           │\n",
       "├───────────────────────────────┼───────────────────────────┼─────────────────┼────────────────────────────┤\n",
       "│ dense_22 (<span style=\"color: #0087ff; text-decoration-color: #0087ff\">Dense</span>)              │ (<span style=\"color: #00d7ff; text-decoration-color: #00d7ff\">None</span>, <span style=\"color: #00af00; text-decoration-color: #00af00\">64</span>)                │       <span style=\"color: #00af00; text-decoration-color: #00af00\">1,048,640</span> │ flatten_3[<span style=\"color: #00af00; text-decoration-color: #00af00\">0</span>][<span style=\"color: #00af00; text-decoration-color: #00af00\">0</span>]            │\n",
       "├───────────────────────────────┼───────────────────────────┼─────────────────┼────────────────────────────┤\n",
       "│ input_layer_7 (<span style=\"color: #0087ff; text-decoration-color: #0087ff\">InputLayer</span>)    │ (<span style=\"color: #00d7ff; text-decoration-color: #00d7ff\">None</span>, <span style=\"color: #00af00; text-decoration-color: #00af00\">14</span>)                │               <span style=\"color: #00af00; text-decoration-color: #00af00\">0</span> │ -                          │\n",
       "├───────────────────────────────┼───────────────────────────┼─────────────────┼────────────────────────────┤\n",
       "│ dense_23 (<span style=\"color: #0087ff; text-decoration-color: #0087ff\">Dense</span>)              │ (<span style=\"color: #00d7ff; text-decoration-color: #00d7ff\">None</span>, <span style=\"color: #00af00; text-decoration-color: #00af00\">3</span>)                 │             <span style=\"color: #00af00; text-decoration-color: #00af00\">195</span> │ dense_22[<span style=\"color: #00af00; text-decoration-color: #00af00\">0</span>][<span style=\"color: #00af00; text-decoration-color: #00af00\">0</span>]             │\n",
       "└───────────────────────────────┴───────────────────────────┴─────────────────┴────────────────────────────┘\n",
       "</pre>\n"
      ],
      "text/plain": [
       "┏━━━━━━━━━━━━━━━━━━━━━━━━━━━━━━━┳━━━━━━━━━━━━━━━━━━━━━━━━━━━┳━━━━━━━━━━━━━━━━━┳━━━━━━━━━━━━━━━━━━━━━━━━━━━━┓\n",
       "┃\u001b[1m \u001b[0m\u001b[1mLayer (type)                 \u001b[0m\u001b[1m \u001b[0m┃\u001b[1m \u001b[0m\u001b[1mOutput Shape             \u001b[0m\u001b[1m \u001b[0m┃\u001b[1m \u001b[0m\u001b[1m        Param #\u001b[0m\u001b[1m \u001b[0m┃\u001b[1m \u001b[0m\u001b[1mConnected to              \u001b[0m\u001b[1m \u001b[0m┃\n",
       "┡━━━━━━━━━━━━━━━━━━━━━━━━━━━━━━━╇━━━━━━━━━━━━━━━━━━━━━━━━━━━╇━━━━━━━━━━━━━━━━━╇━━━━━━━━━━━━━━━━━━━━━━━━━━━━┩\n",
       "│ input_layer_6 (\u001b[38;5;33mInputLayer\u001b[0m)    │ (\u001b[38;5;45mNone\u001b[0m, \u001b[38;5;34m128\u001b[0m, \u001b[38;5;34m7\u001b[0m)            │               \u001b[38;5;34m0\u001b[0m │ -                          │\n",
       "├───────────────────────────────┼───────────────────────────┼─────────────────┼────────────────────────────┤\n",
       "│ lstm_9 (\u001b[38;5;33mLSTM\u001b[0m)                 │ (\u001b[38;5;45mNone\u001b[0m, \u001b[38;5;34m128\u001b[0m, \u001b[38;5;34m128\u001b[0m)          │          \u001b[38;5;34m69,632\u001b[0m │ input_layer_6[\u001b[38;5;34m0\u001b[0m][\u001b[38;5;34m0\u001b[0m]        │\n",
       "├───────────────────────────────┼───────────────────────────┼─────────────────┼────────────────────────────┤\n",
       "│ lstm_10 (\u001b[38;5;33mLSTM\u001b[0m)                │ (\u001b[38;5;45mNone\u001b[0m, \u001b[38;5;34m128\u001b[0m, \u001b[38;5;34m128\u001b[0m)          │         \u001b[38;5;34m131,584\u001b[0m │ lstm_9[\u001b[38;5;34m0\u001b[0m][\u001b[38;5;34m0\u001b[0m]               │\n",
       "├───────────────────────────────┼───────────────────────────┼─────────────────┼────────────────────────────┤\n",
       "│ lstm_11 (\u001b[38;5;33mLSTM\u001b[0m)                │ (\u001b[38;5;45mNone\u001b[0m, \u001b[38;5;34m128\u001b[0m, \u001b[38;5;34m128\u001b[0m)          │         \u001b[38;5;34m131,584\u001b[0m │ lstm_10[\u001b[38;5;34m0\u001b[0m][\u001b[38;5;34m0\u001b[0m]              │\n",
       "├───────────────────────────────┼───────────────────────────┼─────────────────┼────────────────────────────┤\n",
       "│ dropout_3 (\u001b[38;5;33mDropout\u001b[0m)           │ (\u001b[38;5;45mNone\u001b[0m, \u001b[38;5;34m128\u001b[0m, \u001b[38;5;34m128\u001b[0m)          │               \u001b[38;5;34m0\u001b[0m │ lstm_11[\u001b[38;5;34m0\u001b[0m][\u001b[38;5;34m0\u001b[0m]              │\n",
       "├───────────────────────────────┼───────────────────────────┼─────────────────┼────────────────────────────┤\n",
       "│ permute_3 (\u001b[38;5;33mPermute\u001b[0m)           │ (\u001b[38;5;45mNone\u001b[0m, \u001b[38;5;34m128\u001b[0m, \u001b[38;5;34m128\u001b[0m)          │               \u001b[38;5;34m0\u001b[0m │ dropout_3[\u001b[38;5;34m0\u001b[0m][\u001b[38;5;34m0\u001b[0m]            │\n",
       "├───────────────────────────────┼───────────────────────────┼─────────────────┼────────────────────────────┤\n",
       "│ dense_18 (\u001b[38;5;33mDense\u001b[0m)              │ (\u001b[38;5;45mNone\u001b[0m, \u001b[38;5;34m128\u001b[0m, \u001b[38;5;34m128\u001b[0m)          │          \u001b[38;5;34m16,512\u001b[0m │ permute_3[\u001b[38;5;34m0\u001b[0m][\u001b[38;5;34m0\u001b[0m]            │\n",
       "├───────────────────────────────┼───────────────────────────┼─────────────────┼────────────────────────────┤\n",
       "│ attention_vec (\u001b[38;5;33mPermute\u001b[0m)       │ (\u001b[38;5;45mNone\u001b[0m, \u001b[38;5;34m128\u001b[0m, \u001b[38;5;34m128\u001b[0m)          │               \u001b[38;5;34m0\u001b[0m │ dense_18[\u001b[38;5;34m0\u001b[0m][\u001b[38;5;34m0\u001b[0m]             │\n",
       "├───────────────────────────────┼───────────────────────────┼─────────────────┼────────────────────────────┤\n",
       "│ multiply_3 (\u001b[38;5;33mMultiply\u001b[0m)         │ (\u001b[38;5;45mNone\u001b[0m, \u001b[38;5;34m128\u001b[0m, \u001b[38;5;34m128\u001b[0m)          │               \u001b[38;5;34m0\u001b[0m │ dropout_3[\u001b[38;5;34m0\u001b[0m][\u001b[38;5;34m0\u001b[0m],           │\n",
       "│                               │                           │                 │ attention_vec[\u001b[38;5;34m0\u001b[0m][\u001b[38;5;34m0\u001b[0m]        │\n",
       "├───────────────────────────────┼───────────────────────────┼─────────────────┼────────────────────────────┤\n",
       "│ flatten_3 (\u001b[38;5;33mFlatten\u001b[0m)           │ (\u001b[38;5;45mNone\u001b[0m, \u001b[38;5;34m16384\u001b[0m)             │               \u001b[38;5;34m0\u001b[0m │ multiply_3[\u001b[38;5;34m0\u001b[0m][\u001b[38;5;34m0\u001b[0m]           │\n",
       "├───────────────────────────────┼───────────────────────────┼─────────────────┼────────────────────────────┤\n",
       "│ dense_22 (\u001b[38;5;33mDense\u001b[0m)              │ (\u001b[38;5;45mNone\u001b[0m, \u001b[38;5;34m64\u001b[0m)                │       \u001b[38;5;34m1,048,640\u001b[0m │ flatten_3[\u001b[38;5;34m0\u001b[0m][\u001b[38;5;34m0\u001b[0m]            │\n",
       "├───────────────────────────────┼───────────────────────────┼─────────────────┼────────────────────────────┤\n",
       "│ input_layer_7 (\u001b[38;5;33mInputLayer\u001b[0m)    │ (\u001b[38;5;45mNone\u001b[0m, \u001b[38;5;34m14\u001b[0m)                │               \u001b[38;5;34m0\u001b[0m │ -                          │\n",
       "├───────────────────────────────┼───────────────────────────┼─────────────────┼────────────────────────────┤\n",
       "│ dense_23 (\u001b[38;5;33mDense\u001b[0m)              │ (\u001b[38;5;45mNone\u001b[0m, \u001b[38;5;34m3\u001b[0m)                 │             \u001b[38;5;34m195\u001b[0m │ dense_22[\u001b[38;5;34m0\u001b[0m][\u001b[38;5;34m0\u001b[0m]             │\n",
       "└───────────────────────────────┴───────────────────────────┴─────────────────┴────────────────────────────┘\n"
      ]
     },
     "metadata": {},
     "output_type": "display_data"
    },
    {
     "data": {
      "text/html": [
       "<pre style=\"white-space:pre;overflow-x:auto;line-height:normal;font-family:Menlo,'DejaVu Sans Mono',consolas,'Courier New',monospace\"><span style=\"font-weight: bold\"> Total params: </span><span style=\"color: #00af00; text-decoration-color: #00af00\">1,398,147</span> (5.33 MB)\n",
       "</pre>\n"
      ],
      "text/plain": [
       "\u001b[1m Total params: \u001b[0m\u001b[38;5;34m1,398,147\u001b[0m (5.33 MB)\n"
      ]
     },
     "metadata": {},
     "output_type": "display_data"
    },
    {
     "data": {
      "text/html": [
       "<pre style=\"white-space:pre;overflow-x:auto;line-height:normal;font-family:Menlo,'DejaVu Sans Mono',consolas,'Courier New',monospace\"><span style=\"font-weight: bold\"> Trainable params: </span><span style=\"color: #00af00; text-decoration-color: #00af00\">1,398,147</span> (5.33 MB)\n",
       "</pre>\n"
      ],
      "text/plain": [
       "\u001b[1m Trainable params: \u001b[0m\u001b[38;5;34m1,398,147\u001b[0m (5.33 MB)\n"
      ]
     },
     "metadata": {},
     "output_type": "display_data"
    },
    {
     "data": {
      "text/html": [
       "<pre style=\"white-space:pre;overflow-x:auto;line-height:normal;font-family:Menlo,'DejaVu Sans Mono',consolas,'Courier New',monospace\"><span style=\"font-weight: bold\"> Non-trainable params: </span><span style=\"color: #00af00; text-decoration-color: #00af00\">0</span> (0.00 B)\n",
       "</pre>\n"
      ],
      "text/plain": [
       "\u001b[1m Non-trainable params: \u001b[0m\u001b[38;5;34m0\u001b[0m (0.00 B)\n"
      ]
     },
     "metadata": {},
     "output_type": "display_data"
    }
   ],
   "source": [
    "\n",
    "inputs= Input(shape=(n_timesteps,n_features))\n",
    "input_features = Input(shape=(train_features.shape[1],))\n",
    "\n",
    "# Raw Data 모델 \n",
    "lstm_out = LSTM(128, return_sequences=True)(inputs)\n",
    "lstm_out = LSTM(128, return_sequences=True)(lstm_out)\n",
    "lstm_out = LSTM(128, return_sequences=True)(lstm_out)\n",
    "lstm_out = Dropout(0.3)(lstm_out)\n",
    "attention_mul = attention_3d_block(lstm_out)\n",
    "attention_mul = Flatten()(attention_mul)\n",
    "\n",
    "# Feature-based 모델\n",
    "x1 = Dense(64, activation='relu')(input_features)\n",
    "x1 = Dense(32, activation='relu')(x1)\n",
    "x1 = Dense(16, activation='relu')(x1)\n",
    "\n",
    "merged = Concatenate()([x1, attention_mul])\n",
    "dense = Dense(64, activation='relu')(merged)\n",
    "\n",
    "outputs = Dense(3, activation='softmax')(dense)\n",
    "model = Model(inputs=[inputs, input_features], outputs=outputs)\n",
    "\n",
    "model.compile(loss='categorical_crossentropy', optimizer='adam', metrics=['accuracy'])\n",
    "model.summary()"
   ]
  },
  {
   "cell_type": "code",
   "execution_count": 67,
   "id": "b50fb35a-8dc2-4d5a-9d0f-d4886e932d85",
   "metadata": {},
   "outputs": [
    {
     "data": {
      "text/plain": [
       "((4067, 14), (4067, 128, 7), (4067,))"
      ]
     },
     "execution_count": 67,
     "metadata": {},
     "output_type": "execute_result"
    }
   ],
   "source": [
    "train_features.shape, X_train.shape, trainy.shape"
   ]
  },
  {
   "cell_type": "code",
   "execution_count": 68,
   "id": "5b4c357c-3815-4f7b-8916-ac6f6e54260e",
   "metadata": {},
   "outputs": [
    {
     "name": "stdout",
     "output_type": "stream",
     "text": [
      "Epoch 1/20\n",
      "\u001b[1m115/115\u001b[0m \u001b[32m━━━━━━━━━━━━━━━━━━━━\u001b[0m\u001b[37m\u001b[0m \u001b[1m20s\u001b[0m 140ms/step - accuracy: 0.6838 - loss: 0.6867 - val_accuracy: 0.8796 - val_loss: 0.2867\n",
      "Epoch 2/20\n",
      "\u001b[1m115/115\u001b[0m \u001b[32m━━━━━━━━━━━━━━━━━━━━\u001b[0m\u001b[37m\u001b[0m \u001b[1m14s\u001b[0m 124ms/step - accuracy: 0.8611 - loss: 0.3896 - val_accuracy: 0.8575 - val_loss: 0.2863\n",
      "Epoch 3/20\n",
      "\u001b[1m115/115\u001b[0m \u001b[32m━━━━━━━━━━━━━━━━━━━━\u001b[0m\u001b[37m\u001b[0m \u001b[1m14s\u001b[0m 125ms/step - accuracy: 0.8869 - loss: 0.2975 - val_accuracy: 0.8428 - val_loss: 0.3698\n",
      "Epoch 4/20\n",
      "\u001b[1m115/115\u001b[0m \u001b[32m━━━━━━━━━━━━━━━━━━━━\u001b[0m\u001b[37m\u001b[0m \u001b[1m15s\u001b[0m 127ms/step - accuracy: 0.9103 - loss: 0.2595 - val_accuracy: 0.9140 - val_loss: 0.1954\n",
      "Epoch 5/20\n",
      "\u001b[1m115/115\u001b[0m \u001b[32m━━━━━━━━━━━━━━━━━━━━\u001b[0m\u001b[37m\u001b[0m \u001b[1m16s\u001b[0m 136ms/step - accuracy: 0.9116 - loss: 0.2257 - val_accuracy: 0.8919 - val_loss: 0.2607\n",
      "Epoch 6/20\n",
      "\u001b[1m115/115\u001b[0m \u001b[32m━━━━━━━━━━━━━━━━━━━━\u001b[0m\u001b[37m\u001b[0m \u001b[1m15s\u001b[0m 131ms/step - accuracy: 0.9214 - loss: 0.1946 - val_accuracy: 0.9287 - val_loss: 0.1542\n",
      "Epoch 7/20\n",
      "\u001b[1m115/115\u001b[0m \u001b[32m━━━━━━━━━━━━━━━━━━━━\u001b[0m\u001b[37m\u001b[0m \u001b[1m15s\u001b[0m 131ms/step - accuracy: 0.9428 - loss: 0.1643 - val_accuracy: 0.9607 - val_loss: 0.1271\n",
      "Epoch 8/20\n",
      "\u001b[1m115/115\u001b[0m \u001b[32m━━━━━━━━━━━━━━━━━━━━\u001b[0m\u001b[37m\u001b[0m \u001b[1m15s\u001b[0m 127ms/step - accuracy: 0.9366 - loss: 0.1690 - val_accuracy: 0.9754 - val_loss: 0.0726\n",
      "Epoch 9/20\n",
      "\u001b[1m115/115\u001b[0m \u001b[32m━━━━━━━━━━━━━━━━━━━━\u001b[0m\u001b[37m\u001b[0m \u001b[1m15s\u001b[0m 130ms/step - accuracy: 0.9322 - loss: 0.1605 - val_accuracy: 0.9312 - val_loss: 0.1406\n",
      "Epoch 10/20\n",
      "\u001b[1m115/115\u001b[0m \u001b[32m━━━━━━━━━━━━━━━━━━━━\u001b[0m\u001b[37m\u001b[0m \u001b[1m15s\u001b[0m 130ms/step - accuracy: 0.9398 - loss: 0.1460 - val_accuracy: 0.9803 - val_loss: 0.0664\n",
      "Epoch 11/20\n",
      "\u001b[1m115/115\u001b[0m \u001b[32m━━━━━━━━━━━━━━━━━━━━\u001b[0m\u001b[37m\u001b[0m \u001b[1m15s\u001b[0m 132ms/step - accuracy: 0.9626 - loss: 0.0974 - val_accuracy: 0.9509 - val_loss: 0.1114\n",
      "Epoch 12/20\n",
      "\u001b[1m115/115\u001b[0m \u001b[32m━━━━━━━━━━━━━━━━━━━━\u001b[0m\u001b[37m\u001b[0m \u001b[1m15s\u001b[0m 130ms/step - accuracy: 0.9478 - loss: 0.1349 - val_accuracy: 0.9705 - val_loss: 0.0817\n",
      "Epoch 13/20\n",
      "\u001b[1m115/115\u001b[0m \u001b[32m━━━━━━━━━━━━━━━━━━━━\u001b[0m\u001b[37m\u001b[0m \u001b[1m15s\u001b[0m 128ms/step - accuracy: 0.9663 - loss: 0.1002 - val_accuracy: 0.9631 - val_loss: 0.0852\n",
      "Epoch 14/20\n",
      "\u001b[1m115/115\u001b[0m \u001b[32m━━━━━━━━━━━━━━━━━━━━\u001b[0m\u001b[37m\u001b[0m \u001b[1m15s\u001b[0m 127ms/step - accuracy: 0.9635 - loss: 0.0902 - val_accuracy: 0.9853 - val_loss: 0.0474\n",
      "Epoch 15/20\n",
      "\u001b[1m115/115\u001b[0m \u001b[32m━━━━━━━━━━━━━━━━━━━━\u001b[0m\u001b[37m\u001b[0m \u001b[1m15s\u001b[0m 127ms/step - accuracy: 0.9713 - loss: 0.0777 - val_accuracy: 0.9631 - val_loss: 0.1174\n",
      "Epoch 16/20\n",
      "\u001b[1m115/115\u001b[0m \u001b[32m━━━━━━━━━━━━━━━━━━━━\u001b[0m\u001b[37m\u001b[0m \u001b[1m15s\u001b[0m 129ms/step - accuracy: 0.9672 - loss: 0.0829 - val_accuracy: 0.9828 - val_loss: 0.0635\n",
      "Epoch 17/20\n",
      "\u001b[1m115/115\u001b[0m \u001b[32m━━━━━━━━━━━━━━━━━━━━\u001b[0m\u001b[37m\u001b[0m \u001b[1m15s\u001b[0m 126ms/step - accuracy: 0.9737 - loss: 0.0778 - val_accuracy: 0.9902 - val_loss: 0.0440\n",
      "Epoch 18/20\n",
      "\u001b[1m115/115\u001b[0m \u001b[32m━━━━━━━━━━━━━━━━━━━━\u001b[0m\u001b[37m\u001b[0m \u001b[1m14s\u001b[0m 123ms/step - accuracy: 0.9808 - loss: 0.0612 - val_accuracy: 0.9877 - val_loss: 0.0435\n",
      "Epoch 19/20\n",
      "\u001b[1m115/115\u001b[0m \u001b[32m━━━━━━━━━━━━━━━━━━━━\u001b[0m\u001b[37m\u001b[0m \u001b[1m15s\u001b[0m 126ms/step - accuracy: 0.9775 - loss: 0.0617 - val_accuracy: 0.9656 - val_loss: 0.0969\n",
      "Epoch 20/20\n",
      "\u001b[1m115/115\u001b[0m \u001b[32m━━━━━━━━━━━━━━━━━━━━\u001b[0m\u001b[37m\u001b[0m \u001b[1m14s\u001b[0m 121ms/step - accuracy: 0.9871 - loss: 0.0407 - val_accuracy: 0.9803 - val_loss: 0.0704\n"
     ]
    }
   ],
   "source": [
    "history = model.fit(\n",
    "    [X_train, train_features], trainy_one_hot,\n",
    "    validation_split = 0.1,\n",
    "    epochs=20, batch_size=32, verbose=1\n",
    ")"
   ]
  },
  {
   "cell_type": "code",
   "execution_count": 69,
   "id": "a75f83f9-4be3-4aa8-af8c-db83d5eed18b",
   "metadata": {},
   "outputs": [],
   "source": [
    "import numpy as np\n",
    "import tensorflow as tf\n",
    "import matplotlib.pyplot as plt\n",
    "import seaborn as sns\n",
    "from sklearn.metrics import confusion_matrix, classification_report"
   ]
  },
  {
   "cell_type": "code",
   "execution_count": 70,
   "id": "f184f7e8-99b1-4c9b-87af-1ca5237ba347",
   "metadata": {},
   "outputs": [
    {
     "data": {
      "image/png": "[encoded data removed]",
      "text/plain": [
       "<Figure size 1200x500 with 2 Axes>"
      ]
     },
     "metadata": {},
     "output_type": "display_data"
    }
   ],
   "source": [
    "# ✅ 훈련 과정 시각화 (Loss & Accuracy)\n",
    "plt.figure(figsize=(12, 5))\n",
    "\n",
    "# Loss 그래프\n",
    "plt.subplot(1, 2, 1)\n",
    "plt.plot(history.history['loss'], label='Train Loss')\n",
    "plt.plot(history.history['val_loss'], label='Validation Loss')\n",
    "plt.xlabel(\"Epochs\")\n",
    "plt.ylabel(\"Loss\")\n",
    "plt.legend()\n",
    "plt.title(\"Loss Curve\")\n",
    "\n",
    "# Accuracy 그래프\n",
    "plt.subplot(1, 2, 2)\n",
    "plt.plot(history.history['accuracy'], label='Train Accuracy')\n",
    "plt.plot(history.history['val_accuracy'], label='Validation Accuracy')\n",
    "plt.xlabel(\"Epochs\")\n",
    "plt.ylabel(\"Accuracy\")\n",
    "plt.legend()\n",
    "plt.title(\"Accuracy Curve\")\n",
    "\n",
    "plt.show()\n"
   ]
  },
  {
   "cell_type": "code",
   "execution_count": 71,
   "id": "26784d38-513a-4d29-9457-b5efcdc14245",
   "metadata": {},
   "outputs": [],
   "source": [
    "def plot_confusion_matrix(cm, class_names):\n",
    "    plt.figure(figsize=(6, 6))\n",
    "    sns.heatmap(cm, annot=True, fmt=\"d\", cmap=\"Blues\", xticklabels=class_names, yticklabels=class_names)\n",
    "    plt.xlabel(\"Predicted Label\")\n",
    "    plt.ylabel(\"True Label\")\n",
    "    plt.title(\"Confusion Matrix\")\n",
    "    plt.show()"
   ]
  },
  {
   "cell_type": "code",
   "execution_count": 72,
   "id": "87b95d64-a8ef-4e0c-9120-e4c842372301",
   "metadata": {},
   "outputs": [
    {
     "name": "stdout",
     "output_type": "stream",
     "text": [
      "\u001b[1m49/49\u001b[0m \u001b[32m━━━━━━━━━━━━━━━━━━━━\u001b[0m\u001b[37m\u001b[0m \u001b[1m4s\u001b[0m 65ms/step\n"
     ]
    },
    {
     "data": {
      "image/png": "[encoded data removed]",
      "text/plain": [
       "<Figure size 600x600 with 2 Axes>"
      ]
     },
     "metadata": {},
     "output_type": "display_data"
    },
    {
     "name": "stdout",
     "output_type": "stream",
     "text": [
      "\n",
      "🔹 Classification Report 🔹\n",
      "              precision    recall  f1-score   support\n",
      "\n",
      "     SITTING       0.96      0.88      0.92       491\n",
      "    STANDING       0.87      0.96      0.91       532\n",
      "      LAYING       0.99      0.95      0.97       537\n",
      "\n",
      "    accuracy                           0.93      1560\n",
      "   macro avg       0.94      0.93      0.93      1560\n",
      "weighted avg       0.94      0.93      0.93      1560\n",
      "\n"
     ]
    }
   ],
   "source": [
    "import numpy as np\n",
    "import tensorflow as tf\n",
    "import matplotlib.pyplot as plt\n",
    "import seaborn as sns\n",
    "from sklearn.metrics import confusion_matrix, classification_report\n",
    "\n",
    "# ✅ 테스트 데이터 예측\n",
    "y_pred = model.predict([testX, test_features])  # 모델 예측 수행\n",
    "y_pred_classes = np.argmax(y_pred, axis=1)  # 확률 값 → 클래스 변환\n",
    "y_true = np.argmax(testy_one_hot, axis=1)  # 원-핫 인코딩 → 실제 클래스 변환\n",
    "\n",
    "# ✅ Confusion Matrix 계산\n",
    "cm = confusion_matrix(y_true, y_pred_classes)\n",
    "\n",
    "# ✅ Confusion Matrix 시각화 함수\n",
    "def plot_confusion_matrix(cm, class_names):\n",
    "    plt.figure(figsize=(6, 6))\n",
    "    sns.heatmap(cm, annot=True, fmt=\"d\", cmap=\"Blues\", xticklabels=class_names, yticklabels=class_names)\n",
    "    plt.xlabel(\"Predicted Label\")\n",
    "    plt.ylabel(\"True Label\")\n",
    "    plt.title(\"Confusion Matrix\")\n",
    "    plt.show()\n",
    "\n",
    "# ✅ 클래스 이름 설정 (필요에 따라 변경 가능)\n",
    "class_names = [\"SITTING\", \"STANDING\", \"LAYING\"]\n",
    "\n",
    "# ✅ Confusion Matrix 출력\n",
    "plot_confusion_matrix(cm, class_names)\n",
    "\n",
    "# ✅ 추가: Classification Report (정밀도, 재현율, F1-score)\n",
    "print(\"\\n🔹 Classification Report 🔹\")\n",
    "print(classification_report(y_true, y_pred_classes, target_names=class_names))"
   ]
  },
  {
   "cell_type": "code",
   "execution_count": null,
   "id": "39d76245-2578-4cbf-b077-810e16b90979",
   "metadata": {},
   "outputs": [],
   "source": []
  },
  {
   "cell_type": "code",
   "execution_count": null,
   "id": "1b0fa969-33d9-46ba-a9da-f97e02c39e73",
   "metadata": {},
   "outputs": [],
   "source": []
  }
 ],
 "metadata": {
  "kernelspec": {
   "display_name": "Python 3 (ipykernel)",
   "language": "python",
   "name": "python3"
  },
  "language_info": {
   "codemirror_mode": {
    "name": "ipython",
    "version": 3
   },
   "file_extension": ".py",
   "mimetype": "text/x-python",
   "name": "python",
   "nbconvert_exporter": "python",
   "pygments_lexer": "ipython3",
   "version": "3.12.7"
  }
 },
 "nbformat": 4,
 "nbformat_minor": 5
}
