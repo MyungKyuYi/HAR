{
 "cells": [
  {
   "cell_type": "code",
   "execution_count": 7,
   "id": "2a8b8f0d",
   "metadata": {},
   "outputs": [],
   "source": [
    "from tensorflow.keras.models import Model\n",
    "from tensorflow.keras.models import Sequential\n",
    "from keras.layers import LSTM\n",
    "from keras.layers import Input\n",
    "from keras.layers import Dense\n",
    "from keras.layers import Flatten\n",
    "from keras.layers import Dropout\n",
    "\n",
    "import keras\n",
    "from tensorflow.keras.models import Sequential\n",
    "from tensorflow.keras.layers import Conv1D, MaxPooling1D, Dense, InputLayer, Dropout, Flatten, BatchNormalization, Conv1D\n",
    "from tensorflow.keras.layers import concatenate\n",
    "from keras.utils import to_categorical\n",
    "import pandas as pd\n",
    "import seaborn as sns\n",
    "import matplotlib.pyplot as plt"
   ]
  },
  {
   "cell_type": "code",
   "execution_count": 44,
   "id": "704eaa50",
   "metadata": {},
   "outputs": [],
   "source": [
    "import pandas as pd\n",
    "import numpy as np\n",
    "import matplotlib.pyplot as plt\n",
    "from sklearn.model_selection import train_test_split\n",
    "from sklearn.preprocessing import StandardScaler, LabelEncoder\n",
    "from scipy import stats"
   ]
  },
  {
   "cell_type": "code",
   "execution_count": 131,
   "id": "227ff78f",
   "metadata": {},
   "outputs": [
    {
     "name": "stdout",
     "output_type": "stream",
     "text": [
      "Error at line number:  281873\n",
      "Error at line number:  281874\n",
      "Error at line number:  281875\n"
     ]
    }
   ],
   "source": [
    "file = open('F:/HAR/WISDM/WISDM_ar_v1.1_raw.txt')\n",
    "lines = file.readlines()\n",
    "\n",
    "processedList = []\n",
    "\n",
    "for i, line in enumerate(lines):\n",
    "    try:\n",
    "        line = line.split(',')\n",
    "        last = line[5].split(';')[0]\n",
    "        last = last.strip()\n",
    "        if last == '':\n",
    "            break;\n",
    "        temp = [line[0], line[1], line[2], line[3], line[4], last]\n",
    "        processedList.append(temp)\n",
    "    except:\n",
    "        print('Error at line number: ', i)"
   ]
  },
  {
   "cell_type": "code",
   "execution_count": 132,
   "id": "28bf4cfd",
   "metadata": {},
   "outputs": [],
   "source": [
    "columns = ['user', 'activity', 'time', 'x', 'y', 'z']"
   ]
  },
  {
   "cell_type": "code",
   "execution_count": 133,
   "id": "600ea11c",
   "metadata": {},
   "outputs": [
    {
     "data": {
      "text/html": [
       "<div>\n",
       "<style scoped>\n",
       "    .dataframe tbody tr th:only-of-type {\n",
       "        vertical-align: middle;\n",
       "    }\n",
       "\n",
       "    .dataframe tbody tr th {\n",
       "        vertical-align: top;\n",
       "    }\n",
       "\n",
       "    .dataframe thead th {\n",
       "        text-align: right;\n",
       "    }\n",
       "</style>\n",
       "<table border=\"1\" class=\"dataframe\">\n",
       "  <thead>\n",
       "    <tr style=\"text-align: right;\">\n",
       "      <th></th>\n",
       "      <th>user</th>\n",
       "      <th>activity</th>\n",
       "      <th>time</th>\n",
       "      <th>x</th>\n",
       "      <th>y</th>\n",
       "      <th>z</th>\n",
       "    </tr>\n",
       "  </thead>\n",
       "  <tbody>\n",
       "    <tr>\n",
       "      <th>0</th>\n",
       "      <td>33</td>\n",
       "      <td>Jogging</td>\n",
       "      <td>49105962326000</td>\n",
       "      <td>-0.6946377</td>\n",
       "      <td>12.680544</td>\n",
       "      <td>0.50395286</td>\n",
       "    </tr>\n",
       "    <tr>\n",
       "      <th>1</th>\n",
       "      <td>33</td>\n",
       "      <td>Jogging</td>\n",
       "      <td>49106062271000</td>\n",
       "      <td>5.012288</td>\n",
       "      <td>11.264028</td>\n",
       "      <td>0.95342433</td>\n",
       "    </tr>\n",
       "    <tr>\n",
       "      <th>2</th>\n",
       "      <td>33</td>\n",
       "      <td>Jogging</td>\n",
       "      <td>49106112167000</td>\n",
       "      <td>4.903325</td>\n",
       "      <td>10.882658</td>\n",
       "      <td>-0.08172209</td>\n",
       "    </tr>\n",
       "    <tr>\n",
       "      <th>3</th>\n",
       "      <td>33</td>\n",
       "      <td>Jogging</td>\n",
       "      <td>49106222305000</td>\n",
       "      <td>-0.61291564</td>\n",
       "      <td>18.496431</td>\n",
       "      <td>3.0237172</td>\n",
       "    </tr>\n",
       "    <tr>\n",
       "      <th>4</th>\n",
       "      <td>33</td>\n",
       "      <td>Jogging</td>\n",
       "      <td>49106332290000</td>\n",
       "      <td>-1.1849703</td>\n",
       "      <td>12.108489</td>\n",
       "      <td>7.205164</td>\n",
       "    </tr>\n",
       "  </tbody>\n",
       "</table>\n",
       "</div>"
      ],
      "text/plain": [
       "  user activity            time            x          y            z\n",
       "0   33  Jogging  49105962326000   -0.6946377  12.680544   0.50395286\n",
       "1   33  Jogging  49106062271000     5.012288  11.264028   0.95342433\n",
       "2   33  Jogging  49106112167000     4.903325  10.882658  -0.08172209\n",
       "3   33  Jogging  49106222305000  -0.61291564  18.496431    3.0237172\n",
       "4   33  Jogging  49106332290000   -1.1849703  12.108489     7.205164"
      ]
     },
     "execution_count": 133,
     "metadata": {},
     "output_type": "execute_result"
    }
   ],
   "source": [
    "df = pd.DataFrame(data = processedList, columns = columns)\n",
    "df.head()"
   ]
  },
  {
   "cell_type": "code",
   "execution_count": 135,
   "id": "47bd139b",
   "metadata": {},
   "outputs": [
    {
     "data": {
      "text/plain": [
       "user        0\n",
       "activity    0\n",
       "time        0\n",
       "x           0\n",
       "y           0\n",
       "z           0\n",
       "dtype: int64"
      ]
     },
     "execution_count": 135,
     "metadata": {},
     "output_type": "execute_result"
    }
   ],
   "source": [
    "df.isnull().sum()"
   ]
  },
  {
   "cell_type": "code",
   "execution_count": 171,
   "id": "e90ff382",
   "metadata": {},
   "outputs": [
    {
     "data": {
      "text/plain": [
       "activity\n",
       "Sitting     4599\n",
       "Standing    3555\n",
       "Name: count, dtype: int64"
      ]
     },
     "execution_count": 171,
     "metadata": {},
     "output_type": "execute_result"
    }
   ],
   "source": [
    "df['activity'].value_counts()"
   ]
  },
  {
   "cell_type": "code",
   "execution_count": 108,
   "id": "66278601",
   "metadata": {},
   "outputs": [
    {
     "data": {
      "image/png": "[encoded data removed]",
      "text/plain": [
       "<Figure size 432x288 with 1 Axes>"
      ]
     },
     "metadata": {
      "needs_background": "light"
     },
     "output_type": "display_data"
    },
    {
     "data": {
      "image/png": "[encoded data removed]",
      "text/plain": [
       "<Figure size 432x288 with 1 Axes>"
      ]
     },
     "metadata": {
      "needs_background": "light"
     },
     "output_type": "display_data"
    }
   ],
   "source": [
    "\n",
    "# Show how many training examples exist for each of the six activities\n",
    "df[\"activity\"].value_counts().plot(kind = \"bar\", title = \"Training Examples by Activity Type\")\n",
    "plt.show()\n",
    "# Better understand how the recordings are spread across the different users who participated in the study\n",
    "df[\"user\"].value_counts().plot(kind = \"bar\", title = \"Training Examples by User\")\n",
    "plt.show()"
   ]
  },
  {
   "cell_type": "code",
   "execution_count": 172,
   "id": "186eb7c2",
   "metadata": {},
   "outputs": [],
   "source": [
    "df['x'] = df['x'].astype('float')\n",
    "df['y'] = df['y'].astype('float')\n",
    "df['z'] = df['z'].astype('float')"
   ]
  },
  {
   "cell_type": "code",
   "execution_count": 173,
   "id": "98b8616f",
   "metadata": {},
   "outputs": [],
   "source": [
    "activities = df['activity'].value_counts().index"
   ]
  },
  {
   "cell_type": "code",
   "execution_count": 174,
   "id": "b0941099",
   "metadata": {},
   "outputs": [
    {
     "data": {
      "text/html": [
       "<div>\n",
       "<style scoped>\n",
       "    .dataframe tbody tr th:only-of-type {\n",
       "        vertical-align: middle;\n",
       "    }\n",
       "\n",
       "    .dataframe tbody tr th {\n",
       "        vertical-align: top;\n",
       "    }\n",
       "\n",
       "    .dataframe thead th {\n",
       "        text-align: right;\n",
       "    }\n",
       "</style>\n",
       "<table border=\"1\" class=\"dataframe\">\n",
       "  <thead>\n",
       "    <tr style=\"text-align: right;\">\n",
       "      <th></th>\n",
       "      <th>user</th>\n",
       "      <th>activity</th>\n",
       "      <th>time</th>\n",
       "      <th>x</th>\n",
       "      <th>y</th>\n",
       "      <th>z</th>\n",
       "      <th>ActivityEncoded</th>\n",
       "    </tr>\n",
       "  </thead>\n",
       "  <tbody>\n",
       "    <tr>\n",
       "      <th>221333</th>\n",
       "      <td>27</td>\n",
       "      <td>0</td>\n",
       "      <td>12363992261000</td>\n",
       "      <td>2.6</td>\n",
       "      <td>9.7</td>\n",
       "      <td>1.0</td>\n",
       "      <td>0</td>\n",
       "    </tr>\n",
       "    <tr>\n",
       "      <th>221334</th>\n",
       "      <td>27</td>\n",
       "      <td>0</td>\n",
       "      <td>12364042279000</td>\n",
       "      <td>2.7</td>\n",
       "      <td>9.5</td>\n",
       "      <td>0.5</td>\n",
       "      <td>0</td>\n",
       "    </tr>\n",
       "    <tr>\n",
       "      <th>221335</th>\n",
       "      <td>27</td>\n",
       "      <td>0</td>\n",
       "      <td>12364092267000</td>\n",
       "      <td>3.5</td>\n",
       "      <td>8.9</td>\n",
       "      <td>0.8</td>\n",
       "      <td>0</td>\n",
       "    </tr>\n",
       "    <tr>\n",
       "      <th>221336</th>\n",
       "      <td>27</td>\n",
       "      <td>0</td>\n",
       "      <td>12364142316000</td>\n",
       "      <td>3.6</td>\n",
       "      <td>9.4</td>\n",
       "      <td>0.9</td>\n",
       "      <td>0</td>\n",
       "    </tr>\n",
       "    <tr>\n",
       "      <th>221337</th>\n",
       "      <td>27</td>\n",
       "      <td>0</td>\n",
       "      <td>12364192273000</td>\n",
       "      <td>2.9</td>\n",
       "      <td>9.3</td>\n",
       "      <td>1.0</td>\n",
       "      <td>0</td>\n",
       "    </tr>\n",
       "  </tbody>\n",
       "</table>\n",
       "</div>"
      ],
      "text/plain": [
       "       user  activity            time   x   y   z  ActivityEncoded\n",
       "221333   27         0  12363992261000 2.6 9.7 1.0                0\n",
       "221334   27         0  12364042279000 2.7 9.5 0.5                0\n",
       "221335   27         0  12364092267000 3.5 8.9 0.8                0\n",
       "221336   27         0  12364142316000 3.6 9.4 0.9                0\n",
       "221337   27         0  12364192273000 2.9 9.3 1.0                0"
      ]
     },
     "execution_count": 174,
     "metadata": {},
     "output_type": "execute_result"
    }
   ],
   "source": [
    "label = LabelEncoder()\n",
    "df['activity'] = label.fit_transform(df['activity'])\n",
    "df.head()"
   ]
  },
  {
   "cell_type": "code",
   "execution_count": 167,
   "id": "6adae6ae",
   "metadata": {},
   "outputs": [
    {
     "data": {
      "text/plain": [
       "Index(['Sitting', 'Standing'], dtype='object', name='activity')"
      ]
     },
     "execution_count": 167,
     "metadata": {},
     "output_type": "execute_result"
    }
   ],
   "source": [
    "activities"
   ]
  },
  {
   "cell_type": "code",
   "execution_count": 168,
   "id": "b574a8b7",
   "metadata": {},
   "outputs": [],
   "source": [
    "\n",
    "# \"Downstairs\", \"Jogging\", \"Sitting\", \"Standing\", \"Upstairs\", \"Walking\"\n",
    "\n",
    "indexes = df[ (df['activity'] == 'Jogging') | (df['activity'] == 'Downstairs')| (df['activity'] == 'Upstairs')| (df['activity'] == 'Walking')].index\n",
    "df.drop(indexes , inplace=True)\n"
   ]
  },
  {
   "cell_type": "code",
   "execution_count": 169,
   "id": "65a588d2",
   "metadata": {},
   "outputs": [
    {
     "data": {
      "image/png": "[encoded data removed]",
      "text/plain": [
       "<Figure size 432x288 with 1 Axes>"
      ]
     },
     "metadata": {
      "needs_background": "light"
     },
     "output_type": "display_data"
    }
   ],
   "source": [
    "df['activity'].value_counts().plot(kind='bar', title='Training examples by activity type');"
   ]
  },
  {
   "cell_type": "code",
   "execution_count": 170,
   "id": "8915b3e0",
   "metadata": {},
   "outputs": [],
   "source": [
    "num_classes = 2 # static activity 갯수"
   ]
  },
  {
   "cell_type": "code",
   "execution_count": 175,
   "id": "e80b828e",
   "metadata": {},
   "outputs": [],
   "source": [
    "from sklearn import preprocessing\n",
    "\n",
    "# Define column name of the label vector\n",
    "LABEL = \"ActivityEncoded\"\n",
    "# Transform the labels from String to Integer via LabelEncoder\n",
    "le = preprocessing.LabelEncoder()\n",
    "# Add a new column to the existing DataFrame with the encoded values\n",
    "df[LABEL] = le.fit_transform(df[\"activity\"].values.ravel())"
   ]
  },
  {
   "cell_type": "code",
   "execution_count": 176,
   "id": "74a53037",
   "metadata": {},
   "outputs": [],
   "source": [
    "X = df[['x', 'y', 'z']]\n",
    "y = df['ActivityEncoded']"
   ]
  },
  {
   "cell_type": "code",
   "execution_count": 177,
   "id": "83177b9f",
   "metadata": {},
   "outputs": [
    {
     "data": {
      "text/html": [
       "<div>\n",
       "<style scoped>\n",
       "    .dataframe tbody tr th:only-of-type {\n",
       "        vertical-align: middle;\n",
       "    }\n",
       "\n",
       "    .dataframe tbody tr th {\n",
       "        vertical-align: top;\n",
       "    }\n",
       "\n",
       "    .dataframe thead th {\n",
       "        text-align: right;\n",
       "    }\n",
       "</style>\n",
       "<table border=\"1\" class=\"dataframe\">\n",
       "  <thead>\n",
       "    <tr style=\"text-align: right;\">\n",
       "      <th></th>\n",
       "      <th>x</th>\n",
       "      <th>y</th>\n",
       "      <th>z</th>\n",
       "      <th>label</th>\n",
       "    </tr>\n",
       "  </thead>\n",
       "  <tbody>\n",
       "    <tr>\n",
       "      <th>0</th>\n",
       "      <td>1.1</td>\n",
       "      <td>0.7</td>\n",
       "      <td>-0.6</td>\n",
       "      <td>0</td>\n",
       "    </tr>\n",
       "    <tr>\n",
       "      <th>1</th>\n",
       "      <td>1.1</td>\n",
       "      <td>0.7</td>\n",
       "      <td>-0.7</td>\n",
       "      <td>0</td>\n",
       "    </tr>\n",
       "    <tr>\n",
       "      <th>2</th>\n",
       "      <td>1.4</td>\n",
       "      <td>0.5</td>\n",
       "      <td>-0.7</td>\n",
       "      <td>0</td>\n",
       "    </tr>\n",
       "    <tr>\n",
       "      <th>3</th>\n",
       "      <td>1.4</td>\n",
       "      <td>0.6</td>\n",
       "      <td>-0.6</td>\n",
       "      <td>0</td>\n",
       "    </tr>\n",
       "    <tr>\n",
       "      <th>4</th>\n",
       "      <td>1.2</td>\n",
       "      <td>0.6</td>\n",
       "      <td>-0.6</td>\n",
       "      <td>0</td>\n",
       "    </tr>\n",
       "    <tr>\n",
       "      <th>...</th>\n",
       "      <td>...</td>\n",
       "      <td>...</td>\n",
       "      <td>...</td>\n",
       "      <td>...</td>\n",
       "    </tr>\n",
       "    <tr>\n",
       "      <th>8149</th>\n",
       "      <td>-0.1</td>\n",
       "      <td>0.6</td>\n",
       "      <td>-0.2</td>\n",
       "      <td>1</td>\n",
       "    </tr>\n",
       "    <tr>\n",
       "      <th>8150</th>\n",
       "      <td>-0.2</td>\n",
       "      <td>0.7</td>\n",
       "      <td>-0.2</td>\n",
       "      <td>1</td>\n",
       "    </tr>\n",
       "    <tr>\n",
       "      <th>8151</th>\n",
       "      <td>-0.3</td>\n",
       "      <td>0.7</td>\n",
       "      <td>-0.2</td>\n",
       "      <td>1</td>\n",
       "    </tr>\n",
       "    <tr>\n",
       "      <th>8152</th>\n",
       "      <td>-0.5</td>\n",
       "      <td>0.5</td>\n",
       "      <td>-0.3</td>\n",
       "      <td>1</td>\n",
       "    </tr>\n",
       "    <tr>\n",
       "      <th>8153</th>\n",
       "      <td>-0.5</td>\n",
       "      <td>0.7</td>\n",
       "      <td>0.0</td>\n",
       "      <td>1</td>\n",
       "    </tr>\n",
       "  </tbody>\n",
       "</table>\n",
       "<p>8154 rows × 4 columns</p>\n",
       "</div>"
      ],
      "text/plain": [
       "        x   y    z  label\n",
       "0     1.1 0.7 -0.6      0\n",
       "1     1.1 0.7 -0.7      0\n",
       "2     1.4 0.5 -0.7      0\n",
       "3     1.4 0.6 -0.6      0\n",
       "4     1.2 0.6 -0.6      0\n",
       "...   ...  ..  ...    ...\n",
       "8149 -0.1 0.6 -0.2      1\n",
       "8150 -0.2 0.7 -0.2      1\n",
       "8151 -0.3 0.7 -0.2      1\n",
       "8152 -0.5 0.5 -0.3      1\n",
       "8153 -0.5 0.7  0.0      1\n",
       "\n",
       "[8154 rows x 4 columns]"
      ]
     },
     "execution_count": 177,
     "metadata": {},
     "output_type": "execute_result"
    }
   ],
   "source": [
    "scaler = StandardScaler()\n",
    "X = scaler.fit_transform(X)\n",
    "\n",
    "scaled_X = pd.DataFrame(data = X, columns = ['x', 'y', 'z'])\n",
    "scaled_X['label'] = y.values\n",
    "\n",
    "scaled_X"
   ]
  },
  {
   "cell_type": "code",
   "execution_count": 178,
   "id": "b28982b8",
   "metadata": {},
   "outputs": [],
   "source": [
    "Fs = 20\n",
    "frame_size = Fs*4 # 80\n",
    "hop_size = Fs*2 # 40"
   ]
  },
  {
   "cell_type": "code",
   "execution_count": 179,
   "id": "ff0e4327",
   "metadata": {},
   "outputs": [],
   "source": [
    "def get_frames(df, frame_size, hop_size):\n",
    "\n",
    "    N_FEATURES = 3\n",
    "\n",
    "    frames = []\n",
    "    labels = []\n",
    "    for i in range(0, len(df) - frame_size, hop_size):\n",
    "        x = df['x'].values[i: i + frame_size]\n",
    "        y = df['y'].values[i: i + frame_size]\n",
    "        z = df['z'].values[i: i + frame_size]\n",
    "        \n",
    "        # Retrieve the most often used label in this segment\n",
    "        label = stats.mode(df['label'][i: i + frame_size])[0][0]\n",
    "        frames.append([x, y, z])\n",
    "        labels.append(label)\n",
    "\n",
    "    # Bring the segments into a better shape\n",
    "    frames = np.asarray(frames).reshape(-1, frame_size, N_FEATURES)\n",
    "    labels = np.asarray(labels)\n",
    "\n",
    "    return frames, labels"
   ]
  },
  {
   "cell_type": "code",
   "execution_count": 180,
   "id": "88602212",
   "metadata": {},
   "outputs": [
    {
     "name": "stderr",
     "output_type": "stream",
     "text": [
      "<ipython-input-179-351285eacf6e>:13: FutureWarning: Unlike other reduction functions (e.g. `skew`, `kurtosis`), the default behavior of `mode` typically preserves the axis it acts along. In SciPy 1.11.0, this behavior will change: the default value of `keepdims` will become False, the `axis` over which the statistic is taken will be eliminated, and the value None will no longer be accepted. Set `keepdims` to True or False to avoid this warning.\n",
      "  label = stats.mode(df['label'][i: i + frame_size])[0][0]\n"
     ]
    }
   ],
   "source": [
    "X, y = get_frames(scaled_X, frame_size, hop_size)"
   ]
  },
  {
   "cell_type": "code",
   "execution_count": 181,
   "id": "44924350",
   "metadata": {},
   "outputs": [
    {
     "data": {
      "text/plain": [
       "((202, 80, 3), (202,))"
      ]
     },
     "execution_count": 181,
     "metadata": {},
     "output_type": "execute_result"
    }
   ],
   "source": [
    "X.shape, y.shape"
   ]
  },
  {
   "cell_type": "code",
   "execution_count": 182,
   "id": "d7670396",
   "metadata": {},
   "outputs": [
    {
     "data": {
      "text/plain": [
       "((80, 3, 1), (80, 3, 1))"
      ]
     },
     "execution_count": 182,
     "metadata": {},
     "output_type": "execute_result"
    }
   ],
   "source": [
    "X_train[0].shape, X_test[0].shape"
   ]
  },
  {
   "cell_type": "code",
   "execution_count": 183,
   "id": "8b0e10f5",
   "metadata": {},
   "outputs": [],
   "source": [
    "X_train, X_test, y_train, y_test = train_test_split(X, y, test_size = 0.2, random_state = 0, stratify = y)"
   ]
  },
  {
   "cell_type": "code",
   "execution_count": 184,
   "id": "aaf3c0a1",
   "metadata": {},
   "outputs": [
    {
     "data": {
      "text/plain": [
       "((161, 80, 3), (41, 80, 3))"
      ]
     },
     "execution_count": 184,
     "metadata": {},
     "output_type": "execute_result"
    }
   ],
   "source": [
    "X_train.shape, X_test.shape\n",
    "\n",
    "#reshape때 사용"
   ]
  },
  {
   "cell_type": "code",
   "execution_count": 185,
   "id": "6c6d8f65",
   "metadata": {},
   "outputs": [
    {
     "data": {
      "text/plain": [
       "((80, 3), (80, 3))"
      ]
     },
     "execution_count": 185,
     "metadata": {},
     "output_type": "execute_result"
    }
   ],
   "source": [
    "X_train[0].shape, X_test[0].shape"
   ]
  },
  {
   "cell_type": "code",
   "execution_count": 186,
   "id": "a52c34b4",
   "metadata": {},
   "outputs": [],
   "source": [
    "X_train = X_train.reshape(161, 80, 3, 1)\n",
    "X_test = X_test.reshape(41, 80, 3, 1)"
   ]
  },
  {
   "cell_type": "code",
   "execution_count": 187,
   "id": "5d4f247b",
   "metadata": {},
   "outputs": [
    {
     "data": {
      "text/plain": [
       "((80, 3, 1), (80, 3, 1))"
      ]
     },
     "execution_count": 187,
     "metadata": {},
     "output_type": "execute_result"
    }
   ],
   "source": [
    "X_train[0].shape, X_test[0].shape"
   ]
  },
  {
   "cell_type": "code",
   "execution_count": 188,
   "id": "5b646bb7",
   "metadata": {},
   "outputs": [],
   "source": [
    "import tensorflow as tf\n",
    "from tensorflow.keras import Sequential\n",
    "from tensorflow.keras.layers import Flatten, Dense, Dropout, BatchNormalization\n",
    "from tensorflow.keras.layers import Conv2D, MaxPool2D\n",
    "from tensorflow.keras.optimizers import Adam"
   ]
  },
  {
   "cell_type": "code",
   "execution_count": 189,
   "id": "59412f42",
   "metadata": {},
   "outputs": [],
   "source": [
    "model = Sequential()\n",
    "model.add(Conv2D(16, (2, 2), activation = 'relu', input_shape = X_train[0].shape))\n",
    "model.add(Dropout(0.1))\n",
    "\n",
    "model.add(Conv2D(32, (2, 2), activation='relu'))\n",
    "model.add(Dropout(0.2))\n",
    "\n",
    "model.add(Flatten())\n",
    "\n",
    "model.add(Dense(64, activation = 'relu'))\n",
    "model.add(Dropout(0.5))\n",
    "\n",
    "model.add(Dense(6, activation='softmax'))\n",
    "# 2개 class만 분류하므로 2로 수정"
   ]
  },
  {
   "cell_type": "code",
   "execution_count": 190,
   "id": "fe3e77cb",
   "metadata": {},
   "outputs": [],
   "source": [
    "model.compile(optimizer=Adam(learning_rate = 0.001), loss = 'sparse_categorical_crossentropy', metrics = ['accuracy'])"
   ]
  },
  {
   "cell_type": "code",
   "execution_count": 191,
   "id": "92cecfcb",
   "metadata": {},
   "outputs": [
    {
     "name": "stdout",
     "output_type": "stream",
     "text": [
      "Model: \"sequential_10\"\n",
      "_________________________________________________________________\n",
      " Layer (type)                Output Shape              Param #   \n",
      "=================================================================\n",
      " conv2d_18 (Conv2D)          (None, 79, 2, 16)         80        \n",
      "                                                                 \n",
      " dropout_27 (Dropout)        (None, 79, 2, 16)         0         \n",
      "                                                                 \n",
      " conv2d_19 (Conv2D)          (None, 78, 1, 32)         2080      \n",
      "                                                                 \n",
      " dropout_28 (Dropout)        (None, 78, 1, 32)         0         \n",
      "                                                                 \n",
      " flatten_9 (Flatten)         (None, 2496)              0         \n",
      "                                                                 \n",
      " dense_18 (Dense)            (None, 64)                159808    \n",
      "                                                                 \n",
      " dropout_29 (Dropout)        (None, 64)                0         \n",
      "                                                                 \n",
      " dense_19 (Dense)            (None, 6)                 390       \n",
      "                                                                 \n",
      "=================================================================\n",
      "Total params: 162358 (634.21 KB)\n",
      "Trainable params: 162358 (634.21 KB)\n",
      "Non-trainable params: 0 (0.00 Byte)\n",
      "_________________________________________________________________\n"
     ]
    }
   ],
   "source": [
    "model.summary()"
   ]
  },
  {
   "cell_type": "code",
   "execution_count": 192,
   "id": "c8b6cdd3",
   "metadata": {},
   "outputs": [
    {
     "name": "stdout",
     "output_type": "stream",
     "text": [
      "Epoch 1/10\n",
      "6/6 [==============================] - 1s 43ms/step - loss: 1.0868 - accuracy: 0.5652 - val_loss: 0.3979 - val_accuracy: 0.9512\n",
      "Epoch 2/10\n",
      "6/6 [==============================] - 0s 13ms/step - loss: 0.3744 - accuracy: 0.8634 - val_loss: 0.1378 - val_accuracy: 0.9756\n",
      "Epoch 3/10\n",
      "6/6 [==============================] - 0s 13ms/step - loss: 0.1370 - accuracy: 0.9689 - val_loss: 0.0782 - val_accuracy: 0.9756\n",
      "Epoch 4/10\n",
      "6/6 [==============================] - 0s 11ms/step - loss: 0.0524 - accuracy: 1.0000 - val_loss: 0.0557 - val_accuracy: 0.9756\n",
      "Epoch 5/10\n",
      "6/6 [==============================] - 0s 13ms/step - loss: 0.0255 - accuracy: 1.0000 - val_loss: 0.0423 - val_accuracy: 0.9756\n",
      "Epoch 6/10\n",
      "6/6 [==============================] - 0s 12ms/step - loss: 0.0152 - accuracy: 1.0000 - val_loss: 0.0363 - val_accuracy: 0.9756\n",
      "Epoch 7/10\n",
      "6/6 [==============================] - 0s 12ms/step - loss: 0.0085 - accuracy: 1.0000 - val_loss: 0.0356 - val_accuracy: 0.9756\n",
      "Epoch 8/10\n",
      "6/6 [==============================] - 0s 11ms/step - loss: 0.0093 - accuracy: 1.0000 - val_loss: 0.0424 - val_accuracy: 0.9756\n",
      "Epoch 9/10\n",
      "6/6 [==============================] - 0s 11ms/step - loss: 0.0110 - accuracy: 0.9938 - val_loss: 0.0638 - val_accuracy: 0.9756\n",
      "Epoch 10/10\n",
      "6/6 [==============================] - 0s 11ms/step - loss: 0.0026 - accuracy: 1.0000 - val_loss: 0.0771 - val_accuracy: 0.9756\n"
     ]
    }
   ],
   "source": [
    "history = model.fit(X_train, y_train, epochs = 10, validation_data= (X_test, y_test), verbose=1)"
   ]
  },
  {
   "cell_type": "code",
   "execution_count": 194,
   "id": "499dd362",
   "metadata": {},
   "outputs": [
    {
     "data": {
      "image/png": "[encoded data removed]",
      "text/plain": [
       "<Figure size 432x288 with 1 Axes>"
      ]
     },
     "metadata": {
      "needs_background": "light"
     },
     "output_type": "display_data"
    },
    {
     "ename": "NameError",
     "evalue": "name 'x_train' is not defined",
     "output_type": "error",
     "traceback": [
      "\u001b[1;31m---------------------------------------------------------------------------\u001b[0m",
      "\u001b[1;31mNameError\u001b[0m                                 Traceback (most recent call last)",
      "\u001b[1;32m<ipython-input-194-a6bc87778df1>\u001b[0m in \u001b[0;36m<module>\u001b[1;34m\u001b[0m\n\u001b[0;32m     14\u001b[0m \u001b[1;33m\u001b[0m\u001b[0m\n\u001b[0;32m     15\u001b[0m \u001b[1;31m# Print confusion matrix for training data\u001b[0m\u001b[1;33m\u001b[0m\u001b[1;33m\u001b[0m\u001b[1;33m\u001b[0m\u001b[0m\n\u001b[1;32m---> 16\u001b[1;33m \u001b[0my_pred_train\u001b[0m \u001b[1;33m=\u001b[0m \u001b[0mmodel\u001b[0m\u001b[1;33m.\u001b[0m\u001b[0mpredict\u001b[0m\u001b[1;33m(\u001b[0m\u001b[0mx_train\u001b[0m\u001b[1;33m)\u001b[0m\u001b[1;33m\u001b[0m\u001b[1;33m\u001b[0m\u001b[0m\n\u001b[0m\u001b[0;32m     17\u001b[0m \u001b[1;31m# Take the class with the highest probability from the train predictions\u001b[0m\u001b[1;33m\u001b[0m\u001b[1;33m\u001b[0m\u001b[1;33m\u001b[0m\u001b[0m\n\u001b[0;32m     18\u001b[0m \u001b[0mmax_y_pred_train\u001b[0m \u001b[1;33m=\u001b[0m \u001b[0mnp\u001b[0m\u001b[1;33m.\u001b[0m\u001b[0margmax\u001b[0m\u001b[1;33m(\u001b[0m\u001b[0my_pred_train\u001b[0m\u001b[1;33m,\u001b[0m \u001b[0maxis\u001b[0m \u001b[1;33m=\u001b[0m \u001b[1;36m1\u001b[0m\u001b[1;33m)\u001b[0m\u001b[1;33m\u001b[0m\u001b[1;33m\u001b[0m\u001b[0m\n",
      "\u001b[1;31mNameError\u001b[0m: name 'x_train' is not defined"
     ]
    }
   ],
   "source": [
    "from sklearn.metrics import classification_report\n",
    "\n",
    "plt.figure(figsize=(6, 4))\n",
    "plt.plot(history.history[\"accuracy\"], 'r', label = \"Accuracy of training data\")\n",
    "plt.plot(history.history[\"val_accuracy\"], 'b', label = \"Accuracy of validation data\")\n",
    "plt.plot(history.history[\"loss\"], 'r--', label = \"Loss of training data\")\n",
    "plt.plot(history.history[\"val_loss\"], 'b--', label = \"Loss of validation data\")\n",
    "plt.title(\"Model Accuracy and Loss\")\n",
    "plt.ylabel(\"Accuracy and Loss\")\n",
    "plt.xlabel(\"Training Epoch\")\n",
    "plt.ylim(0)\n",
    "plt.legend()\n",
    "plt.show()\n",
    "\n",
    "# Print confusion matrix for training data\n",
    "y_pred_train = model.predict(x_train)\n",
    "# Take the class with the highest probability from the train predictions\n",
    "max_y_pred_train = np.argmax(y_pred_train, axis = 1)\n",
    "print(classification_report(y_train, max_y_pred_train))\n"
   ]
  },
  {
   "cell_type": "code",
   "execution_count": null,
   "id": "e3196442",
   "metadata": {},
   "outputs": [],
   "source": [
    "model = Sequential()\n",
    "model.add(Conv2D(16, (2, 2), activation = 'relu', input_shape = X_train[0].shape))\n",
    "model.add(Dropout(0.1))\n",
    "\n",
    "model.add(Conv2D(32, (2, 2), activation='relu'))\n",
    "model.add(Dropout(0.2))\n",
    "\n",
    "model.add(Flatten())\n",
    "\n",
    "model.add(Dense(64, activation = 'relu'))\n",
    "model.add(Dropout(0.5))\n",
    "\n",
    "model.add(Dense(6, activation='softmax'))"
   ]
  }
 ],
 "metadata": {
  "kernelspec": {
   "display_name": "Python 3",
   "language": "python",
   "name": "python3"
  },
  "language_info": {
   "codemirror_mode": {
    "name": "ipython",
    "version": 3
   },
   "file_extension": ".py",
   "mimetype": "text/x-python",
   "name": "python",
   "nbconvert_exporter": "python",
   "pygments_lexer": "ipython3",
   "version": "3.8.8"
  }
 },
 "nbformat": 4,
 "nbformat_minor": 5
}
