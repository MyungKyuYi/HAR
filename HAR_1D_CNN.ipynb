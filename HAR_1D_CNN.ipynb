{
 "cells": [
  {
   "cell_type": "code",
   "execution_count": 1,
   "id": "3ef4df8f",
   "metadata": {},
   "outputs": [],
   "source": [
    "import numpy as np\n",
    "import pandas as pd\n",
    "from tensorflow.keras.utils import to_categorical\n",
    "import matplotlib.pyplot as plt\n",
    "import seaborn as sns\n",
    "\n",
    "\n",
    "def load_file(filepath):\n",
    "    dataframe = pd.read_csv(filepath, header=None, delim_whitespace=True)\n",
    "    return dataframe.values\n",
    "\n",
    "# load a list of files and return as a 3d numpy array\n",
    "def load_group(filenames, prefix=''):\n",
    "    loaded = list()\n",
    "    for name in filenames:\n",
    "        data = load_file(prefix + name)\n",
    "        loaded.append(data)\n",
    "    # stack group so that features are the 3rd dimension\n",
    "    loaded = np.dstack(loaded)\n",
    "    return loaded\n",
    "\n",
    "# load a dataset group, such as train or test\n",
    "def load_dataset_group(group, prefix=''):\n",
    "    filepath = prefix + group + '/Inertial Signals/'\n",
    "    # load all 9 files as a single array\n",
    "    filenames = list()\n",
    "    # total acceleration\n",
    "    filenames += ['total_acc_x_'+group+'.txt', 'total_acc_y_'+group+'.txt', 'total_acc_z_'+group+'.txt']\n",
    "    # body acceleration\n",
    "    filenames += ['body_acc_x_'+group+'.txt', 'body_acc_y_'+group+'.txt', 'body_acc_z_'+group+'.txt']\n",
    "    # body gyroscope\n",
    "    filenames += ['body_gyro_x_'+group+'.txt', 'body_gyro_y_'+group+'.txt', 'body_gyro_z_'+group+'.txt']\n",
    "    # load input data\n",
    "    X = load_group(filenames, filepath)\n",
    "    # load class output\n",
    "    y = load_file(prefix + group + '/y_'+group+'.txt')\n",
    "    return X, y\n",
    "\n",
    "\n",
    "# load the dataset, returns train and test X and y elements\n",
    "def load_dataset(prefix=''):\n",
    "    # load all train\n",
    "    trainX, trainy = load_dataset_group('train', prefix + 'C:/HAR/UCI/')\n",
    "    # load all test\n",
    "    testX, testy = load_dataset_group('test', prefix + 'C:/HAR/UCI/')\n",
    "    \n",
    "    #zero-offset class values\n",
    "    trainy = trainy - 1\n",
    "    testy = testy - 1\n",
    "    #one hot encode y\n",
    "    trainy_one_hot = to_categorical(trainy)\n",
    "    testy_one_hot = to_categorical(testy)\n",
    "    print(trainX.shape, trainy.shape, trainy_one_hot.shape, testX.shape, testy.shape, testy_one_hot.shape)\n",
    "    return trainX, trainy, trainy_one_hot, testX, testy, testy_one_hot"
   ]
  },
  {
   "cell_type": "code",
   "execution_count": 3,
   "id": "eecc9361",
   "metadata": {},
   "outputs": [
    {
     "name": "stdout",
     "output_type": "stream",
     "text": [
      "(7352, 128, 9) (7352, 1) (7352, 6) (2947, 128, 9) (2947, 1) (2947, 6)\n"
     ]
    }
   ],
   "source": [
    "trainX, trainy, trainy_one_hot, testX, testy, testy_one_hot = load_dataset()"
   ]
  },
  {
   "cell_type": "code",
   "execution_count": 4,
   "id": "48f74cff",
   "metadata": {},
   "outputs": [],
   "source": [
    "from sklearn.model_selection import train_test_split\n",
    "X_train,X_val,y_train_one_hot,y_val_one_hot,y_train,y_val=train_test_split(trainX, trainy_one_hot, trainy,test_size=0.2,random_state=100)"
   ]
  },
  {
   "cell_type": "code",
   "execution_count": 5,
   "id": "0da4dbe5",
   "metadata": {},
   "outputs": [
    {
     "data": {
      "text/plain": [
       "((5881, 128, 9), (1471, 128, 9), (5881, 6), (1471, 6), (5881, 1), (1471, 1))"
      ]
     },
     "execution_count": 5,
     "metadata": {},
     "output_type": "execute_result"
    }
   ],
   "source": [
    "X_train.shape,X_val.shape,y_train_one_hot.shape,y_val_one_hot.shape,y_train.shape,y_val.shape"
   ]
  },
  {
   "cell_type": "code",
   "execution_count": 6,
   "id": "dc2d6bd2",
   "metadata": {},
   "outputs": [
    {
     "ename": "NameError",
     "evalue": "name 'X_train' is not defined",
     "output_type": "error",
     "traceback": [
      "\u001b[1;31m---------------------------------------------------------------------------\u001b[0m",
      "\u001b[1;31mNameError\u001b[0m                                 Traceback (most recent call last)",
      "\u001b[1;32m<ipython-input-6-b08c6d2c9494>\u001b[0m in \u001b[0;36m<module>\u001b[1;34m\u001b[0m\n\u001b[1;32m----> 1\u001b[1;33m \u001b[0mn_timesteps\u001b[0m\u001b[1;33m,\u001b[0m \u001b[0mn_features\u001b[0m\u001b[1;33m,\u001b[0m \u001b[0mn_outputs\u001b[0m \u001b[1;33m=\u001b[0m \u001b[0mX_train\u001b[0m\u001b[1;33m.\u001b[0m\u001b[0mshape\u001b[0m\u001b[1;33m[\u001b[0m\u001b[1;36m1\u001b[0m\u001b[1;33m]\u001b[0m\u001b[1;33m,\u001b[0m \u001b[0mX_train\u001b[0m\u001b[1;33m.\u001b[0m\u001b[0mshape\u001b[0m\u001b[1;33m[\u001b[0m\u001b[1;36m2\u001b[0m\u001b[1;33m]\u001b[0m\u001b[1;33m,\u001b[0m \u001b[0my_train_one_hot\u001b[0m\u001b[1;33m.\u001b[0m\u001b[0mshape\u001b[0m\u001b[1;33m[\u001b[0m\u001b[1;36m1\u001b[0m\u001b[1;33m]\u001b[0m\u001b[1;33m\u001b[0m\u001b[1;33m\u001b[0m\u001b[0m\n\u001b[0m",
      "\u001b[1;31mNameError\u001b[0m: name 'X_train' is not defined"
     ]
    }
   ],
   "source": [
    "n_timesteps, n_features, n_outputs = X_train.shape[1], X_train.shape[2], y_train_one_hot.shape[1]"
   ]
  },
  {
   "cell_type": "code",
   "execution_count": 7,
   "id": "804113bb",
   "metadata": {},
   "outputs": [
    {
     "data": {
      "text/plain": [
       "(128, 9, 6)"
      ]
     },
     "execution_count": 7,
     "metadata": {},
     "output_type": "execute_result"
    }
   ],
   "source": [
    "n_timesteps, n_features, n_outputs"
   ]
  },
  {
   "cell_type": "code",
   "execution_count": 14,
   "id": "3d34e001",
   "metadata": {},
   "outputs": [],
   "source": [
    "from tensorflow.keras.models import Model\n",
    "from tensorflow.keras.models import Sequential\n",
    "from keras.layers import LSTM\n",
    "from keras.layers import Input\n",
    "from keras.layers import Dense\n",
    "from keras.layers import Flatten\n",
    "from keras.layers import Dropout\n",
    "from keras.layers.convolutional import Conv1D\n",
    "from keras.layers.convolutional import MaxPooling1D\n",
    "from keras.layers.merge import concatenate\n",
    "from keras.utils import to_categorical"
   ]
  },
  {
   "cell_type": "code",
   "execution_count": 15,
   "id": "63dbf291",
   "metadata": {},
   "outputs": [
    {
     "name": "stdout",
     "output_type": "stream",
     "text": [
      "Model: \"functional_1\"\n",
      "__________________________________________________________________________________________________\n",
      "Layer (type)                    Output Shape         Param #     Connected to                     \n",
      "==================================================================================================\n",
      "input_1 (InputLayer)            [(None, 128, 9)]     0                                            \n",
      "__________________________________________________________________________________________________\n",
      "input_2 (InputLayer)            [(None, 128, 9)]     0                                            \n",
      "__________________________________________________________________________________________________\n",
      "input_3 (InputLayer)            [(None, 128, 9)]     0                                            \n",
      "__________________________________________________________________________________________________\n",
      "input_4 (InputLayer)            [(None, 128, 9)]     0                                            \n",
      "__________________________________________________________________________________________________\n",
      "conv1d (Conv1D)                 (None, 126, 128)     3584        input_1[0][0]                    \n",
      "__________________________________________________________________________________________________\n",
      "conv1d_1 (Conv1D)               (None, 124, 128)     5888        input_2[0][0]                    \n",
      "__________________________________________________________________________________________________\n",
      "conv1d_2 (Conv1D)               (None, 122, 128)     8192        input_3[0][0]                    \n",
      "__________________________________________________________________________________________________\n",
      "conv1d_3 (Conv1D)               (None, 120, 128)     10496       input_4[0][0]                    \n",
      "__________________________________________________________________________________________________\n",
      "concatenate (Concatenate)       (None, 492, 128)     0           conv1d[0][0]                     \n",
      "                                                                 conv1d_1[0][0]                   \n",
      "                                                                 conv1d_2[0][0]                   \n",
      "                                                                 conv1d_3[0][0]                   \n",
      "__________________________________________________________________________________________________\n",
      "max_pooling1d (MaxPooling1D)    (None, 98, 128)      0           concatenate[0][0]                \n",
      "__________________________________________________________________________________________________\n",
      "conv1d_4 (Conv1D)               (None, 96, 64)       24640       max_pooling1d[0][0]              \n",
      "__________________________________________________________________________________________________\n",
      "conv1d_5 (Conv1D)               (None, 94, 64)       41024       max_pooling1d[0][0]              \n",
      "__________________________________________________________________________________________________\n",
      "conv1d_6 (Conv1D)               (None, 92, 64)       57408       max_pooling1d[0][0]              \n",
      "__________________________________________________________________________________________________\n",
      "conv1d_7 (Conv1D)               (None, 90, 64)       73792       max_pooling1d[0][0]              \n",
      "__________________________________________________________________________________________________\n",
      "concatenate_1 (Concatenate)     (None, 372, 64)      0           conv1d_4[0][0]                   \n",
      "                                                                 conv1d_5[0][0]                   \n",
      "                                                                 conv1d_6[0][0]                   \n",
      "                                                                 conv1d_7[0][0]                   \n",
      "__________________________________________________________________________________________________\n",
      "max_pooling1d_1 (MaxPooling1D)  (None, 74, 64)       0           concatenate_1[0][0]              \n",
      "__________________________________________________________________________________________________\n",
      "conv1d_8 (Conv1D)               (None, 72, 32)       6176        max_pooling1d_1[0][0]            \n",
      "__________________________________________________________________________________________________\n",
      "conv1d_9 (Conv1D)               (None, 70, 32)       10272       max_pooling1d_1[0][0]            \n",
      "__________________________________________________________________________________________________\n",
      "conv1d_10 (Conv1D)              (None, 68, 32)       14368       max_pooling1d_1[0][0]            \n",
      "__________________________________________________________________________________________________\n",
      "conv1d_11 (Conv1D)              (None, 66, 32)       18464       max_pooling1d_1[0][0]            \n",
      "__________________________________________________________________________________________________\n",
      "concatenate_2 (Concatenate)     (None, 276, 32)      0           conv1d_8[0][0]                   \n",
      "                                                                 conv1d_9[0][0]                   \n",
      "                                                                 conv1d_10[0][0]                  \n",
      "                                                                 conv1d_11[0][0]                  \n",
      "__________________________________________________________________________________________________\n",
      "max_pooling1d_2 (MaxPooling1D)  (None, 55, 32)       0           concatenate_2[0][0]              \n",
      "__________________________________________________________________________________________________\n",
      "flatten (Flatten)               (None, 1760)         0           max_pooling1d_2[0][0]            \n",
      "__________________________________________________________________________________________________\n",
      "dense (Dense)                   (None, 512)          901632      flatten[0][0]                    \n",
      "__________________________________________________________________________________________________\n",
      "dense_1 (Dense)                 (None, 6)            3078        dense[0][0]                      \n",
      "==================================================================================================\n",
      "Total params: 1,179,014\n",
      "Trainable params: 1,179,014\n",
      "Non-trainable params: 0\n",
      "__________________________________________________________________________________________________\n"
     ]
    }
   ],
   "source": [
    "##Level_1\n",
    "# layer 1\n",
    "inputs1_1= Input(shape=(n_timesteps,n_features))##128,9\n",
    "conv1_1 = Conv1D(filters=128, kernel_size=3, activation='relu')(inputs1_1) ##none,126,128\n",
    "# layer 2\n",
    "inputs1_2= Input(shape=(n_timesteps,n_features))\n",
    "conv1_2 = Conv1D(filters=128, kernel_size=5, activation='relu')(inputs1_2)##124,128\n",
    "# layer 3\n",
    "inputs1_3= Input(shape=(n_timesteps,n_features))\n",
    "conv1_3 = Conv1D(filters=128, kernel_size=7, activation='relu')(inputs1_3)##122,128\n",
    "# layer 4\n",
    "inputs1_4= Input(shape=(n_timesteps,n_features))\n",
    "conv1_4 = Conv1D(filters=128, kernel_size=9, activation='relu')(inputs1_4)##120,128\n",
    "\n",
    "# merge1\n",
    "merged_1 = concatenate([conv1_1,conv1_2,conv1_3,conv1_4],axis=1)\n",
    "\n",
    "#maxpool1\n",
    "pool_1=MaxPooling1D(pool_size=5)(merged_1)\n",
    "\n",
    "##Level_2\n",
    "# layer 1\n",
    "conv2_1 = Conv1D(filters=64, kernel_size=3, activation='relu')(pool_1)\n",
    "# layer 2\n",
    "conv2_2 = Conv1D(filters=64, kernel_size=5, activation='relu')(pool_1)\n",
    "# layer 3\n",
    "conv2_3 = Conv1D(filters=64, kernel_size=7, activation='relu')(pool_1)\n",
    "# layer 4\n",
    "\n",
    "conv2_4 = Conv1D(filters=64, kernel_size=9, activation='relu')(pool_1) \n",
    "# merge2\n",
    "merged_2 = concatenate([conv2_1,conv2_2,conv2_3,conv2_4],axis=1)\n",
    "\n",
    "#maxpool2\n",
    "pool_2=MaxPooling1D(pool_size=5)(merged_2)\n",
    "\n",
    "\n",
    "##Level_3\n",
    "# layer 1\n",
    "conv3_1 = Conv1D(filters=32, kernel_size=3, activation='relu')(pool_2)\n",
    "# layer 2\n",
    "conv3_2 = Conv1D(filters=32, kernel_size=5, activation='relu')(pool_2)\n",
    "# layer 3\n",
    "conv3_3 = Conv1D(filters=32, kernel_size=7, activation='relu')(pool_2)\n",
    "# layer 4\n",
    "\n",
    "conv3_4 = Conv1D(filters=32, kernel_size=9, activation='relu')(pool_2) \n",
    "# merge2\n",
    "merged_3 = concatenate([conv3_1,conv3_2,conv3_3,conv3_4],axis=1)\n",
    "\n",
    "#maxpool2\n",
    "pool_3=MaxPooling1D(pool_size=5)(merged_3)\n",
    "\n",
    "\n",
    "#flatten\n",
    "flat_cnn=Flatten()(pool_3)\n",
    "\n",
    "##dense layer\n",
    "dense = Dense(512, activation='relu')(flat_cnn)\n",
    "outputs = Dense(n_outputs, activation='softmax')(dense)\n",
    "\n",
    "##MODEL\n",
    "cnn3_model = Model([inputs1_1, inputs1_2, inputs1_3,inputs1_4], outputs)\n",
    "\n",
    "cnn3_model.compile(loss='categorical_crossentropy', optimizer='adam', metrics=['accuracy'])\n",
    "cnn3_model.summary()"
   ]
  },
  {
   "cell_type": "code",
   "execution_count": 17,
   "id": "8904ba0d",
   "metadata": {},
   "outputs": [
    {
     "name": "stdout",
     "output_type": "stream",
     "text": [
      "Epoch 1/30\n",
      "184/184 [==============================] - 29s 157ms/step - loss: 0.0198 - accuracy: 0.9930 - val_loss: 0.6319 - val_accuracy: 0.9328\n",
      "Epoch 2/30\n",
      "184/184 [==============================] - 28s 152ms/step - loss: 0.0193 - accuracy: 0.9927 - val_loss: 0.6115 - val_accuracy: 0.9298\n",
      "Epoch 3/30\n",
      "184/184 [==============================] - 30s 163ms/step - loss: 0.0077 - accuracy: 0.9974 - val_loss: 0.5515 - val_accuracy: 0.9369\n",
      "Epoch 4/30\n",
      "184/184 [==============================] - 29s 155ms/step - loss: 0.0167 - accuracy: 0.9934 - val_loss: 0.6056 - val_accuracy: 0.9399\n",
      "Epoch 5/30\n",
      "184/184 [==============================] - 28s 154ms/step - loss: 0.0115 - accuracy: 0.9956 - val_loss: 0.7427 - val_accuracy: 0.9365\n",
      "Epoch 6/30\n",
      "184/184 [==============================] - 26s 144ms/step - loss: 0.0133 - accuracy: 0.9952 - val_loss: 1.0937 - val_accuracy: 0.9325\n",
      "Epoch 7/30\n",
      "184/184 [==============================] - 28s 153ms/step - loss: 0.0603 - accuracy: 0.9895 - val_loss: 0.5517 - val_accuracy: 0.9454\n",
      "Epoch 8/30\n",
      "184/184 [==============================] - 28s 154ms/step - loss: 0.0192 - accuracy: 0.9935 - val_loss: 0.5974 - val_accuracy: 0.9477\n",
      "Epoch 9/30\n",
      "184/184 [==============================] - 27s 147ms/step - loss: 0.0089 - accuracy: 0.9971 - val_loss: 0.6418 - val_accuracy: 0.9474\n",
      "Epoch 10/30\n",
      "184/184 [==============================] - 27s 146ms/step - loss: 0.0064 - accuracy: 0.9976 - val_loss: 0.6407 - val_accuracy: 0.9467\n",
      "Epoch 11/30\n",
      "184/184 [==============================] - 28s 153ms/step - loss: 0.0099 - accuracy: 0.9963 - val_loss: 0.5726 - val_accuracy: 0.9460\n",
      "Epoch 12/30\n",
      "184/184 [==============================] - 29s 160ms/step - loss: 0.0173 - accuracy: 0.9935 - val_loss: 0.5094 - val_accuracy: 0.9420\n",
      "Epoch 13/30\n",
      "184/184 [==============================] - 27s 145ms/step - loss: 0.0045 - accuracy: 0.9988 - val_loss: 0.5594 - val_accuracy: 0.9454\n",
      "Epoch 14/30\n",
      "184/184 [==============================] - 29s 160ms/step - loss: 0.0024 - accuracy: 0.9993 - val_loss: 0.6172 - val_accuracy: 0.9488\n",
      "Epoch 15/30\n",
      "184/184 [==============================] - 29s 156ms/step - loss: 0.0017 - accuracy: 0.9997 - val_loss: 0.6997 - val_accuracy: 0.9450\n",
      "Epoch 16/30\n",
      "184/184 [==============================] - 29s 157ms/step - loss: 0.0043 - accuracy: 0.9988 - val_loss: 0.7134 - val_accuracy: 0.9393\n",
      "Epoch 17/30\n",
      "184/184 [==============================] - 28s 151ms/step - loss: 0.0087 - accuracy: 0.9969 - val_loss: 0.6882 - val_accuracy: 0.9433\n",
      "Epoch 18/30\n",
      "184/184 [==============================] - 29s 158ms/step - loss: 0.0139 - accuracy: 0.9951 - val_loss: 0.4885 - val_accuracy: 0.9498\n",
      "Epoch 19/30\n",
      "184/184 [==============================] - 29s 156ms/step - loss: 0.0051 - accuracy: 0.9985 - val_loss: 0.6542 - val_accuracy: 0.9488\n",
      "Epoch 20/30\n",
      "184/184 [==============================] - 28s 150ms/step - loss: 0.0016 - accuracy: 0.9997 - val_loss: 0.6712 - val_accuracy: 0.9494\n",
      "Epoch 21/30\n",
      "184/184 [==============================] - 29s 160ms/step - loss: 0.0065 - accuracy: 0.9976 - val_loss: 0.7481 - val_accuracy: 0.9460\n",
      "Epoch 22/30\n",
      "184/184 [==============================] - 29s 155ms/step - loss: 0.0123 - accuracy: 0.9959 - val_loss: 0.5790 - val_accuracy: 0.9471\n",
      "Epoch 23/30\n",
      "184/184 [==============================] - 28s 154ms/step - loss: 0.0020 - accuracy: 0.9997 - val_loss: 0.6796 - val_accuracy: 0.9488\n",
      "Epoch 24/30\n",
      "184/184 [==============================] - 26s 143ms/step - loss: 2.9016e-04 - accuracy: 1.0000 - val_loss: 0.6997 - val_accuracy: 0.9484\n",
      "Epoch 25/30\n",
      "184/184 [==============================] - 30s 162ms/step - loss: 2.8449e-04 - accuracy: 1.0000 - val_loss: 0.7365 - val_accuracy: 0.9477\n",
      "Epoch 26/30\n",
      "184/184 [==============================] - 33s 177ms/step - loss: 1.0796e-04 - accuracy: 1.0000 - val_loss: 0.7559 - val_accuracy: 0.9477\n",
      "Epoch 27/30\n",
      "184/184 [==============================] - 31s 170ms/step - loss: 6.3941e-05 - accuracy: 1.0000 - val_loss: 0.7737 - val_accuracy: 0.9477\n",
      "Epoch 28/30\n",
      "184/184 [==============================] - 29s 157ms/step - loss: 4.2223e-05 - accuracy: 1.0000 - val_loss: 0.7909 - val_accuracy: 0.9481\n",
      "Epoch 29/30\n",
      "184/184 [==============================] - 30s 160ms/step - loss: 3.3462e-05 - accuracy: 1.0000 - val_loss: 0.8022 - val_accuracy: 0.9474\n",
      "Epoch 30/30\n",
      "184/184 [==============================] - 30s 164ms/step - loss: 2.6989e-05 - accuracy: 1.0000 - val_loss: 0.8128 - val_accuracy: 0.9481\n"
     ]
    }
   ],
   "source": [
    "# fit network\n",
    "model_history=cnn3_model.fit(x=[X_train,X_train,X_train,X_train], y=y_train_one_hot, epochs=30, batch_size=32,validation_data= ([testX,testX,testX,testX],testy_one_hot))"
   ]
  },
  {
   "cell_type": "code",
   "execution_count": 18,
   "id": "0829da4b",
   "metadata": {},
   "outputs": [
    {
     "data": {
      "image/png": "[encoded data removed]",
      "text/plain": [
       "<Figure size 432x288 with 1 Axes>"
      ]
     },
     "metadata": {
      "needs_background": "light"
     },
     "output_type": "display_data"
    }
   ],
   "source": [
    "import matplotlib.pyplot as plt\n",
    "import seaborn as sns\n",
    "\n",
    "loss =model_history.history['loss']\n",
    "val_loss =model_history.history['val_loss']\n",
    "epochs = range(1, len(loss) + 1)\n",
    "plt.plot(epochs, loss, 'y', label='Training loss')\n",
    "plt.plot(epochs, val_loss, 'r', label='Validation loss')\n",
    "plt.title('Training and validation loss')\n",
    "plt.xlabel('Epochs')\n",
    "plt.ylabel('Loss')\n",
    "plt.legend()\n",
    "plt.show()"
   ]
  },
  {
   "cell_type": "code",
   "execution_count": 19,
   "id": "9011897a",
   "metadata": {},
   "outputs": [
    {
     "data": {
      "image/png": "[encoded data removed]",
      "text/plain": [
       "<Figure size 432x288 with 1 Axes>"
      ]
     },
     "metadata": {
      "needs_background": "light"
     },
     "output_type": "display_data"
    }
   ],
   "source": [
    "acc =model_history.history['accuracy']\n",
    "val_acc =model_history.history['val_accuracy']\n",
    "plt.plot(epochs, acc, 'y', label='Training acc')\n",
    "plt.plot(epochs, val_acc, 'r', label='Validation acc')\n",
    "plt.title('Training and validation accuracy')\n",
    "plt.xlabel('Epochs')\n",
    "plt.ylabel('Accuracy')\n",
    "plt.legend()\n",
    "plt.show()"
   ]
  },
  {
   "cell_type": "code",
   "execution_count": 32,
   "id": "c17f5f7c",
   "metadata": {},
   "outputs": [
    {
     "name": "stdout",
     "output_type": "stream",
     "text": [
      "[[468  26   2   0   0   0]\n",
      " [  1 469   1   0   0   0]\n",
      " [  2   2 415   0   1   0]\n",
      " [  0   0   0 420  71   0]\n",
      " [  0   1   0  19 512   0]\n",
      " [  0   0   0   0  27 510]]\n",
      "0.9480827960637936\n",
      "              precision    recall  f1-score   support\n",
      "\n",
      "           0       0.99      0.94      0.97       496\n",
      "           1       0.94      1.00      0.97       471\n",
      "           2       0.99      0.99      0.99       420\n",
      "           3       0.96      0.86      0.90       491\n",
      "           4       0.84      0.96      0.90       532\n",
      "           5       1.00      0.95      0.97       537\n",
      "\n",
      "    accuracy                           0.95      2947\n",
      "   macro avg       0.95      0.95      0.95      2947\n",
      "weighted avg       0.95      0.95      0.95      2947\n",
      "\n"
     ]
    },
    {
     "data": {
      "text/plain": [
       "<AxesSubplot:>"
      ]
     },
     "execution_count": 32,
     "metadata": {},
     "output_type": "execute_result"
    },
    {
     "data": {
      "image/png": "[encoded data removed]",
      "text/plain": [
       "<Figure size 432x288 with 2 Axes>"
      ]
     },
     "metadata": {
      "needs_background": "light"
     },
     "output_type": "display_data"
    }
   ],
   "source": [
    "from sklearn.metrics import confusion_matrix,classification_report,accuracy_score\n",
    "pred=cnn3_model.predict([testX,testX,testX,testX])\n",
    "pred=np.argmax(pred, axis=-1)\n",
    "cm=confusion_matrix(testy,pred)\n",
    "print(cm)\n",
    "print(accuracy_score(testy,pred))\n",
    "print(classification_report(testy,pred))\n",
    "sns.heatmap(cm, annot=True, fmt = '.2f')"
   ]
  },
  {
   "cell_type": "code",
   "execution_count": null,
   "id": "463daffb",
   "metadata": {},
   "outputs": [],
   "source": []
  }
 ],
 "metadata": {
  "kernelspec": {
   "display_name": "Python 3",
   "language": "python",
   "name": "python3"
  },
  "language_info": {
   "codemirror_mode": {
    "name": "ipython",
    "version": 3
   },
   "file_extension": ".py",
   "mimetype": "text/x-python",
   "name": "python",
   "nbconvert_exporter": "python",
   "pygments_lexer": "ipython3",
   "version": "3.8.8"
  }
 },
 "nbformat": 4,
 "nbformat_minor": 5
}
