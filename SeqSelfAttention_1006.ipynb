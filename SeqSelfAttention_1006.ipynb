{
 "cells": [
  {
   "cell_type": "code",
   "execution_count": 45,
   "id": "c4644f6d",
   "metadata": {},
   "outputs": [],
   "source": [
    "import tensorflow as tf\n",
    "from tensorflow import keras\n",
    "from tensorflow.keras import layers\n",
    "\n",
    "# cnn model vary kernel size\n",
    "from numpy import mean\n",
    "from numpy import std\n",
    "from numpy import dstack\n",
    "from pandas import read_csv\n",
    "from matplotlib import pyplot\n",
    "\n",
    "from tensorflow.keras.utils import to_categorical\n",
    "import tensorflow.keras\n",
    "\n",
    "from tensorflow.keras.models import Sequential\n",
    "from tensorflow.keras.layers import Conv1D, Dense, Dropout, Flatten, Reshape, LSTM, Conv1D, MaxPooling1D, Bidirectional, ConvLSTM1D\n",
    "from tensorflow.keras.layers import Input, TimeDistributed, Conv1D, MaxPooling1D, BatchNormalization, GlobalAveragePooling1D, Activation, Embedding\n",
    "from keras.utils import np_utils"
   ]
  },
  {
   "cell_type": "code",
   "execution_count": 2,
   "id": "85c72753",
   "metadata": {},
   "outputs": [],
   "source": [
    "from typing import Any, Dict, List, Tuple\n",
    "import matplotlib.pyplot as plt\n",
    "import seaborn as sns"
   ]
  },
  {
   "cell_type": "code",
   "execution_count": 3,
   "id": "0b31acc0",
   "metadata": {},
   "outputs": [],
   "source": [
    "import numpy as np\n",
    "import pandas as pd\n",
    "from tensorflow.keras.utils import to_categorical\n",
    "import matplotlib.pyplot as plt\n",
    "import seaborn as sns\n",
    "\n",
    "\n",
    "def load_file(filepath):\n",
    "    dataframe = pd.read_csv(filepath, header=None, delim_whitespace=True)\n",
    "    return dataframe.values\n",
    "\n",
    "\n",
    "\n",
    "# load a list of files and return as a 3d numpy array\n",
    "def load_group(filenames, prefix=''):\n",
    "    loaded = list()\n",
    "    for name in filenames:\n",
    "        data = load_file(prefix + name)\n",
    "        loaded.append(data)\n",
    "    # stack group so that features are the 3rd dimension\n",
    "    loaded = np.dstack(loaded)\n",
    "    return loaded\n",
    "\n",
    "# load a dataset group, such as train or test\n",
    "def load_dataset_group(group, prefix=''):\n",
    "    filepath = prefix + group + '/Inertial Signals/'\n",
    "    # load all 9 files as a single array\n",
    "    filenames = list()\n",
    "    # total acceleration\n",
    "    filenames += ['total_acc_x_'+group+'.txt', 'total_acc_y_'+group+'.txt', 'total_acc_z_'+group+'.txt']\n",
    "    # body acceleration\n",
    "    filenames += ['body_acc_x_'+group+'.txt', 'body_acc_y_'+group+'.txt', 'body_acc_z_'+group+'.txt']\n",
    "    # body gyroscope\n",
    "    filenames += ['body_gyro_x_'+group+'.txt', 'body_gyro_y_'+group+'.txt', 'body_gyro_z_'+group+'.txt']\n",
    "    # load input data\n",
    "    X = load_group(filenames, filepath)\n",
    "    # load class output\n",
    "    y = load_file(prefix + group + '/y_'+group+'.txt')\n",
    "    return X, y\n",
    "\n",
    "\n",
    "# load the dataset, returns train and test X and y elements\n",
    "def load_dataset(prefix=''):\n",
    "    # load all train\n",
    "    trainX, trainy = load_dataset_group('train', prefix + 'D:/HAR/UCI-HAR/')\n",
    "    # load all test\n",
    "    testX, testy = load_dataset_group('test', prefix + 'D:/HAR/UCI-HAR/')\n",
    "    \n",
    "    #zero-offset class values\n",
    "    trainy = trainy - 1\n",
    "    testy = testy - 1\n",
    "    #one hot encode y\n",
    "    trainy_one_hot = to_categorical(trainy)\n",
    "    testy_one_hot = to_categorical(testy)\n",
    "    print(trainX.shape, trainy.shape, trainy_one_hot.shape, testX.shape, testy.shape, testy_one_hot.shape)\n",
    "    return trainX, trainy, trainy_one_hot, testX, testy, testy_one_hot"
   ]
  },
  {
   "cell_type": "code",
   "execution_count": 4,
   "id": "a1b9d398",
   "metadata": {},
   "outputs": [
    {
     "name": "stdout",
     "output_type": "stream",
     "text": [
      "(7352, 128, 9) (7352, 1) (7352, 6) (2947, 128, 9) (2947, 1) (2947, 6)\n"
     ]
    }
   ],
   "source": [
    "trainX, trainy, trainy_one_hot, testX, testy, testy_one_hot = load_dataset()"
   ]
  },
  {
   "cell_type": "code",
   "execution_count": 5,
   "id": "86bd7d6e",
   "metadata": {},
   "outputs": [
    {
     "name": "stdout",
     "output_type": "stream",
     "text": [
      "X train shape:  (7352, 128, 9)\n",
      "Y train shape:  (7352, 1)\n",
      "Y train One hot shape:  (7352, 6)\n",
      "X test shape:  (2947, 128, 9)\n",
      "Y test shape:  (2947, 1)\n",
      "Y test One hot shape:  (2947, 6)\n"
     ]
    }
   ],
   "source": [
    "print(\"X train shape: \", trainX.shape)\n",
    "print(\"Y train shape: \", trainy.shape)\n",
    "print(\"Y train One hot shape: \", trainy_one_hot.shape)\n",
    "print(\"X test shape: \", testX.shape)\n",
    "print(\"Y test shape: \", testy.shape)\n",
    "print(\"Y test One hot shape: \", testy_one_hot.shape)"
   ]
  },
  {
   "cell_type": "code",
   "execution_count": 6,
   "id": "4ef856da",
   "metadata": {
    "scrolled": true
   },
   "outputs": [
    {
     "name": "stdout",
     "output_type": "stream",
     "text": [
      "0: Walking: 1226\n",
      "1: WU: 1073\n",
      "2: WD: 986\n",
      "3: Sitting: 1286\n",
      "4: Standing: 1374\n",
      "5: Standing: 1374\n",
      "6: Laying: 1407\n"
     ]
    }
   ],
   "source": [
    "print(\"0: Walking:\" ,np.where(trainy == 0)[0].size)\n",
    "print(\"1: WU:\" ,np.where(trainy == 1)[0].size)\n",
    "print(\"2: WD:\" ,np.where(trainy == 2)[0].size)\n",
    "print(\"3: Sitting:\" ,np.where(trainy == 3)[0].size)\n",
    "print(\"4: Standing:\" ,np.where(trainy == 4)[0].size)\n",
    "print(\"5: Standing:\" ,np.where(trainy == 4)[0].size)\n",
    "print(\"6: Laying:\" ,np.where(trainy == 5)[0].size)"
   ]
  },
  {
   "cell_type": "code",
   "execution_count": 7,
   "id": "6eb08f26",
   "metadata": {},
   "outputs": [
    {
     "name": "stdout",
     "output_type": "stream",
     "text": [
      "Train data label statistics::\n",
      "[[   0 1226]\n",
      " [   1 1073]\n",
      " [   2  986]\n",
      " [   3 1286]\n",
      " [   4 1374]\n",
      " [   5 1407]]\n",
      "Test data label statistics::\n",
      "[[  0 496]\n",
      " [  1 471]\n",
      " [  2 420]\n",
      " [  3 491]\n",
      " [  4 532]\n",
      " [  5 537]]\n"
     ]
    }
   ],
   "source": [
    "unique, counts = np.unique(trainy, return_counts=True)\n",
    "print (\"Train data label statistics::\")\n",
    "print (np.asarray((unique, counts)).T)  \n",
    "\n",
    "unique, counts = np.unique(testy, return_counts=True)\n",
    "print (\"Test data label statistics::\")\n",
    "print (np.asarray((unique, counts)).T)   "
   ]
  },
  {
   "cell_type": "code",
   "execution_count": 8,
   "id": "cc73f09e",
   "metadata": {},
   "outputs": [],
   "source": [
    "X_train_all = trainX   # at this stage, the data includes both dynamic and static HAR data\n",
    "y_train_all = trainy\n",
    "\n",
    "X_test_all = testX\n",
    "y_test_all = testy"
   ]
  },
  {
   "cell_type": "code",
   "execution_count": 9,
   "id": "66a7a85d",
   "metadata": {},
   "outputs": [],
   "source": [
    "import random\n",
    "\n",
    "static_1 = np.where(trainy == 3)[0]\n",
    "static_2 = np.where(trainy == 4)[0]\n",
    "static_3 = np.where(trainy == 5)[0]\n",
    "static = np.concatenate([static_1, static_2, static_3])\n",
    "static_list = static.tolist()\n",
    "\n",
    "# Shuffle dynamic data index\n",
    "r = random.random()\n",
    "random.shuffle(static_list, lambda: r)\n",
    "\n",
    "static = np.array(static)\n",
    "\n",
    "trainX = X_train_all[static]\n",
    "trainy = y_train_all[static]"
   ]
  },
  {
   "cell_type": "code",
   "execution_count": 10,
   "id": "59632591",
   "metadata": {},
   "outputs": [],
   "source": [
    "static_1 = np.where(testy == 3)[0]\n",
    "static_2 = np.where(testy == 4)[0]\n",
    "static_3 = np.where(testy == 5)[0]\n",
    "static = np.concatenate([static_1, static_2, static_3])\n",
    "static_list = static.tolist()\n",
    "\n",
    "r = random.random()\n",
    "random.shuffle(static_list, lambda: r)\n",
    "\n",
    "static = np.array(static_list)\n",
    "\n",
    "testX = X_test_all[static]\n",
    "testy = y_test_all[static]"
   ]
  },
  {
   "cell_type": "code",
   "execution_count": 11,
   "id": "bf664c2a",
   "metadata": {},
   "outputs": [
    {
     "name": "stdout",
     "output_type": "stream",
     "text": [
      "0: Walking: 0\n",
      "1: WU: 0\n",
      "2: WD: 0\n",
      "3: Sitting: 1286\n",
      "4: Standing: 1374\n",
      "5: Laying: 1407\n"
     ]
    }
   ],
   "source": [
    "print(\"0: Walking:\" ,np.where(trainy == 0)[0].size)\n",
    "print(\"1: WU:\" ,np.where(trainy == 1)[0].size)\n",
    "print(\"2: WD:\" ,np.where(trainy == 2)[0].size)\n",
    "print(\"3: Sitting:\" ,np.where(trainy == 3)[0].size)\n",
    "print(\"4: Standing:\" ,np.where(trainy == 4)[0].size)\n",
    "print(\"5: Laying:\" ,np.where(trainy == 5)[0].size) "
   ]
  },
  {
   "cell_type": "code",
   "execution_count": 12,
   "id": "f9791dfa",
   "metadata": {},
   "outputs": [],
   "source": [
    "trainy = trainy - 3\n",
    "testy = testy - 3"
   ]
  },
  {
   "cell_type": "code",
   "execution_count": 13,
   "id": "ee9e4d46",
   "metadata": {},
   "outputs": [],
   "source": [
    "trainy_one_hot = to_categorical(trainy)\n",
    "testy_one_hot = to_categorical(testy)"
   ]
  },
  {
   "cell_type": "code",
   "execution_count": 14,
   "id": "cd6414e9",
   "metadata": {},
   "outputs": [
    {
     "data": {
      "text/plain": [
       "array([[1., 0., 0.],\n",
       "       [1., 0., 0.],\n",
       "       [1., 0., 0.],\n",
       "       ...,\n",
       "       [0., 0., 1.],\n",
       "       [0., 0., 1.],\n",
       "       [0., 0., 1.]], dtype=float32)"
      ]
     },
     "execution_count": 14,
     "metadata": {},
     "output_type": "execute_result"
    }
   ],
   "source": [
    "trainy_one_hot"
   ]
  },
  {
   "cell_type": "code",
   "execution_count": 15,
   "id": "4351f860",
   "metadata": {},
   "outputs": [
    {
     "name": "stdout",
     "output_type": "stream",
     "text": [
      "X train shape:  (4067, 128, 9)\n",
      "Y train shape:  (4067, 1)\n",
      "Y train One hot shape:  (4067, 3)\n",
      "X test shape:  (1560, 128, 9)\n",
      "Y test shape:  (1560, 1)\n",
      "Y test One hot shape:  (1560, 3)\n"
     ]
    }
   ],
   "source": [
    "print(\"X train shape: \", trainX.shape)\n",
    "print(\"Y train shape: \", trainy.shape)\n",
    "print(\"Y train One hot shape: \", trainy_one_hot.shape)\n",
    "print(\"X test shape: \", testX.shape)\n",
    "print(\"Y test shape: \", testy.shape)\n",
    "print(\"Y test One hot shape: \", testy_one_hot.shape)"
   ]
  },
  {
   "cell_type": "code",
   "execution_count": 16,
   "id": "c4dfd927",
   "metadata": {},
   "outputs": [
    {
     "name": "stdout",
     "output_type": "stream",
     "text": [
      "Train data label statistics::\n",
      "[[   0 1286]\n",
      " [   1 1374]\n",
      " [   2 1407]]\n",
      "Test data label statistics::\n",
      "[[  0 491]\n",
      " [  1 532]\n",
      " [  2 537]]\n"
     ]
    }
   ],
   "source": [
    "unique, counts = np.unique(trainy, return_counts=True)\n",
    "print (\"Train data label statistics::\")\n",
    "print (np.asarray((unique, counts)).T)  \n",
    "\n",
    "unique, counts = np.unique(testy, return_counts=True)\n",
    "print (\"Test data label statistics::\")\n",
    "print (np.asarray((unique, counts)).T)  "
   ]
  },
  {
   "cell_type": "code",
   "execution_count": 17,
   "id": "271af0b2",
   "metadata": {},
   "outputs": [
    {
     "data": {
      "text/plain": [
       "((4067, 128, 9),\n",
       " (1560, 128, 9),\n",
       " (1560, 128, 9),\n",
       " (4067, 1),\n",
       " (1560, 1),\n",
       " (4067, 3),\n",
       " (1560, 3))"
      ]
     },
     "execution_count": 17,
     "metadata": {},
     "output_type": "execute_result"
    }
   ],
   "source": [
    "trainX.shape, testX.shape, testX.shape, trainy.shape, testy.shape, trainy_one_hot.shape, testy_one_hot.shape, "
   ]
  },
  {
   "cell_type": "code",
   "execution_count": 18,
   "id": "69a1da5b",
   "metadata": {},
   "outputs": [],
   "source": [
    "from sklearn.model_selection import train_test_split\n",
    "X_train,X_val,y_train_one_hot,y_val_one_hot,y_train,y_val=train_test_split(trainX, trainy_one_hot, trainy,test_size=0.3,random_state=100)"
   ]
  },
  {
   "cell_type": "code",
   "execution_count": 21,
   "id": "05c57670",
   "metadata": {},
   "outputs": [],
   "source": [
    "n_timesteps, n_features, n_outputs = trainX.shape[1], trainX.shape[2], trainy_one_hot.shape[1]"
   ]
  },
  {
   "cell_type": "code",
   "execution_count": 22,
   "id": "f374489a",
   "metadata": {},
   "outputs": [
    {
     "data": {
      "text/plain": [
       "(4067, 3)"
      ]
     },
     "execution_count": 22,
     "metadata": {},
     "output_type": "execute_result"
    }
   ],
   "source": [
    "trainy_one_hot.shape"
   ]
  },
  {
   "cell_type": "code",
   "execution_count": 23,
   "id": "28b6e517",
   "metadata": {},
   "outputs": [
    {
     "data": {
      "text/plain": [
       "(128, 9, 3)"
      ]
     },
     "execution_count": 23,
     "metadata": {},
     "output_type": "execute_result"
    }
   ],
   "source": [
    "n_timesteps, n_features, n_outputs "
   ]
  },
  {
   "cell_type": "code",
   "execution_count": 24,
   "id": "977e82a9",
   "metadata": {},
   "outputs": [],
   "source": [
    "import numpy as np\n",
    "def PReLU(z,α) :\n",
    "  fn =np.max(αz,z)\n",
    "  return(fn)"
   ]
  },
  {
   "cell_type": "code",
   "execution_count": 29,
   "id": "d70966e7",
   "metadata": {},
   "outputs": [
    {
     "name": "stdout",
     "output_type": "stream",
     "text": [
      "Collecting keras_self_attention\n",
      "  Downloading keras-self-attention-0.51.0.tar.gz (11 kB)\n",
      "Requirement already satisfied: numpy in c:\\programdata\\anaconda3\\lib\\site-packages (from keras_self_attention) (1.23.5)\n",
      "Building wheels for collected packages: keras-self-attention\n",
      "  Building wheel for keras-self-attention (setup.py): started\n",
      "  Building wheel for keras-self-attention (setup.py): finished with status 'done'\n",
      "  Created wheel for keras-self-attention: filename=keras_self_attention-0.51.0-py3-none-any.whl size=18911 sha256=5b7e08e2b97e6a3186cf0f04382c20bf03fb55f6af3d43ea930fc037f2f82d9b\n",
      "  Stored in directory: c:\\users\\gc\\appdata\\local\\pip\\cache\\wheels\\ac\\13\\2d\\3de7c76f618a8d162884ac5b726a8c2242ad88afa370f1e62f\n",
      "Successfully built keras-self-attention\n",
      "Installing collected packages: keras-self-attention\n",
      "Successfully installed keras-self-attention-0.51.0\n"
     ]
    }
   ],
   "source": [
    "!pip install keras_self_attention "
   ]
  },
  {
   "cell_type": "code",
   "execution_count": 30,
   "id": "76dd45e6",
   "metadata": {},
   "outputs": [],
   "source": [
    "from keras_self_attention import SeqWeightedAttention, SeqSelfAttention"
   ]
  },
  {
   "cell_type": "code",
   "execution_count": 26,
   "id": "9d84618c",
   "metadata": {},
   "outputs": [
    {
     "ename": "SyntaxError",
     "evalue": "invalid syntax (<ipython-input-26-b4a3d67790b9>, line 15)",
     "output_type": "error",
     "traceback": [
      "\u001b[1;36m  File \u001b[1;32m\"<ipython-input-26-b4a3d67790b9>\"\u001b[1;36m, line \u001b[1;32m15\u001b[0m\n\u001b[1;33m    max_out = self.fc2(self.relu1(self.fc1(self.max_pool(x)))\u001b[0m\n\u001b[1;37m    ^\u001b[0m\n\u001b[1;31mSyntaxError\u001b[0m\u001b[1;31m:\u001b[0m invalid syntax\n"
     ]
    }
   ],
   "source": [
    "import tensorflow as tf\n",
    "\n",
    "class ChannelAttention(tf.keras.layers.Layer):\n",
    "    def __init__(self, reduction_ratio=16):\n",
    "        super(ChannelAttention, self).__init__()\n",
    "        self.avg_pool = tf.keras.layers.GlobalAveragePooling1D()\n",
    "        self.max_pool = tf.keras.layers.GlobalMaxPooling1D()\n",
    "        self.fc1 = tf.keras.layers.Dense(reduction_ratio)\n",
    "        self.relu1 = tf.keras.layers.ReLU()\n",
    "        self.fc2 = tf.keras.layers.Dense(1)\n",
    "        self.sigmoid = tf.keras.layers.Activation('sigmoid')\n",
    "        \n",
    "    def call(self, x):\n",
    "        avg_out = self.fc2(self.relu1(self.fc1(self.avg_pool(x)))\n",
    "        max_out = self.fc2(self.relu1(self.fc1(self.max_pool(x)))\n",
    "        out = avg_out + max_out\n",
    "        return self.sigmoid(out)\n",
    "\n",
    "class SpatialAttention(tf.keras.layers.Layer):\n",
    "    def __init__(self, kernel_size=7):\n",
    "        super(SpatialAttention, self).__init__()\n",
    "        self.conv = tf.keras.layers.Conv1D(1, kernel_size, padding='same', use_bias=False)\n",
    "        self.sigmoid = tf.keras.layers.Activation('sigmoid')\n",
    "        \n",
    "    def call(self, x):\n",
    "        avg_out = tf.reduce_mean(x, axis=2, keepdims=True)\n",
    "        max_out = tf.reduce_max(x, axis=2, keepdims=True)\n",
    "        combined_out = tf.concat([avg_out, max_out], axis=2)\n",
    "        out = self.conv(combined_out)\n",
    "        return self.sigmoid(out)\n",
    "\n",
    "class CBAM1D(tf.keras.layers.Layer):\n",
    "    def __init__(self, reduction_ratio=16, spatial_kernel_size=7):\n",
    "        super(CBAM1D, self).__init__()\n",
    "        self.channel_attention = ChannelAttention(reduction_ratio)\n",
    "        self.spatial_attention = SpatialAttention(spatial_kernel_size)\n",
    "        \n",
    "    def call(self, x):\n",
    "        x_channel = x * self.channel_attention(x)\n",
    "        x_spatial = x * self.spatial_attention(x)\n",
    "        return x_channel + x_spatial                         "
   ]
  },
  {
   "cell_type": "code",
   "execution_count": 50,
   "id": "58c642f3",
   "metadata": {},
   "outputs": [],
   "source": [
    "sequence_length = 10\n",
    "input_dim = n_timesteps # 입력 차원\n",
    "hidden_dim = 64  # 은닉 차원\n",
    "num_classes = 2\n",
    "\n",
    "# SeqSelfAttention을 포함한 간단한 모델 정의\n",
    "model = tf.keras.Sequential([    \n",
    "    SeqSelfAttention(attention_activation='sigmoid'),  # attention_type은 'attention'으로 고정\n",
    "    tf.keras.layers.GlobalAveragePooling1D(),\n",
    "    Dense(n_outputs, activation='softmax')\n",
    "])"
   ]
  },
  {
   "cell_type": "code",
   "execution_count": 52,
   "id": "3bae7b35",
   "metadata": {},
   "outputs": [],
   "source": [
    "model.compile(loss='categorical_crossentropy', optimizer='adam', metrics=['accuracy'])"
   ]
  },
  {
   "cell_type": "code",
   "execution_count": 53,
   "id": "51e6f43c",
   "metadata": {},
   "outputs": [],
   "source": [
    "validation_split = 0.1\n",
    "batch_size = 128"
   ]
  },
  {
   "cell_type": "code",
   "execution_count": 54,
   "id": "8504c9a6",
   "metadata": {},
   "outputs": [
    {
     "name": "stdout",
     "output_type": "stream",
     "text": [
      "Epoch 1/10\n",
      "29/29 [==============================] - 20s 650ms/step - loss: 1.3148 - accuracy: 0.2434 - val_loss: 0.9609 - val_accuracy: 0.8870\n",
      "Epoch 2/10\n",
      "29/29 [==============================] - 19s 641ms/step - loss: 1.2746 - accuracy: 0.2451 - val_loss: 0.9620 - val_accuracy: 0.8919\n",
      "Epoch 3/10\n",
      "29/29 [==============================] - 19s 660ms/step - loss: 1.2372 - accuracy: 0.2489 - val_loss: 0.9604 - val_accuracy: 0.8943\n",
      "Epoch 4/10\n",
      "29/29 [==============================] - 19s 660ms/step - loss: 1.2023 - accuracy: 0.2571 - val_loss: 0.9597 - val_accuracy: 0.8943\n",
      "Epoch 5/10\n",
      "29/29 [==============================] - 18s 625ms/step - loss: 1.1699 - accuracy: 0.2686 - val_loss: 0.9542 - val_accuracy: 0.8943\n",
      "Epoch 6/10\n",
      "29/29 [==============================] - 18s 626ms/step - loss: 1.1394 - accuracy: 0.2902 - val_loss: 0.9463 - val_accuracy: 0.8894\n",
      "Epoch 7/10\n",
      "29/29 [==============================] - 18s 625ms/step - loss: 1.1108 - accuracy: 0.3361 - val_loss: 0.9399 - val_accuracy: 0.8894\n",
      "Epoch 8/10\n",
      "29/29 [==============================] - 18s 624ms/step - loss: 1.0839 - accuracy: 0.3923 - val_loss: 0.9321 - val_accuracy: 0.8870\n",
      "Epoch 9/10\n",
      "29/29 [==============================] - 18s 627ms/step - loss: 1.0585 - accuracy: 0.4374 - val_loss: 0.9243 - val_accuracy: 0.8894\n",
      "Epoch 10/10\n",
      "29/29 [==============================] - 18s 621ms/step - loss: 1.0346 - accuracy: 0.4571 - val_loss: 0.9136 - val_accuracy: 0.8894\n"
     ]
    }
   ],
   "source": [
    "train_epochs = 10\n",
    "history = model.fit(trainX, trainy_one_hot, epochs=train_epochs, batch_size=batch_size, verbose=True,  validation_split=validation_split, shuffle=True)\n"
   ]
  },
  {
   "cell_type": "code",
   "execution_count": 27,
   "id": "836f4db8",
   "metadata": {},
   "outputs": [
    {
     "data": {
      "text/plain": [
       "<matplotlib.legend.Legend at 0x3eecb910>"
      ]
     },
     "execution_count": 27,
     "metadata": {},
     "output_type": "execute_result"
    },
    {
     "data": {
      "image/png": "[encoded data removed]",
      "text/plain": [
       "<Figure size 432x288 with 1 Axes>"
      ]
     },
     "metadata": {
      "needs_background": "light"
     },
     "output_type": "display_data"
    }
   ],
   "source": [
    "plt.plot(history.history['loss'])\n",
    "plt.plot(history.history['val_loss'])\n",
    "plt.title('model loss')\n",
    "plt.ylabel('loss')\n",
    "plt.xlabel('epoch')\n",
    "plt.legend(['train', 'Validation'], loc='upper left')"
   ]
  },
  {
   "cell_type": "code",
   "execution_count": 28,
   "id": "cd1e0f61",
   "metadata": {},
   "outputs": [
    {
     "data": {
      "text/plain": [
       "<matplotlib.legend.Legend at 0x3f478160>"
      ]
     },
     "execution_count": 28,
     "metadata": {},
     "output_type": "execute_result"
    },
    {
     "data": {
      "image/png": "[encoded data removed]",
      "text/plain": [
       "<Figure size 432x288 with 1 Axes>"
      ]
     },
     "metadata": {
      "needs_background": "light"
     },
     "output_type": "display_data"
    }
   ],
   "source": [
    "plt.plot(history.history['accuracy'])\n",
    "plt.plot(history.history['val_accuracy'])\n",
    "plt.title('Training and validation accuracy')\n",
    "plt.ylabel('accuracy')\n",
    "plt.xlabel('epoch')\n",
    "plt.legend(['train', 'Validation'], loc='upper left')"
   ]
  },
  {
   "cell_type": "code",
   "execution_count": 32,
   "id": "a36acf5d",
   "metadata": {},
   "outputs": [
    {
     "name": "stdout",
     "output_type": "stream",
     "text": [
      "49/49 [==============================] - 0s 2ms/step\n",
      "[[383 108   0]\n",
      " [ 58 474   0]\n",
      " [  0   0 537]]\n",
      "0.8935897435897436\n",
      "              precision    recall  f1-score   support\n",
      "\n",
      "           0       0.87      0.78      0.82       491\n",
      "           1       0.81      0.89      0.85       532\n",
      "           2       1.00      1.00      1.00       537\n",
      "\n",
      "    accuracy                           0.89      1560\n",
      "   macro avg       0.89      0.89      0.89      1560\n",
      "weighted avg       0.90      0.89      0.89      1560\n",
      "\n"
     ]
    },
    {
     "data": {
      "text/plain": [
       "<Axes: >"
      ]
     },
     "execution_count": 32,
     "metadata": {},
     "output_type": "execute_result"
    },
    {
     "data": {
      "image/png": "[encoded data removed]",
      "text/plain": [
       "<Figure size 432x288 with 2 Axes>"
      ]
     },
     "metadata": {
      "needs_background": "light"
     },
     "output_type": "display_data"
    }
   ],
   "source": [
    "from sklearn.metrics import confusion_matrix,classification_report,accuracy_score\n",
    "\n",
    "predy=model.predict(testX)\n",
    "predy=np.argmax(predy, axis=-1)\n",
    "\n",
    "LABELS = ['Sitting', 'Standing', 'Laying']\n",
    "cm=confusion_matrix(testy,predy)\n",
    "print(cm)\n",
    "print(accuracy_score(testy,predy))\n",
    "print(classification_report(testy,predy))\n",
    "sns.heatmap(cm, cmap=\"YlGnBu\", xticklabels=LABELS, yticklabels=LABELS, annot=True, fmt = '.2f')"
   ]
  },
  {
   "cell_type": "code",
   "execution_count": null,
   "id": "c80fd5cc",
   "metadata": {},
   "outputs": [],
   "source": []
  }
 ],
 "metadata": {
  "kernelspec": {
   "display_name": "Python 3",
   "language": "python",
   "name": "python3"
  },
  "language_info": {
   "codemirror_mode": {
    "name": "ipython",
    "version": 3
   },
   "file_extension": ".py",
   "mimetype": "text/x-python",
   "name": "python",
   "nbconvert_exporter": "python",
   "pygments_lexer": "ipython3",
   "version": "3.8.8"
  }
 },
 "nbformat": 4,
 "nbformat_minor": 5
}
