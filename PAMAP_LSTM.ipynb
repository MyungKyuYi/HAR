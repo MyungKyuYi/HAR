{
 "cells": [
  {
   "cell_type": "markdown",
   "id": "79cf02f5",
   "metadata": {},
   "source": [
    "# 1D CNN Model ( 3 Convolution Layer)"
   ]
  },
  {
   "cell_type": "code",
   "execution_count": 242,
   "id": "39ee1d11",
   "metadata": {},
   "outputs": [],
   "source": [
    "from numpy import expand_dims\n",
    "from numpy import zeros\n",
    "from numpy import ones\n",
    "from numpy import asarray\n",
    "from numpy.random import randn\n",
    "from numpy.random import randint\n",
    "from keras.datasets.mnist import load_data\n",
    "from tensorflow.keras.optimizers import Adam\n",
    "from keras.models import Model\n",
    "from keras.layers import Input\n",
    "from keras.layers import Dense\n",
    "from keras.layers import Reshape\n",
    "from keras.layers import Flatten\n",
    "from keras.layers import Conv2D\n",
    "from keras.layers import Conv2DTranspose\n",
    "from keras.layers import LeakyReLU\n",
    "from keras.layers import Dropout\n",
    "from keras.layers import Lambda\n",
    "from keras.layers import Activation\n",
    "from matplotlib import pyplot\n",
    "from keras import backend\n",
    "\n",
    "import tensorflow as tf\n",
    "import pandas as pd\n",
    "import numpy as np\n",
    "import glob\n",
    "import os\n",
    "from tensorflow.keras.utils import to_categorical"
   ]
  },
  {
   "cell_type": "code",
   "execution_count": 243,
   "id": "51969929",
   "metadata": {},
   "outputs": [],
   "source": [
    "import pandas as pd\n",
    "import numpy as np\n",
    "import os\n",
    "import matplotlib.pyplot as plt\n",
    "from sklearn.preprocessing import StandardScaler\n",
    "import seaborn as sns\n",
    "import matplotlib.pyplot as plt"
   ]
  },
  {
   "cell_type": "code",
   "execution_count": 244,
   "id": "5d634acb",
   "metadata": {},
   "outputs": [],
   "source": [
    "from sklearn.linear_model import LogisticRegression\n",
    "from sklearn.tree import DecisionTreeClassifier\n",
    "from sklearn.neighbors import KNeighborsClassifier\n",
    "from sklearn.model_selection import train_test_split\n",
    "from sklearn.metrics import accuracy_score\n",
    "from sklearn.model_selection import cross_val_score\n",
    "from sklearn.preprocessing import OneHotEncoder\n",
    "from sklearn.preprocessing import scale\n",
    "\n",
    "\n",
    "import numpy as np\n",
    "import pandas as pd"
   ]
  },
  {
   "cell_type": "code",
   "execution_count": 245,
   "id": "83ba219a",
   "metadata": {},
   "outputs": [],
   "source": [
    "import tensorflow as tf\n",
    "from tensorflow.keras import Sequential\n",
    "from tensorflow.keras.layers import Flatten, Dense, Dropout, BatchNormalization\n",
    "from tensorflow.keras.layers import Conv2D, MaxPool2D\n",
    "from tensorflow.keras.optimizers import Adam"
   ]
  },
  {
   "cell_type": "code",
   "execution_count": 246,
   "id": "8a7a0d36",
   "metadata": {},
   "outputs": [],
   "source": [
    "import pandas as pd\n",
    "import numpy as np\n",
    "import matplotlib.pyplot as plt\n",
    "from sklearn.model_selection import train_test_split\n",
    "from sklearn.preprocessing import StandardScaler, LabelEncoder"
   ]
  },
  {
   "cell_type": "code",
   "execution_count": 295,
   "id": "c8a85354",
   "metadata": {},
   "outputs": [],
   "source": [
    "features = pd.read_csv(\"F:/HAR/PAMAP2_Dataset/pamap_features.csv\", index_col=0)"
   ]
  },
  {
   "cell_type": "code",
   "execution_count": 419,
   "id": "712d7c71",
   "metadata": {},
   "outputs": [
    {
     "data": {
      "text/html": [
       "<div>\n",
       "<style scoped>\n",
       "    .dataframe tbody tr th:only-of-type {\n",
       "        vertical-align: middle;\n",
       "    }\n",
       "\n",
       "    .dataframe tbody tr th {\n",
       "        vertical-align: top;\n",
       "    }\n",
       "\n",
       "    .dataframe thead th {\n",
       "        text-align: right;\n",
       "    }\n",
       "</style>\n",
       "<table border=\"1\" class=\"dataframe\">\n",
       "  <thead>\n",
       "    <tr style=\"text-align: right;\">\n",
       "      <th></th>\n",
       "      <th>timestamp</th>\n",
       "      <th>activityID</th>\n",
       "      <th>heartrate</th>\n",
       "      <th>handTemperature</th>\n",
       "      <th>handAcc16_1</th>\n",
       "      <th>handAcc16_2</th>\n",
       "      <th>handAcc16_3</th>\n",
       "      <th>handAcc6_1</th>\n",
       "      <th>handAcc6_2</th>\n",
       "      <th>handAcc6_3</th>\n",
       "      <th>...</th>\n",
       "      <th>ankleGyro2</th>\n",
       "      <th>ankleGyro3</th>\n",
       "      <th>ankleMagne1</th>\n",
       "      <th>ankleMagne2</th>\n",
       "      <th>ankleMagne3</th>\n",
       "      <th>ankleOrientation1</th>\n",
       "      <th>ankleOrientation2</th>\n",
       "      <th>ankleOrientation3</th>\n",
       "      <th>ankleOrientation4</th>\n",
       "      <th>subject_id</th>\n",
       "    </tr>\n",
       "  </thead>\n",
       "  <tbody>\n",
       "    <tr>\n",
       "      <th>2932</th>\n",
       "      <td>37.70</td>\n",
       "      <td>1</td>\n",
       "      <td>100.0</td>\n",
       "      <td>30.375</td>\n",
       "      <td>2.30106</td>\n",
       "      <td>7.25857</td>\n",
       "      <td>6.09259</td>\n",
       "      <td>2.20720</td>\n",
       "      <td>7.24042</td>\n",
       "      <td>5.95555</td>\n",
       "      <td>...</td>\n",
       "      <td>-0.048878</td>\n",
       "      <td>-0.006328</td>\n",
       "      <td>-60.2040</td>\n",
       "      <td>-37.122500</td>\n",
       "      <td>-57.884700</td>\n",
       "      <td>1.000000</td>\n",
       "      <td>0.000000</td>\n",
       "      <td>0.000000</td>\n",
       "      <td>0.000000</td>\n",
       "      <td>1</td>\n",
       "    </tr>\n",
       "    <tr>\n",
       "      <th>2943</th>\n",
       "      <td>37.81</td>\n",
       "      <td>1</td>\n",
       "      <td>100.0</td>\n",
       "      <td>30.375</td>\n",
       "      <td>2.24615</td>\n",
       "      <td>7.48180</td>\n",
       "      <td>5.55219</td>\n",
       "      <td>2.25130</td>\n",
       "      <td>7.40595</td>\n",
       "      <td>5.65313</td>\n",
       "      <td>...</td>\n",
       "      <td>-0.017912</td>\n",
       "      <td>0.015243</td>\n",
       "      <td>-60.7820</td>\n",
       "      <td>-36.211600</td>\n",
       "      <td>-58.489100</td>\n",
       "      <td>1.000000</td>\n",
       "      <td>0.000000</td>\n",
       "      <td>0.000000</td>\n",
       "      <td>0.000000</td>\n",
       "      <td>1</td>\n",
       "    </tr>\n",
       "    <tr>\n",
       "      <th>2954</th>\n",
       "      <td>37.92</td>\n",
       "      <td>1</td>\n",
       "      <td>100.0</td>\n",
       "      <td>30.375</td>\n",
       "      <td>2.30000</td>\n",
       "      <td>7.10681</td>\n",
       "      <td>6.09309</td>\n",
       "      <td>2.34613</td>\n",
       "      <td>7.46611</td>\n",
       "      <td>6.12103</td>\n",
       "      <td>...</td>\n",
       "      <td>-0.011798</td>\n",
       "      <td>0.011387</td>\n",
       "      <td>-61.4531</td>\n",
       "      <td>-36.298300</td>\n",
       "      <td>-58.484500</td>\n",
       "      <td>1.000000</td>\n",
       "      <td>0.000000</td>\n",
       "      <td>0.000000</td>\n",
       "      <td>0.000000</td>\n",
       "      <td>1</td>\n",
       "    </tr>\n",
       "    <tr>\n",
       "      <th>2965</th>\n",
       "      <td>38.03</td>\n",
       "      <td>1</td>\n",
       "      <td>100.0</td>\n",
       "      <td>30.375</td>\n",
       "      <td>2.49455</td>\n",
       "      <td>7.52335</td>\n",
       "      <td>6.17157</td>\n",
       "      <td>2.59106</td>\n",
       "      <td>7.76653</td>\n",
       "      <td>6.27112</td>\n",
       "      <td>...</td>\n",
       "      <td>-0.009233</td>\n",
       "      <td>0.005823</td>\n",
       "      <td>-62.0065</td>\n",
       "      <td>-36.721700</td>\n",
       "      <td>-58.360800</td>\n",
       "      <td>1.000000</td>\n",
       "      <td>0.000000</td>\n",
       "      <td>0.000000</td>\n",
       "      <td>0.000000</td>\n",
       "      <td>1</td>\n",
       "    </tr>\n",
       "    <tr>\n",
       "      <th>2976</th>\n",
       "      <td>38.14</td>\n",
       "      <td>1</td>\n",
       "      <td>101.0</td>\n",
       "      <td>30.375</td>\n",
       "      <td>2.71654</td>\n",
       "      <td>8.30596</td>\n",
       "      <td>4.78671</td>\n",
       "      <td>2.59596</td>\n",
       "      <td>7.94641</td>\n",
       "      <td>4.86635</td>\n",
       "      <td>...</td>\n",
       "      <td>-0.042562</td>\n",
       "      <td>-0.009289</td>\n",
       "      <td>-60.4311</td>\n",
       "      <td>-37.541200</td>\n",
       "      <td>-59.001300</td>\n",
       "      <td>1.000000</td>\n",
       "      <td>0.000000</td>\n",
       "      <td>0.000000</td>\n",
       "      <td>0.000000</td>\n",
       "      <td>1</td>\n",
       "    </tr>\n",
       "    <tr>\n",
       "      <th>...</th>\n",
       "      <td>...</td>\n",
       "      <td>...</td>\n",
       "      <td>...</td>\n",
       "      <td>...</td>\n",
       "      <td>...</td>\n",
       "      <td>...</td>\n",
       "      <td>...</td>\n",
       "      <td>...</td>\n",
       "      <td>...</td>\n",
       "      <td>...</td>\n",
       "      <td>...</td>\n",
       "      <td>...</td>\n",
       "      <td>...</td>\n",
       "      <td>...</td>\n",
       "      <td>...</td>\n",
       "      <td>...</td>\n",
       "      <td>...</td>\n",
       "      <td>...</td>\n",
       "      <td>...</td>\n",
       "      <td>...</td>\n",
       "      <td>...</td>\n",
       "    </tr>\n",
       "    <tr>\n",
       "      <th>2871975</th>\n",
       "      <td>94.66</td>\n",
       "      <td>24</td>\n",
       "      <td>162.0</td>\n",
       "      <td>25.125</td>\n",
       "      <td>4.78601</td>\n",
       "      <td>6.75444</td>\n",
       "      <td>7.05521</td>\n",
       "      <td>4.71052</td>\n",
       "      <td>6.72462</td>\n",
       "      <td>6.64876</td>\n",
       "      <td>...</td>\n",
       "      <td>0.020064</td>\n",
       "      <td>-0.022287</td>\n",
       "      <td>-46.0304</td>\n",
       "      <td>-1.464080</td>\n",
       "      <td>-0.453931</td>\n",
       "      <td>0.522578</td>\n",
       "      <td>-0.295758</td>\n",
       "      <td>0.700086</td>\n",
       "      <td>-0.386418</td>\n",
       "      <td>9</td>\n",
       "    </tr>\n",
       "    <tr>\n",
       "      <th>2871986</th>\n",
       "      <td>94.77</td>\n",
       "      <td>24</td>\n",
       "      <td>162.0</td>\n",
       "      <td>25.125</td>\n",
       "      <td>4.34732</td>\n",
       "      <td>6.90337</td>\n",
       "      <td>6.35537</td>\n",
       "      <td>4.39582</td>\n",
       "      <td>6.96850</td>\n",
       "      <td>6.61834</td>\n",
       "      <td>...</td>\n",
       "      <td>-0.004692</td>\n",
       "      <td>0.009044</td>\n",
       "      <td>-45.5269</td>\n",
       "      <td>-0.843791</td>\n",
       "      <td>0.114449</td>\n",
       "      <td>0.522768</td>\n",
       "      <td>-0.293886</td>\n",
       "      <td>0.701447</td>\n",
       "      <td>-0.385119</td>\n",
       "      <td>9</td>\n",
       "    </tr>\n",
       "    <tr>\n",
       "      <th>2871997</th>\n",
       "      <td>94.88</td>\n",
       "      <td>24</td>\n",
       "      <td>162.0</td>\n",
       "      <td>25.125</td>\n",
       "      <td>4.70704</td>\n",
       "      <td>6.59291</td>\n",
       "      <td>5.89995</td>\n",
       "      <td>4.70308</td>\n",
       "      <td>6.48243</td>\n",
       "      <td>5.99996</td>\n",
       "      <td>...</td>\n",
       "      <td>-0.020501</td>\n",
       "      <td>-0.036864</td>\n",
       "      <td>-45.6476</td>\n",
       "      <td>-1.094840</td>\n",
       "      <td>0.256148</td>\n",
       "      <td>0.522624</td>\n",
       "      <td>-0.294082</td>\n",
       "      <td>0.703224</td>\n",
       "      <td>-0.381912</td>\n",
       "      <td>9</td>\n",
       "    </tr>\n",
       "    <tr>\n",
       "      <th>2872007</th>\n",
       "      <td>94.98</td>\n",
       "      <td>24</td>\n",
       "      <td>162.0</td>\n",
       "      <td>25.125</td>\n",
       "      <td>4.81452</td>\n",
       "      <td>6.51482</td>\n",
       "      <td>5.74788</td>\n",
       "      <td>4.89736</td>\n",
       "      <td>6.49594</td>\n",
       "      <td>5.78832</td>\n",
       "      <td>...</td>\n",
       "      <td>-0.011895</td>\n",
       "      <td>-0.017897</td>\n",
       "      <td>-45.9167</td>\n",
       "      <td>-0.437698</td>\n",
       "      <td>0.254439</td>\n",
       "      <td>0.523382</td>\n",
       "      <td>-0.292121</td>\n",
       "      <td>0.704582</td>\n",
       "      <td>-0.379869</td>\n",
       "      <td>9</td>\n",
       "    </tr>\n",
       "    <tr>\n",
       "      <th>2872018</th>\n",
       "      <td>95.09</td>\n",
       "      <td>24</td>\n",
       "      <td>162.0</td>\n",
       "      <td>25.125</td>\n",
       "      <td>5.13914</td>\n",
       "      <td>5.63724</td>\n",
       "      <td>5.48629</td>\n",
       "      <td>4.97690</td>\n",
       "      <td>5.69448</td>\n",
       "      <td>5.29167</td>\n",
       "      <td>...</td>\n",
       "      <td>-0.036457</td>\n",
       "      <td>-0.007076</td>\n",
       "      <td>-45.9093</td>\n",
       "      <td>-0.565555</td>\n",
       "      <td>0.680109</td>\n",
       "      <td>0.522536</td>\n",
       "      <td>-0.291955</td>\n",
       "      <td>0.706426</td>\n",
       "      <td>-0.377733</td>\n",
       "      <td>9</td>\n",
       "    </tr>\n",
       "  </tbody>\n",
       "</table>\n",
       "<p>175498 rows × 55 columns</p>\n",
       "</div>"
      ],
      "text/plain": [
       "         timestamp  activityID  heartrate  handTemperature  handAcc16_1  \\\n",
       "2932         37.70           1      100.0           30.375      2.30106   \n",
       "2943         37.81           1      100.0           30.375      2.24615   \n",
       "2954         37.92           1      100.0           30.375      2.30000   \n",
       "2965         38.03           1      100.0           30.375      2.49455   \n",
       "2976         38.14           1      101.0           30.375      2.71654   \n",
       "...            ...         ...        ...              ...          ...   \n",
       "2871975      94.66          24      162.0           25.125      4.78601   \n",
       "2871986      94.77          24      162.0           25.125      4.34732   \n",
       "2871997      94.88          24      162.0           25.125      4.70704   \n",
       "2872007      94.98          24      162.0           25.125      4.81452   \n",
       "2872018      95.09          24      162.0           25.125      5.13914   \n",
       "\n",
       "         handAcc16_2  handAcc16_3  handAcc6_1  handAcc6_2  handAcc6_3  ...  \\\n",
       "2932         7.25857      6.09259     2.20720     7.24042     5.95555  ...   \n",
       "2943         7.48180      5.55219     2.25130     7.40595     5.65313  ...   \n",
       "2954         7.10681      6.09309     2.34613     7.46611     6.12103  ...   \n",
       "2965         7.52335      6.17157     2.59106     7.76653     6.27112  ...   \n",
       "2976         8.30596      4.78671     2.59596     7.94641     4.86635  ...   \n",
       "...              ...          ...         ...         ...         ...  ...   \n",
       "2871975      6.75444      7.05521     4.71052     6.72462     6.64876  ...   \n",
       "2871986      6.90337      6.35537     4.39582     6.96850     6.61834  ...   \n",
       "2871997      6.59291      5.89995     4.70308     6.48243     5.99996  ...   \n",
       "2872007      6.51482      5.74788     4.89736     6.49594     5.78832  ...   \n",
       "2872018      5.63724      5.48629     4.97690     5.69448     5.29167  ...   \n",
       "\n",
       "         ankleGyro2  ankleGyro3  ankleMagne1  ankleMagne2  ankleMagne3  \\\n",
       "2932      -0.048878   -0.006328     -60.2040   -37.122500   -57.884700   \n",
       "2943      -0.017912    0.015243     -60.7820   -36.211600   -58.489100   \n",
       "2954      -0.011798    0.011387     -61.4531   -36.298300   -58.484500   \n",
       "2965      -0.009233    0.005823     -62.0065   -36.721700   -58.360800   \n",
       "2976      -0.042562   -0.009289     -60.4311   -37.541200   -59.001300   \n",
       "...             ...         ...          ...          ...          ...   \n",
       "2871975    0.020064   -0.022287     -46.0304    -1.464080    -0.453931   \n",
       "2871986   -0.004692    0.009044     -45.5269    -0.843791     0.114449   \n",
       "2871997   -0.020501   -0.036864     -45.6476    -1.094840     0.256148   \n",
       "2872007   -0.011895   -0.017897     -45.9167    -0.437698     0.254439   \n",
       "2872018   -0.036457   -0.007076     -45.9093    -0.565555     0.680109   \n",
       "\n",
       "         ankleOrientation1  ankleOrientation2  ankleOrientation3  \\\n",
       "2932              1.000000           0.000000           0.000000   \n",
       "2943              1.000000           0.000000           0.000000   \n",
       "2954              1.000000           0.000000           0.000000   \n",
       "2965              1.000000           0.000000           0.000000   \n",
       "2976              1.000000           0.000000           0.000000   \n",
       "...                    ...                ...                ...   \n",
       "2871975           0.522578          -0.295758           0.700086   \n",
       "2871986           0.522768          -0.293886           0.701447   \n",
       "2871997           0.522624          -0.294082           0.703224   \n",
       "2872007           0.523382          -0.292121           0.704582   \n",
       "2872018           0.522536          -0.291955           0.706426   \n",
       "\n",
       "         ankleOrientation4  subject_id  \n",
       "2932              0.000000           1  \n",
       "2943              0.000000           1  \n",
       "2954              0.000000           1  \n",
       "2965              0.000000           1  \n",
       "2976              0.000000           1  \n",
       "...                    ...         ...  \n",
       "2871975          -0.386418           9  \n",
       "2871986          -0.385119           9  \n",
       "2871997          -0.381912           9  \n",
       "2872007          -0.379869           9  \n",
       "2872018          -0.377733           9  \n",
       "\n",
       "[175498 rows x 55 columns]"
      ]
     },
     "execution_count": 419,
     "metadata": {},
     "output_type": "execute_result"
    }
   ],
   "source": [
    "features"
   ]
  },
  {
   "cell_type": "code",
   "execution_count": null,
   "id": "94be77e7",
   "metadata": {},
   "outputs": [],
   "source": [
    "label = LabelEncoder()\n",
    "features['activityID'] = label.fit_transform(balanced_data['activityID'])\n",
    "features.head()"
   ]
  },
  {
   "cell_type": "code",
   "execution_count": 420,
   "id": "039a16e7",
   "metadata": {},
   "outputs": [
    {
     "data": {
      "text/plain": [
       "17    21696\n",
       "4     20998\n",
       "1     17575\n",
       "3     17256\n",
       "2     16881\n",
       "7     16857\n",
       "16    15997\n",
       "6     14933\n",
       "12    10699\n",
       "13     9585\n",
       "5      8665\n",
       "24     4356\n",
       "Name: activityID, dtype: int64"
      ]
     },
     "execution_count": 420,
     "metadata": {},
     "output_type": "execute_result"
    }
   ],
   "source": [
    "features['activityID'].value_counts()"
   ]
  },
  {
   "cell_type": "code",
   "execution_count": 421,
   "id": "104b7e5b",
   "metadata": {},
   "outputs": [
    {
     "data": {
      "text/plain": [
       "<AxesSubplot:xlabel='activityID', ylabel='count'>"
      ]
     },
     "execution_count": 421,
     "metadata": {},
     "output_type": "execute_result"
    },
    {
     "data": {
      "image/png": "[encoded data removed]",
      "text/plain": [
       "<Figure size 432x288 with 1 Axes>"
      ]
     },
     "metadata": {
      "needs_background": "light"
     },
     "output_type": "display_data"
    }
   ],
   "source": [
    "sns.countplot(x = \"activityID\", data = features, order = features.activityID.value_counts().index)"
   ]
  },
  {
   "cell_type": "code",
   "execution_count": 422,
   "id": "53e77e26",
   "metadata": {},
   "outputs": [],
   "source": [
    "indexes = features[features['activityID'] == 0].index\n",
    "features.drop(indexes , inplace=True)"
   ]
  },
  {
   "cell_type": "code",
   "execution_count": 423,
   "id": "c18b9f4d",
   "metadata": {},
   "outputs": [
    {
     "data": {
      "text/plain": [
       "17    21696\n",
       "4     20998\n",
       "1     17575\n",
       "3     17256\n",
       "2     16881\n",
       "7     16857\n",
       "16    15997\n",
       "6     14933\n",
       "12    10699\n",
       "13     9585\n",
       "5      8665\n",
       "24     4356\n",
       "Name: activityID, dtype: int64"
      ]
     },
     "execution_count": 423,
     "metadata": {},
     "output_type": "execute_result"
    }
   ],
   "source": [
    "features['activityID'].value_counts()"
   ]
  },
  {
   "cell_type": "code",
   "execution_count": 424,
   "id": "21ec8938",
   "metadata": {},
   "outputs": [],
   "source": [
    "\n",
    "from sklearn.preprocessing import StandardScaler\n",
    "\n",
    "X = features[['handAcc16_1' , 'handAcc16_2' , 'handAcc16_3' ,\n",
    "    'handAcc6_1' , 'handAcc6_2' , 'handAcc6_3' ,\n",
    "    'handGyro1' , 'handGyro2',   'handGyro3' ,      \n",
    "    'handMagne1',  'handMagne2' , 'handMagne3',  \n",
    "    'chestAcc16_1', 'chestAcc16_2',  'chestAcc16_3',   \n",
    "    'chestAcc6_1',  'chestAcc6_2',  'chestAcc6_3',\n",
    "    'chestGyro1',   'chestGyro2',   'chestGyro3',    \n",
    "    'chestMagne1', 'chestMagne2' , 'chestMagne3', \n",
    "    'ankleAcc16_1',   'ankleAcc16_2',  'ankleAcc16_3',\n",
    "    'ankleAcc6_1',  'ankleAcc6_2',  'ankleAcc6_3',   \n",
    "    'ankleGyro1' ,   'ankleGyro2',   'ankleGyro3',    \n",
    "    'ankleMagne1' , 'ankleMagne2' ,'ankleMagne3']]\n",
    "y= features['activityID']\n",
    "\n",
    "scaler = StandardScaler()\n",
    "X = scaler.fit_transform(X)\n",
    "\n",
    "scaled_X = pd.DataFrame(data = X, columns = ['handAcc16_1' , 'handAcc16_2' , 'handAcc16_3' ,\n",
    "    'handAcc6_1' , 'handAcc6_2' , 'handAcc6_3' ,\n",
    "    'handGyro1' , 'handGyro2',   'handGyro3' ,      \n",
    "    'handMagne1',  'handMagne2' , 'handMagne3',  \n",
    "    'chestAcc16_1', 'chestAcc16_2',  'chestAcc16_3',   \n",
    "    'chestAcc6_1',  'chestAcc6_2',  'chestAcc6_3',\n",
    "    'chestGyro1',   'chestGyro2',   'chestGyro3',    \n",
    "    'chestMagne1', 'chestMagne2' , 'chestMagne3', \n",
    "    'ankleAcc16_1',   'ankleAcc16_2',  'ankleAcc16_3',\n",
    "    'ankleAcc6_1',  'ankleAcc6_2',  'ankleAcc6_3',   \n",
    "    'ankleGyro1' ,   'ankleGyro2',   'ankleGyro3',    \n",
    "    'ankleMagne1' , 'ankleMagne2' ,'ankleMagne3'])\n",
    "scaled_X['label'] = y.values"
   ]
  },
  {
   "cell_type": "code",
   "execution_count": 425,
   "id": "83d9a112",
   "metadata": {},
   "outputs": [],
   "source": [
    "from sklearn.model_selection import train_test_split\n",
    "\n",
    "X_train, X_test, y_train, y_test = train_test_split(scaled_X, \n",
    "                                                    scaled_X[\"label\"],\n",
    "                                                    test_size = 0.95, \n",
    "                                                    shuffle = True, \n",
    "                                                    random_state = 21)"
   ]
  },
  {
   "cell_type": "code",
   "execution_count": 426,
   "id": "69f41140",
   "metadata": {},
   "outputs": [
    {
     "name": "stderr",
     "output_type": "stream",
     "text": [
      "<ipython-input-426-e503db729593>:9: FutureWarning: Unlike other reduction functions (e.g. `skew`, `kurtosis`), the default behavior of `mode` typically preserves the axis it acts along. In SciPy 1.11.0, this behavior will change: the default value of `keepdims` will become False, the `axis` over which the statistic is taken will be eliminated, and the value None will no longer be accepted. Set `keepdims` to True or False to avoid this warning.\n",
      "  ys.append(stats.mode(labels)[0][0])\n"
     ]
    },
    {
     "name": "stdout",
     "output_type": "stream",
     "text": [
      "(8773, 1, 36) (8773, 1)\n"
     ]
    }
   ],
   "source": [
    "from scipy import stats\n",
    "\n",
    "def create_dataset(X, y, time_steps=1, step=1):\n",
    "    Xs, ys = [], []\n",
    "    for i in range(0, len(X) - time_steps, step):\n",
    "        v = X.iloc[i:(i + time_steps)].values\n",
    "        labels = y.iloc[i: i + time_steps]\n",
    "        Xs.append(v)        \n",
    "        ys.append(stats.mode(labels)[0][0])\n",
    "    return np.array(Xs), np.array(ys).reshape(-1, 1)\n",
    "\n",
    "\n",
    "\n",
    "X_train, y_train = create_dataset(X_train[['handAcc16_1' , 'handAcc16_2' , 'handAcc16_3' ,\n",
    "    'handAcc6_1' , 'handAcc6_2' , 'handAcc6_3' ,\n",
    "    'handGyro1' , 'handGyro2',   'handGyro3' ,      \n",
    "    'handMagne1',  'handMagne2' , 'handMagne3',  \n",
    "    'chestAcc16_1', 'chestAcc16_2',  'chestAcc16_3',   \n",
    "    'chestAcc6_1',  'chestAcc6_2',  'chestAcc6_3',\n",
    "    'chestGyro1',   'chestGyro2',   'chestGyro3',    \n",
    "    'chestMagne1', 'chestMagne2' , 'chestMagne3', \n",
    "    'ankleAcc16_1',   'ankleAcc16_2',  'ankleAcc16_3',\n",
    "    'ankleAcc6_1',  'ankleAcc6_2',  'ankleAcc6_3',   \n",
    "    'ankleGyro1' ,   'ankleGyro2',   'ankleGyro3',    \n",
    "    'ankleMagne1' , 'ankleMagne2' ,'ankleMagne3']], X_train.label, TIME_STEPS,\n",
    "                                  STEP)\n",
    "X_test, y_test = create_dataset(X_test[['handAcc16_1' , 'handAcc16_2' , 'handAcc16_3' ,\n",
    "    'handAcc6_1' , 'handAcc6_2' , 'handAcc6_3' ,\n",
    "    'handGyro1' , 'handGyro2',   'handGyro3' ,      \n",
    "    'handMagne1',  'handMagne2' , 'handMagne3',  \n",
    "    'chestAcc16_1', 'chestAcc16_2',  'chestAcc16_3',   \n",
    "    'chestAcc6_1',  'chestAcc6_2',  'chestAcc6_3',\n",
    "    'chestGyro1',   'chestGyro2',   'chestGyro3',    \n",
    "    'chestMagne1', 'chestMagne2' , 'chestMagne3', \n",
    "    'ankleAcc16_1',   'ankleAcc16_2',  'ankleAcc16_3',\n",
    "    'ankleAcc6_1',  'ankleAcc6_2',  'ankleAcc6_3',   \n",
    "    'ankleGyro1' ,   'ankleGyro2',   'ankleGyro3',    \n",
    "    'ankleMagne1' , 'ankleMagne2' ,'ankleMagne3']], X_test.label, TIME_STEPS, STEP)\n",
    "\n",
    "print(X_train.shape, y_train.shape)"
   ]
  },
  {
   "cell_type": "code",
   "execution_count": 429,
   "id": "39ca215a",
   "metadata": {},
   "outputs": [
    {
     "name": "stderr",
     "output_type": "stream",
     "text": [
      "C:\\ProgramData\\Anaconda3\\lib\\site-packages\\sklearn\\preprocessing\\_encoders.py:972: FutureWarning: `sparse` was renamed to `sparse_output` in version 1.2 and will be removed in 1.4. `sparse_output` is ignored unless you leave `sparse` to its default value.\n",
      "  warnings.warn(\n"
     ]
    }
   ],
   "source": [
    "from sklearn.preprocessing import OneHotEncoder\n",
    "\n",
    "enc = OneHotEncoder(handle_unknown = \"ignore\", sparse = False)\n",
    "enc = enc.fit(y_train)\n",
    "\n",
    "y_train = enc.transform(y_train)\n",
    "y_test = enc.transform(y_test)"
   ]
  },
  {
   "cell_type": "code",
   "execution_count": 398,
   "id": "73293e66",
   "metadata": {},
   "outputs": [
    {
     "name": "stdout",
     "output_type": "stream",
     "text": [
      "X_train.shape:  (8773, 1, 36)\n",
      "X_test.shape  (166723, 1, 36)\n",
      "y_train.shape  (8773, 12)\n",
      "y_test.shape  (166723, 12)\n"
     ]
    }
   ],
   "source": [
    "print(\"X_train.shape: \", X_train.shape)\n",
    "print(\"X_test.shape \", X_test.shape)\n",
    "print(\"y_train.shape \", y_train.shape)\n",
    "print(\"y_test.shape \", y_test.shape)"
   ]
  },
  {
   "cell_type": "code",
   "execution_count": 399,
   "id": "6eb43808",
   "metadata": {},
   "outputs": [],
   "source": [
    "import tensorflow as tf\n",
    "from tensorflow import keras\n",
    "from tensorflow.keras import layers\n",
    "\n",
    "# cnn model vary kernel size\n",
    "from numpy import mean\n",
    "from numpy import std\n",
    "from numpy import dstack\n",
    "from pandas import read_csv\n",
    "from matplotlib import pyplot\n",
    "from tensorflow.keras.models import Sequential\n",
    "from tensorflow.keras.layers import Dense\n",
    "from tensorflow.keras.layers import Flatten\n",
    "from tensorflow.keras.layers import Dropout\n",
    "from keras.layers.convolutional import Conv1D\n",
    "from keras.layers.convolutional import MaxPooling1D\n",
    "from tensorflow.keras.utils import to_categorical\n",
    "\n",
    "import tensorflow.keras\n",
    "from tensorflow.keras.models import Sequential\n",
    "from tensorflow.keras.layers import Dense, Dropout, Flatten, Reshape, LSTM, Conv1D, MaxPooling1D\n",
    "from tensorflow.keras.layers import TimeDistributed, Conv1D, MaxPooling1D\n",
    "from keras.utils import np_utils"
   ]
  },
  {
   "cell_type": "code",
   "execution_count": 427,
   "id": "654c3c69",
   "metadata": {},
   "outputs": [],
   "source": [
    "#Epoch 500\n",
    "\n",
    "verbose,epochs,batch_size=1,10,32 \n",
    "\n",
    "n_timesteps,n_features,n_outputs=X_train.shape[1],X_train.shape[2],y_train.shape[1]"
   ]
  },
  {
   "cell_type": "code",
   "execution_count": 400,
   "id": "a964ed3e",
   "metadata": {},
   "outputs": [],
   "source": [
    "import numpy as np\n",
    "import tensorflow as tf\n",
    "from tensorflow import keras\n",
    "from tensorflow.keras.layers import Bidirectional, LSTM, Dropout, Dense\n",
    "import pandas as pd\n",
    "import seaborn as sns\n",
    "from pylab import rcParams\n",
    "import matplotlib.pyplot as plt\n",
    "from matplotlib import rc\n",
    "from pandas.plotting import register_matplotlib_converters"
   ]
  },
  {
   "cell_type": "code",
   "execution_count": 428,
   "id": "968beac3",
   "metadata": {},
   "outputs": [
    {
     "data": {
      "text/plain": [
       "(1, 36, 1)"
      ]
     },
     "execution_count": 428,
     "metadata": {},
     "output_type": "execute_result"
    }
   ],
   "source": [
    "n_timesteps, n_features, n_outputs"
   ]
  },
  {
   "cell_type": "code",
   "execution_count": 431,
   "id": "4518376f",
   "metadata": {},
   "outputs": [],
   "source": [
    "# Training and evaluating the model\n",
    "\n",
    "model = keras.Sequential()\n",
    "model.add(Bidirectional(LSTM(units = 128, input_shape = [X_train.shape[1], X_train.shape[2]])))\n",
    "model.add(Dropout(rate = 0.5))\n",
    "model.add(Dense(units = 128, activation = \"relu\"))\n",
    "model.add(Dense(y_train.shape[1], activation = \"softmax\"))\n",
    "model.compile(loss = \"categorical_crossentropy\", optimizer = \"adam\", metrics = [\"acc\"])"
   ]
  },
  {
   "cell_type": "code",
   "execution_count": 433,
   "id": "e5a54475",
   "metadata": {},
   "outputs": [],
   "source": [
    "model.compile(optimizer=Adam(learning_rate = 0.001), loss = 'categorical_crossentropy', metrics = ['accuracy'])"
   ]
  },
  {
   "cell_type": "code",
   "execution_count": 435,
   "id": "9eb7bbfa",
   "metadata": {
    "scrolled": false
   },
   "outputs": [
    {
     "name": "stdout",
     "output_type": "stream",
     "text": [
      "Epoch 1/10\n",
      "247/247 [==============================] - 1s 5ms/step - loss: 0.1435 - accuracy: 0.9536 - val_loss: 0.3394 - val_accuracy: 0.9055\n",
      "Epoch 2/10\n",
      "247/247 [==============================] - 1s 5ms/step - loss: 0.1427 - accuracy: 0.9500 - val_loss: 0.3343 - val_accuracy: 0.9066\n",
      "Epoch 3/10\n",
      "247/247 [==============================] - 1s 5ms/step - loss: 0.1408 - accuracy: 0.9534 - val_loss: 0.3354 - val_accuracy: 0.9032\n",
      "Epoch 4/10\n",
      "247/247 [==============================] - 1s 5ms/step - loss: 0.1354 - accuracy: 0.9562 - val_loss: 0.3447 - val_accuracy: 0.8998\n",
      "Epoch 5/10\n",
      "247/247 [==============================] - 1s 5ms/step - loss: 0.1304 - accuracy: 0.9583 - val_loss: 0.3310 - val_accuracy: 0.9077\n",
      "Epoch 6/10\n",
      "247/247 [==============================] - 1s 5ms/step - loss: 0.1254 - accuracy: 0.9563 - val_loss: 0.3611 - val_accuracy: 0.9055\n",
      "Epoch 7/10\n",
      "247/247 [==============================] - 1s 5ms/step - loss: 0.1313 - accuracy: 0.9552 - val_loss: 0.3350 - val_accuracy: 0.9112\n",
      "Epoch 8/10\n",
      "247/247 [==============================] - 1s 5ms/step - loss: 0.1275 - accuracy: 0.9558 - val_loss: 0.3575 - val_accuracy: 0.9066\n",
      "Epoch 9/10\n",
      "247/247 [==============================] - 1s 5ms/step - loss: 0.1165 - accuracy: 0.9592 - val_loss: 0.3413 - val_accuracy: 0.9146\n",
      "Epoch 10/10\n",
      "247/247 [==============================] - 1s 5ms/step - loss: 0.1200 - accuracy: 0.9590 - val_loss: 0.3381 - val_accuracy: 0.9146\n",
      "Model: \"sequential_12\"\n",
      "_________________________________________________________________\n",
      " Layer (type)                Output Shape              Param #   \n",
      "=================================================================\n",
      " bidirectional_3 (Bidirectio  (None, 256)              168960    \n",
      " nal)                                                            \n",
      "                                                                 \n",
      " dropout_6 (Dropout)         (None, 256)               0         \n",
      "                                                                 \n",
      " dense_14 (Dense)            (None, 128)               32896     \n",
      "                                                                 \n",
      " dense_15 (Dense)            (None, 12)                1548      \n",
      "                                                                 \n",
      "=================================================================\n",
      "Total params: 203,404\n",
      "Trainable params: 203,404\n",
      "Non-trainable params: 0\n",
      "_________________________________________________________________\n",
      "None\n"
     ]
    }
   ],
   "source": [
    "history = model.fit(X_train, y_train, epochs = 10, batch_size = 32, validation_split = 0.1, shuffle = True)\n",
    "print(model.summary())"
   ]
  },
  {
   "cell_type": "code",
   "execution_count": 453,
   "id": "46faeba9",
   "metadata": {},
   "outputs": [
    {
     "data": {
      "image/png": "[encoded data removed]",
      "text/plain": [
       "<Figure size 432x288 with 1 Axes>"
      ]
     },
     "metadata": {
      "needs_background": "light"
     },
     "output_type": "display_data"
    }
   ],
   "source": [
    "import matplotlib.pyplot as plt\n",
    "import seaborn as sns\n",
    "\n",
    "loss = history.history['loss']\n",
    "val_loss = history.history['val_loss']\n",
    "epochs = range(1, len(loss) + 1)\n",
    "plt.plot(epochs, loss, 'y', label='Training loss')\n",
    "plt.plot(epochs, val_loss, 'r', label='Validation loss')\n",
    "plt.title('Training and validation loss')\n",
    "plt.xlabel('Epochs')\n",
    "plt.ylabel('Loss')\n",
    "plt.legend()\n",
    "plt.show()"
   ]
  },
  {
   "cell_type": "code",
   "execution_count": 437,
   "id": "287f5753",
   "metadata": {},
   "outputs": [
    {
     "data": {
      "image/png": "[encoded data removed]",
      "text/plain": [
       "<Figure size 432x288 with 1 Axes>"
      ]
     },
     "metadata": {
      "needs_background": "light"
     },
     "output_type": "display_data"
    }
   ],
   "source": [
    "acc = history.history['accuracy']\n",
    "val_acc = history.history['val_accuracy']\n",
    "plt.plot(epochs, acc, 'y', label='Training acc')\n",
    "plt.plot(epochs, val_acc, 'r', label='Validation acc')\n",
    "plt.title('Training and validation accuracy')\n",
    "plt.xlabel('Epochs')\n",
    "plt.ylabel('Accuracy')\n",
    "plt.legend()\n",
    "plt.show()"
   ]
  },
  {
   "cell_type": "code",
   "execution_count": 438,
   "id": "e0577cf5",
   "metadata": {},
   "outputs": [],
   "source": [
    "from mlxtend.plotting import plot_confusion_matrix\n",
    "from sklearn.metrics import confusion_matrix"
   ]
  },
  {
   "cell_type": "code",
   "execution_count": 439,
   "id": "460ea7d9",
   "metadata": {},
   "outputs": [
    {
     "name": "stdout",
     "output_type": "stream",
     "text": [
      "5211/5211 [==============================] - 9s 2ms/step - loss: 0.3615 - accuracy: 0.9074\n",
      "Accuracy >90.737933\n",
      "Base Loss >0.36\n"
     ]
    }
   ],
   "source": [
    "base_loss,base_accuracy=model.evaluate(X_test,y_test,batch_size=batch_size,verbose=1)\n",
    "  \n",
    "score=base_accuracy*100\n",
    "print('Accuracy >{:f}'.format(score))\n",
    "print('Base Loss >{:.2f}'.format(base_loss))"
   ]
  },
  {
   "cell_type": "code",
   "execution_count": 456,
   "id": "79c57333",
   "metadata": {},
   "outputs": [
    {
     "name": "stdout",
     "output_type": "stream",
     "text": [
      "0.9073793057946414\n",
      "              precision    recall  f1-score   support\n",
      "\n",
      "           0       0.98      0.99      0.99     16637\n",
      "           1       0.97      0.96      0.96     16062\n",
      "           2       0.92      0.97      0.95     16428\n",
      "           3       0.87      0.91      0.89     19952\n",
      "           4       0.96      0.94      0.95      8196\n",
      "           5       0.92      0.96      0.94     14209\n",
      "           6       0.88      0.92      0.90     16025\n",
      "           7       0.77      0.76      0.76     10196\n",
      "           8       0.85      0.65      0.73      9102\n",
      "           9       0.85      0.84      0.84     15172\n",
      "          10       0.96      0.95      0.96     20609\n",
      "          11       0.87      0.84      0.85      4135\n",
      "\n",
      "    accuracy                           0.91    166723\n",
      "   macro avg       0.90      0.89      0.89    166723\n",
      "weighted avg       0.91      0.91      0.91    166723\n",
      "\n"
     ]
    }
   ],
   "source": [
    "print(accuracy_score(y_test,y_pred_class))\n",
    "print(classification_report(y_test,y_pred_class))"
   ]
  },
  {
   "cell_type": "code",
   "execution_count": 457,
   "id": "9f03fb4f",
   "metadata": {},
   "outputs": [],
   "source": [
    "from mlxtend.plotting import plot_confusion_matrix\n",
    "from sklearn.metrics import confusion_matrix"
   ]
  },
  {
   "cell_type": "code",
   "execution_count": 458,
   "id": "8f780cbc",
   "metadata": {},
   "outputs": [
    {
     "name": "stdout",
     "output_type": "stream",
     "text": [
      "5211/5211 [==============================] - 8s 1ms/step\n"
     ]
    }
   ],
   "source": [
    "predict_x = model.predict(X_test) \n",
    "y_pred_class= np.argmax(predict_x,axis=1)"
   ]
  },
  {
   "cell_type": "code",
   "execution_count": 465,
   "id": "2efea8b9",
   "metadata": {},
   "outputs": [
    {
     "data": {
      "text/plain": [
       "array(['BSC', 'CHU', 'CSI', 'CSO', 'FKL', 'FOL', 'JOG', 'JUM', 'SBE',\n",
       "       'SBW', 'SCH', 'SDL', 'SIT', 'SLH', 'SLW', 'SRH', 'STD', 'STN',\n",
       "       'STU', 'WAL'], dtype=object)"
      ]
     },
     "execution_count": 465,
     "metadata": {},
     "output_type": "execute_result"
    }
   ],
   "source": [
    "label.classes_"
   ]
  },
  {
   "cell_type": "code",
   "execution_count": 462,
   "id": "e4beda7c",
   "metadata": {},
   "outputs": [
    {
     "ename": "NameError",
     "evalue": "name 'activityID' is not defined",
     "output_type": "error",
     "traceback": [
      "\u001b[1;31m---------------------------------------------------------------------------\u001b[0m",
      "\u001b[1;31mNameError\u001b[0m                                 Traceback (most recent call last)",
      "\u001b[1;32m<ipython-input-462-768185bf6022>\u001b[0m in \u001b[0;36m<module>\u001b[1;34m\u001b[0m\n\u001b[0;32m      1\u001b[0m \u001b[0mmat\u001b[0m \u001b[1;33m=\u001b[0m \u001b[0mconfusion_matrix\u001b[0m\u001b[1;33m(\u001b[0m\u001b[0my_test\u001b[0m\u001b[1;33m,\u001b[0m \u001b[0my_pred_class\u001b[0m\u001b[1;33m)\u001b[0m\u001b[1;33m\u001b[0m\u001b[1;33m\u001b[0m\u001b[0m\n\u001b[1;32m----> 2\u001b[1;33m \u001b[0mplot_confusion_matrix\u001b[0m\u001b[1;33m(\u001b[0m\u001b[0mconf_mat\u001b[0m\u001b[1;33m=\u001b[0m\u001b[0mmat\u001b[0m\u001b[1;33m,\u001b[0m \u001b[0mclass_names\u001b[0m\u001b[1;33m=\u001b[0m\u001b[0mactivityID\u001b[0m\u001b[1;33m.\u001b[0m\u001b[0mclasses_\u001b[0m\u001b[1;33m,\u001b[0m \u001b[0mshow_normed\u001b[0m\u001b[1;33m=\u001b[0m\u001b[1;32mTrue\u001b[0m\u001b[1;33m,\u001b[0m \u001b[0mfigsize\u001b[0m\u001b[1;33m=\u001b[0m\u001b[1;33m(\u001b[0m\u001b[1;36m7\u001b[0m\u001b[1;33m,\u001b[0m\u001b[1;36m7\u001b[0m\u001b[1;33m)\u001b[0m\u001b[1;33m)\u001b[0m\u001b[1;33m\u001b[0m\u001b[1;33m\u001b[0m\u001b[0m\n\u001b[0m",
      "\u001b[1;31mNameError\u001b[0m: name 'activityID' is not defined"
     ]
    }
   ],
   "source": [
    "mat = confusion_matrix(y_test, y_pred_class)\n",
    "plot_confusion_matrix(conf_mat=mat, class_names=label.classes_, show_normed=True, figsize=(7,7))"
   ]
  },
  {
   "cell_type": "code",
   "execution_count": null,
   "id": "40ba262c",
   "metadata": {},
   "outputs": [],
   "source": []
  }
 ],
 "metadata": {
  "kernelspec": {
   "display_name": "Python 3",
   "language": "python",
   "name": "python3"
  },
  "language_info": {
   "codemirror_mode": {
    "name": "ipython",
    "version": 3
   },
   "file_extension": ".py",
   "mimetype": "text/x-python",
   "name": "python",
   "nbconvert_exporter": "python",
   "pygments_lexer": "ipython3",
   "version": "3.8.8"
  }
 },
 "nbformat": 4,
 "nbformat_minor": 5
}
