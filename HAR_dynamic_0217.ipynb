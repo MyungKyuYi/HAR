{
 "cells": [
  {
   "cell_type": "code",
   "execution_count": 3,
   "id": "79481c54-2d83-450a-8880-a95bc34aa920",
   "metadata": {},
   "outputs": [],
   "source": [
    "import numpy as np\n",
    "import pandas as pd\n",
    "from scipy.signal import butter, filtfilt\n",
    "import tensorflow as tf\n",
    "from tensorflow.keras.models import Model\n",
    "from tensorflow.keras.layers import Input, Dense, Concatenate\n",
    "from tensorflow.keras.utils import to_categorical\n",
    "from sklearn.model_selection import train_test_split\n",
    "from sklearn.preprocessing import StandardScaler"
   ]
  },
  {
   "cell_type": "code",
   "execution_count": 4,
   "id": "47fb0e9a-45d4-4b4a-98bd-6ed8f2c00376",
   "metadata": {},
   "outputs": [],
   "source": [
    "# UCI HAR 데이터 로드 함수\n",
    "def load_uci_har_data():\n",
    "    X_train = pd.read_csv(\"E:/dataset/HAR/UCI-HAR/train/X_train.txt\", delim_whitespace=True, header=None)\n",
    "    Y_train = pd.read_csv(\"E:/dataset/HAR/UCI-HAR/train/y_train.txt\", delim_whitespace=True, header=None)\n",
    "    X_test = pd.read_csv(\"E:/dataset/HAR/UCI-HAR/test/X_test.txt\", delim_whitespace=True, header=None)\n",
    "    Y_test = pd.read_csv(\"E:/dataset/HAR/UCI-HAR/test/y_test.txt\", delim_whitespace=True, header=None)\n",
    "    \n",
    "    return X_train.values, Y_train.values.ravel(), X_test.values, Y_test.values.ravel()"
   ]
  },
  {
   "cell_type": "code",
   "execution_count": 5,
   "id": "240988cb-f2c4-4065-9452-61787d6dd3ca",
   "metadata": {},
   "outputs": [],
   "source": [
    "# 저역 통과 필터 적용 함수 (노이즈 제거)\n",
    "def low_pass_filter(data, cutoff=0.1, fs=50, order=2):\n",
    "    nyquist = 0.5 * fs\n",
    "    normal_cutoff = cutoff / nyquist\n",
    "    b, a = butter(order, normal_cutoff, btype='low', analog=False)\n",
    "    \n",
    "    padlen = max(3 * order, 9)\n",
    "    if len(data) < padlen:\n",
    "        return data  # 데이터 길이가 padlen보다 작으면 필터 적용 없이 반환\n",
    "    \n",
    "    return filtfilt(b, a, data)"
   ]
  },
  {
   "cell_type": "code",
   "execution_count": 6,
   "id": "a87dc5b1-5dd2-4bf4-a7ff-c2eadd97698d",
   "metadata": {},
   "outputs": [],
   "source": [
    "# 특징 추출 함수\n",
    "def extract_features(X, feature_indices):\n",
    "    features = {}\n",
    "\n",
    "    # 선택한 센서 데이터 컬럼 필터링\n",
    "    z_accel = low_pass_filter(X[:, feature_indices['body_acc_z']])\n",
    "    y_accel = low_pass_filter(X[:, feature_indices['body_acc_y']])\n",
    "    gyro_x = low_pass_filter(X[:, feature_indices['body_gyro_x']])\n",
    "    gyro_y = low_pass_filter(X[:, feature_indices['body_gyro_y']])\n",
    "\n",
    "    # Z축 가속도 변화량 (계단 오를 때 증가, 내릴 때 감소)\n",
    "    features['z_accel_change'] = np.max(z_accel) - np.min(z_accel)\n",
    "\n",
    "    # Y축 가속도의 변화량 (계단 오를 때 변화 크고, 내릴 때 변화 적음)\n",
    "    features['y_accel_var'] = np.var(y_accel)\n",
    "\n",
    "    # X축 자이로스코프 평균값 (피치 변화 분석)\n",
    "    features['gyro_x_mean'] = np.mean(gyro_x)\n",
    "\n",
    "    # Y축 자이로스코프 분산 (계단 내릴 때 균형 조절을 위한 변화량이 큼)\n",
    "    features['gyro_y_var'] = np.var(gyro_y)\n",
    "\n",
    "    return features"
   ]
  },
  {
   "cell_type": "code",
   "execution_count": 7,
   "id": "95856393-469d-4824-a574-6332cdbdc77b",
   "metadata": {},
   "outputs": [],
   "source": [
    "# 주요 센서 데이터 컬럼 인덱스\n",
    "feature_indices = {\n",
    "    'body_acc_z': 2,\n",
    "    'body_acc_y': 1,\n",
    "    'body_gyro_x': 39,\n",
    "    'body_gyro_y': 40\n",
    "}"
   ]
  },
  {
   "cell_type": "code",
   "execution_count": 8,
   "id": "f00f7d92-c91b-455c-b0e9-8083e7b440f2",
   "metadata": {},
   "outputs": [
    {
     "name": "stderr",
     "output_type": "stream",
     "text": [
      "C:\\Users\\Public\\Documents\\ESTsoft\\CreatorTemp\\ipykernel_10688\\1286935637.py:3: FutureWarning: The 'delim_whitespace' keyword in pd.read_csv is deprecated and will be removed in a future version. Use ``sep='\\s+'`` instead\n",
      "  X_train = pd.read_csv(\"E:/dataset/HAR/UCI-HAR/train/X_train.txt\", delim_whitespace=True, header=None)\n",
      "C:\\Users\\Public\\Documents\\ESTsoft\\CreatorTemp\\ipykernel_10688\\1286935637.py:4: FutureWarning: The 'delim_whitespace' keyword in pd.read_csv is deprecated and will be removed in a future version. Use ``sep='\\s+'`` instead\n",
      "  Y_train = pd.read_csv(\"E:/dataset/HAR/UCI-HAR/train/y_train.txt\", delim_whitespace=True, header=None)\n",
      "C:\\Users\\Public\\Documents\\ESTsoft\\CreatorTemp\\ipykernel_10688\\1286935637.py:5: FutureWarning: The 'delim_whitespace' keyword in pd.read_csv is deprecated and will be removed in a future version. Use ``sep='\\s+'`` instead\n",
      "  X_test = pd.read_csv(\"E:/dataset/HAR/UCI-HAR/test/X_test.txt\", delim_whitespace=True, header=None)\n"
     ]
    },
    {
     "name": "stdout",
     "output_type": "stream",
     "text": [
      "Unique values in Y_train: [1 2 3 4 5 6]\n",
      "Unique values in Y_test: [1 2 3 4 5 6]\n",
      "Filtered Unique values in Y_train: [1 2 3]\n",
      "Filtered Unique values in Y_test: [1 2 3]\n"
     ]
    },
    {
     "name": "stderr",
     "output_type": "stream",
     "text": [
      "C:\\Users\\Public\\Documents\\ESTsoft\\CreatorTemp\\ipykernel_10688\\1286935637.py:6: FutureWarning: The 'delim_whitespace' keyword in pd.read_csv is deprecated and will be removed in a future version. Use ``sep='\\s+'`` instead\n",
      "  Y_test = pd.read_csv(\"E:/dataset/HAR/UCI-HAR/test/y_test.txt\", delim_whitespace=True, header=None)\n"
     ]
    }
   ],
   "source": [
    "import numpy as np\n",
    "\n",
    "# UCI HAR 데이터 로드\n",
    "X_train, Y_train, X_test, Y_test = load_uci_har_data()\n",
    "\n",
    "# Y_train과 Y_test의 고유값 확인 (디버깅)\n",
    "print(\"Unique values in Y_train:\", np.unique(Y_train))\n",
    "print(\"Unique values in Y_test:\", np.unique(Y_test))\n",
    "\n",
    "# 걷기(1), 계단 오르기(2), 계단 내리기(3) 데이터만 필터링\n",
    "selected_labels = [1, 2, 3]\n",
    "train_mask = np.isin(Y_train, selected_labels)\n",
    "test_mask = np.isin(Y_test, selected_labels)\n",
    "\n",
    "X_train, Y_train = X_train[train_mask], Y_train[train_mask]\n",
    "X_test, Y_test = X_test[test_mask], Y_test[test_mask]\n",
    "\n",
    "# 다시 Y_train과 Y_test의 고유값 확인\n",
    "print(\"Filtered Unique values in Y_train:\", np.unique(Y_train))\n",
    "print(\"Filtered Unique values in Y_test:\", np.unique(Y_test))\n",
    "\n"
   ]
  },
  {
   "cell_type": "code",
   "execution_count": 9,
   "id": "de53ca3d-6679-43c7-93ed-c2cb4cf1d5af",
   "metadata": {},
   "outputs": [
    {
     "name": "stdout",
     "output_type": "stream",
     "text": [
      "Unique values in Y_train before mapping: [1 2 3]\n",
      "Unique values in Y_test before mapping: [1 2 3]\n",
      "Transformed Unique values in Y_train: [0 1 2]\n",
      "Transformed Unique values in Y_test: [0 1 2]\n"
     ]
    }
   ],
   "source": [
    "import numpy as np\n",
    "\n",
    "# 레이블 변환 (1,2,3 → 0,1,2)\n",
    "label_mapping = {1: 0, 2: 1, 3: 2}\n",
    "\n",
    "# Y_train과 Y_test의 고유값 확인\n",
    "print(\"Unique values in Y_train before mapping:\", np.unique(Y_train))\n",
    "print(\"Unique values in Y_test before mapping:\", np.unique(Y_test))\n",
    "\n",
    "# 변환 수행 (None 값 방지)\n",
    "Y_train = np.vectorize(lambda y: label_mapping.get(y, -1))(Y_train)\n",
    "Y_test = np.vectorize(lambda y: label_mapping.get(y, -1))(Y_test)\n",
    "\n",
    "# 변환 후 -1 값이 있는지 확인\n",
    "if np.any(Y_train == -1) or np.any(Y_test == -1):\n",
    "    print(\"Warning: Unexpected label found in Y_train or Y_test after filtering!\")\n",
    "\n",
    "# 데이터 타입 변환\n",
    "Y_train = Y_train.astype(int)\n",
    "Y_test = Y_test.astype(int)\n",
    "\n",
    "# 변환 후 고유값 확인\n",
    "print(\"Transformed Unique values in Y_train:\", np.unique(Y_train))\n",
    "print(\"Transformed Unique values in Y_test:\", np.unique(Y_test))\n",
    "\n"
   ]
  },
  {
   "cell_type": "code",
   "execution_count": 10,
   "id": "334e4672-5a9e-4093-912e-7488379ae9b0",
   "metadata": {},
   "outputs": [],
   "source": [
    "# 피처 추출\n",
    "features_train = [extract_features(X_train[i].reshape(1, -1), feature_indices) for i in range(X_train.shape[0])]\n",
    "features_test = [extract_features(X_test[i].reshape(1, -1), feature_indices) for i in range(X_test.shape[0])]\n",
    "\n",
    "# 데이터프레임 변환\n",
    "df_train = pd.DataFrame(features_train)\n",
    "df_test = pd.DataFrame(features_test)\n",
    "\n",
    "# 정규화\n",
    "scaler_features = StandardScaler()\n",
    "X_train_features = scaler_features.fit_transform(df_train)\n",
    "X_test_features = scaler_features.transform(df_test)\n",
    "\n",
    "scaler_raw = StandardScaler()\n",
    "X_train_raw = scaler_raw.fit_transform(X_train)\n",
    "X_test_raw = scaler_raw.transform(X_test)\n",
    "\n",
    "# 레이블을 원-핫 인코딩\n",
    "Y_train = to_categorical(Y_train, num_classes=3)\n",
    "Y_test = to_categorical(Y_test, num_classes=3)"
   ]
  },
  {
   "cell_type": "code",
   "execution_count": null,
   "id": "7bc41f35-8f1d-4128-a032-1b224478d4d0",
   "metadata": {},
   "outputs": [
    {
     "name": "stdout",
     "output_type": "stream",
     "text": [
      "Epoch 1/50\n",
      "\u001b[1m103/103\u001b[0m \u001b[32m━━━━━━━━━━━━━━━━━━━━\u001b[0m\u001b[37m\u001b[0m \u001b[1m2s\u001b[0m 5ms/step - accuracy: 0.8079 - loss: 0.4515 - val_accuracy: 0.9063 - val_loss: 0.3283\n",
      "Epoch 2/50\n",
      "\u001b[1m103/103\u001b[0m \u001b[32m━━━━━━━━━━━━━━━━━━━━\u001b[0m\u001b[37m\u001b[0m \u001b[1m0s\u001b[0m 3ms/step - accuracy: 0.9928 - loss: 0.0184 - val_accuracy: 0.8868 - val_loss: 0.4131\n",
      "Epoch 3/50\n",
      "\u001b[1m103/103\u001b[0m \u001b[32m━━━━━━━━━━━━━━━━━━━━\u001b[0m\u001b[37m\u001b[0m \u001b[1m0s\u001b[0m 3ms/step - accuracy: 0.9946 - loss: 0.0191 - val_accuracy: 0.9106 - val_loss: 0.3058\n",
      "Epoch 4/50\n",
      "\u001b[1m103/103\u001b[0m \u001b[32m━━━━━━━━━━━━━━━━━━━━\u001b[0m\u001b[37m\u001b[0m \u001b[1m0s\u001b[0m 3ms/step - accuracy: 0.9987 - loss: 0.0056 - val_accuracy: 0.9329 - val_loss: 0.2880\n",
      "Epoch 5/50\n",
      "\u001b[1m103/103\u001b[0m \u001b[32m━━━━━━━━━━━━━━━━━━━━\u001b[0m\u001b[37m\u001b[0m \u001b[1m0s\u001b[0m 3ms/step - accuracy: 0.9964 - loss: 0.0080 - val_accuracy: 0.9315 - val_loss: 0.3016\n",
      "Epoch 6/50\n",
      "\u001b[1m103/103\u001b[0m \u001b[32m━━━━━━━━━━━━━━━━━━━━\u001b[0m\u001b[37m\u001b[0m \u001b[1m0s\u001b[0m 3ms/step - accuracy: 1.0000 - loss: 2.7775e-04 - val_accuracy: 0.9293 - val_loss: 0.3077\n",
      "Epoch 7/50\n",
      "\u001b[1m103/103\u001b[0m \u001b[32m━━━━━━━━━━━━━━━━━━━━\u001b[0m\u001b[37m\u001b[0m \u001b[1m0s\u001b[0m 3ms/step - accuracy: 1.0000 - loss: 1.1194e-04 - val_accuracy: 0.9301 - val_loss: 0.3178\n",
      "Epoch 8/50\n",
      "\u001b[1m103/103\u001b[0m \u001b[32m━━━━━━━━━━━━━━━━━━━━\u001b[0m\u001b[37m\u001b[0m \u001b[1m0s\u001b[0m 3ms/step - accuracy: 1.0000 - loss: 1.0286e-04 - val_accuracy: 0.9301 - val_loss: 0.3241\n",
      "Epoch 9/50\n",
      "\u001b[1m103/103\u001b[0m \u001b[32m━━━━━━━━━━━━━━━━━━━━\u001b[0m\u001b[37m\u001b[0m \u001b[1m0s\u001b[0m 3ms/step - accuracy: 1.0000 - loss: 6.7586e-05 - val_accuracy: 0.9315 - val_loss: 0.3291\n",
      "Epoch 10/50\n",
      "\u001b[1m103/103\u001b[0m \u001b[32m━━━━━━━━━━━━━━━━━━━━\u001b[0m\u001b[37m\u001b[0m \u001b[1m0s\u001b[0m 3ms/step - accuracy: 1.0000 - loss: 5.7845e-05 - val_accuracy: 0.9322 - val_loss: 0.3322\n",
      "Epoch 11/50\n",
      "\u001b[1m103/103\u001b[0m \u001b[32m━━━━━━━━━━━━━━━━━━━━\u001b[0m\u001b[37m\u001b[0m \u001b[1m0s\u001b[0m 3ms/step - accuracy: 1.0000 - loss: 4.7286e-05 - val_accuracy: 0.9344 - val_loss: 0.3362\n",
      "Epoch 12/50\n",
      "\u001b[1m103/103\u001b[0m \u001b[32m━━━━━━━━━━━━━━━━━━━━\u001b[0m\u001b[37m\u001b[0m \u001b[1m0s\u001b[0m 3ms/step - accuracy: 1.0000 - loss: 3.8150e-05 - val_accuracy: 0.9344 - val_loss: 0.3386\n",
      "Epoch 13/50\n",
      "\u001b[1m103/103\u001b[0m \u001b[32m━━━━━━━━━━━━━━━━━━━━\u001b[0m\u001b[37m\u001b[0m \u001b[1m0s\u001b[0m 3ms/step - accuracy: 1.0000 - loss: 3.4476e-05 - val_accuracy: 0.9344 - val_loss: 0.3429\n",
      "Epoch 14/50\n",
      "\u001b[1m103/103\u001b[0m \u001b[32m━━━━━━━━━━━━━━━━━━━━\u001b[0m\u001b[37m\u001b[0m \u001b[1m0s\u001b[0m 3ms/step - accuracy: 1.0000 - loss: 2.8379e-05 - val_accuracy: 0.9337 - val_loss: 0.3459\n",
      "Epoch 15/50\n",
      "\u001b[1m103/103\u001b[0m \u001b[32m━━━━━━━━━━━━━━━━━━━━\u001b[0m\u001b[37m\u001b[0m \u001b[1m0s\u001b[0m 3ms/step - accuracy: 1.0000 - loss: 2.8217e-05 - val_accuracy: 0.9337 - val_loss: 0.3489\n",
      "Epoch 16/50\n",
      "\u001b[1m103/103\u001b[0m \u001b[32m━━━━━━━━━━━━━━━━━━━━\u001b[0m\u001b[37m\u001b[0m \u001b[1m0s\u001b[0m 3ms/step - accuracy: 1.0000 - loss: 2.4338e-05 - val_accuracy: 0.9337 - val_loss: 0.3524\n",
      "Epoch 17/50\n",
      "\u001b[1m103/103\u001b[0m \u001b[32m━━━━━━━━━━━━━━━━━━━━\u001b[0m\u001b[37m\u001b[0m \u001b[1m0s\u001b[0m 3ms/step - accuracy: 1.0000 - loss: 2.0283e-05 - val_accuracy: 0.9337 - val_loss: 0.3545\n",
      "Epoch 18/50\n",
      "\u001b[1m103/103\u001b[0m \u001b[32m━━━━━━━━━━━━━━━━━━━━\u001b[0m\u001b[37m\u001b[0m \u001b[1m0s\u001b[0m 3ms/step - accuracy: 1.0000 - loss: 1.8087e-05 - val_accuracy: 0.9337 - val_loss: 0.3579\n",
      "Epoch 19/50\n",
      "\u001b[1m103/103\u001b[0m \u001b[32m━━━━━━━━━━━━━━━━━━━━\u001b[0m\u001b[37m\u001b[0m \u001b[1m0s\u001b[0m 3ms/step - accuracy: 1.0000 - loss: 1.6688e-05 - val_accuracy: 0.9337 - val_loss: 0.3604\n",
      "Epoch 20/50\n",
      "\u001b[1m103/103\u001b[0m \u001b[32m━━━━━━━━━━━━━━━━━━━━\u001b[0m\u001b[37m\u001b[0m \u001b[1m0s\u001b[0m 3ms/step - accuracy: 1.0000 - loss: 1.3794e-05 - val_accuracy: 0.9337 - val_loss: 0.3630\n",
      "Epoch 21/50\n",
      "\u001b[1m103/103\u001b[0m \u001b[32m━━━━━━━━━━━━━━━━━━━━\u001b[0m\u001b[37m\u001b[0m \u001b[1m0s\u001b[0m 3ms/step - accuracy: 1.0000 - loss: 1.3288e-05 - val_accuracy: 0.9337 - val_loss: 0.3649\n",
      "Epoch 22/50\n",
      "\u001b[1m103/103\u001b[0m \u001b[32m━━━━━━━━━━━━━━━━━━━━\u001b[0m\u001b[37m\u001b[0m \u001b[1m0s\u001b[0m 3ms/step - accuracy: 1.0000 - loss: 1.0955e-05 - val_accuracy: 0.9344 - val_loss: 0.3672\n",
      "Epoch 23/50\n",
      "\u001b[1m103/103\u001b[0m \u001b[32m━━━━━━━━━━━━━━━━━━━━\u001b[0m\u001b[37m\u001b[0m \u001b[1m0s\u001b[0m 3ms/step - accuracy: 1.0000 - loss: 1.1026e-05 - val_accuracy: 0.9344 - val_loss: 0.3698\n",
      "Epoch 24/50\n",
      "\u001b[1m103/103\u001b[0m \u001b[32m━━━━━━━━━━━━━━━━━━━━\u001b[0m\u001b[37m\u001b[0m \u001b[1m0s\u001b[0m 3ms/step - accuracy: 1.0000 - loss: 1.1417e-05 - val_accuracy: 0.9344 - val_loss: 0.3723\n",
      "Epoch 25/50\n",
      "\u001b[1m103/103\u001b[0m \u001b[32m━━━━━━━━━━━━━━━━━━━━\u001b[0m\u001b[37m\u001b[0m \u001b[1m0s\u001b[0m 3ms/step - accuracy: 1.0000 - loss: 8.1037e-06 - val_accuracy: 0.9344 - val_loss: 0.3745\n",
      "Epoch 26/50\n",
      "\u001b[1m103/103\u001b[0m \u001b[32m━━━━━━━━━━━━━━━━━━━━\u001b[0m\u001b[37m\u001b[0m \u001b[1m0s\u001b[0m 3ms/step - accuracy: 1.0000 - loss: 7.6710e-06 - val_accuracy: 0.9344 - val_loss: 0.3770\n",
      "Epoch 27/50\n",
      "\u001b[1m103/103\u001b[0m \u001b[32m━━━━━━━━━━━━━━━━━━━━\u001b[0m\u001b[37m\u001b[0m \u001b[1m0s\u001b[0m 3ms/step - accuracy: 1.0000 - loss: 8.2034e-06 - val_accuracy: 0.9351 - val_loss: 0.3787\n",
      "Epoch 28/50\n",
      "\u001b[1m 83/103\u001b[0m \u001b[32m━━━━━━━━━━━━━━━━\u001b[0m\u001b[37m━━━━\u001b[0m \u001b[1m0s\u001b[0m 2ms/step - accuracy: 1.0000 - loss: 7.8897e-06"
     ]
    }
   ],
   "source": [
    "# Feature-based 모델 (DNN 1)\n",
    "input_features = Input(shape=(X_train_features.shape[1],))\n",
    "x1 = Dense(64, activation='relu')(input_features)\n",
    "x1 = Dense(32, activation='relu')(x1)\n",
    "x1 = Dense(16, activation='relu')(x1)\n",
    "\n",
    "# Raw Data 모델 (DNN 2)\n",
    "input_raw = Input(shape=(X_train_raw.shape[1],))\n",
    "x2 = Dense(128, activation='relu')(input_raw)\n",
    "x2 = Dense(64, activation='relu')(x2)\n",
    "x2 = Dense(32, activation='relu')(x2)\n",
    "\n",
    "# 모델 병합\n",
    "merged = Concatenate()([x1, x2])\n",
    "merged = Dense(32, activation='relu')(merged)\n",
    "output = Dense(3, activation='softmax')(merged)\n",
    "\n",
    "# 최종 모델 생성\n",
    "final_model = Model(inputs=[input_features, input_raw], outputs=output)\n",
    "final_model.compile(optimizer='adam', loss='categorical_crossentropy', metrics=['accuracy'])\n",
    "\n",
    "# 모델 훈련\n",
    "final_model.fit([X_train_features, X_train_raw], Y_train, epochs=50, batch_size=32, validation_data=([X_test_features, X_test_raw], Y_test))\n",
    "\n",
    "# 모델 평가\n",
    "loss, accuracy = final_model.evaluate([X_test_features, X_test_raw], Y_test)\n",
    "print(f\"앙상블 딥러닝 모델 정확도: {accuracy:.4f}\")"
   ]
  },
  {
   "cell_type": "code",
   "execution_count": null,
   "id": "0e4dbc5f-9c26-4207-86e6-9a6a871137ed",
   "metadata": {},
   "outputs": [],
   "source": [
    "from sklearn.metrics import confusion_matrix, classification_report\n",
    "\n",
    "# 모델 예측 수행\n",
    "y_pred = final_model.predict([X_test_features, X_test_raw])\n",
    "\n",
    "# One-hot encoded -> 정수형 레이블 변환\n",
    "y_pred_labels = np.argmax(y_pred, axis=1)\n",
    "y_true_labels = np.argmax(Y_test, axis=1)\n",
    "\n",
    "# Confusion Matrix 출력\n",
    "conf_matrix = confusion_matrix(y_true_labels, y_pred_labels)\n",
    "print(\"Confusion Matrix:\\n\", conf_matrix)\n",
    "\n",
    "# F1 Score 및 상세 평가 출력\n",
    "report = classification_report(y_true_labels, y_pred_labels, target_names=['Walking', 'Stair Up', 'Stair Down'])\n",
    "print(\"\\nClassification Report:\\n\", report)\n"
   ]
  },
  {
   "cell_type": "code",
   "execution_count": null,
   "id": "1170e571-bf06-4e7a-a089-56d59b0a04ad",
   "metadata": {},
   "outputs": [],
   "source": []
  },
  {
   "cell_type": "code",
   "execution_count": null,
   "id": "5786a368-fdc4-4da5-b17d-a9a7e1883b90",
   "metadata": {},
   "outputs": [],
   "source": []
  }
 ],
 "metadata": {
  "kernelspec": {
   "display_name": "Python 3 (ipykernel)",
   "language": "python",
   "name": "python3"
  },
  "language_info": {
   "codemirror_mode": {
    "name": "ipython",
    "version": 3
   },
   "file_extension": ".py",
   "mimetype": "text/x-python",
   "name": "python",
   "nbconvert_exporter": "python",
   "pygments_lexer": "ipython3",
   "version": "3.12.7"
  }
 },
 "nbformat": 4,
 "nbformat_minor": 5
}
