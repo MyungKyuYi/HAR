{
 "cells": [
  {
   "cell_type": "code",
   "execution_count": 16,
   "id": "3ef4df8f",
   "metadata": {},
   "outputs": [],
   "source": [
    "import numpy as np\n",
    "import pandas as pd\n",
    "from tensorflow.keras.utils import to_categorical\n",
    "import matplotlib.pyplot as plt\n",
    "import seaborn as sns\n",
    "\n",
    "\n",
    "def load_file(filepath):\n",
    "    dataframe = pd.read_csv(filepath, header=None, delim_whitespace=True)\n",
    "    return dataframe.values\n",
    "\n",
    "\n",
    "\n",
    "# load a list of files and return as a 3d numpy array\n",
    "def load_group(filenames, prefix=''):\n",
    "    loaded = list()\n",
    "    for name in filenames:\n",
    "        data = load_file(prefix + name)\n",
    "        loaded.append(data)\n",
    "    # stack group so that features are the 3rd dimension\n",
    "    loaded = np.dstack(loaded)\n",
    "    return loaded\n",
    "\n",
    "# load a dataset group, such as train or test\n",
    "def load_dataset_group(group, prefix=''):\n",
    "    filepath = prefix + group + '/Inertial Signals/'\n",
    "    # load all 9 files as a single array\n",
    "    filenames = list()\n",
    "    # total acceleration\n",
    "    filenames += ['total_acc_x_'+group+'.txt', 'total_acc_y_'+group+'.txt', 'total_acc_z_'+group+'.txt']\n",
    "    # body acceleration\n",
    "    filenames += ['body_acc_x_'+group+'.txt', 'body_acc_y_'+group+'.txt', 'body_acc_z_'+group+'.txt']\n",
    "    # body gyroscope\n",
    "    filenames += ['body_gyro_x_'+group+'.txt', 'body_gyro_y_'+group+'.txt', 'body_gyro_z_'+group+'.txt']\n",
    "    # load input data\n",
    "    X = load_group(filenames, filepath)\n",
    "    # load class output\n",
    "    y = load_file(prefix + group + '/y_'+group+'.txt')\n",
    "    return X, y\n",
    "\n",
    "\n",
    "# load the dataset, returns train and test X and y elements\n",
    "def load_dataset(prefix=''):\n",
    "    # load all train\n",
    "    trainX, trainy = load_dataset_group('train', prefix + 'C:/HAR/UCI/')\n",
    "    # load all test\n",
    "    testX, testy = load_dataset_group('test', prefix + 'C:/HAR/UCI/')\n",
    "    \n",
    "    #zero-offset class values\n",
    "    trainy = trainy - 1\n",
    "    testy = testy - 1\n",
    "    #one hot encode y\n",
    "    trainy_one_hot = to_categorical(trainy)\n",
    "    testy_one_hot = to_categorical(testy)\n",
    "    print(trainX.shape, trainy.shape, trainy_one_hot.shape, testX.shape, testy.shape, testy_one_hot.shape)\n",
    "    return trainX, trainy, trainy_one_hot, testX, testy, testy_one_hot"
   ]
  },
  {
   "cell_type": "code",
   "execution_count": 17,
   "id": "eecc9361",
   "metadata": {},
   "outputs": [
    {
     "name": "stdout",
     "output_type": "stream",
     "text": [
      "(7352, 128, 9) (7352, 1) (7352, 6) (2947, 128, 9) (2947, 1) (2947, 6)\n"
     ]
    }
   ],
   "source": [
    "trainX, trainy, trainy_one_hot, testX, testy, testy_one_hot = load_dataset()"
   ]
  },
  {
   "cell_type": "code",
   "execution_count": 18,
   "id": "48f74cff",
   "metadata": {},
   "outputs": [],
   "source": [
    "from sklearn.model_selection import train_test_split\n",
    "X_train,X_val,y_train_one_hot,y_val_one_hot,y_train,y_val=train_test_split(trainX, trainy_one_hot, trainy,test_size=0.2,random_state=100)"
   ]
  },
  {
   "cell_type": "code",
   "execution_count": 19,
   "id": "0da4dbe5",
   "metadata": {},
   "outputs": [
    {
     "data": {
      "text/plain": [
       "((5881, 128, 9), (1471, 128, 9), (5881, 6), (1471, 6), (5881, 1), (1471, 1))"
      ]
     },
     "execution_count": 19,
     "metadata": {},
     "output_type": "execute_result"
    }
   ],
   "source": [
    "X_train.shape,X_val.shape,y_train_one_hot.shape,y_val_one_hot.shape,y_train.shape,y_val.shape"
   ]
  },
  {
   "cell_type": "code",
   "execution_count": 20,
   "id": "dc2d6bd2",
   "metadata": {},
   "outputs": [],
   "source": [
    "n_timesteps, n_features, n_outputs = X_train.shape[1], X_train.shape[2], y_train_one_hot.shape[1]"
   ]
  },
  {
   "cell_type": "code",
   "execution_count": 21,
   "id": "804113bb",
   "metadata": {},
   "outputs": [
    {
     "data": {
      "text/plain": [
       "(128, 9, 6)"
      ]
     },
     "execution_count": 21,
     "metadata": {},
     "output_type": "execute_result"
    }
   ],
   "source": [
    "n_timesteps, n_features, n_outputs"
   ]
  },
  {
   "cell_type": "code",
   "execution_count": 25,
   "id": "3d34e001",
   "metadata": {},
   "outputs": [],
   "source": [
    "from tensorflow.keras.models import Model\n",
    "from tensorflow.keras.models import Sequential\n",
    "from keras.layers import LSTM\n",
    "from keras.layers import Input\n",
    "from keras.layers import Dense\n",
    "from keras.layers import Flatten\n",
    "from keras.layers import Dropout\n",
    "from keras.layers.convolutional import Conv1D\n",
    "from keras.layers.convolutional import MaxPooling1D\n",
    "from keras.layers.merge import concatenate\n",
    "from keras.utils import to_categorical\n",
    "from tensorflow.keras.optimizers import Adam"
   ]
  },
  {
   "cell_type": "code",
   "execution_count": 37,
   "id": "63dbf291",
   "metadata": {
    "scrolled": true
   },
   "outputs": [
    {
     "name": "stdout",
     "output_type": "stream",
     "text": [
      "Model: \"functional_7\"\n",
      "_________________________________________________________________\n",
      "Layer (type)                 Output Shape              Param #   \n",
      "=================================================================\n",
      "input_7 (InputLayer)         [(None, 128, 9)]          0         \n",
      "_________________________________________________________________\n",
      "conv1d_18 (Conv1D)           (None, 126, 128)          3584      \n",
      "_________________________________________________________________\n",
      "max_pooling1d_8 (MaxPooling1 (None, 25, 128)           0         \n",
      "_________________________________________________________________\n",
      "flatten_6 (Flatten)          (None, 3200)              0         \n",
      "_________________________________________________________________\n",
      "dense_10 (Dense)             (None, 512)               1638912   \n",
      "_________________________________________________________________\n",
      "dense_11 (Dense)             (None, 6)                 3078      \n",
      "=================================================================\n",
      "Total params: 1,645,574\n",
      "Trainable params: 1,645,574\n",
      "Non-trainable params: 0\n",
      "_________________________________________________________________\n"
     ]
    }
   ],
   "source": [
    "\n",
    "inputs1_1= Input(shape=(n_timesteps,n_features))##128,9\n",
    "conv1_1 = Conv1D(filters=128, kernel_size=3, activation='relu')(inputs1_1) ##none,126,128\n",
    "pool_1=MaxPooling1D(pool_size=5)(conv1_1)\n",
    "\n",
    "#flatten\n",
    "flat_cnn=Flatten()(pool_1)\n",
    "\n",
    "##dense layer\n",
    "dense = Dense(512, activation='relu')(flat_cnn)\n",
    "outputs = Dense(n_outputs, activation='softmax')(dense)\n",
    "\n",
    "##MODEL\n",
    "model = Model(inputs1_1, outputs)\n",
    "\n",
    "model.compile(loss='categorical_crossentropy', optimizer='adam', metrics=['accuracy'])\n",
    "model.summary()"
   ]
  },
  {
   "cell_type": "code",
   "execution_count": 33,
   "id": "8904ba0d",
   "metadata": {},
   "outputs": [
    {
     "name": "stdout",
     "output_type": "stream",
     "text": [
      "Epoch 1/30\n",
      "184/184 [==============================] - 4s 20ms/step - loss: 0.4231 - accuracy: 0.8283 - val_loss: 0.4730 - val_accuracy: 0.8517\n",
      "Epoch 2/30\n",
      "184/184 [==============================] - 3s 19ms/step - loss: 0.1488 - accuracy: 0.9420 - val_loss: 0.4062 - val_accuracy: 0.8789\n",
      "Epoch 3/30\n",
      "184/184 [==============================] - 3s 19ms/step - loss: 0.1185 - accuracy: 0.9505 - val_loss: 0.4502 - val_accuracy: 0.8839\n",
      "Epoch 4/30\n",
      "184/184 [==============================] - 3s 19ms/step - loss: 0.1094 - accuracy: 0.9556 - val_loss: 0.3715 - val_accuracy: 0.8907\n",
      "Epoch 5/30\n",
      "184/184 [==============================] - 3s 19ms/step - loss: 0.1032 - accuracy: 0.9536 - val_loss: 0.3878 - val_accuracy: 0.8809\n",
      "Epoch 6/30\n",
      "184/184 [==============================] - 3s 19ms/step - loss: 0.0997 - accuracy: 0.9582 - val_loss: 0.3725 - val_accuracy: 0.8823\n",
      "Epoch 7/30\n",
      "184/184 [==============================] - 3s 19ms/step - loss: 0.0957 - accuracy: 0.9568 - val_loss: 0.3985 - val_accuracy: 0.8873\n",
      "Epoch 8/30\n",
      "184/184 [==============================] - 3s 19ms/step - loss: 0.1339 - accuracy: 0.9485 - val_loss: 0.4435 - val_accuracy: 0.8809\n",
      "Epoch 9/30\n",
      "184/184 [==============================] - 4s 20ms/step - loss: 0.1064 - accuracy: 0.9544 - val_loss: 0.3566 - val_accuracy: 0.9108\n",
      "Epoch 10/30\n",
      "184/184 [==============================] - 4s 20ms/step - loss: 0.0912 - accuracy: 0.9609 - val_loss: 0.3509 - val_accuracy: 0.9050\n",
      "Epoch 11/30\n",
      "184/184 [==============================] - 4s 19ms/step - loss: 0.0873 - accuracy: 0.9619 - val_loss: 0.4305 - val_accuracy: 0.9023\n",
      "Epoch 12/30\n",
      "184/184 [==============================] - 4s 20ms/step - loss: 0.0808 - accuracy: 0.9629 - val_loss: 0.4070 - val_accuracy: 0.9060\n",
      "Epoch 13/30\n",
      "184/184 [==============================] - 4s 21ms/step - loss: 0.0764 - accuracy: 0.9672 - val_loss: 0.5095 - val_accuracy: 0.9148\n",
      "Epoch 14/30\n",
      "184/184 [==============================] - 4s 20ms/step - loss: 0.0742 - accuracy: 0.9684 - val_loss: 0.4150 - val_accuracy: 0.9111\n",
      "Epoch 15/30\n",
      "184/184 [==============================] - 3s 19ms/step - loss: 0.0748 - accuracy: 0.9677 - val_loss: 0.4137 - val_accuracy: 0.9162\n",
      "Epoch 16/30\n",
      "184/184 [==============================] - 4s 19ms/step - loss: 0.0682 - accuracy: 0.9691 - val_loss: 0.4754 - val_accuracy: 0.9128\n",
      "Epoch 17/30\n",
      "184/184 [==============================] - 3s 19ms/step - loss: 0.1137 - accuracy: 0.9575 - val_loss: 0.3895 - val_accuracy: 0.9063\n",
      "Epoch 18/30\n",
      "184/184 [==============================] - 4s 19ms/step - loss: 0.0692 - accuracy: 0.9706 - val_loss: 0.5032 - val_accuracy: 0.9016\n",
      "Epoch 19/30\n",
      "184/184 [==============================] - 4s 19ms/step - loss: 0.0612 - accuracy: 0.9728 - val_loss: 0.5187 - val_accuracy: 0.9077\n",
      "Epoch 20/30\n",
      "184/184 [==============================] - 3s 19ms/step - loss: 0.0560 - accuracy: 0.9757 - val_loss: 0.5341 - val_accuracy: 0.9016\n",
      "Epoch 21/30\n",
      "184/184 [==============================] - 4s 19ms/step - loss: 0.0547 - accuracy: 0.9755 - val_loss: 0.4981 - val_accuracy: 0.9030\n",
      "Epoch 22/30\n",
      "184/184 [==============================] - 4s 19ms/step - loss: 0.0515 - accuracy: 0.9774 - val_loss: 0.5585 - val_accuracy: 0.9101\n",
      "Epoch 23/30\n",
      "184/184 [==============================] - 4s 19ms/step - loss: 0.0470 - accuracy: 0.9798 - val_loss: 0.5807 - val_accuracy: 0.9019\n",
      "Epoch 24/30\n",
      "184/184 [==============================] - 3s 19ms/step - loss: 0.0438 - accuracy: 0.9810 - val_loss: 0.5489 - val_accuracy: 0.8968\n",
      "Epoch 25/30\n",
      "184/184 [==============================] - 3s 19ms/step - loss: 0.0417 - accuracy: 0.9833 - val_loss: 0.5741 - val_accuracy: 0.9091\n",
      "Epoch 26/30\n",
      "184/184 [==============================] - 4s 19ms/step - loss: 0.0440 - accuracy: 0.9816 - val_loss: 0.5890 - val_accuracy: 0.8979\n",
      "Epoch 27/30\n",
      "184/184 [==============================] - 3s 19ms/step - loss: 0.0460 - accuracy: 0.9804 - val_loss: 0.6395 - val_accuracy: 0.9040\n",
      "Epoch 28/30\n",
      "184/184 [==============================] - 4s 19ms/step - loss: 0.0358 - accuracy: 0.9850 - val_loss: 0.6192 - val_accuracy: 0.9030\n",
      "Epoch 29/30\n",
      "184/184 [==============================] - 3s 19ms/step - loss: 0.0319 - accuracy: 0.9864 - val_loss: 0.6044 - val_accuracy: 0.8951\n",
      "Epoch 30/30\n",
      "184/184 [==============================] - 4s 19ms/step - loss: 0.0297 - accuracy: 0.9876 - val_loss: 0.6692 - val_accuracy: 0.8948\n"
     ]
    }
   ],
   "source": [
    "# fit network\n",
    "model_history=cnn3_model.fit(x=[X_train,X_train,X_train,X_train], y=y_train_one_hot, epochs=30, batch_size=32,validation_data= ([testX,testX,testX,testX],testy_one_hot))"
   ]
  },
  {
   "cell_type": "code",
   "execution_count": 34,
   "id": "0829da4b",
   "metadata": {},
   "outputs": [
    {
     "data": {
      "image/png": "[encoded data removed]",
      "text/plain": [
       "<Figure size 432x288 with 1 Axes>"
      ]
     },
     "metadata": {
      "needs_background": "light"
     },
     "output_type": "display_data"
    }
   ],
   "source": [
    "import matplotlib.pyplot as plt\n",
    "import seaborn as sns\n",
    "\n",
    "loss =model_history.history['loss']\n",
    "val_loss =model_history.history['val_loss']\n",
    "epochs = range(1, len(loss) + 1)\n",
    "plt.plot(epochs, loss, 'y', label='Training loss')\n",
    "plt.plot(epochs, val_loss, 'r', label='Validation loss')\n",
    "plt.title('Training and validation loss')\n",
    "plt.xlabel('Epochs')\n",
    "plt.ylabel('Loss')\n",
    "plt.legend()\n",
    "plt.show()"
   ]
  },
  {
   "cell_type": "code",
   "execution_count": 35,
   "id": "9011897a",
   "metadata": {},
   "outputs": [
    {
     "data": {
      "image/png": "[encoded data removed]",
      "text/plain": [
       "<Figure size 432x288 with 1 Axes>"
      ]
     },
     "metadata": {
      "needs_background": "light"
     },
     "output_type": "display_data"
    }
   ],
   "source": [
    "acc =model_history.history['accuracy']\n",
    "val_acc =model_history.history['val_accuracy']\n",
    "plt.plot(epochs, acc, 'y', label='Training acc')\n",
    "plt.plot(epochs, val_acc, 'r', label='Validation acc')\n",
    "plt.title('Training and validation accuracy')\n",
    "plt.xlabel('Epochs')\n",
    "plt.ylabel('Accuracy')\n",
    "plt.legend()\n",
    "plt.show()"
   ]
  },
  {
   "cell_type": "code",
   "execution_count": 32,
   "id": "c17f5f7c",
   "metadata": {},
   "outputs": [
    {
     "name": "stdout",
     "output_type": "stream",
     "text": [
      "[[468  26   2   0   0   0]\n",
      " [  1 469   1   0   0   0]\n",
      " [  2   2 415   0   1   0]\n",
      " [  0   0   0 420  71   0]\n",
      " [  0   1   0  19 512   0]\n",
      " [  0   0   0   0  27 510]]\n",
      "0.9480827960637936\n",
      "              precision    recall  f1-score   support\n",
      "\n",
      "           0       0.99      0.94      0.97       496\n",
      "           1       0.94      1.00      0.97       471\n",
      "           2       0.99      0.99      0.99       420\n",
      "           3       0.96      0.86      0.90       491\n",
      "           4       0.84      0.96      0.90       532\n",
      "           5       1.00      0.95      0.97       537\n",
      "\n",
      "    accuracy                           0.95      2947\n",
      "   macro avg       0.95      0.95      0.95      2947\n",
      "weighted avg       0.95      0.95      0.95      2947\n",
      "\n"
     ]
    },
    {
     "data": {
      "text/plain": [
       "<AxesSubplot:>"
      ]
     },
     "execution_count": 32,
     "metadata": {},
     "output_type": "execute_result"
    },
    {
     "data": {
      "image/png": "[encoded data removed]",
      "text/plain": [
       "<Figure size 432x288 with 2 Axes>"
      ]
     },
     "metadata": {
      "needs_background": "light"
     },
     "output_type": "display_data"
    }
   ],
   "source": [
    "from sklearn.metrics import confusion_matrix,classification_report,accuracy_score\n",
    "pred=cnn3_model.predict([testX,testX,testX,testX])\n",
    "pred=np.argmax(pred, axis=-1)\n",
    "cm=confusion_matrix(testy,pred)\n",
    "print(cm)\n",
    "print(accuracy_score(testy,pred))\n",
    "print(classification_report(testy,pred))\n",
    "sns.heatmap(cm, annot=True, fmt = '.2f')"
   ]
  },
  {
   "cell_type": "code",
   "execution_count": null,
   "id": "463daffb",
   "metadata": {},
   "outputs": [],
   "source": []
  }
 ],
 "metadata": {
  "kernelspec": {
   "display_name": "Python 3 (ipykernel)",
   "language": "python",
   "name": "python3"
  },
  "language_info": {
   "codemirror_mode": {
    "name": "ipython",
    "version": 3
   },
   "file_extension": ".py",
   "mimetype": "text/x-python",
   "name": "python",
   "nbconvert_exporter": "python",
   "pygments_lexer": "ipython3",
   "version": "3.8.13"
  }
 },
 "nbformat": 4,
 "nbformat_minor": 5
}
